{
 "cells": [
  {
   "cell_type": "markdown",
   "metadata": {},
   "source": [
    "# Conjugate-NonConjugate Varialtional Message Passsing: a tutorial"
   ]
  },
  {
   "cell_type": "code",
   "execution_count": 9,
   "metadata": {},
   "outputs": [
    {
     "name": "stderr",
     "output_type": "stream",
     "text": [
      "\u001b[32m\u001b[1m  Activating\u001b[22m\u001b[39m project at `~/.julia/dev/RxInfer/examples`\n"
     ]
    }
   ],
   "source": [
    "# Activate local environment, see `Project.toml`\n",
    "import Pkg; Pkg.activate(\".\"); Pkg.instantiate();"
   ]
  },
  {
   "cell_type": "markdown",
   "metadata": {},
   "source": [
    "*Table of contents*\n",
    "1. [Introduction](#Introduction)\n",
    "2. [Usage of CVI inside the GraphPPL Model specification](#Usage-of-CVI-inside-the-GraphPPL-Model-specification)\n",
    "3. [Limitations](#Limitations)\n",
    "4. [Inference](#Inference)\n",
    "5. [Extension](#Extension)"
   ]
  },
  {
   "cell_type": "markdown",
   "metadata": {},
   "source": [
    "## Introduction"
   ]
  },
  {
   "cell_type": "markdown",
   "metadata": {},
   "source": [
    "In this tutorial, we show how to excute VMP in models with delta factors of the form $\\delta(f(x_{1}, \\dots, x_{n}) - y)$ (`f` arbitrary differentiable function) inside `ReactiveMP`.\n",
    "The `ReactiveMP` implemented the Conjugate-NonConjugate Variational Inference (CVI) inside factor graphs carefully following the paper [Probabilistic programming with stochastic variational message passing](https://reader.elsevier.com/reader/sd/pii/S0888613X22000950?token=EFB22E01793BD0BF73EECC9702C315644969403BD44B13FA850E9F66C8A49E88C0D5C68A9AD03301C609DA443DB33F80&originRegion=eu-west-1&originCreation=20221027115856) (see it for implementation details)."
   ]
  },
  {
   "cell_type": "markdown",
   "metadata": {},
   "source": [
    "More specifically the tutorial shows:\n",
    "1. [How specify](#Model-specification) a `Delta factor` of the form $\\delta(f(x_{1}, \\dots, x_{n}) - y)$ inside the `@model` macro with CVI inference procedure\n",
    "2. [What limitation](#Limitations) the CVI has\n",
    "3. [Show several inference examples](#Inference)\n",
    "4. [How to extend](#Extension) it from the user perspective"
   ]
  },
  {
   "cell_type": "markdown",
   "metadata": {},
   "source": [
    "## Usage of CVI inside the GraphPPL Model specification"
   ]
  },
  {
   "cell_type": "markdown",
   "metadata": {},
   "source": [
    "Suppose we have a function `f`:\n",
    "\n",
    "```\n",
    "    f(x, y, ..., z) = ...\n",
    "```\n",
    "\n",
    "And we want to specify a `GraphPPL` model with `@model` macro where we want define a `Delta factor` with this `f`:\n",
    "\n",
    "```\n",
    "@model function model_name(...)\n",
    "    ... some where here inputs (x, y, ..., z) defiened\n",
    "    out ~ f(x, y, ..., z)\n",
    "    ...    \n",
    "end\n",
    "\n",
    "@meta function model_meta(...)\n",
    "    f() -> CVI(rng, n_iterations, n_samples, Descent(learning_rate))\n",
    "end\n",
    "```\n",
    "\n",
    "If you want to see a detailed example at this point, go to [Inference](#Inference) section. "
   ]
  },
  {
   "cell_type": "markdown",
   "metadata": {},
   "source": [
    "The magic happens inside the `@meta` block: where we specify through `meta` parameter that `ReactiveMP` should run `CVI` for the messages sent through the `out ~ f(x, y, ..., z)` node.\n",
    "\n",
    "So to specify it for `out ~ f(x, y, ..., z)` node you need set `meta` to `CVI(...)` inside `@meta` block: `f() -> CVIApproximation(rng, n_samples, n_iterations, Descent(learning_rate))` in the above example."
   ]
  },
  {
   "cell_type": "markdown",
   "metadata": {},
   "source": [
    "The `CVI` structure serves for two reasons:\n",
    "1. Marker that the `CVI` rules need to be called\n",
    "2. Container of the `CVI` hyperparameters."
   ]
  },
  {
   "cell_type": "markdown",
   "metadata": {},
   "source": [
    "`CVI` procedure has 5 hyperparameters:\n",
    "1. random number generator, which will be called inside the `CVI` procedure (`rng`)\n",
    "2. number of samples to use for the out message approximation (`n_samples`)\n",
    "3. number of iterations of the CVI procedure (`n_iterations`)\n",
    "4. optimizer, which will be used to perform the CVI step (`Descent(learning_rate)`)\n",
    "5. warn, optional, defaults to `false`, prints warning in case if CVI method did not update the posterior"
   ]
  },
  {
   "cell_type": "markdown",
   "metadata": {},
   "source": [
    "## Limitations"
   ]
  },
  {
   "cell_type": "markdown",
   "metadata": {},
   "source": [
    "There are several main limitations for the `CVI` procedure that you need to satisfy:\n",
    "1. The `out` interface of the `Delta` factor are factorized out in other nodes to which it's connected.\n",
    "2. The messages on input interfaces (`x, y, ..., z`) are from the exponential family distributions.\n",
    "\n",
    "In `ReactiveMP`, you can obtain the first if you use appropriate nodes (`Normal`, `Gamma`, `Bernoulli`, etc) and second assumption through `@constraints` macro:\n",
    "\n",
    "```\n",
    "@model function model_name(...)\n",
    " ...\n",
    " out ~ f(x, y, ..., z)\n",
    " ... ~ Node2(p1,..., out, pn) # some node that is using the out interface\n",
    " ... \n",
    "end\n",
    "\n",
    "constraints = @constraints begin\n",
    " q(out, p1, ..., pn) = q(out)q(p1,...,pn)\n",
    " ...\n",
    "end;\n",
    "\n",
    "@meta function model_meta(...)\n",
    "    f(x, y, ..., z) -> CVIApproximation(rng, n_iterations, n_samples, Descent(learning_rate))\n",
    "end\n",
    "```\n",
    "\n",
    "Note that only some exponential family distributions are implemented. If you want to add one not implemented inside `ReactiveMP` read this [example](###Adding-a-custom-implementation-for-an-instance-from-exponential-family-distribution).\n"
   ]
  },
  {
   "cell_type": "markdown",
   "metadata": {},
   "source": [
    "## Inference"
   ]
  },
  {
   "cell_type": "markdown",
   "metadata": {},
   "source": [
    "This section shows how one can use the `CVI` in the wild.\n",
    "But the model is not of particular interest here, but rather an excellent example on which it is possible to show:\n",
    "1. How to specify a model with `CVI.`\n",
    "2. How to satisfy `CVI` constraints.\n",
    "3. How to run the inference."
   ]
  },
  {
   "cell_type": "markdown",
   "metadata": {},
   "source": [
    "### Model specification"
   ]
  },
  {
   "cell_type": "markdown",
   "metadata": {},
   "source": [
    "For our show we will use the following model:\n",
    "\n",
    "$$\n",
    "\\begin{aligned}\n",
    " p(\\tau) & = \\text{Gamma}(1, 1),\\\\\n",
    " p(\\theta) & = \\text{Gamma}(1, 1),\\\\\n",
    " p(z_i|z_{i - 1}) & = \\mathcal{N}(z_i| z_{i - 1} + 1, \\tau),\\\\\n",
    " p(y_i|z_i) & = \\mathcal{N}(y_i|(z_i - s)^2, \\theta),\n",
    "\\end{aligned}\n",
    "$$\n",
    "\n",
    "where $z_i$ are hidden states, $y_i$ are noisy nonlinear observations, $\\tau$, and $\\theta$ are priors for state transition noise and observation noise precision, respectively, and s is some constant (it will be selected further, and it's not essential for our discussion).\n",
    "\n",
    "So now we can specify our model with `GraphPPL` package."
   ]
  },
  {
   "cell_type": "markdown",
   "metadata": {},
   "source": [
    "First, we start with importing all needed packages:"
   ]
  },
  {
   "cell_type": "code",
   "execution_count": 10,
   "metadata": {},
   "outputs": [],
   "source": [
    "using RxInfer\n",
    "using Random\n",
    "using Plots # used only for vizulization\n",
    "using Flux  # used only for optimisers importing"
   ]
  },
  {
   "cell_type": "markdown",
   "metadata": {},
   "source": [
    "`ReactiveMP` is supporting `Flux` optimizer out of the box.\n",
    "\n",
    "Please check this [example](#using-a-custom-optimizer) if you want to extend it to a custom structure."
   ]
  },
  {
   "cell_type": "code",
   "execution_count": 11,
   "metadata": {},
   "outputs": [
    {
     "data": {
      "text/plain": [
       "model_meta (generic function with 1 method)"
      ]
     },
     "execution_count": 11,
     "metadata": {},
     "output_type": "execute_result"
    }
   ],
   "source": [
    "sensor_location = 53\n",
    "function f(z)\n",
    "    (z - sensor_location)^2\n",
    "end\n",
    "\n",
    "@model function sensor_based_observation(T)\n",
    "\n",
    "    z = randomvar(T)\n",
    "    y = datavar(Float64, T)\n",
    "\n",
    "    τ ~ GammaShapeRate(1.0, 1.0)\n",
    "    θ ~ GammaShapeRate(1.0, 1.0)\n",
    "    \n",
    "    z[1] ~ NormalMeanPrecision(0, τ)\n",
    "    y[1] ~ NormalMeanPrecision(f(z[1]), θ)\n",
    "\n",
    "    for t in 2:T\n",
    "        z[t] ~ NormalMeanPrecision(z[t-1] + 1, τ)\n",
    "        y[t] ~ NormalMeanPrecision(f(z[t]), θ)\n",
    "    end\n",
    "\n",
    "    return z, y\n",
    "end\n",
    "\n",
    "@meta function model_meta(rng, n_samples, n_iterations, optimizer)\n",
    "    f() -> CVI(rng, n_samples, n_iterations, optimizer, true)\n",
    "end"
   ]
  },
  {
   "cell_type": "markdown",
   "metadata": {},
   "source": [
    "So most important part for us in this tutorial is $p(y_i|z_i) = \\mathcal{N}(y_i| (z_{i} - s)^{2}, \\theta)$ which is implemeted inside the model in the following way:\n",
    "```\n",
    "@model function sensor_based_observation(T)\n",
    "    ...\n",
    "    y[1] ~ NormalMeanPrecision(f(z[1]), θ)\n",
    "    for t in 2:T\n",
    "        ...\n",
    "        y[t] ~ NormalMeanPrecision(f(z[t]), θ)\n",
    "    end\n",
    "    ...\n",
    "end\n",
    "```\n",
    "\n",
    "And `@meta` block where we specify that `CVI` need to be used:\n",
    "```\n",
    "@meta function model_meta(rng, n_samples, n_iterations, optimizer)\n",
    "    f() -> CVI(rng, n_samples, n_iterations, optimizer, true)\n",
    "end\n",
    "```"
   ]
  },
  {
   "cell_type": "markdown",
   "metadata": {},
   "source": [
    "### Constraints"
   ]
  },
  {
   "cell_type": "markdown",
   "metadata": {},
   "source": [
    "In our model, `z` variables are connected `Delta` factors. So to run it with `CVI` we need to factorize out them in other nodes where they are connected through the CVI delta factors:\n",
    "\n",
    "Let's specify these places in our model: `z[t] ~ NormalMeanPrecision(f(z[t]), θ)` and `y[1] ~ NormalMeanPrecision(f(z[1]), θ)`\n",
    "\n",
    "So to run `CVI`, we need to add a constraint `q(z, θ) = q(z)q(θ)`\n",
    "\n",
    "Note, you can skip assing to a temporary variable `out ~ f(z[t])` explicetly if you have only one input interface: in this case, input and out can be interchanged."
   ]
  },
  {
   "cell_type": "code",
   "execution_count": 12,
   "metadata": {},
   "outputs": [],
   "source": [
    "constraints = @constraints begin\n",
    "    q(z, θ) = q(z)q(θ) # CVI\n",
    "    q(z, τ) = q(z)q(τ) # the mean-field assumption around normal node\n",
    "end;"
   ]
  },
  {
   "cell_type": "markdown",
   "metadata": {},
   "source": [
    "### Run inference"
   ]
  },
  {
   "cell_type": "markdown",
   "metadata": {},
   "source": [
    "Next step, is to generate some synthetic data:"
   ]
  },
  {
   "cell_type": "code",
   "execution_count": 13,
   "metadata": {},
   "outputs": [],
   "source": [
    "seed = 123\n",
    "\n",
    "rng = MersenneTwister(seed)\n",
    "\n",
    "P = 5\n",
    "sensor_var = 5\n",
    "\n",
    "# For large `n` apply: smoothing(model_options(limit_stack_depth = 500), ...)\n",
    "T = 50\n",
    "\n",
    "hidden = collect(1:T)\n",
    "data   = (hidden + rand(rng, NormalMeanVariance(0.0, sqrt(P)), T));\n",
    "transformed = (data .- sensor_location).^2 + rand(rng, NormalMeanVariance(0.0, sensor_var), T);"
   ]
  },
  {
   "cell_type": "markdown",
   "metadata": {},
   "source": [
    "Let's plot our synthetic dataset. \n",
    "The blue line represents our hidden state we want to estimate using noisy observations, \n",
    "which are represented as dots."
   ]
  },
  {
   "cell_type": "code",
   "execution_count": 14,
   "metadata": {},
   "outputs": [
    {
     "data": {
      "image/svg+xml": "<?xml version=\"1.0\" encoding=\"utf-8\"?>\n<svg xmlns=\"http://www.w3.org/2000/svg\" xmlns:xlink=\"http://www.w3.org/1999/xlink\" width=\"600\" height=\"400\" viewBox=\"0 0 2400 1600\">\n<defs>\n  <clipPath id=\"clip500\">\n    <rect x=\"0\" y=\"0\" width=\"2400\" height=\"1600\"/>\n  </clipPath>\n</defs>\n<path clip-path=\"url(#clip500)\" d=\"\nM0 1600 L2400 1600 L2400 0 L0 0  Z\n  \" fill=\"#ffffff\" fill-rule=\"evenodd\" fill-opacity=\"1\"/>\n<defs>\n  <clipPath id=\"clip501\">\n    <rect x=\"480\" y=\"0\" width=\"1681\" height=\"1600\"/>\n  </clipPath>\n</defs>\n<path clip-path=\"url(#clip500)\" d=\"\nM201.019 1486.45 L2352.76 1486.45 L2352.76 47.2441 L201.019 47.2441  Z\n  \" fill=\"#ffffff\" fill-rule=\"evenodd\" fill-opacity=\"1\"/>\n<defs>\n  <clipPath id=\"clip502\">\n    <rect x=\"201\" y=\"47\" width=\"2153\" height=\"1440\"/>\n  </clipPath>\n</defs>\n<polyline clip-path=\"url(#clip502)\" style=\"stroke:#000000; stroke-linecap:round; stroke-linejoin:round; stroke-width:2; stroke-opacity:0.1; fill:none\" points=\"\n  220.49,1486.45 220.49,47.2441 \n  \"/>\n<polyline clip-path=\"url(#clip502)\" style=\"stroke:#000000; stroke-linecap:round; stroke-linejoin:round; stroke-width:2; stroke-opacity:0.1; fill:none\" points=\"\n  634.764,1486.45 634.764,47.2441 \n  \"/>\n<polyline clip-path=\"url(#clip502)\" style=\"stroke:#000000; stroke-linecap:round; stroke-linejoin:round; stroke-width:2; stroke-opacity:0.1; fill:none\" points=\"\n  1049.04,1486.45 1049.04,47.2441 \n  \"/>\n<polyline clip-path=\"url(#clip502)\" style=\"stroke:#000000; stroke-linecap:round; stroke-linejoin:round; stroke-width:2; stroke-opacity:0.1; fill:none\" points=\"\n  1463.31,1486.45 1463.31,47.2441 \n  \"/>\n<polyline clip-path=\"url(#clip502)\" style=\"stroke:#000000; stroke-linecap:round; stroke-linejoin:round; stroke-width:2; stroke-opacity:0.1; fill:none\" points=\"\n  1877.58,1486.45 1877.58,47.2441 \n  \"/>\n<polyline clip-path=\"url(#clip502)\" style=\"stroke:#000000; stroke-linecap:round; stroke-linejoin:round; stroke-width:2; stroke-opacity:0.1; fill:none\" points=\"\n  2291.86,1486.45 2291.86,47.2441 \n  \"/>\n<polyline clip-path=\"url(#clip500)\" style=\"stroke:#000000; stroke-linecap:round; stroke-linejoin:round; stroke-width:4; stroke-opacity:1; fill:none\" points=\"\n  201.019,1486.45 2352.76,1486.45 \n  \"/>\n<polyline clip-path=\"url(#clip500)\" style=\"stroke:#000000; stroke-linecap:round; stroke-linejoin:round; stroke-width:4; stroke-opacity:1; fill:none\" points=\"\n  220.49,1486.45 220.49,1467.55 \n  \"/>\n<polyline clip-path=\"url(#clip500)\" style=\"stroke:#000000; stroke-linecap:round; stroke-linejoin:round; stroke-width:4; stroke-opacity:1; fill:none\" points=\"\n  634.764,1486.45 634.764,1467.55 \n  \"/>\n<polyline clip-path=\"url(#clip500)\" style=\"stroke:#000000; stroke-linecap:round; stroke-linejoin:round; stroke-width:4; stroke-opacity:1; fill:none\" points=\"\n  1049.04,1486.45 1049.04,1467.55 \n  \"/>\n<polyline clip-path=\"url(#clip500)\" style=\"stroke:#000000; stroke-linecap:round; stroke-linejoin:round; stroke-width:4; stroke-opacity:1; fill:none\" points=\"\n  1463.31,1486.45 1463.31,1467.55 \n  \"/>\n<polyline clip-path=\"url(#clip500)\" style=\"stroke:#000000; stroke-linecap:round; stroke-linejoin:round; stroke-width:4; stroke-opacity:1; fill:none\" points=\"\n  1877.58,1486.45 1877.58,1467.55 \n  \"/>\n<polyline clip-path=\"url(#clip500)\" style=\"stroke:#000000; stroke-linecap:round; stroke-linejoin:round; stroke-width:4; stroke-opacity:1; fill:none\" points=\"\n  2291.86,1486.45 2291.86,1467.55 \n  \"/>\n<path clip-path=\"url(#clip500)\" d=\"M220.49 1517.37 Q216.879 1517.37 215.05 1520.93 Q213.245 1524.47 213.245 1531.6 Q213.245 1538.71 215.05 1542.27 Q216.879 1545.82 220.49 1545.82 Q224.124 1545.82 225.93 1542.27 Q227.759 1538.71 227.759 1531.6 Q227.759 1524.47 225.93 1520.93 Q224.124 1517.37 220.49 1517.37 M220.49 1513.66 Q226.3 1513.66 229.356 1518.27 Q232.435 1522.85 232.435 1531.6 Q232.435 1540.33 229.356 1544.94 Q226.3 1549.52 220.49 1549.52 Q214.68 1549.52 211.601 1544.94 Q208.546 1540.33 208.546 1531.6 Q208.546 1522.85 211.601 1518.27 Q214.68 1513.66 220.49 1513.66 Z\" fill=\"#000000\" fill-rule=\"evenodd\" fill-opacity=\"1\" /><path clip-path=\"url(#clip500)\" d=\"M609.451 1544.91 L617.09 1544.91 L617.09 1518.55 L608.78 1520.21 L608.78 1515.95 L617.044 1514.29 L621.72 1514.29 L621.72 1544.91 L629.359 1544.91 L629.359 1548.85 L609.451 1548.85 L609.451 1544.91 Z\" fill=\"#000000\" fill-rule=\"evenodd\" fill-opacity=\"1\" /><path clip-path=\"url(#clip500)\" d=\"M648.803 1517.37 Q645.192 1517.37 643.363 1520.93 Q641.558 1524.47 641.558 1531.6 Q641.558 1538.71 643.363 1542.27 Q645.192 1545.82 648.803 1545.82 Q652.437 1545.82 654.243 1542.27 Q656.071 1538.71 656.071 1531.6 Q656.071 1524.47 654.243 1520.93 Q652.437 1517.37 648.803 1517.37 M648.803 1513.66 Q654.613 1513.66 657.669 1518.27 Q660.747 1522.85 660.747 1531.6 Q660.747 1540.33 657.669 1544.94 Q654.613 1549.52 648.803 1549.52 Q642.993 1549.52 639.914 1544.94 Q636.859 1540.33 636.859 1531.6 Q636.859 1522.85 639.914 1518.27 Q642.993 1513.66 648.803 1513.66 Z\" fill=\"#000000\" fill-rule=\"evenodd\" fill-opacity=\"1\" /><path clip-path=\"url(#clip500)\" d=\"M1027.81 1544.91 L1044.13 1544.91 L1044.13 1548.85 L1022.19 1548.85 L1022.19 1544.91 Q1024.85 1542.16 1029.43 1537.53 Q1034.04 1532.88 1035.22 1531.53 Q1037.46 1529.01 1038.34 1527.27 Q1039.25 1525.51 1039.25 1523.82 Q1039.25 1521.07 1037.3 1519.33 Q1035.38 1517.6 1032.28 1517.6 Q1030.08 1517.6 1027.63 1518.36 Q1025.19 1519.13 1022.42 1520.68 L1022.42 1515.95 Q1025.24 1514.82 1027.69 1514.24 Q1030.15 1513.66 1032.19 1513.66 Q1037.56 1513.66 1040.75 1516.35 Q1043.94 1519.03 1043.94 1523.52 Q1043.94 1525.65 1043.13 1527.57 Q1042.35 1529.47 1040.24 1532.07 Q1039.66 1532.74 1036.56 1535.95 Q1033.46 1539.15 1027.81 1544.91 Z\" fill=\"#000000\" fill-rule=\"evenodd\" fill-opacity=\"1\" /><path clip-path=\"url(#clip500)\" d=\"M1063.94 1517.37 Q1060.33 1517.37 1058.5 1520.93 Q1056.7 1524.47 1056.7 1531.6 Q1056.7 1538.71 1058.5 1542.27 Q1060.33 1545.82 1063.94 1545.82 Q1067.58 1545.82 1069.38 1542.27 Q1071.21 1538.71 1071.21 1531.6 Q1071.21 1524.47 1069.38 1520.93 Q1067.58 1517.37 1063.94 1517.37 M1063.94 1513.66 Q1069.75 1513.66 1072.81 1518.27 Q1075.89 1522.85 1075.89 1531.6 Q1075.89 1540.33 1072.81 1544.94 Q1069.75 1549.52 1063.94 1549.52 Q1058.13 1549.52 1055.06 1544.94 Q1052 1540.33 1052 1531.6 Q1052 1522.85 1055.06 1518.27 Q1058.13 1513.66 1063.94 1513.66 Z\" fill=\"#000000\" fill-rule=\"evenodd\" fill-opacity=\"1\" /><path clip-path=\"url(#clip500)\" d=\"M1452.15 1530.21 Q1455.51 1530.93 1457.38 1533.2 Q1459.28 1535.47 1459.28 1538.8 Q1459.28 1543.92 1455.76 1546.72 Q1452.25 1549.52 1445.76 1549.52 Q1443.59 1549.52 1441.27 1549.08 Q1438.98 1548.66 1436.53 1547.81 L1436.53 1543.29 Q1438.47 1544.43 1440.79 1545.01 Q1443.1 1545.58 1445.63 1545.58 Q1450.02 1545.58 1452.32 1543.85 Q1454.63 1542.11 1454.63 1538.8 Q1454.63 1535.75 1452.48 1534.03 Q1450.35 1532.3 1446.53 1532.3 L1442.5 1532.3 L1442.5 1528.45 L1446.71 1528.45 Q1450.16 1528.45 1451.99 1527.09 Q1453.82 1525.7 1453.82 1523.11 Q1453.82 1520.45 1451.92 1519.03 Q1450.05 1517.6 1446.53 1517.6 Q1444.61 1517.6 1442.41 1518.01 Q1440.21 1518.43 1437.57 1519.31 L1437.57 1515.14 Q1440.23 1514.4 1442.55 1514.03 Q1444.88 1513.66 1446.95 1513.66 Q1452.27 1513.66 1455.37 1516.09 Q1458.47 1518.5 1458.47 1522.62 Q1458.47 1525.49 1456.83 1527.48 Q1455.19 1529.45 1452.15 1530.21 Z\" fill=\"#000000\" fill-rule=\"evenodd\" fill-opacity=\"1\" /><path clip-path=\"url(#clip500)\" d=\"M1478.15 1517.37 Q1474.54 1517.37 1472.71 1520.93 Q1470.9 1524.47 1470.9 1531.6 Q1470.9 1538.71 1472.71 1542.27 Q1474.54 1545.82 1478.15 1545.82 Q1481.78 1545.82 1483.59 1542.27 Q1485.42 1538.71 1485.42 1531.6 Q1485.42 1524.47 1483.59 1520.93 Q1481.78 1517.37 1478.15 1517.37 M1478.15 1513.66 Q1483.96 1513.66 1487.01 1518.27 Q1490.09 1522.85 1490.09 1531.6 Q1490.09 1540.33 1487.01 1544.94 Q1483.96 1549.52 1478.15 1549.52 Q1472.34 1549.52 1469.26 1544.94 Q1466.2 1540.33 1466.2 1531.6 Q1466.2 1522.85 1469.26 1518.27 Q1472.34 1513.66 1478.15 1513.66 Z\" fill=\"#000000\" fill-rule=\"evenodd\" fill-opacity=\"1\" /><path clip-path=\"url(#clip500)\" d=\"M1865.76 1518.36 L1853.95 1536.81 L1865.76 1536.81 L1865.76 1518.36 M1864.53 1514.29 L1870.41 1514.29 L1870.41 1536.81 L1875.34 1536.81 L1875.34 1540.7 L1870.41 1540.7 L1870.41 1548.85 L1865.76 1548.85 L1865.76 1540.7 L1850.15 1540.7 L1850.15 1536.19 L1864.53 1514.29 Z\" fill=\"#000000\" fill-rule=\"evenodd\" fill-opacity=\"1\" /><path clip-path=\"url(#clip500)\" d=\"M1893.07 1517.37 Q1889.46 1517.37 1887.63 1520.93 Q1885.82 1524.47 1885.82 1531.6 Q1885.82 1538.71 1887.63 1542.27 Q1889.46 1545.82 1893.07 1545.82 Q1896.7 1545.82 1898.51 1542.27 Q1900.34 1538.71 1900.34 1531.6 Q1900.34 1524.47 1898.51 1520.93 Q1896.7 1517.37 1893.07 1517.37 M1893.07 1513.66 Q1898.88 1513.66 1901.94 1518.27 Q1905.01 1522.85 1905.01 1531.6 Q1905.01 1540.33 1901.94 1544.94 Q1898.88 1549.52 1893.07 1549.52 Q1887.26 1549.52 1884.18 1544.94 Q1881.13 1540.33 1881.13 1531.6 Q1881.13 1522.85 1884.18 1518.27 Q1887.26 1513.66 1893.07 1513.66 Z\" fill=\"#000000\" fill-rule=\"evenodd\" fill-opacity=\"1\" /><path clip-path=\"url(#clip500)\" d=\"M2266.56 1514.29 L2284.91 1514.29 L2284.91 1518.22 L2270.84 1518.22 L2270.84 1526.7 Q2271.86 1526.35 2272.88 1526.19 Q2273.89 1526 2274.91 1526 Q2280.7 1526 2284.08 1529.17 Q2287.46 1532.34 2287.46 1537.76 Q2287.46 1543.34 2283.99 1546.44 Q2280.52 1549.52 2274.2 1549.52 Q2272.02 1549.52 2269.75 1549.15 Q2267.51 1548.78 2265.1 1548.04 L2265.1 1543.34 Q2267.18 1544.47 2269.4 1545.03 Q2271.63 1545.58 2274.1 1545.58 Q2278.11 1545.58 2280.45 1543.48 Q2282.78 1541.37 2282.78 1537.76 Q2282.78 1534.15 2280.45 1532.04 Q2278.11 1529.94 2274.1 1529.94 Q2272.23 1529.94 2270.35 1530.35 Q2268.5 1530.77 2266.56 1531.65 L2266.56 1514.29 Z\" fill=\"#000000\" fill-rule=\"evenodd\" fill-opacity=\"1\" /><path clip-path=\"url(#clip500)\" d=\"M2306.67 1517.37 Q2303.06 1517.37 2301.23 1520.93 Q2299.43 1524.47 2299.43 1531.6 Q2299.43 1538.71 2301.23 1542.27 Q2303.06 1545.82 2306.67 1545.82 Q2310.31 1545.82 2312.11 1542.27 Q2313.94 1538.71 2313.94 1531.6 Q2313.94 1524.47 2312.11 1520.93 Q2310.31 1517.37 2306.67 1517.37 M2306.67 1513.66 Q2312.48 1513.66 2315.54 1518.27 Q2318.62 1522.85 2318.62 1531.6 Q2318.62 1540.33 2315.54 1544.94 Q2312.48 1549.52 2306.67 1549.52 Q2300.86 1549.52 2297.78 1544.94 Q2294.73 1540.33 2294.73 1531.6 Q2294.73 1522.85 2297.78 1518.27 Q2300.86 1513.66 2306.67 1513.66 Z\" fill=\"#000000\" fill-rule=\"evenodd\" fill-opacity=\"1\" /><polyline clip-path=\"url(#clip502)\" style=\"stroke:#000000; stroke-linecap:round; stroke-linejoin:round; stroke-width:2; stroke-opacity:0.1; fill:none\" points=\"\n  201.019,1446.25 2352.76,1446.25 \n  \"/>\n<polyline clip-path=\"url(#clip502)\" style=\"stroke:#000000; stroke-linecap:round; stroke-linejoin:round; stroke-width:2; stroke-opacity:0.1; fill:none\" points=\"\n  201.019,1177.03 2352.76,1177.03 \n  \"/>\n<polyline clip-path=\"url(#clip502)\" style=\"stroke:#000000; stroke-linecap:round; stroke-linejoin:round; stroke-width:2; stroke-opacity:0.1; fill:none\" points=\"\n  201.019,907.8 2352.76,907.8 \n  \"/>\n<polyline clip-path=\"url(#clip502)\" style=\"stroke:#000000; stroke-linecap:round; stroke-linejoin:round; stroke-width:2; stroke-opacity:0.1; fill:none\" points=\"\n  201.019,638.573 2352.76,638.573 \n  \"/>\n<polyline clip-path=\"url(#clip502)\" style=\"stroke:#000000; stroke-linecap:round; stroke-linejoin:round; stroke-width:2; stroke-opacity:0.1; fill:none\" points=\"\n  201.019,369.346 2352.76,369.346 \n  \"/>\n<polyline clip-path=\"url(#clip502)\" style=\"stroke:#000000; stroke-linecap:round; stroke-linejoin:round; stroke-width:2; stroke-opacity:0.1; fill:none\" points=\"\n  201.019,100.119 2352.76,100.119 \n  \"/>\n<polyline clip-path=\"url(#clip500)\" style=\"stroke:#000000; stroke-linecap:round; stroke-linejoin:round; stroke-width:4; stroke-opacity:1; fill:none\" points=\"\n  201.019,1486.45 201.019,47.2441 \n  \"/>\n<polyline clip-path=\"url(#clip500)\" style=\"stroke:#000000; stroke-linecap:round; stroke-linejoin:round; stroke-width:4; stroke-opacity:1; fill:none\" points=\"\n  201.019,1446.25 219.917,1446.25 \n  \"/>\n<polyline clip-path=\"url(#clip500)\" style=\"stroke:#000000; stroke-linecap:round; stroke-linejoin:round; stroke-width:4; stroke-opacity:1; fill:none\" points=\"\n  201.019,1177.03 219.917,1177.03 \n  \"/>\n<polyline clip-path=\"url(#clip500)\" style=\"stroke:#000000; stroke-linecap:round; stroke-linejoin:round; stroke-width:4; stroke-opacity:1; fill:none\" points=\"\n  201.019,907.8 219.917,907.8 \n  \"/>\n<polyline clip-path=\"url(#clip500)\" style=\"stroke:#000000; stroke-linecap:round; stroke-linejoin:round; stroke-width:4; stroke-opacity:1; fill:none\" points=\"\n  201.019,638.573 219.917,638.573 \n  \"/>\n<polyline clip-path=\"url(#clip500)\" style=\"stroke:#000000; stroke-linecap:round; stroke-linejoin:round; stroke-width:4; stroke-opacity:1; fill:none\" points=\"\n  201.019,369.346 219.917,369.346 \n  \"/>\n<polyline clip-path=\"url(#clip500)\" style=\"stroke:#000000; stroke-linecap:round; stroke-linejoin:round; stroke-width:4; stroke-opacity:1; fill:none\" points=\"\n  201.019,100.119 219.917,100.119 \n  \"/>\n<path clip-path=\"url(#clip500)\" d=\"M153.075 1432.05 Q149.464 1432.05 147.635 1435.62 Q145.83 1439.16 145.83 1446.29 Q145.83 1453.4 147.635 1456.96 Q149.464 1460.5 153.075 1460.5 Q156.709 1460.5 158.515 1456.96 Q160.343 1453.4 160.343 1446.29 Q160.343 1439.16 158.515 1435.62 Q156.709 1432.05 153.075 1432.05 M153.075 1428.35 Q158.885 1428.35 161.941 1432.96 Q165.019 1437.54 165.019 1446.29 Q165.019 1455.02 161.941 1459.62 Q158.885 1464.21 153.075 1464.21 Q147.265 1464.21 144.186 1459.62 Q141.131 1455.02 141.131 1446.29 Q141.131 1437.54 144.186 1432.96 Q147.265 1428.35 153.075 1428.35 Z\" fill=\"#000000\" fill-rule=\"evenodd\" fill-opacity=\"1\" /><path clip-path=\"url(#clip500)\" d=\"M82.7975 1159.75 L101.154 1159.75 L101.154 1163.68 L87.0799 1163.68 L87.0799 1172.15 Q88.0984 1171.81 89.1169 1171.65 Q90.1354 1171.46 91.1539 1171.46 Q96.941 1171.46 100.321 1174.63 Q103.7 1177.8 103.7 1183.22 Q103.7 1188.8 100.228 1191.9 Q96.7558 1194.98 90.4364 1194.98 Q88.2604 1194.98 85.9919 1194.61 Q83.7466 1194.24 81.3392 1193.5 L81.3392 1188.8 Q83.4225 1189.93 85.6447 1190.49 Q87.8669 1191.04 90.3438 1191.04 Q94.3484 1191.04 96.6863 1188.94 Q99.0243 1186.83 99.0243 1183.22 Q99.0243 1179.61 96.6863 1177.5 Q94.3484 1175.4 90.3438 1175.4 Q88.4688 1175.4 86.5938 1175.81 Q84.7419 1176.23 82.7975 1177.11 L82.7975 1159.75 Z\" fill=\"#000000\" fill-rule=\"evenodd\" fill-opacity=\"1\" /><path clip-path=\"url(#clip500)\" d=\"M122.913 1162.83 Q119.302 1162.83 117.473 1166.39 Q115.668 1169.93 115.668 1177.06 Q115.668 1184.17 117.473 1187.73 Q119.302 1191.27 122.913 1191.27 Q126.547 1191.27 128.353 1187.73 Q130.182 1184.17 130.182 1177.06 Q130.182 1169.93 128.353 1166.39 Q126.547 1162.83 122.913 1162.83 M122.913 1159.12 Q128.723 1159.12 131.779 1163.73 Q134.857 1168.31 134.857 1177.06 Q134.857 1185.79 131.779 1190.4 Q128.723 1194.98 122.913 1194.98 Q117.103 1194.98 114.024 1190.4 Q110.969 1185.79 110.969 1177.06 Q110.969 1168.31 114.024 1163.73 Q117.103 1159.12 122.913 1159.12 Z\" fill=\"#000000\" fill-rule=\"evenodd\" fill-opacity=\"1\" /><path clip-path=\"url(#clip500)\" d=\"M153.075 1162.83 Q149.464 1162.83 147.635 1166.39 Q145.83 1169.93 145.83 1177.06 Q145.83 1184.17 147.635 1187.73 Q149.464 1191.27 153.075 1191.27 Q156.709 1191.27 158.515 1187.73 Q160.343 1184.17 160.343 1177.06 Q160.343 1169.93 158.515 1166.39 Q156.709 1162.83 153.075 1162.83 M153.075 1159.12 Q158.885 1159.12 161.941 1163.73 Q165.019 1168.31 165.019 1177.06 Q165.019 1185.79 161.941 1190.4 Q158.885 1194.98 153.075 1194.98 Q147.265 1194.98 144.186 1190.4 Q141.131 1185.79 141.131 1177.06 Q141.131 1168.31 144.186 1163.73 Q147.265 1159.12 153.075 1159.12 Z\" fill=\"#000000\" fill-rule=\"evenodd\" fill-opacity=\"1\" /><path clip-path=\"url(#clip500)\" d=\"M53.3995 921.145 L61.0384 921.145 L61.0384 894.779 L52.7282 896.446 L52.7282 892.187 L60.9921 890.52 L65.668 890.52 L65.668 921.145 L73.3068 921.145 L73.3068 925.08 L53.3995 925.08 L53.3995 921.145 Z\" fill=\"#000000\" fill-rule=\"evenodd\" fill-opacity=\"1\" /><path clip-path=\"url(#clip500)\" d=\"M92.7512 893.599 Q89.1401 893.599 87.3114 897.164 Q85.5058 900.705 85.5058 907.835 Q85.5058 914.941 87.3114 918.506 Q89.1401 922.048 92.7512 922.048 Q96.3854 922.048 98.1909 918.506 Q100.02 914.941 100.02 907.835 Q100.02 900.705 98.1909 897.164 Q96.3854 893.599 92.7512 893.599 M92.7512 889.895 Q98.5613 889.895 101.617 894.502 Q104.696 899.085 104.696 907.835 Q104.696 916.562 101.617 921.168 Q98.5613 925.751 92.7512 925.751 Q86.941 925.751 83.8623 921.168 Q80.8068 916.562 80.8068 907.835 Q80.8068 899.085 83.8623 894.502 Q86.941 889.895 92.7512 889.895 Z\" fill=\"#000000\" fill-rule=\"evenodd\" fill-opacity=\"1\" /><path clip-path=\"url(#clip500)\" d=\"M122.913 893.599 Q119.302 893.599 117.473 897.164 Q115.668 900.705 115.668 907.835 Q115.668 914.941 117.473 918.506 Q119.302 922.048 122.913 922.048 Q126.547 922.048 128.353 918.506 Q130.182 914.941 130.182 907.835 Q130.182 900.705 128.353 897.164 Q126.547 893.599 122.913 893.599 M122.913 889.895 Q128.723 889.895 131.779 894.502 Q134.857 899.085 134.857 907.835 Q134.857 916.562 131.779 921.168 Q128.723 925.751 122.913 925.751 Q117.103 925.751 114.024 921.168 Q110.969 916.562 110.969 907.835 Q110.969 899.085 114.024 894.502 Q117.103 889.895 122.913 889.895 Z\" fill=\"#000000\" fill-rule=\"evenodd\" fill-opacity=\"1\" /><path clip-path=\"url(#clip500)\" d=\"M153.075 893.599 Q149.464 893.599 147.635 897.164 Q145.83 900.705 145.83 907.835 Q145.83 914.941 147.635 918.506 Q149.464 922.048 153.075 922.048 Q156.709 922.048 158.515 918.506 Q160.343 914.941 160.343 907.835 Q160.343 900.705 158.515 897.164 Q156.709 893.599 153.075 893.599 M153.075 889.895 Q158.885 889.895 161.941 894.502 Q165.019 899.085 165.019 907.835 Q165.019 916.562 161.941 921.168 Q158.885 925.751 153.075 925.751 Q147.265 925.751 144.186 921.168 Q141.131 916.562 141.131 907.835 Q141.131 899.085 144.186 894.502 Q147.265 889.895 153.075 889.895 Z\" fill=\"#000000\" fill-rule=\"evenodd\" fill-opacity=\"1\" /><path clip-path=\"url(#clip500)\" d=\"M53.3995 651.918 L61.0384 651.918 L61.0384 625.552 L52.7282 627.219 L52.7282 622.96 L60.9921 621.293 L65.668 621.293 L65.668 651.918 L73.3068 651.918 L73.3068 655.853 L53.3995 655.853 L53.3995 651.918 Z\" fill=\"#000000\" fill-rule=\"evenodd\" fill-opacity=\"1\" /><path clip-path=\"url(#clip500)\" d=\"M82.7975 621.293 L101.154 621.293 L101.154 625.228 L87.0799 625.228 L87.0799 633.7 Q88.0984 633.353 89.1169 633.191 Q90.1354 633.006 91.1539 633.006 Q96.941 633.006 100.321 636.177 Q103.7 639.348 103.7 644.765 Q103.7 650.344 100.228 653.446 Q96.7558 656.524 90.4364 656.524 Q88.2604 656.524 85.9919 656.154 Q83.7466 655.784 81.3392 655.043 L81.3392 650.344 Q83.4225 651.478 85.6447 652.034 Q87.8669 652.589 90.3438 652.589 Q94.3484 652.589 96.6863 650.483 Q99.0243 648.376 99.0243 644.765 Q99.0243 641.154 96.6863 639.048 Q94.3484 636.941 90.3438 636.941 Q88.4688 636.941 86.5938 637.358 Q84.7419 637.774 82.7975 638.654 L82.7975 621.293 Z\" fill=\"#000000\" fill-rule=\"evenodd\" fill-opacity=\"1\" /><path clip-path=\"url(#clip500)\" d=\"M122.913 624.372 Q119.302 624.372 117.473 627.936 Q115.668 631.478 115.668 638.608 Q115.668 645.714 117.473 649.279 Q119.302 652.821 122.913 652.821 Q126.547 652.821 128.353 649.279 Q130.182 645.714 130.182 638.608 Q130.182 631.478 128.353 627.936 Q126.547 624.372 122.913 624.372 M122.913 620.668 Q128.723 620.668 131.779 625.274 Q134.857 629.858 134.857 638.608 Q134.857 647.335 131.779 651.941 Q128.723 656.524 122.913 656.524 Q117.103 656.524 114.024 651.941 Q110.969 647.335 110.969 638.608 Q110.969 629.858 114.024 625.274 Q117.103 620.668 122.913 620.668 Z\" fill=\"#000000\" fill-rule=\"evenodd\" fill-opacity=\"1\" /><path clip-path=\"url(#clip500)\" d=\"M153.075 624.372 Q149.464 624.372 147.635 627.936 Q145.83 631.478 145.83 638.608 Q145.83 645.714 147.635 649.279 Q149.464 652.821 153.075 652.821 Q156.709 652.821 158.515 649.279 Q160.343 645.714 160.343 638.608 Q160.343 631.478 158.515 627.936 Q156.709 624.372 153.075 624.372 M153.075 620.668 Q158.885 620.668 161.941 625.274 Q165.019 629.858 165.019 638.608 Q165.019 647.335 161.941 651.941 Q158.885 656.524 153.075 656.524 Q147.265 656.524 144.186 651.941 Q141.131 647.335 141.131 638.608 Q141.131 629.858 144.186 625.274 Q147.265 620.668 153.075 620.668 Z\" fill=\"#000000\" fill-rule=\"evenodd\" fill-opacity=\"1\" /><path clip-path=\"url(#clip500)\" d=\"M56.6171 382.691 L72.9365 382.691 L72.9365 386.626 L50.9921 386.626 L50.9921 382.691 Q53.6541 379.936 58.2375 375.307 Q62.8439 370.654 64.0245 369.311 Q66.2698 366.788 67.1494 365.052 Q68.0522 363.293 68.0522 361.603 Q68.0522 358.848 66.1078 357.112 Q64.1865 355.376 61.0847 355.376 Q58.8856 355.376 56.4319 356.14 Q54.0014 356.904 51.2236 358.455 L51.2236 353.733 Q54.0477 352.598 56.5014 352.02 Q58.955 351.441 60.9921 351.441 Q66.3624 351.441 69.5568 354.126 Q72.7513 356.811 72.7513 361.302 Q72.7513 363.432 71.9411 365.353 Q71.1541 367.251 69.0476 369.844 Q68.4689 370.515 65.367 373.733 Q62.2652 376.927 56.6171 382.691 Z\" fill=\"#000000\" fill-rule=\"evenodd\" fill-opacity=\"1\" /><path clip-path=\"url(#clip500)\" d=\"M92.7512 355.145 Q89.1401 355.145 87.3114 358.709 Q85.5058 362.251 85.5058 369.381 Q85.5058 376.487 87.3114 380.052 Q89.1401 383.594 92.7512 383.594 Q96.3854 383.594 98.1909 380.052 Q100.02 376.487 100.02 369.381 Q100.02 362.251 98.1909 358.709 Q96.3854 355.145 92.7512 355.145 M92.7512 351.441 Q98.5613 351.441 101.617 356.047 Q104.696 360.631 104.696 369.381 Q104.696 378.107 101.617 382.714 Q98.5613 387.297 92.7512 387.297 Q86.941 387.297 83.8623 382.714 Q80.8068 378.107 80.8068 369.381 Q80.8068 360.631 83.8623 356.047 Q86.941 351.441 92.7512 351.441 Z\" fill=\"#000000\" fill-rule=\"evenodd\" fill-opacity=\"1\" /><path clip-path=\"url(#clip500)\" d=\"M122.913 355.145 Q119.302 355.145 117.473 358.709 Q115.668 362.251 115.668 369.381 Q115.668 376.487 117.473 380.052 Q119.302 383.594 122.913 383.594 Q126.547 383.594 128.353 380.052 Q130.182 376.487 130.182 369.381 Q130.182 362.251 128.353 358.709 Q126.547 355.145 122.913 355.145 M122.913 351.441 Q128.723 351.441 131.779 356.047 Q134.857 360.631 134.857 369.381 Q134.857 378.107 131.779 382.714 Q128.723 387.297 122.913 387.297 Q117.103 387.297 114.024 382.714 Q110.969 378.107 110.969 369.381 Q110.969 360.631 114.024 356.047 Q117.103 351.441 122.913 351.441 Z\" fill=\"#000000\" fill-rule=\"evenodd\" fill-opacity=\"1\" /><path clip-path=\"url(#clip500)\" d=\"M153.075 355.145 Q149.464 355.145 147.635 358.709 Q145.83 362.251 145.83 369.381 Q145.83 376.487 147.635 380.052 Q149.464 383.594 153.075 383.594 Q156.709 383.594 158.515 380.052 Q160.343 376.487 160.343 369.381 Q160.343 362.251 158.515 358.709 Q156.709 355.145 153.075 355.145 M153.075 351.441 Q158.885 351.441 161.941 356.047 Q165.019 360.631 165.019 369.381 Q165.019 378.107 161.941 382.714 Q158.885 387.297 153.075 387.297 Q147.265 387.297 144.186 382.714 Q141.131 378.107 141.131 369.381 Q141.131 360.631 144.186 356.047 Q147.265 351.441 153.075 351.441 Z\" fill=\"#000000\" fill-rule=\"evenodd\" fill-opacity=\"1\" /><path clip-path=\"url(#clip500)\" d=\"M56.6171 113.464 L72.9365 113.464 L72.9365 117.399 L50.9921 117.399 L50.9921 113.464 Q53.6541 110.709 58.2375 106.08 Q62.8439 101.427 64.0245 100.084 Q66.2698 97.5611 67.1494 95.825 Q68.0522 94.0657 68.0522 92.3759 Q68.0522 89.6213 66.1078 87.8852 Q64.1865 86.1491 61.0847 86.1491 Q58.8856 86.1491 56.4319 86.913 Q54.0014 87.6769 51.2236 89.2278 L51.2236 84.5056 Q54.0477 83.3713 56.5014 82.7926 Q58.955 82.2139 60.9921 82.2139 Q66.3624 82.2139 69.5568 84.8991 Q72.7513 87.5843 72.7513 92.075 Q72.7513 94.2046 71.9411 96.1259 Q71.1541 98.024 69.0476 100.617 Q68.4689 101.288 65.367 104.505 Q62.2652 107.7 56.6171 113.464 Z\" fill=\"#000000\" fill-rule=\"evenodd\" fill-opacity=\"1\" /><path clip-path=\"url(#clip500)\" d=\"M82.7975 82.8389 L101.154 82.8389 L101.154 86.7741 L87.0799 86.7741 L87.0799 95.2463 Q88.0984 94.8991 89.1169 94.737 Q90.1354 94.5518 91.1539 94.5518 Q96.941 94.5518 100.321 97.7231 Q103.7 100.894 103.7 106.311 Q103.7 111.89 100.228 114.992 Q96.7558 118.07 90.4364 118.07 Q88.2604 118.07 85.9919 117.7 Q83.7466 117.329 81.3392 116.589 L81.3392 111.89 Q83.4225 113.024 85.6447 113.58 Q87.8669 114.135 90.3438 114.135 Q94.3484 114.135 96.6863 112.029 Q99.0243 109.922 99.0243 106.311 Q99.0243 102.7 96.6863 100.593 Q94.3484 98.487 90.3438 98.487 Q88.4688 98.487 86.5938 98.9037 Q84.7419 99.3203 82.7975 100.2 L82.7975 82.8389 Z\" fill=\"#000000\" fill-rule=\"evenodd\" fill-opacity=\"1\" /><path clip-path=\"url(#clip500)\" d=\"M122.913 85.9176 Q119.302 85.9176 117.473 89.4824 Q115.668 93.0241 115.668 100.154 Q115.668 107.26 117.473 110.825 Q119.302 114.367 122.913 114.367 Q126.547 114.367 128.353 110.825 Q130.182 107.26 130.182 100.154 Q130.182 93.0241 128.353 89.4824 Q126.547 85.9176 122.913 85.9176 M122.913 82.2139 Q128.723 82.2139 131.779 86.8204 Q134.857 91.4037 134.857 100.154 Q134.857 108.88 131.779 113.487 Q128.723 118.07 122.913 118.07 Q117.103 118.07 114.024 113.487 Q110.969 108.88 110.969 100.154 Q110.969 91.4037 114.024 86.8204 Q117.103 82.2139 122.913 82.2139 Z\" fill=\"#000000\" fill-rule=\"evenodd\" fill-opacity=\"1\" /><path clip-path=\"url(#clip500)\" d=\"M153.075 85.9176 Q149.464 85.9176 147.635 89.4824 Q145.83 93.0241 145.83 100.154 Q145.83 107.26 147.635 110.825 Q149.464 114.367 153.075 114.367 Q156.709 114.367 158.515 110.825 Q160.343 107.26 160.343 100.154 Q160.343 93.0241 158.515 89.4824 Q156.709 85.9176 153.075 85.9176 M153.075 82.2139 Q158.885 82.2139 161.941 86.8204 Q165.019 91.4037 165.019 100.154 Q165.019 108.88 161.941 113.487 Q158.885 118.07 153.075 118.07 Q147.265 118.07 144.186 113.487 Q141.131 108.88 141.131 100.154 Q141.131 91.4037 144.186 86.8204 Q147.265 82.2139 153.075 82.2139 Z\" fill=\"#000000\" fill-rule=\"evenodd\" fill-opacity=\"1\" /><polyline clip-path=\"url(#clip502)\" style=\"stroke:#0000ff; stroke-linecap:round; stroke-linejoin:round; stroke-width:4; stroke-opacity:1; fill:none\" points=\"\n  261.917,1445.72 303.345,1445.18 344.772,1444.64 386.2,1444.1 427.627,1443.56 469.054,1443.02 510.482,1442.48 551.909,1441.95 593.336,1441.41 634.764,1440.87 \n  676.191,1440.33 717.618,1439.79 759.046,1439.25 800.473,1438.72 841.9,1438.18 883.328,1437.64 924.755,1437.1 966.182,1436.56 1007.61,1436.02 1049.04,1435.49 \n  1090.46,1434.95 1131.89,1434.41 1173.32,1433.87 1214.75,1433.33 1256.17,1432.79 1297.6,1432.25 1339.03,1431.72 1380.46,1431.18 1421.88,1430.64 1463.31,1430.1 \n  1504.74,1429.56 1546.17,1429.02 1587.59,1428.49 1629.02,1427.95 1670.45,1427.41 1711.87,1426.87 1753.3,1426.33 1794.73,1425.79 1836.16,1425.25 1877.58,1424.72 \n  1919.01,1424.18 1960.44,1423.64 2001.87,1423.1 2043.29,1422.56 2084.72,1422.02 2126.15,1421.49 2167.58,1420.95 2209,1420.41 2250.43,1419.87 2291.86,1419.33 \n  \n  \"/>\n<circle clip-path=\"url(#clip502)\" cx=\"261.917\" cy=\"87.9763\" r=\"7.2\" fill=\"#ffa500\" fill-rule=\"evenodd\" fill-opacity=\"1\" stroke=\"#000000\" stroke-opacity=\"1\" stroke-width=\"3.2\"/>\n<circle clip-path=\"url(#clip502)\" cx=\"303.345\" cy=\"209.147\" r=\"7.2\" fill=\"#ffa500\" fill-rule=\"evenodd\" fill-opacity=\"1\" stroke=\"#000000\" stroke-opacity=\"1\" stroke-width=\"3.2\"/>\n<circle clip-path=\"url(#clip502)\" cx=\"344.772\" cy=\"188.994\" r=\"7.2\" fill=\"#ffa500\" fill-rule=\"evenodd\" fill-opacity=\"1\" stroke=\"#000000\" stroke-opacity=\"1\" stroke-width=\"3.2\"/>\n<circle clip-path=\"url(#clip502)\" cx=\"386.2\" cy=\"188.015\" r=\"7.2\" fill=\"#ffa500\" fill-rule=\"evenodd\" fill-opacity=\"1\" stroke=\"#000000\" stroke-opacity=\"1\" stroke-width=\"3.2\"/>\n<circle clip-path=\"url(#clip502)\" cx=\"427.627\" cy=\"174.767\" r=\"7.2\" fill=\"#ffa500\" fill-rule=\"evenodd\" fill-opacity=\"1\" stroke=\"#000000\" stroke-opacity=\"1\" stroke-width=\"3.2\"/>\n<circle clip-path=\"url(#clip502)\" cx=\"469.054\" cy=\"207.34\" r=\"7.2\" fill=\"#ffa500\" fill-rule=\"evenodd\" fill-opacity=\"1\" stroke=\"#000000\" stroke-opacity=\"1\" stroke-width=\"3.2\"/>\n<circle clip-path=\"url(#clip502)\" cx=\"510.482\" cy=\"377.87\" r=\"7.2\" fill=\"#ffa500\" fill-rule=\"evenodd\" fill-opacity=\"1\" stroke=\"#000000\" stroke-opacity=\"1\" stroke-width=\"3.2\"/>\n<circle clip-path=\"url(#clip502)\" cx=\"551.909\" cy=\"350.786\" r=\"7.2\" fill=\"#ffa500\" fill-rule=\"evenodd\" fill-opacity=\"1\" stroke=\"#000000\" stroke-opacity=\"1\" stroke-width=\"3.2\"/>\n<circle clip-path=\"url(#clip502)\" cx=\"593.336\" cy=\"423.779\" r=\"7.2\" fill=\"#ffa500\" fill-rule=\"evenodd\" fill-opacity=\"1\" stroke=\"#000000\" stroke-opacity=\"1\" stroke-width=\"3.2\"/>\n<circle clip-path=\"url(#clip502)\" cx=\"634.764\" cy=\"437.923\" r=\"7.2\" fill=\"#ffa500\" fill-rule=\"evenodd\" fill-opacity=\"1\" stroke=\"#000000\" stroke-opacity=\"1\" stroke-width=\"3.2\"/>\n<circle clip-path=\"url(#clip502)\" cx=\"676.191\" cy=\"472.528\" r=\"7.2\" fill=\"#ffa500\" fill-rule=\"evenodd\" fill-opacity=\"1\" stroke=\"#000000\" stroke-opacity=\"1\" stroke-width=\"3.2\"/>\n<circle clip-path=\"url(#clip502)\" cx=\"717.618\" cy=\"485.647\" r=\"7.2\" fill=\"#ffa500\" fill-rule=\"evenodd\" fill-opacity=\"1\" stroke=\"#000000\" stroke-opacity=\"1\" stroke-width=\"3.2\"/>\n<circle clip-path=\"url(#clip502)\" cx=\"759.046\" cy=\"526.692\" r=\"7.2\" fill=\"#ffa500\" fill-rule=\"evenodd\" fill-opacity=\"1\" stroke=\"#000000\" stroke-opacity=\"1\" stroke-width=\"3.2\"/>\n<circle clip-path=\"url(#clip502)\" cx=\"800.473\" cy=\"647.834\" r=\"7.2\" fill=\"#ffa500\" fill-rule=\"evenodd\" fill-opacity=\"1\" stroke=\"#000000\" stroke-opacity=\"1\" stroke-width=\"3.2\"/>\n<circle clip-path=\"url(#clip502)\" cx=\"841.9\" cy=\"703.542\" r=\"7.2\" fill=\"#ffa500\" fill-rule=\"evenodd\" fill-opacity=\"1\" stroke=\"#000000\" stroke-opacity=\"1\" stroke-width=\"3.2\"/>\n<circle clip-path=\"url(#clip502)\" cx=\"883.328\" cy=\"731.48\" r=\"7.2\" fill=\"#ffa500\" fill-rule=\"evenodd\" fill-opacity=\"1\" stroke=\"#000000\" stroke-opacity=\"1\" stroke-width=\"3.2\"/>\n<circle clip-path=\"url(#clip502)\" cx=\"924.755\" cy=\"730.79\" r=\"7.2\" fill=\"#ffa500\" fill-rule=\"evenodd\" fill-opacity=\"1\" stroke=\"#000000\" stroke-opacity=\"1\" stroke-width=\"3.2\"/>\n<circle clip-path=\"url(#clip502)\" cx=\"966.182\" cy=\"745.852\" r=\"7.2\" fill=\"#ffa500\" fill-rule=\"evenodd\" fill-opacity=\"1\" stroke=\"#000000\" stroke-opacity=\"1\" stroke-width=\"3.2\"/>\n<circle clip-path=\"url(#clip502)\" cx=\"1007.61\" cy=\"783.687\" r=\"7.2\" fill=\"#ffa500\" fill-rule=\"evenodd\" fill-opacity=\"1\" stroke=\"#000000\" stroke-opacity=\"1\" stroke-width=\"3.2\"/>\n<circle clip-path=\"url(#clip502)\" cx=\"1049.04\" cy=\"814.626\" r=\"7.2\" fill=\"#ffa500\" fill-rule=\"evenodd\" fill-opacity=\"1\" stroke=\"#000000\" stroke-opacity=\"1\" stroke-width=\"3.2\"/>\n<circle clip-path=\"url(#clip502)\" cx=\"1090.46\" cy=\"844.489\" r=\"7.2\" fill=\"#ffa500\" fill-rule=\"evenodd\" fill-opacity=\"1\" stroke=\"#000000\" stroke-opacity=\"1\" stroke-width=\"3.2\"/>\n<circle clip-path=\"url(#clip502)\" cx=\"1131.89\" cy=\"942.084\" r=\"7.2\" fill=\"#ffa500\" fill-rule=\"evenodd\" fill-opacity=\"1\" stroke=\"#000000\" stroke-opacity=\"1\" stroke-width=\"3.2\"/>\n<circle clip-path=\"url(#clip502)\" cx=\"1173.32\" cy=\"937.726\" r=\"7.2\" fill=\"#ffa500\" fill-rule=\"evenodd\" fill-opacity=\"1\" stroke=\"#000000\" stroke-opacity=\"1\" stroke-width=\"3.2\"/>\n<circle clip-path=\"url(#clip502)\" cx=\"1214.75\" cy=\"954.852\" r=\"7.2\" fill=\"#ffa500\" fill-rule=\"evenodd\" fill-opacity=\"1\" stroke=\"#000000\" stroke-opacity=\"1\" stroke-width=\"3.2\"/>\n<circle clip-path=\"url(#clip502)\" cx=\"1256.17\" cy=\"1036.55\" r=\"7.2\" fill=\"#ffa500\" fill-rule=\"evenodd\" fill-opacity=\"1\" stroke=\"#000000\" stroke-opacity=\"1\" stroke-width=\"3.2\"/>\n<circle clip-path=\"url(#clip502)\" cx=\"1297.6\" cy=\"1117.99\" r=\"7.2\" fill=\"#ffa500\" fill-rule=\"evenodd\" fill-opacity=\"1\" stroke=\"#000000\" stroke-opacity=\"1\" stroke-width=\"3.2\"/>\n<circle clip-path=\"url(#clip502)\" cx=\"1339.03\" cy=\"1000.88\" r=\"7.2\" fill=\"#ffa500\" fill-rule=\"evenodd\" fill-opacity=\"1\" stroke=\"#000000\" stroke-opacity=\"1\" stroke-width=\"3.2\"/>\n<circle clip-path=\"url(#clip502)\" cx=\"1380.46\" cy=\"979.569\" r=\"7.2\" fill=\"#ffa500\" fill-rule=\"evenodd\" fill-opacity=\"1\" stroke=\"#000000\" stroke-opacity=\"1\" stroke-width=\"3.2\"/>\n<circle clip-path=\"url(#clip502)\" cx=\"1421.88\" cy=\"1165.22\" r=\"7.2\" fill=\"#ffa500\" fill-rule=\"evenodd\" fill-opacity=\"1\" stroke=\"#000000\" stroke-opacity=\"1\" stroke-width=\"3.2\"/>\n<circle clip-path=\"url(#clip502)\" cx=\"1463.31\" cy=\"1239.11\" r=\"7.2\" fill=\"#ffa500\" fill-rule=\"evenodd\" fill-opacity=\"1\" stroke=\"#000000\" stroke-opacity=\"1\" stroke-width=\"3.2\"/>\n<circle clip-path=\"url(#clip502)\" cx=\"1504.74\" cy=\"1155.53\" r=\"7.2\" fill=\"#ffa500\" fill-rule=\"evenodd\" fill-opacity=\"1\" stroke=\"#000000\" stroke-opacity=\"1\" stroke-width=\"3.2\"/>\n<circle clip-path=\"url(#clip502)\" cx=\"1546.17\" cy=\"1218.31\" r=\"7.2\" fill=\"#ffa500\" fill-rule=\"evenodd\" fill-opacity=\"1\" stroke=\"#000000\" stroke-opacity=\"1\" stroke-width=\"3.2\"/>\n<circle clip-path=\"url(#clip502)\" cx=\"1587.59\" cy=\"1225.34\" r=\"7.2\" fill=\"#ffa500\" fill-rule=\"evenodd\" fill-opacity=\"1\" stroke=\"#000000\" stroke-opacity=\"1\" stroke-width=\"3.2\"/>\n<circle clip-path=\"url(#clip502)\" cx=\"1629.02\" cy=\"1317.83\" r=\"7.2\" fill=\"#ffa500\" fill-rule=\"evenodd\" fill-opacity=\"1\" stroke=\"#000000\" stroke-opacity=\"1\" stroke-width=\"3.2\"/>\n<circle clip-path=\"url(#clip502)\" cx=\"1670.45\" cy=\"1240.11\" r=\"7.2\" fill=\"#ffa500\" fill-rule=\"evenodd\" fill-opacity=\"1\" stroke=\"#000000\" stroke-opacity=\"1\" stroke-width=\"3.2\"/>\n<circle clip-path=\"url(#clip502)\" cx=\"1711.87\" cy=\"1291.59\" r=\"7.2\" fill=\"#ffa500\" fill-rule=\"evenodd\" fill-opacity=\"1\" stroke=\"#000000\" stroke-opacity=\"1\" stroke-width=\"3.2\"/>\n<circle clip-path=\"url(#clip502)\" cx=\"1753.3\" cy=\"1260.28\" r=\"7.2\" fill=\"#ffa500\" fill-rule=\"evenodd\" fill-opacity=\"1\" stroke=\"#000000\" stroke-opacity=\"1\" stroke-width=\"3.2\"/>\n<circle clip-path=\"url(#clip502)\" cx=\"1794.73\" cy=\"1301.63\" r=\"7.2\" fill=\"#ffa500\" fill-rule=\"evenodd\" fill-opacity=\"1\" stroke=\"#000000\" stroke-opacity=\"1\" stroke-width=\"3.2\"/>\n<circle clip-path=\"url(#clip502)\" cx=\"1836.16\" cy=\"1335.8\" r=\"7.2\" fill=\"#ffa500\" fill-rule=\"evenodd\" fill-opacity=\"1\" stroke=\"#000000\" stroke-opacity=\"1\" stroke-width=\"3.2\"/>\n<circle clip-path=\"url(#clip502)\" cx=\"1877.58\" cy=\"1370.95\" r=\"7.2\" fill=\"#ffa500\" fill-rule=\"evenodd\" fill-opacity=\"1\" stroke=\"#000000\" stroke-opacity=\"1\" stroke-width=\"3.2\"/>\n<circle clip-path=\"url(#clip502)\" cx=\"1919.01\" cy=\"1343.4\" r=\"7.2\" fill=\"#ffa500\" fill-rule=\"evenodd\" fill-opacity=\"1\" stroke=\"#000000\" stroke-opacity=\"1\" stroke-width=\"3.2\"/>\n<circle clip-path=\"url(#clip502)\" cx=\"1960.44\" cy=\"1374.04\" r=\"7.2\" fill=\"#ffa500\" fill-rule=\"evenodd\" fill-opacity=\"1\" stroke=\"#000000\" stroke-opacity=\"1\" stroke-width=\"3.2\"/>\n<circle clip-path=\"url(#clip502)\" cx=\"2001.87\" cy=\"1388.09\" r=\"7.2\" fill=\"#ffa500\" fill-rule=\"evenodd\" fill-opacity=\"1\" stroke=\"#000000\" stroke-opacity=\"1\" stroke-width=\"3.2\"/>\n<circle clip-path=\"url(#clip502)\" cx=\"2043.29\" cy=\"1420.73\" r=\"7.2\" fill=\"#ffa500\" fill-rule=\"evenodd\" fill-opacity=\"1\" stroke=\"#000000\" stroke-opacity=\"1\" stroke-width=\"3.2\"/>\n<circle clip-path=\"url(#clip502)\" cx=\"2084.72\" cy=\"1417.28\" r=\"7.2\" fill=\"#ffa500\" fill-rule=\"evenodd\" fill-opacity=\"1\" stroke=\"#000000\" stroke-opacity=\"1\" stroke-width=\"3.2\"/>\n<circle clip-path=\"url(#clip502)\" cx=\"2126.15\" cy=\"1419.55\" r=\"7.2\" fill=\"#ffa500\" fill-rule=\"evenodd\" fill-opacity=\"1\" stroke=\"#000000\" stroke-opacity=\"1\" stroke-width=\"3.2\"/>\n<circle clip-path=\"url(#clip502)\" cx=\"2167.58\" cy=\"1423.02\" r=\"7.2\" fill=\"#ffa500\" fill-rule=\"evenodd\" fill-opacity=\"1\" stroke=\"#000000\" stroke-opacity=\"1\" stroke-width=\"3.2\"/>\n<circle clip-path=\"url(#clip502)\" cx=\"2209\" cy=\"1442.56\" r=\"7.2\" fill=\"#ffa500\" fill-rule=\"evenodd\" fill-opacity=\"1\" stroke=\"#000000\" stroke-opacity=\"1\" stroke-width=\"3.2\"/>\n<circle clip-path=\"url(#clip502)\" cx=\"2250.43\" cy=\"1405.69\" r=\"7.2\" fill=\"#ffa500\" fill-rule=\"evenodd\" fill-opacity=\"1\" stroke=\"#000000\" stroke-opacity=\"1\" stroke-width=\"3.2\"/>\n<circle clip-path=\"url(#clip502)\" cx=\"2291.86\" cy=\"1433.04\" r=\"7.2\" fill=\"#ffa500\" fill-rule=\"evenodd\" fill-opacity=\"1\" stroke=\"#000000\" stroke-opacity=\"1\" stroke-width=\"3.2\"/>\n<path clip-path=\"url(#clip500)\" d=\"\nM1485.1 250.738 L2281.03 250.738 L2281.03 95.2176 L1485.1 95.2176  Z\n  \" fill=\"#ffffff\" fill-rule=\"evenodd\" fill-opacity=\"1\"/>\n<polyline clip-path=\"url(#clip500)\" style=\"stroke:#000000; stroke-linecap:round; stroke-linejoin:round; stroke-width:4; stroke-opacity:1; fill:none\" points=\"\n  1485.1,250.738 2281.03,250.738 2281.03,95.2176 1485.1,95.2176 1485.1,250.738 \n  \"/>\n<polyline clip-path=\"url(#clip500)\" style=\"stroke:#0000ff; stroke-linecap:round; stroke-linejoin:round; stroke-width:4; stroke-opacity:1; fill:none\" points=\"\n  1509.01,147.058 1652.46,147.058 \n  \"/>\n<path clip-path=\"url(#clip500)\" d=\"M1676.37 129.778 L1681.04 129.778 L1681.04 143.944 L1698.03 143.944 L1698.03 129.778 L1702.71 129.778 L1702.71 164.338 L1698.03 164.338 L1698.03 147.879 L1681.04 147.879 L1681.04 164.338 L1676.37 164.338 L1676.37 129.778 Z\" fill=\"#000000\" fill-rule=\"evenodd\" fill-opacity=\"1\" /><path clip-path=\"url(#clip500)\" d=\"M1711.83 138.412 L1716.09 138.412 L1716.09 164.338 L1711.83 164.338 L1711.83 138.412 M1711.83 128.319 L1716.09 128.319 L1716.09 133.713 L1711.83 133.713 L1711.83 128.319 Z\" fill=\"#000000\" fill-rule=\"evenodd\" fill-opacity=\"1\" /><path clip-path=\"url(#clip500)\" d=\"M1742.06 142.347 L1742.06 128.319 L1746.32 128.319 L1746.32 164.338 L1742.06 164.338 L1742.06 160.449 Q1740.72 162.763 1738.66 163.898 Q1736.62 165.009 1733.75 165.009 Q1729.05 165.009 1726.09 161.259 Q1723.15 157.509 1723.15 151.398 Q1723.15 145.287 1726.09 141.537 Q1729.05 137.787 1733.75 137.787 Q1736.62 137.787 1738.66 138.921 Q1740.72 140.032 1742.06 142.347 M1727.55 151.398 Q1727.55 156.097 1729.47 158.782 Q1731.41 161.444 1734.79 161.444 Q1738.17 161.444 1740.12 158.782 Q1742.06 156.097 1742.06 151.398 Q1742.06 146.699 1740.12 144.037 Q1738.17 141.352 1734.79 141.352 Q1731.41 141.352 1729.47 144.037 Q1727.55 146.699 1727.55 151.398 Z\" fill=\"#000000\" fill-rule=\"evenodd\" fill-opacity=\"1\" /><path clip-path=\"url(#clip500)\" d=\"M1772.15 142.347 L1772.15 128.319 L1776.41 128.319 L1776.41 164.338 L1772.15 164.338 L1772.15 160.449 Q1770.81 162.763 1768.75 163.898 Q1766.71 165.009 1763.84 165.009 Q1759.14 165.009 1756.18 161.259 Q1753.24 157.509 1753.24 151.398 Q1753.24 145.287 1756.18 141.537 Q1759.14 137.787 1763.84 137.787 Q1766.71 137.787 1768.75 138.921 Q1770.81 140.032 1772.15 142.347 M1757.64 151.398 Q1757.64 156.097 1759.56 158.782 Q1761.5 161.444 1764.88 161.444 Q1768.26 161.444 1770.21 158.782 Q1772.15 156.097 1772.15 151.398 Q1772.15 146.699 1770.21 144.037 Q1768.26 141.352 1764.88 141.352 Q1761.5 141.352 1759.56 144.037 Q1757.64 146.699 1757.64 151.398 Z\" fill=\"#000000\" fill-rule=\"evenodd\" fill-opacity=\"1\" /><path clip-path=\"url(#clip500)\" d=\"M1807.36 150.31 L1807.36 152.393 L1787.78 152.393 Q1788.06 156.791 1790.42 159.106 Q1792.8 161.398 1797.04 161.398 Q1799.49 161.398 1801.78 160.796 Q1804.1 160.194 1806.37 158.99 L1806.37 163.018 Q1804.07 163.99 1801.67 164.5 Q1799.26 165.009 1796.78 165.009 Q1790.58 165.009 1786.94 161.398 Q1783.33 157.787 1783.33 151.629 Q1783.33 145.264 1786.76 141.537 Q1790.21 137.787 1796.04 137.787 Q1801.27 137.787 1804.31 141.166 Q1807.36 144.523 1807.36 150.31 M1803.1 149.06 Q1803.06 145.565 1801.13 143.481 Q1799.24 141.398 1796.09 141.398 Q1792.52 141.398 1790.37 143.412 Q1788.24 145.426 1787.92 149.083 L1803.1 149.06 Z\" fill=\"#000000\" fill-rule=\"evenodd\" fill-opacity=\"1\" /><path clip-path=\"url(#clip500)\" d=\"M1835.9 148.689 L1835.9 164.338 L1831.64 164.338 L1831.64 148.828 Q1831.64 145.148 1830.21 143.319 Q1828.77 141.49 1825.9 141.49 Q1822.45 141.49 1820.46 143.69 Q1818.47 145.889 1818.47 149.685 L1818.47 164.338 L1814.19 164.338 L1814.19 138.412 L1818.47 138.412 L1818.47 142.44 Q1820 140.102 1822.06 138.944 Q1824.14 137.787 1826.85 137.787 Q1831.32 137.787 1833.61 140.565 Q1835.9 143.319 1835.9 148.689 Z\" fill=\"#000000\" fill-rule=\"evenodd\" fill-opacity=\"1\" /><path clip-path=\"url(#clip500)\" d=\"M1880.37 130.912 L1880.37 135.472 Q1877.71 134.199 1875.35 133.574 Q1872.99 132.949 1870.79 132.949 Q1866.97 132.949 1864.88 134.43 Q1862.82 135.912 1862.82 138.643 Q1862.82 140.935 1864.19 142.115 Q1865.58 143.273 1869.42 143.99 L1872.24 144.569 Q1877.48 145.565 1879.95 148.088 Q1882.45 150.588 1882.45 154.801 Q1882.45 159.824 1879.07 162.416 Q1875.72 165.009 1869.21 165.009 Q1866.76 165.009 1863.98 164.453 Q1861.23 163.898 1858.26 162.81 L1858.26 157.995 Q1861.11 159.592 1863.84 160.402 Q1866.57 161.213 1869.21 161.213 Q1873.22 161.213 1875.39 159.639 Q1877.57 158.064 1877.57 155.148 Q1877.57 152.602 1875.99 151.166 Q1874.44 149.731 1870.88 149.014 L1868.03 148.458 Q1862.8 147.416 1860.46 145.194 Q1858.12 142.972 1858.12 139.014 Q1858.12 134.43 1861.34 131.791 Q1864.58 129.153 1870.25 129.153 Q1872.68 129.153 1875.21 129.592 Q1877.73 130.032 1880.37 130.912 Z\" fill=\"#000000\" fill-rule=\"evenodd\" fill-opacity=\"1\" /><path clip-path=\"url(#clip500)\" d=\"M1889.56 138.412 L1893.82 138.412 L1893.82 164.338 L1889.56 164.338 L1889.56 138.412 M1889.56 128.319 L1893.82 128.319 L1893.82 133.713 L1889.56 133.713 L1889.56 128.319 Z\" fill=\"#000000\" fill-rule=\"evenodd\" fill-opacity=\"1\" /><path clip-path=\"url(#clip500)\" d=\"M1919.79 151.074 Q1919.79 146.444 1917.87 143.898 Q1915.97 141.352 1912.52 141.352 Q1909.1 141.352 1907.18 143.898 Q1905.28 146.444 1905.28 151.074 Q1905.28 155.68 1907.18 158.226 Q1909.1 160.773 1912.52 160.773 Q1915.97 160.773 1917.87 158.226 Q1919.79 155.68 1919.79 151.074 M1924.05 161.12 Q1924.05 167.74 1921.11 170.958 Q1918.17 174.199 1912.11 174.199 Q1909.86 174.199 1907.87 173.851 Q1905.88 173.527 1904 172.833 L1904 168.689 Q1905.88 169.708 1907.71 170.194 Q1909.54 170.68 1911.43 170.68 Q1915.62 170.68 1917.71 168.481 Q1919.79 166.305 1919.79 161.884 L1919.79 159.777 Q1918.47 162.069 1916.41 163.203 Q1914.35 164.338 1911.48 164.338 Q1906.71 164.338 1903.8 160.703 Q1900.88 157.069 1900.88 151.074 Q1900.88 145.055 1903.8 141.421 Q1906.71 137.787 1911.48 137.787 Q1914.35 137.787 1916.41 138.921 Q1918.47 140.055 1919.79 142.347 L1919.79 138.412 L1924.05 138.412 L1924.05 161.12 Z\" fill=\"#000000\" fill-rule=\"evenodd\" fill-opacity=\"1\" /><path clip-path=\"url(#clip500)\" d=\"M1954.37 148.689 L1954.37 164.338 L1950.11 164.338 L1950.11 148.828 Q1950.11 145.148 1948.68 143.319 Q1947.24 141.49 1944.37 141.49 Q1940.92 141.49 1938.93 143.69 Q1936.94 145.889 1936.94 149.685 L1936.94 164.338 L1932.66 164.338 L1932.66 138.412 L1936.94 138.412 L1936.94 142.44 Q1938.47 140.102 1940.53 138.944 Q1942.61 137.787 1945.32 137.787 Q1949.79 137.787 1952.08 140.565 Q1954.37 143.319 1954.37 148.689 Z\" fill=\"#000000\" fill-rule=\"evenodd\" fill-opacity=\"1\" /><path clip-path=\"url(#clip500)\" d=\"M1974.65 151.305 Q1969.49 151.305 1967.5 152.486 Q1965.51 153.666 1965.51 156.514 Q1965.51 158.782 1966.99 160.125 Q1968.49 161.444 1971.06 161.444 Q1974.61 161.444 1976.73 158.944 Q1978.89 156.421 1978.89 152.254 L1978.89 151.305 L1974.65 151.305 M1983.15 149.546 L1983.15 164.338 L1978.89 164.338 L1978.89 160.402 Q1977.43 162.763 1975.25 163.898 Q1973.08 165.009 1969.93 165.009 Q1965.95 165.009 1963.59 162.787 Q1961.25 160.541 1961.25 156.791 Q1961.25 152.416 1964.17 150.194 Q1967.11 147.972 1972.92 147.972 L1978.89 147.972 L1978.89 147.555 Q1978.89 144.615 1976.94 143.018 Q1975.02 141.398 1971.53 141.398 Q1969.3 141.398 1967.2 141.93 Q1965.09 142.463 1963.15 143.527 L1963.15 139.592 Q1965.48 138.69 1967.68 138.25 Q1969.88 137.787 1971.97 137.787 Q1977.59 137.787 1980.37 140.703 Q1983.15 143.62 1983.15 149.546 Z\" fill=\"#000000\" fill-rule=\"evenodd\" fill-opacity=\"1\" /><path clip-path=\"url(#clip500)\" d=\"M1991.92 128.319 L1996.18 128.319 L1996.18 164.338 L1991.92 164.338 L1991.92 128.319 Z\" fill=\"#000000\" fill-rule=\"evenodd\" fill-opacity=\"1\" /><circle clip-path=\"url(#clip500)\" cx=\"1580.73\" cy=\"198.898\" r=\"23.04\" fill=\"#ffa500\" fill-rule=\"evenodd\" fill-opacity=\"1\" stroke=\"#000000\" stroke-opacity=\"1\" stroke-width=\"10.24\"/>\n<path clip-path=\"url(#clip500)\" d=\"M1676.37 181.618 L1682.66 181.618 L1697.99 210.529 L1697.99 181.618 L1702.52 181.618 L1702.52 216.178 L1696.23 216.178 L1680.9 187.266 L1680.9 216.178 L1676.37 216.178 L1676.37 181.618 Z\" fill=\"#000000\" fill-rule=\"evenodd\" fill-opacity=\"1\" /><path clip-path=\"url(#clip500)\" d=\"M1721.69 193.238 Q1718.26 193.238 1716.27 195.923 Q1714.28 198.585 1714.28 203.238 Q1714.28 207.891 1716.25 210.576 Q1718.24 213.238 1721.69 213.238 Q1725.09 213.238 1727.08 210.553 Q1729.07 207.867 1729.07 203.238 Q1729.07 198.631 1727.08 195.946 Q1725.09 193.238 1721.69 193.238 M1721.69 189.627 Q1727.25 189.627 1730.42 193.238 Q1733.59 196.849 1733.59 203.238 Q1733.59 209.604 1730.42 213.238 Q1727.25 216.849 1721.69 216.849 Q1716.11 216.849 1712.94 213.238 Q1709.79 209.604 1709.79 203.238 Q1709.79 196.849 1712.94 193.238 Q1716.11 189.627 1721.69 189.627 Z\" fill=\"#000000\" fill-rule=\"evenodd\" fill-opacity=\"1\" /><path clip-path=\"url(#clip500)\" d=\"M1762.2 200.529 L1762.2 216.178 L1757.94 216.178 L1757.94 200.668 Q1757.94 196.988 1756.5 195.159 Q1755.07 193.33 1752.2 193.33 Q1748.75 193.33 1746.76 195.53 Q1744.77 197.729 1744.77 201.525 L1744.77 216.178 L1740.49 216.178 L1740.49 190.252 L1744.77 190.252 L1744.77 194.28 Q1746.3 191.942 1748.36 190.784 Q1750.44 189.627 1753.15 189.627 Q1757.62 189.627 1759.91 192.405 Q1762.2 195.159 1762.2 200.529 Z\" fill=\"#000000\" fill-rule=\"evenodd\" fill-opacity=\"1\" /><path clip-path=\"url(#clip500)\" d=\"M1785.76 180.159 L1790.02 180.159 L1790.02 216.178 L1785.76 216.178 L1785.76 180.159 Z\" fill=\"#000000\" fill-rule=\"evenodd\" fill-opacity=\"1\" /><path clip-path=\"url(#clip500)\" d=\"M1798.93 190.252 L1803.19 190.252 L1803.19 216.178 L1798.93 216.178 L1798.93 190.252 M1798.93 180.159 L1803.19 180.159 L1803.19 185.553 L1798.93 185.553 L1798.93 180.159 Z\" fill=\"#000000\" fill-rule=\"evenodd\" fill-opacity=\"1\" /><path clip-path=\"url(#clip500)\" d=\"M1833.66 200.529 L1833.66 216.178 L1829.4 216.178 L1829.4 200.668 Q1829.4 196.988 1827.96 195.159 Q1826.53 193.33 1823.66 193.33 Q1820.21 193.33 1818.22 195.53 Q1816.23 197.729 1816.23 201.525 L1816.23 216.178 L1811.94 216.178 L1811.94 190.252 L1816.23 190.252 L1816.23 194.28 Q1817.75 191.942 1819.81 190.784 Q1821.9 189.627 1824.61 189.627 Q1829.07 189.627 1831.37 192.405 Q1833.66 195.159 1833.66 200.529 Z\" fill=\"#000000\" fill-rule=\"evenodd\" fill-opacity=\"1\" /><path clip-path=\"url(#clip500)\" d=\"M1864.33 202.15 L1864.33 204.233 L1844.74 204.233 Q1845.02 208.631 1847.38 210.946 Q1849.77 213.238 1854 213.238 Q1856.46 213.238 1858.75 212.636 Q1861.06 212.034 1863.33 210.83 L1863.33 214.858 Q1861.04 215.83 1858.63 216.34 Q1856.23 216.849 1853.75 216.849 Q1847.55 216.849 1843.91 213.238 Q1840.3 209.627 1840.3 203.469 Q1840.3 197.104 1843.73 193.377 Q1847.18 189.627 1853.01 189.627 Q1858.24 189.627 1861.27 193.006 Q1864.33 196.363 1864.33 202.15 M1860.07 200.9 Q1860.02 197.405 1858.1 195.321 Q1856.2 193.238 1853.05 193.238 Q1849.49 193.238 1847.34 195.252 Q1845.21 197.266 1844.88 200.923 L1860.07 200.9 Z\" fill=\"#000000\" fill-rule=\"evenodd\" fill-opacity=\"1\" /><path clip-path=\"url(#clip500)\" d=\"M1883.1 203.145 Q1877.94 203.145 1875.95 204.326 Q1873.96 205.506 1873.96 208.354 Q1873.96 210.622 1875.44 211.965 Q1876.94 213.284 1879.51 213.284 Q1883.05 213.284 1885.18 210.784 Q1887.34 208.261 1887.34 204.094 L1887.34 203.145 L1883.1 203.145 M1891.6 201.386 L1891.6 216.178 L1887.34 216.178 L1887.34 212.242 Q1885.88 214.603 1883.7 215.738 Q1881.53 216.849 1878.38 216.849 Q1874.4 216.849 1872.04 214.627 Q1869.7 212.381 1869.7 208.631 Q1869.7 204.256 1872.62 202.034 Q1875.55 199.812 1881.37 199.812 L1887.34 199.812 L1887.34 199.395 Q1887.34 196.455 1885.39 194.858 Q1883.47 193.238 1879.98 193.238 Q1877.75 193.238 1875.65 193.77 Q1873.54 194.303 1871.6 195.367 L1871.6 191.432 Q1873.93 190.53 1876.13 190.09 Q1878.33 189.627 1880.42 189.627 Q1886.04 189.627 1888.82 192.543 Q1891.6 195.46 1891.6 201.386 Z\" fill=\"#000000\" fill-rule=\"evenodd\" fill-opacity=\"1\" /><path clip-path=\"url(#clip500)\" d=\"M1915.39 194.233 Q1914.68 193.817 1913.82 193.631 Q1912.99 193.423 1911.97 193.423 Q1908.36 193.423 1906.41 195.784 Q1904.49 198.122 1904.49 202.52 L1904.49 216.178 L1900.21 216.178 L1900.21 190.252 L1904.49 190.252 L1904.49 194.28 Q1905.83 191.918 1907.99 190.784 Q1910.14 189.627 1913.22 189.627 Q1913.66 189.627 1914.19 189.696 Q1914.72 189.743 1915.37 189.858 L1915.39 194.233 Z\" fill=\"#000000\" fill-rule=\"evenodd\" fill-opacity=\"1\" /><path clip-path=\"url(#clip500)\" d=\"M1944.98 193.238 Q1941.55 193.238 1939.56 195.923 Q1937.57 198.585 1937.57 203.238 Q1937.57 207.891 1939.54 210.576 Q1941.53 213.238 1944.98 213.238 Q1948.38 213.238 1950.37 210.553 Q1952.36 207.867 1952.36 203.238 Q1952.36 198.631 1950.37 195.946 Q1948.38 193.238 1944.98 193.238 M1944.98 189.627 Q1950.53 189.627 1953.7 193.238 Q1956.87 196.849 1956.87 203.238 Q1956.87 209.604 1953.7 213.238 Q1950.53 216.849 1944.98 216.849 Q1939.4 216.849 1936.23 213.238 Q1933.08 209.604 1933.08 203.238 Q1933.08 196.849 1936.23 193.238 Q1939.4 189.627 1944.98 189.627 Z\" fill=\"#000000\" fill-rule=\"evenodd\" fill-opacity=\"1\" /><path clip-path=\"url(#clip500)\" d=\"M1982.55 203.238 Q1982.55 198.539 1980.6 195.877 Q1978.68 193.192 1975.3 193.192 Q1971.92 193.192 1969.98 195.877 Q1968.05 198.539 1968.05 203.238 Q1968.05 207.937 1969.98 210.622 Q1971.92 213.284 1975.3 213.284 Q1978.68 213.284 1980.6 210.622 Q1982.55 207.937 1982.55 203.238 M1968.05 194.187 Q1969.4 191.872 1971.43 190.761 Q1973.49 189.627 1976.34 189.627 Q1981.06 189.627 1984 193.377 Q1986.97 197.127 1986.97 203.238 Q1986.97 209.349 1984 213.099 Q1981.06 216.849 1976.34 216.849 Q1973.49 216.849 1971.43 215.738 Q1969.4 214.603 1968.05 212.289 L1968.05 216.178 L1963.77 216.178 L1963.77 180.159 L1968.05 180.159 L1968.05 194.187 Z\" fill=\"#000000\" fill-rule=\"evenodd\" fill-opacity=\"1\" /><path clip-path=\"url(#clip500)\" d=\"M2010.55 191.016 L2010.55 195.043 Q2008.75 194.117 2006.8 193.655 Q2004.86 193.192 2002.78 193.192 Q1999.61 193.192 1998.01 194.164 Q1996.43 195.136 1996.43 197.08 Q1996.43 198.562 1997.57 199.418 Q1998.7 200.252 2002.13 201.016 L2003.59 201.34 Q2008.12 202.312 2010.02 204.094 Q2011.94 205.854 2011.94 209.025 Q2011.94 212.636 2009.07 214.742 Q2006.23 216.849 2001.23 216.849 Q1999.14 216.849 1996.87 216.432 Q1994.63 216.039 1992.13 215.228 L1992.13 210.83 Q1994.49 212.057 1996.78 212.682 Q1999.07 213.284 2001.32 213.284 Q2004.33 213.284 2005.95 212.266 Q2007.57 211.224 2007.57 209.349 Q2007.57 207.613 2006.39 206.687 Q2005.23 205.761 2001.27 204.904 L1999.79 204.557 Q1995.83 203.724 1994.07 202.011 Q1992.31 200.275 1992.31 197.266 Q1992.31 193.608 1994.91 191.618 Q1997.5 189.627 2002.27 189.627 Q2004.63 189.627 2006.71 189.974 Q2008.79 190.321 2010.55 191.016 Z\" fill=\"#000000\" fill-rule=\"evenodd\" fill-opacity=\"1\" /><path clip-path=\"url(#clip500)\" d=\"M2040.9 202.15 L2040.9 204.233 L2021.32 204.233 Q2021.6 208.631 2023.96 210.946 Q2026.34 213.238 2030.58 213.238 Q2033.03 213.238 2035.32 212.636 Q2037.64 212.034 2039.91 210.83 L2039.91 214.858 Q2037.61 215.83 2035.21 216.34 Q2032.8 216.849 2030.32 216.849 Q2024.12 216.849 2020.48 213.238 Q2016.87 209.627 2016.87 203.469 Q2016.87 197.104 2020.3 193.377 Q2023.75 189.627 2029.58 189.627 Q2034.81 189.627 2037.85 193.006 Q2040.9 196.363 2040.9 202.15 M2036.64 200.9 Q2036.6 197.405 2034.67 195.321 Q2032.78 193.238 2029.63 193.238 Q2026.06 193.238 2023.91 195.252 Q2021.78 197.266 2021.46 200.923 L2036.64 200.9 Z\" fill=\"#000000\" fill-rule=\"evenodd\" fill-opacity=\"1\" /><path clip-path=\"url(#clip500)\" d=\"M2062.91 194.233 Q2062.2 193.817 2061.34 193.631 Q2060.51 193.423 2059.49 193.423 Q2055.88 193.423 2053.93 195.784 Q2052.01 198.122 2052.01 202.52 L2052.01 216.178 L2047.73 216.178 L2047.73 190.252 L2052.01 190.252 L2052.01 194.28 Q2053.35 191.918 2055.51 190.784 Q2057.66 189.627 2060.74 189.627 Q2061.18 189.627 2061.71 189.696 Q2062.24 189.743 2062.89 189.858 L2062.91 194.233 Z\" fill=\"#000000\" fill-rule=\"evenodd\" fill-opacity=\"1\" /><path clip-path=\"url(#clip500)\" d=\"M2064.33 190.252 L2068.84 190.252 L2076.94 212.011 L2085.04 190.252 L2089.56 190.252 L2079.84 216.178 L2074.05 216.178 L2064.33 190.252 Z\" fill=\"#000000\" fill-rule=\"evenodd\" fill-opacity=\"1\" /><path clip-path=\"url(#clip500)\" d=\"M2107.22 203.145 Q2102.06 203.145 2100.07 204.326 Q2098.08 205.506 2098.08 208.354 Q2098.08 210.622 2099.56 211.965 Q2101.06 213.284 2103.63 213.284 Q2107.17 213.284 2109.3 210.784 Q2111.46 208.261 2111.46 204.094 L2111.46 203.145 L2107.22 203.145 M2115.72 201.386 L2115.72 216.178 L2111.46 216.178 L2111.46 212.242 Q2110 214.603 2107.82 215.738 Q2105.65 216.849 2102.5 216.849 Q2098.52 216.849 2096.16 214.627 Q2093.82 212.381 2093.82 208.631 Q2093.82 204.256 2096.73 202.034 Q2099.67 199.812 2105.48 199.812 L2111.46 199.812 L2111.46 199.395 Q2111.46 196.455 2109.51 194.858 Q2107.59 193.238 2104.1 193.238 Q2101.87 193.238 2099.77 193.77 Q2097.66 194.303 2095.72 195.367 L2095.72 191.432 Q2098.05 190.53 2100.25 190.09 Q2102.45 189.627 2104.54 189.627 Q2110.16 189.627 2112.94 192.543 Q2115.72 195.46 2115.72 201.386 Z\" fill=\"#000000\" fill-rule=\"evenodd\" fill-opacity=\"1\" /><path clip-path=\"url(#clip500)\" d=\"M2128.7 182.891 L2128.7 190.252 L2137.47 190.252 L2137.47 193.562 L2128.7 193.562 L2128.7 207.636 Q2128.7 210.807 2129.56 211.71 Q2130.44 212.613 2133.1 212.613 L2137.47 212.613 L2137.47 216.178 L2133.1 216.178 Q2128.17 216.178 2126.29 214.349 Q2124.42 212.497 2124.42 207.636 L2124.42 193.562 L2121.29 193.562 L2121.29 190.252 L2124.42 190.252 L2124.42 182.891 L2128.7 182.891 Z\" fill=\"#000000\" fill-rule=\"evenodd\" fill-opacity=\"1\" /><path clip-path=\"url(#clip500)\" d=\"M2143.08 190.252 L2147.34 190.252 L2147.34 216.178 L2143.08 216.178 L2143.08 190.252 M2143.08 180.159 L2147.34 180.159 L2147.34 185.553 L2143.08 185.553 L2143.08 180.159 Z\" fill=\"#000000\" fill-rule=\"evenodd\" fill-opacity=\"1\" /><path clip-path=\"url(#clip500)\" d=\"M2166.29 193.238 Q2162.87 193.238 2160.88 195.923 Q2158.89 198.585 2158.89 203.238 Q2158.89 207.891 2160.85 210.576 Q2162.84 213.238 2166.29 213.238 Q2169.7 213.238 2171.69 210.553 Q2173.68 207.867 2173.68 203.238 Q2173.68 198.631 2171.69 195.946 Q2169.7 193.238 2166.29 193.238 M2166.29 189.627 Q2171.85 189.627 2175.02 193.238 Q2178.19 196.849 2178.19 203.238 Q2178.19 209.604 2175.02 213.238 Q2171.85 216.849 2166.29 216.849 Q2160.72 216.849 2157.54 213.238 Q2154.4 209.604 2154.4 203.238 Q2154.4 196.849 2157.54 193.238 Q2160.72 189.627 2166.29 189.627 Z\" fill=\"#000000\" fill-rule=\"evenodd\" fill-opacity=\"1\" /><path clip-path=\"url(#clip500)\" d=\"M2206.8 200.529 L2206.8 216.178 L2202.54 216.178 L2202.54 200.668 Q2202.54 196.988 2201.11 195.159 Q2199.67 193.33 2196.8 193.33 Q2193.35 193.33 2191.36 195.53 Q2189.37 197.729 2189.37 201.525 L2189.37 216.178 L2185.09 216.178 L2185.09 190.252 L2189.37 190.252 L2189.37 194.28 Q2190.9 191.942 2192.96 190.784 Q2195.04 189.627 2197.75 189.627 Q2202.22 189.627 2204.51 192.405 Q2206.8 195.159 2206.8 200.529 Z\" fill=\"#000000\" fill-rule=\"evenodd\" fill-opacity=\"1\" /><path clip-path=\"url(#clip500)\" d=\"M2231.83 191.016 L2231.83 195.043 Q2230.02 194.117 2228.08 193.655 Q2226.13 193.192 2224.05 193.192 Q2220.88 193.192 2219.28 194.164 Q2217.71 195.136 2217.71 197.08 Q2217.71 198.562 2218.84 199.418 Q2219.97 200.252 2223.4 201.016 L2224.86 201.34 Q2229.4 202.312 2231.29 204.094 Q2233.21 205.854 2233.21 209.025 Q2233.21 212.636 2230.34 214.742 Q2227.5 216.849 2222.5 216.849 Q2220.41 216.849 2218.15 216.432 Q2215.9 216.039 2213.4 215.228 L2213.4 210.83 Q2215.76 212.057 2218.05 212.682 Q2220.34 213.284 2222.59 213.284 Q2225.6 213.284 2227.22 212.266 Q2228.84 211.224 2228.84 209.349 Q2228.84 207.613 2227.66 206.687 Q2226.5 205.761 2222.54 204.904 L2221.06 204.557 Q2217.1 203.724 2215.34 202.011 Q2213.59 200.275 2213.59 197.266 Q2213.59 193.608 2216.18 191.618 Q2218.77 189.627 2223.54 189.627 Q2225.9 189.627 2227.98 189.974 Q2230.07 190.321 2231.83 191.016 Z\" fill=\"#000000\" fill-rule=\"evenodd\" fill-opacity=\"1\" /></svg>\n"
     },
     "execution_count": 14,
     "metadata": {},
     "output_type": "execute_result"
    }
   ],
   "source": [
    "px = plot()\n",
    "\n",
    "px = plot!(px, hidden, label = \"Hidden Signal\", color = :blue)\n",
    "px = scatter!(px, transformed, label = \"Non linear observations\", markersize = 2, color = :orange)\n",
    "\n",
    "plot(px)"
   ]
  },
  {
   "cell_type": "markdown",
   "metadata": {},
   "source": [
    "To run inference we will use `inference` function from `ReactiveMP`.\n",
    "Note, that for running inference for this model we need to init marginals for z, $\\theta$, $\\tau$, and init z messages."
   ]
  },
  {
   "cell_type": "code",
   "execution_count": 15,
   "metadata": {},
   "outputs": [
    {
     "data": {
      "text/plain": [
       "Inference results:\n",
       "  Posteriors       | available for (z)\n",
       "  Free Energy:     | Real[532.002, 352.599, 330.324, 321.933, 316.369, 313.364, 311.382, 309.941, 310.005, 310.408  …  311.476, 311.044, 311.281, 311.378, 311.038, 311.297, 311.513, 311.317, 311.44, 311.401]\n"
      ]
     },
     "execution_count": 15,
     "metadata": {},
     "output_type": "execute_result"
    }
   ],
   "source": [
    "res = inference(\n",
    "    model = sensor_based_observation(T),\n",
    "    data = (y = transformed,),\n",
    "    iterations = 30,\n",
    "    free_energy = true,\n",
    "    returnvars = (z = KeepLast(),),\n",
    "    constraints = constraints,\n",
    "    initmessages = (z = NormalMeanVariance(0, P),),\n",
    "    initmarginals = (z = NormalMeanVariance(0, P), τ = GammaShapeRate(1.0, 1.0), θ = GammaShapeRate(1.0, 1.0),),\n",
    "    meta = model_meta(rng, 1000, 100, Flux.Descent(0.01))\n",
    ")"
   ]
  },
  {
   "cell_type": "markdown",
   "metadata": {},
   "source": [
    "Let's check the inference quality graphically."
   ]
  },
  {
   "cell_type": "code",
   "execution_count": 16,
   "metadata": {},
   "outputs": [
    {
     "data": {
      "image/svg+xml": "<?xml version=\"1.0\" encoding=\"utf-8\"?>\n<svg xmlns=\"http://www.w3.org/2000/svg\" xmlns:xlink=\"http://www.w3.org/1999/xlink\" width=\"800\" height=\"300\" viewBox=\"0 0 3200 1200\">\n<defs>\n  <clipPath id=\"clip540\">\n    <rect x=\"0\" y=\"0\" width=\"3200\" height=\"1200\"/>\n  </clipPath>\n</defs>\n<path clip-path=\"url(#clip540)\" d=\"\nM0 1200 L3200 1200 L3200 0 L0 0  Z\n  \" fill=\"#ffffff\" fill-rule=\"evenodd\" fill-opacity=\"1\"/>\n<defs>\n  <clipPath id=\"clip541\">\n    <rect x=\"640\" y=\"0\" width=\"2241\" height=\"1200\"/>\n  </clipPath>\n</defs>\n<path clip-path=\"url(#clip540)\" d=\"\nM149.853 1105.57 L1537.67 1105.57 L1537.67 47.2441 L149.853 47.2441  Z\n  \" fill=\"#ffffff\" fill-rule=\"evenodd\" fill-opacity=\"1\"/>\n<defs>\n  <clipPath id=\"clip542\">\n    <rect x=\"149\" y=\"47\" width=\"1389\" height=\"1059\"/>\n  </clipPath>\n</defs>\n<polyline clip-path=\"url(#clip542)\" style=\"stroke:#000000; stroke-linecap:round; stroke-linejoin:round; stroke-width:2; stroke-opacity:0.1; fill:none\" points=\"\n  162.411,1105.57 162.411,47.2441 \n  \"/>\n<polyline clip-path=\"url(#clip542)\" style=\"stroke:#000000; stroke-linecap:round; stroke-linejoin:round; stroke-width:2; stroke-opacity:0.1; fill:none\" points=\"\n  429.608,1105.57 429.608,47.2441 \n  \"/>\n<polyline clip-path=\"url(#clip542)\" style=\"stroke:#000000; stroke-linecap:round; stroke-linejoin:round; stroke-width:2; stroke-opacity:0.1; fill:none\" points=\"\n  696.806,1105.57 696.806,47.2441 \n  \"/>\n<polyline clip-path=\"url(#clip542)\" style=\"stroke:#000000; stroke-linecap:round; stroke-linejoin:round; stroke-width:2; stroke-opacity:0.1; fill:none\" points=\"\n  964.003,1105.57 964.003,47.2441 \n  \"/>\n<polyline clip-path=\"url(#clip542)\" style=\"stroke:#000000; stroke-linecap:round; stroke-linejoin:round; stroke-width:2; stroke-opacity:0.1; fill:none\" points=\"\n  1231.2,1105.57 1231.2,47.2441 \n  \"/>\n<polyline clip-path=\"url(#clip542)\" style=\"stroke:#000000; stroke-linecap:round; stroke-linejoin:round; stroke-width:2; stroke-opacity:0.1; fill:none\" points=\"\n  1498.4,1105.57 1498.4,47.2441 \n  \"/>\n<polyline clip-path=\"url(#clip540)\" style=\"stroke:#000000; stroke-linecap:round; stroke-linejoin:round; stroke-width:4; stroke-opacity:1; fill:none\" points=\"\n  149.853,1105.57 1537.67,1105.57 \n  \"/>\n<polyline clip-path=\"url(#clip540)\" style=\"stroke:#000000; stroke-linecap:round; stroke-linejoin:round; stroke-width:4; stroke-opacity:1; fill:none\" points=\"\n  162.411,1105.57 162.411,1086.67 \n  \"/>\n<polyline clip-path=\"url(#clip540)\" style=\"stroke:#000000; stroke-linecap:round; stroke-linejoin:round; stroke-width:4; stroke-opacity:1; fill:none\" points=\"\n  429.608,1105.57 429.608,1086.67 \n  \"/>\n<polyline clip-path=\"url(#clip540)\" style=\"stroke:#000000; stroke-linecap:round; stroke-linejoin:round; stroke-width:4; stroke-opacity:1; fill:none\" points=\"\n  696.806,1105.57 696.806,1086.67 \n  \"/>\n<polyline clip-path=\"url(#clip540)\" style=\"stroke:#000000; stroke-linecap:round; stroke-linejoin:round; stroke-width:4; stroke-opacity:1; fill:none\" points=\"\n  964.003,1105.57 964.003,1086.67 \n  \"/>\n<polyline clip-path=\"url(#clip540)\" style=\"stroke:#000000; stroke-linecap:round; stroke-linejoin:round; stroke-width:4; stroke-opacity:1; fill:none\" points=\"\n  1231.2,1105.57 1231.2,1086.67 \n  \"/>\n<polyline clip-path=\"url(#clip540)\" style=\"stroke:#000000; stroke-linecap:round; stroke-linejoin:round; stroke-width:4; stroke-opacity:1; fill:none\" points=\"\n  1498.4,1105.57 1498.4,1086.67 \n  \"/>\n<path clip-path=\"url(#clip540)\" d=\"M162.411 1142.89 Q158.8 1142.89 156.971 1146.45 Q155.166 1149.99 155.166 1157.12 Q155.166 1164.23 156.971 1167.79 Q158.8 1171.34 162.411 1171.34 Q166.045 1171.34 167.851 1167.79 Q169.68 1164.23 169.68 1157.12 Q169.68 1149.99 167.851 1146.45 Q166.045 1142.89 162.411 1142.89 M162.411 1139.18 Q168.221 1139.18 171.277 1143.79 Q174.356 1148.37 174.356 1157.12 Q174.356 1165.85 171.277 1170.46 Q168.221 1175.04 162.411 1175.04 Q156.601 1175.04 153.522 1170.46 Q150.467 1165.85 150.467 1157.12 Q150.467 1148.37 153.522 1143.79 Q156.601 1139.18 162.411 1139.18 Z\" fill=\"#000000\" fill-rule=\"evenodd\" fill-opacity=\"1\" /><path clip-path=\"url(#clip540)\" d=\"M404.296 1170.43 L411.935 1170.43 L411.935 1144.07 L403.625 1145.73 L403.625 1141.47 L411.889 1139.81 L416.564 1139.81 L416.564 1170.43 L424.203 1170.43 L424.203 1174.37 L404.296 1174.37 L404.296 1170.43 Z\" fill=\"#000000\" fill-rule=\"evenodd\" fill-opacity=\"1\" /><path clip-path=\"url(#clip540)\" d=\"M443.648 1142.89 Q440.037 1142.89 438.208 1146.45 Q436.402 1149.99 436.402 1157.12 Q436.402 1164.23 438.208 1167.79 Q440.037 1171.34 443.648 1171.34 Q447.282 1171.34 449.087 1167.79 Q450.916 1164.23 450.916 1157.12 Q450.916 1149.99 449.087 1146.45 Q447.282 1142.89 443.648 1142.89 M443.648 1139.18 Q449.458 1139.18 452.513 1143.79 Q455.592 1148.37 455.592 1157.12 Q455.592 1165.85 452.513 1170.46 Q449.458 1175.04 443.648 1175.04 Q437.837 1175.04 434.759 1170.46 Q431.703 1165.85 431.703 1157.12 Q431.703 1148.37 434.759 1143.79 Q437.837 1139.18 443.648 1139.18 Z\" fill=\"#000000\" fill-rule=\"evenodd\" fill-opacity=\"1\" /><path clip-path=\"url(#clip540)\" d=\"M675.579 1170.43 L691.898 1170.43 L691.898 1174.37 L669.954 1174.37 L669.954 1170.43 Q672.616 1167.68 677.199 1163.05 Q681.806 1158.4 682.986 1157.05 Q685.232 1154.53 686.111 1152.79 Q687.014 1151.03 687.014 1149.34 Q687.014 1146.59 685.069 1144.85 Q683.148 1143.12 680.046 1143.12 Q677.847 1143.12 675.394 1143.88 Q672.963 1144.65 670.185 1146.2 L670.185 1141.47 Q673.009 1140.34 675.463 1139.76 Q677.917 1139.18 679.954 1139.18 Q685.324 1139.18 688.519 1141.87 Q691.713 1144.55 691.713 1149.04 Q691.713 1151.17 690.903 1153.09 Q690.116 1154.99 688.009 1157.59 Q687.431 1158.26 684.329 1161.47 Q681.227 1164.67 675.579 1170.43 Z\" fill=\"#000000\" fill-rule=\"evenodd\" fill-opacity=\"1\" /><path clip-path=\"url(#clip540)\" d=\"M711.713 1142.89 Q708.102 1142.89 706.273 1146.45 Q704.468 1149.99 704.468 1157.12 Q704.468 1164.23 706.273 1167.79 Q708.102 1171.34 711.713 1171.34 Q715.347 1171.34 717.153 1167.79 Q718.981 1164.23 718.981 1157.12 Q718.981 1149.99 717.153 1146.45 Q715.347 1142.89 711.713 1142.89 M711.713 1139.18 Q717.523 1139.18 720.579 1143.79 Q723.657 1148.37 723.657 1157.12 Q723.657 1165.85 720.579 1170.46 Q717.523 1175.04 711.713 1175.04 Q705.903 1175.04 702.824 1170.46 Q699.768 1165.85 699.768 1157.12 Q699.768 1148.37 702.824 1143.79 Q705.903 1139.18 711.713 1139.18 Z\" fill=\"#000000\" fill-rule=\"evenodd\" fill-opacity=\"1\" /><path clip-path=\"url(#clip540)\" d=\"M952.845 1155.73 Q956.202 1156.45 958.077 1158.72 Q959.975 1160.99 959.975 1164.32 Q959.975 1169.44 956.456 1172.24 Q952.938 1175.04 946.456 1175.04 Q944.281 1175.04 941.966 1174.6 Q939.674 1174.18 937.22 1173.33 L937.22 1168.81 Q939.165 1169.95 941.48 1170.53 Q943.794 1171.1 946.318 1171.1 Q950.716 1171.1 953.007 1169.37 Q955.322 1167.63 955.322 1164.32 Q955.322 1161.27 953.169 1159.55 Q951.04 1157.82 947.22 1157.82 L943.193 1157.82 L943.193 1153.97 L947.406 1153.97 Q950.855 1153.97 952.683 1152.61 Q954.512 1151.22 954.512 1148.63 Q954.512 1145.97 952.614 1144.55 Q950.739 1143.12 947.22 1143.12 Q945.299 1143.12 943.1 1143.53 Q940.901 1143.95 938.262 1144.83 L938.262 1140.66 Q940.924 1139.92 943.239 1139.55 Q945.577 1139.18 947.637 1139.18 Q952.961 1139.18 956.063 1141.61 Q959.165 1144.02 959.165 1148.14 Q959.165 1151.01 957.521 1153 Q955.878 1154.97 952.845 1155.73 Z\" fill=\"#000000\" fill-rule=\"evenodd\" fill-opacity=\"1\" /><path clip-path=\"url(#clip540)\" d=\"M978.841 1142.89 Q975.229 1142.89 973.401 1146.45 Q971.595 1149.99 971.595 1157.12 Q971.595 1164.23 973.401 1167.79 Q975.229 1171.34 978.841 1171.34 Q982.475 1171.34 984.28 1167.79 Q986.109 1164.23 986.109 1157.12 Q986.109 1149.99 984.28 1146.45 Q982.475 1142.89 978.841 1142.89 M978.841 1139.18 Q984.651 1139.18 987.706 1143.79 Q990.785 1148.37 990.785 1157.12 Q990.785 1165.85 987.706 1170.46 Q984.651 1175.04 978.841 1175.04 Q973.03 1175.04 969.952 1170.46 Q966.896 1165.85 966.896 1157.12 Q966.896 1148.37 969.952 1143.79 Q973.03 1139.18 978.841 1139.18 Z\" fill=\"#000000\" fill-rule=\"evenodd\" fill-opacity=\"1\" /><path clip-path=\"url(#clip540)\" d=\"M1219.37 1143.88 L1207.57 1162.33 L1219.37 1162.33 L1219.37 1143.88 M1218.14 1139.81 L1224.02 1139.81 L1224.02 1162.33 L1228.95 1162.33 L1228.95 1166.22 L1224.02 1166.22 L1224.02 1174.37 L1219.37 1174.37 L1219.37 1166.22 L1203.77 1166.22 L1203.77 1161.71 L1218.14 1139.81 Z\" fill=\"#000000\" fill-rule=\"evenodd\" fill-opacity=\"1\" /><path clip-path=\"url(#clip540)\" d=\"M1246.69 1142.89 Q1243.07 1142.89 1241.25 1146.45 Q1239.44 1149.99 1239.44 1157.12 Q1239.44 1164.23 1241.25 1167.79 Q1243.07 1171.34 1246.69 1171.34 Q1250.32 1171.34 1252.13 1167.79 Q1253.95 1164.23 1253.95 1157.12 Q1253.95 1149.99 1252.13 1146.45 Q1250.32 1142.89 1246.69 1142.89 M1246.69 1139.18 Q1252.5 1139.18 1255.55 1143.79 Q1258.63 1148.37 1258.63 1157.12 Q1258.63 1165.85 1255.55 1170.46 Q1252.5 1175.04 1246.69 1175.04 Q1240.88 1175.04 1237.8 1170.46 Q1234.74 1165.85 1234.74 1157.12 Q1234.74 1148.37 1237.8 1143.79 Q1240.88 1139.18 1246.69 1139.18 Z\" fill=\"#000000\" fill-rule=\"evenodd\" fill-opacity=\"1\" /><path clip-path=\"url(#clip540)\" d=\"M1473.1 1139.81 L1491.45 1139.81 L1491.45 1143.74 L1477.38 1143.74 L1477.38 1152.22 Q1478.4 1151.87 1479.42 1151.71 Q1480.43 1151.52 1481.45 1151.52 Q1487.24 1151.52 1490.62 1154.69 Q1494 1157.86 1494 1163.28 Q1494 1168.86 1490.53 1171.96 Q1487.05 1175.04 1480.74 1175.04 Q1478.56 1175.04 1476.29 1174.67 Q1474.05 1174.3 1471.64 1173.56 L1471.64 1168.86 Q1473.72 1169.99 1475.94 1170.55 Q1478.17 1171.1 1480.64 1171.1 Q1484.65 1171.1 1486.99 1169 Q1489.32 1166.89 1489.32 1163.28 Q1489.32 1159.67 1486.99 1157.56 Q1484.65 1155.46 1480.64 1155.46 Q1478.77 1155.46 1476.89 1155.87 Q1475.04 1156.29 1473.1 1157.17 L1473.1 1139.81 Z\" fill=\"#000000\" fill-rule=\"evenodd\" fill-opacity=\"1\" /><path clip-path=\"url(#clip540)\" d=\"M1513.21 1142.89 Q1509.6 1142.89 1507.77 1146.45 Q1505.97 1149.99 1505.97 1157.12 Q1505.97 1164.23 1507.77 1167.79 Q1509.6 1171.34 1513.21 1171.34 Q1516.85 1171.34 1518.65 1167.79 Q1520.48 1164.23 1520.48 1157.12 Q1520.48 1149.99 1518.65 1146.45 Q1516.85 1142.89 1513.21 1142.89 M1513.21 1139.18 Q1519.02 1139.18 1522.08 1143.79 Q1525.16 1148.37 1525.16 1157.12 Q1525.16 1165.85 1522.08 1170.46 Q1519.02 1175.04 1513.21 1175.04 Q1507.4 1175.04 1504.32 1170.46 Q1501.27 1165.85 1501.27 1157.12 Q1501.27 1148.37 1504.32 1143.79 Q1507.4 1139.18 1513.21 1139.18 Z\" fill=\"#000000\" fill-rule=\"evenodd\" fill-opacity=\"1\" /><polyline clip-path=\"url(#clip542)\" style=\"stroke:#000000; stroke-linecap:round; stroke-linejoin:round; stroke-width:2; stroke-opacity:0.1; fill:none\" points=\"\n  149.853,1064.65 1537.67,1064.65 \n  \"/>\n<polyline clip-path=\"url(#clip542)\" style=\"stroke:#000000; stroke-linecap:round; stroke-linejoin:round; stroke-width:2; stroke-opacity:0.1; fill:none\" points=\"\n  149.853,883.757 1537.67,883.757 \n  \"/>\n<polyline clip-path=\"url(#clip542)\" style=\"stroke:#000000; stroke-linecap:round; stroke-linejoin:round; stroke-width:2; stroke-opacity:0.1; fill:none\" points=\"\n  149.853,702.868 1537.67,702.868 \n  \"/>\n<polyline clip-path=\"url(#clip542)\" style=\"stroke:#000000; stroke-linecap:round; stroke-linejoin:round; stroke-width:2; stroke-opacity:0.1; fill:none\" points=\"\n  149.853,521.98 1537.67,521.98 \n  \"/>\n<polyline clip-path=\"url(#clip542)\" style=\"stroke:#000000; stroke-linecap:round; stroke-linejoin:round; stroke-width:2; stroke-opacity:0.1; fill:none\" points=\"\n  149.853,341.091 1537.67,341.091 \n  \"/>\n<polyline clip-path=\"url(#clip542)\" style=\"stroke:#000000; stroke-linecap:round; stroke-linejoin:round; stroke-width:2; stroke-opacity:0.1; fill:none\" points=\"\n  149.853,160.202 1537.67,160.202 \n  \"/>\n<polyline clip-path=\"url(#clip540)\" style=\"stroke:#000000; stroke-linecap:round; stroke-linejoin:round; stroke-width:4; stroke-opacity:1; fill:none\" points=\"\n  149.853,1105.57 149.853,47.2441 \n  \"/>\n<polyline clip-path=\"url(#clip540)\" style=\"stroke:#000000; stroke-linecap:round; stroke-linejoin:round; stroke-width:4; stroke-opacity:1; fill:none\" points=\"\n  149.853,1064.65 168.751,1064.65 \n  \"/>\n<polyline clip-path=\"url(#clip540)\" style=\"stroke:#000000; stroke-linecap:round; stroke-linejoin:round; stroke-width:4; stroke-opacity:1; fill:none\" points=\"\n  149.853,883.757 168.751,883.757 \n  \"/>\n<polyline clip-path=\"url(#clip540)\" style=\"stroke:#000000; stroke-linecap:round; stroke-linejoin:round; stroke-width:4; stroke-opacity:1; fill:none\" points=\"\n  149.853,702.868 168.751,702.868 \n  \"/>\n<polyline clip-path=\"url(#clip540)\" style=\"stroke:#000000; stroke-linecap:round; stroke-linejoin:round; stroke-width:4; stroke-opacity:1; fill:none\" points=\"\n  149.853,521.98 168.751,521.98 \n  \"/>\n<polyline clip-path=\"url(#clip540)\" style=\"stroke:#000000; stroke-linecap:round; stroke-linejoin:round; stroke-width:4; stroke-opacity:1; fill:none\" points=\"\n  149.853,341.091 168.751,341.091 \n  \"/>\n<polyline clip-path=\"url(#clip540)\" style=\"stroke:#000000; stroke-linecap:round; stroke-linejoin:round; stroke-width:4; stroke-opacity:1; fill:none\" points=\"\n  149.853,160.202 168.751,160.202 \n  \"/>\n<path clip-path=\"url(#clip540)\" d=\"M89.9086 1050.44 Q86.2975 1050.44 84.4688 1054.01 Q82.6632 1057.55 82.6632 1064.68 Q82.6632 1071.79 84.4688 1075.35 Q86.2975 1078.89 89.9086 1078.89 Q93.5428 1078.89 95.3483 1075.35 Q97.177 1071.79 97.177 1064.68 Q97.177 1057.55 95.3483 1054.01 Q93.5428 1050.44 89.9086 1050.44 M89.9086 1046.74 Q95.7187 1046.74 98.7743 1051.35 Q101.853 1055.93 101.853 1064.68 Q101.853 1073.41 98.7743 1078.01 Q95.7187 1082.6 89.9086 1082.6 Q84.0984 1082.6 81.0197 1078.01 Q77.9642 1073.41 77.9642 1064.68 Q77.9642 1055.93 81.0197 1051.35 Q84.0984 1046.74 89.9086 1046.74 Z\" fill=\"#000000\" fill-rule=\"evenodd\" fill-opacity=\"1\" /><path clip-path=\"url(#clip540)\" d=\"M50.5569 897.102 L58.1958 897.102 L58.1958 870.736 L49.8856 872.403 L49.8856 868.144 L58.1495 866.477 L62.8254 866.477 L62.8254 897.102 L70.4642 897.102 L70.4642 901.037 L50.5569 901.037 L50.5569 897.102 Z\" fill=\"#000000\" fill-rule=\"evenodd\" fill-opacity=\"1\" /><path clip-path=\"url(#clip540)\" d=\"M89.9086 869.556 Q86.2975 869.556 84.4688 873.121 Q82.6632 876.662 82.6632 883.792 Q82.6632 890.898 84.4688 894.463 Q86.2975 898.005 89.9086 898.005 Q93.5428 898.005 95.3483 894.463 Q97.177 890.898 97.177 883.792 Q97.177 876.662 95.3483 873.121 Q93.5428 869.556 89.9086 869.556 M89.9086 865.852 Q95.7187 865.852 98.7743 870.459 Q101.853 875.042 101.853 883.792 Q101.853 892.519 98.7743 897.125 Q95.7187 901.708 89.9086 901.708 Q84.0984 901.708 81.0197 897.125 Q77.9642 892.519 77.9642 883.792 Q77.9642 875.042 81.0197 870.459 Q84.0984 865.852 89.9086 865.852 Z\" fill=\"#000000\" fill-rule=\"evenodd\" fill-opacity=\"1\" /><path clip-path=\"url(#clip540)\" d=\"M53.7745 716.213 L70.0939 716.213 L70.0939 720.148 L48.1495 720.148 L48.1495 716.213 Q50.8115 713.459 55.3949 708.829 Q60.0013 704.176 61.1819 702.834 Q63.4272 700.311 64.3068 698.574 Q65.2096 696.815 65.2096 695.125 Q65.2096 692.371 63.2652 690.635 Q61.3439 688.899 58.2421 688.899 Q56.043 688.899 53.5893 689.662 Q51.1588 690.426 48.381 691.977 L48.381 687.255 Q51.2051 686.121 53.6588 685.542 Q56.1124 684.963 58.1495 684.963 Q63.5198 684.963 66.7142 687.649 Q69.9087 690.334 69.9087 694.824 Q69.9087 696.954 69.0985 698.875 Q68.3115 700.773 66.205 703.366 Q65.6263 704.037 62.5245 707.255 Q59.4226 710.449 53.7745 716.213 Z\" fill=\"#000000\" fill-rule=\"evenodd\" fill-opacity=\"1\" /><path clip-path=\"url(#clip540)\" d=\"M89.9086 688.667 Q86.2975 688.667 84.4688 692.232 Q82.6632 695.774 82.6632 702.903 Q82.6632 710.01 84.4688 713.574 Q86.2975 717.116 89.9086 717.116 Q93.5428 717.116 95.3483 713.574 Q97.177 710.01 97.177 702.903 Q97.177 695.774 95.3483 692.232 Q93.5428 688.667 89.9086 688.667 M89.9086 684.963 Q95.7187 684.963 98.7743 689.57 Q101.853 694.153 101.853 702.903 Q101.853 711.63 98.7743 716.236 Q95.7187 720.82 89.9086 720.82 Q84.0984 720.82 81.0197 716.236 Q77.9642 711.63 77.9642 702.903 Q77.9642 694.153 81.0197 689.57 Q84.0984 684.963 89.9086 684.963 Z\" fill=\"#000000\" fill-rule=\"evenodd\" fill-opacity=\"1\" /><path clip-path=\"url(#clip540)\" d=\"M63.9133 520.626 Q67.2698 521.343 69.1448 523.612 Q71.0429 525.88 71.0429 529.213 Q71.0429 534.329 67.5244 537.13 Q64.0059 539.931 57.5245 539.931 Q55.3486 539.931 53.0338 539.491 Q50.7421 539.075 48.2884 538.218 L48.2884 533.704 Q50.2328 534.838 52.5477 535.417 Q54.8625 535.996 57.3856 535.996 Q61.7837 535.996 64.0754 534.26 Q66.3902 532.524 66.3902 529.213 Q66.3902 526.158 64.2374 524.445 Q62.1078 522.709 58.2884 522.709 L54.2606 522.709 L54.2606 518.866 L58.4735 518.866 Q61.9226 518.866 63.7513 517.501 Q65.58 516.112 65.58 513.519 Q65.58 510.857 63.6819 509.445 Q61.8069 508.01 58.2884 508.01 Q56.3671 508.01 54.168 508.427 Q51.969 508.843 49.3301 509.723 L49.3301 505.556 Q51.9921 504.815 54.3069 504.445 Q56.6449 504.075 58.705 504.075 Q64.0291 504.075 67.1309 506.505 Q70.2327 508.913 70.2327 513.033 Q70.2327 515.903 68.5892 517.894 Q66.9457 519.862 63.9133 520.626 Z\" fill=\"#000000\" fill-rule=\"evenodd\" fill-opacity=\"1\" /><path clip-path=\"url(#clip540)\" d=\"M89.9086 507.778 Q86.2975 507.778 84.4688 511.343 Q82.6632 514.885 82.6632 522.014 Q82.6632 529.121 84.4688 532.686 Q86.2975 536.227 89.9086 536.227 Q93.5428 536.227 95.3483 532.686 Q97.177 529.121 97.177 522.014 Q97.177 514.885 95.3483 511.343 Q93.5428 507.778 89.9086 507.778 M89.9086 504.075 Q95.7187 504.075 98.7743 508.681 Q101.853 513.264 101.853 522.014 Q101.853 530.741 98.7743 535.348 Q95.7187 539.931 89.9086 539.931 Q84.0984 539.931 81.0197 535.348 Q77.9642 530.741 77.9642 522.014 Q77.9642 513.264 81.0197 508.681 Q84.0984 504.075 89.9086 504.075 Z\" fill=\"#000000\" fill-rule=\"evenodd\" fill-opacity=\"1\" /><path clip-path=\"url(#clip540)\" d=\"M62.5939 327.885 L50.7884 346.334 L62.5939 346.334 L62.5939 327.885 M61.367 323.811 L67.2466 323.811 L67.2466 346.334 L72.1772 346.334 L72.1772 350.223 L67.2466 350.223 L67.2466 358.371 L62.5939 358.371 L62.5939 350.223 L46.9921 350.223 L46.9921 345.709 L61.367 323.811 Z\" fill=\"#000000\" fill-rule=\"evenodd\" fill-opacity=\"1\" /><path clip-path=\"url(#clip540)\" d=\"M89.9086 326.89 Q86.2975 326.89 84.4688 330.455 Q82.6632 333.996 82.6632 341.126 Q82.6632 348.232 84.4688 351.797 Q86.2975 355.339 89.9086 355.339 Q93.5428 355.339 95.3483 351.797 Q97.177 348.232 97.177 341.126 Q97.177 333.996 95.3483 330.455 Q93.5428 326.89 89.9086 326.89 M89.9086 323.186 Q95.7187 323.186 98.7743 327.792 Q101.853 332.376 101.853 341.126 Q101.853 349.853 98.7743 354.459 Q95.7187 359.042 89.9086 359.042 Q84.0984 359.042 81.0197 354.459 Q77.9642 349.853 77.9642 341.126 Q77.9642 332.376 81.0197 327.792 Q84.0984 323.186 89.9086 323.186 Z\" fill=\"#000000\" fill-rule=\"evenodd\" fill-opacity=\"1\" /><path clip-path=\"url(#clip540)\" d=\"M49.793 142.922 L68.1494 142.922 L68.1494 146.858 L54.0754 146.858 L54.0754 155.33 Q55.0939 154.982 56.1124 154.82 Q57.131 154.635 58.1495 154.635 Q63.9365 154.635 67.3161 157.807 Q70.6957 160.978 70.6957 166.394 Q70.6957 171.973 67.2235 175.075 Q63.7513 178.154 57.4319 178.154 Q55.256 178.154 52.9875 177.783 Q50.7421 177.413 48.3347 176.672 L48.3347 171.973 Q50.418 173.107 52.6402 173.663 Q54.8625 174.218 57.3393 174.218 Q61.3439 174.218 63.6819 172.112 Q66.0198 170.006 66.0198 166.394 Q66.0198 162.783 63.6819 160.677 Q61.3439 158.57 57.3393 158.57 Q55.4643 158.57 53.5893 158.987 Q51.7375 159.404 49.793 160.283 L49.793 142.922 Z\" fill=\"#000000\" fill-rule=\"evenodd\" fill-opacity=\"1\" /><path clip-path=\"url(#clip540)\" d=\"M89.9086 146.001 Q86.2975 146.001 84.4688 149.566 Q82.6632 153.107 82.6632 160.237 Q82.6632 167.344 84.4688 170.908 Q86.2975 174.45 89.9086 174.45 Q93.5428 174.45 95.3483 170.908 Q97.177 167.344 97.177 160.237 Q97.177 153.107 95.3483 149.566 Q93.5428 146.001 89.9086 146.001 M89.9086 142.297 Q95.7187 142.297 98.7743 146.904 Q101.853 151.487 101.853 160.237 Q101.853 168.964 98.7743 173.57 Q95.7187 178.154 89.9086 178.154 Q84.0984 178.154 81.0197 173.57 Q77.9642 168.964 77.9642 160.237 Q77.9642 151.487 81.0197 146.904 Q84.0984 142.297 89.9086 142.297 Z\" fill=\"#000000\" fill-rule=\"evenodd\" fill-opacity=\"1\" /><polyline clip-path=\"url(#clip542)\" style=\"stroke:#ff0000; stroke-linecap:round; stroke-linejoin:round; stroke-width:4; stroke-opacity:1; fill:none\" points=\"\n  189.131,1046.56 215.851,1028.47 242.57,1010.38 269.29,992.29 296.01,974.201 322.73,956.113 349.449,938.024 376.169,919.935 402.889,901.846 429.608,883.757 \n  456.328,865.668 483.048,847.579 509.768,829.49 536.487,811.402 563.207,793.313 589.927,775.224 616.646,757.135 643.366,739.046 670.086,720.957 696.806,702.868 \n  723.525,684.78 750.245,666.691 776.965,648.602 803.684,630.513 830.404,612.424 857.124,594.335 883.844,576.246 910.563,558.157 937.283,540.069 964.003,521.98 \n  990.722,503.891 1017.44,485.802 1044.16,467.713 1070.88,449.624 1097.6,431.535 1124.32,413.447 1151.04,395.358 1177.76,377.269 1204.48,359.18 1231.2,341.091 \n  1257.92,323.002 1284.64,304.913 1311.36,286.824 1338.08,268.736 1364.8,250.647 1391.52,232.558 1418.24,214.469 1444.96,196.38 1471.68,178.291 1498.4,160.202 \n  \n  \"/>\n<path clip-path=\"url(#clip542)\" d=\"\nM189.131 1075.62 L215.851 1045.12 L242.57 1031.8 L269.29 1024.04 L296.01 1014.84 L322.73 1000.07 L349.449 975.455 L376.169 960.824 L402.889 944.041 L429.608 930.409 \n  L456.328 917.741 L483.048 902.921 L509.768 884.072 L536.487 859.246 L563.207 837.743 L589.927 821.898 L616.646 809.89 L643.366 796.788 L670.086 781.957 L696.806 765.346 \n  L723.525 746.258 L750.245 723.781 L776.965 707.101 L803.684 688.312 L830.404 667.957 L857.124 649.506 L883.844 639.75 L910.563 623.243 L937.283 596.411 L964.003 572.921 \n  L990.722 556.231 L1017.44 537.981 L1044.16 519.725 L1070.88 501.455 L1097.6 487.68 L1124.32 473.553 L1151.04 458.06 L1177.76 441.972 L1204.48 423.015 L1231.2 404.362 \n  L1257.92 388.417 L1284.64 371.602 L1311.36 354.053 L1338.08 336.186 L1364.8 320.417 L1391.52 304.182 L1418.24 289.356 L1444.96 272.925 L1471.68 257.743 L1498.4 242.369 \n  L1498.4 77.1967 L1471.68 97.5017 L1444.96 117.584 L1418.24 138.433 L1391.52 158.537 L1364.8 179.198 L1338.08 199.705 L1311.36 221.378 L1284.64 242.609 L1257.92 263.008 \n  L1231.2 282.358 L1204.48 303.553 L1177.76 324.637 L1151.04 343.13 L1124.32 360.762 L1097.6 376.854 L1070.88 392.686 L1044.16 412.251 L1017.44 431.923 L990.722 451.446 \n  L964.003 469.83 L937.283 494.231 L910.563 521.56 L883.844 539.319 L857.124 550.757 L830.404 569.989 L803.684 591.053 L776.965 610.812 L750.245 628.525 L723.525 651.547 \n  L696.806 671.393 L670.086 688.68 L643.366 704.156 L616.646 717.921 L589.927 730.669 L563.207 747.151 L536.487 769.256 L509.768 794.527 L483.048 814.035 L456.328 829.434 \n  L429.608 842.693 L402.889 856.844 L376.169 873.999 L349.449 889.271 L322.73 914.093 L296.01 929.315 L269.29 939.027 L242.57 947.48 L215.851 962.246 L189.131 997.114 \n   Z\n  \" fill=\"#0000ff\" fill-rule=\"evenodd\" fill-opacity=\"0.5\"/>\n<polyline clip-path=\"url(#clip542)\" style=\"stroke:#0000ff; stroke-linecap:round; stroke-linejoin:round; stroke-width:4; stroke-opacity:1; fill:none\" points=\"\n  189.131,1036.36 215.851,1003.68 242.57,989.638 269.29,981.534 296.01,972.076 322.73,957.081 349.449,932.363 376.169,917.412 402.889,900.442 429.608,886.551 \n  456.328,873.588 483.048,858.478 509.768,839.3 536.487,814.251 563.207,792.447 589.927,776.284 616.646,763.905 643.366,750.472 670.086,735.319 696.806,718.369 \n  723.525,698.903 750.245,676.153 776.965,658.957 803.684,639.683 830.404,618.973 857.124,600.132 883.844,589.534 910.563,572.402 937.283,545.321 964.003,521.375 \n  990.722,503.838 1017.44,484.952 1044.16,465.988 1070.88,447.071 1097.6,432.267 1124.32,417.158 1151.04,400.595 1177.76,383.305 1204.48,363.284 1231.2,343.36 \n  1257.92,325.712 1284.64,307.105 1311.36,287.716 1338.08,267.945 1364.8,249.808 1391.52,231.359 1418.24,213.894 1444.96,195.254 1471.68,177.622 1498.4,159.783 \n  \n  \"/>\n<path clip-path=\"url(#clip540)\" d=\"\nM196.114 238.042 L736.009 238.042 L736.009 82.5216 L196.114 82.5216  Z\n  \" fill=\"#ffffff\" fill-rule=\"evenodd\" fill-opacity=\"1\"/>\n<polyline clip-path=\"url(#clip540)\" style=\"stroke:#000000; stroke-linecap:round; stroke-linejoin:round; stroke-width:4; stroke-opacity:1; fill:none\" points=\"\n  196.114,238.042 736.009,238.042 736.009,82.5216 196.114,82.5216 196.114,238.042 \n  \"/>\n<polyline clip-path=\"url(#clip540)\" style=\"stroke:#ff0000; stroke-linecap:round; stroke-linejoin:round; stroke-width:4; stroke-opacity:1; fill:none\" points=\"\n  211.534,134.362 304.055,134.362 \n  \"/>\n<path clip-path=\"url(#clip540)\" d=\"M319.476 117.082 L324.152 117.082 L324.152 131.248 L341.142 131.248 L341.142 117.082 L345.818 117.082 L345.818 151.642 L341.142 151.642 L341.142 135.183 L324.152 135.183 L324.152 151.642 L319.476 151.642 L319.476 117.082 Z\" fill=\"#000000\" fill-rule=\"evenodd\" fill-opacity=\"1\" /><path clip-path=\"url(#clip540)\" d=\"M354.938 125.716 L359.198 125.716 L359.198 151.642 L354.938 151.642 L354.938 125.716 M354.938 115.623 L359.198 115.623 L359.198 121.017 L354.938 121.017 L354.938 115.623 Z\" fill=\"#000000\" fill-rule=\"evenodd\" fill-opacity=\"1\" /><path clip-path=\"url(#clip540)\" d=\"M385.17 129.651 L385.17 115.623 L389.429 115.623 L389.429 151.642 L385.17 151.642 L385.17 147.753 Q383.827 150.067 381.767 151.202 Q379.73 152.313 376.86 152.313 Q372.161 152.313 369.198 148.563 Q366.258 144.813 366.258 138.702 Q366.258 132.591 369.198 128.841 Q372.161 125.091 376.86 125.091 Q379.73 125.091 381.767 126.225 Q383.827 127.336 385.17 129.651 M370.656 138.702 Q370.656 143.401 372.577 146.086 Q374.522 148.748 377.901 148.748 Q381.281 148.748 383.225 146.086 Q385.17 143.401 385.17 138.702 Q385.17 134.003 383.225 131.341 Q381.281 128.656 377.901 128.656 Q374.522 128.656 372.577 131.341 Q370.656 134.003 370.656 138.702 Z\" fill=\"#000000\" fill-rule=\"evenodd\" fill-opacity=\"1\" /><path clip-path=\"url(#clip540)\" d=\"M415.262 129.651 L415.262 115.623 L419.521 115.623 L419.521 151.642 L415.262 151.642 L415.262 147.753 Q413.92 150.067 411.859 151.202 Q409.822 152.313 406.952 152.313 Q402.253 152.313 399.29 148.563 Q396.35 144.813 396.35 138.702 Q396.35 132.591 399.29 128.841 Q402.253 125.091 406.952 125.091 Q409.822 125.091 411.859 126.225 Q413.92 127.336 415.262 129.651 M400.748 138.702 Q400.748 143.401 402.67 146.086 Q404.614 148.748 407.994 148.748 Q411.373 148.748 413.318 146.086 Q415.262 143.401 415.262 138.702 Q415.262 134.003 413.318 131.341 Q411.373 128.656 407.994 128.656 Q404.614 128.656 402.67 131.341 Q400.748 134.003 400.748 138.702 Z\" fill=\"#000000\" fill-rule=\"evenodd\" fill-opacity=\"1\" /><path clip-path=\"url(#clip540)\" d=\"M450.47 137.614 L450.47 139.697 L430.887 139.697 Q431.165 144.095 433.526 146.41 Q435.91 148.702 440.146 148.702 Q442.6 148.702 444.892 148.1 Q447.206 147.498 449.475 146.294 L449.475 150.322 Q447.183 151.294 444.776 151.804 Q442.368 152.313 439.892 152.313 Q433.688 152.313 430.054 148.702 Q426.443 145.091 426.443 138.933 Q426.443 132.568 429.869 128.841 Q433.318 125.091 439.151 125.091 Q444.382 125.091 447.415 128.47 Q450.47 131.827 450.47 137.614 M446.211 136.364 Q446.165 132.869 444.243 130.785 Q442.345 128.702 439.197 128.702 Q435.632 128.702 433.48 130.716 Q431.35 132.73 431.026 136.387 L446.211 136.364 Z\" fill=\"#000000\" fill-rule=\"evenodd\" fill-opacity=\"1\" /><path clip-path=\"url(#clip540)\" d=\"M479.012 135.993 L479.012 151.642 L474.753 151.642 L474.753 136.132 Q474.753 132.452 473.317 130.623 Q471.882 128.794 469.012 128.794 Q465.563 128.794 463.572 130.994 Q461.581 133.193 461.581 136.989 L461.581 151.642 L457.299 151.642 L457.299 125.716 L461.581 125.716 L461.581 129.744 Q463.109 127.406 465.169 126.248 Q467.253 125.091 469.961 125.091 Q474.429 125.091 476.72 127.869 Q479.012 130.623 479.012 135.993 Z\" fill=\"#000000\" fill-rule=\"evenodd\" fill-opacity=\"1\" /><path clip-path=\"url(#clip540)\" d=\"M523.479 118.216 L523.479 122.776 Q520.817 121.503 518.456 120.878 Q516.095 120.253 513.896 120.253 Q510.076 120.253 507.993 121.734 Q505.933 123.216 505.933 125.947 Q505.933 128.239 507.299 129.419 Q508.688 130.577 512.53 131.294 L515.354 131.873 Q520.586 132.869 523.063 135.392 Q525.562 137.892 525.562 142.105 Q525.562 147.128 522.183 149.72 Q518.826 152.313 512.322 152.313 Q509.868 152.313 507.09 151.757 Q504.336 151.202 501.373 150.114 L501.373 145.299 Q504.22 146.896 506.951 147.706 Q509.683 148.517 512.322 148.517 Q516.326 148.517 518.502 146.943 Q520.678 145.368 520.678 142.452 Q520.678 139.906 519.104 138.47 Q517.553 137.035 513.988 136.318 L511.141 135.762 Q505.91 134.72 503.572 132.498 Q501.234 130.276 501.234 126.318 Q501.234 121.734 504.451 119.095 Q507.692 116.457 513.363 116.457 Q515.794 116.457 518.317 116.896 Q520.84 117.336 523.479 118.216 Z\" fill=\"#000000\" fill-rule=\"evenodd\" fill-opacity=\"1\" /><path clip-path=\"url(#clip540)\" d=\"M532.669 125.716 L536.928 125.716 L536.928 151.642 L532.669 151.642 L532.669 125.716 M532.669 115.623 L536.928 115.623 L536.928 121.017 L532.669 121.017 L532.669 115.623 Z\" fill=\"#000000\" fill-rule=\"evenodd\" fill-opacity=\"1\" /><path clip-path=\"url(#clip540)\" d=\"M562.9 138.378 Q562.9 133.748 560.979 131.202 Q559.081 128.656 555.632 128.656 Q552.206 128.656 550.285 131.202 Q548.386 133.748 548.386 138.378 Q548.386 142.984 550.285 145.53 Q552.206 148.077 555.632 148.077 Q559.081 148.077 560.979 145.53 Q562.9 142.984 562.9 138.378 M567.159 148.424 Q567.159 155.044 564.22 158.262 Q561.28 161.503 555.215 161.503 Q552.97 161.503 550.979 161.155 Q548.988 160.831 547.113 160.137 L547.113 155.993 Q548.988 157.012 550.817 157.498 Q552.646 157.984 554.544 157.984 Q558.734 157.984 560.817 155.785 Q562.9 153.609 562.9 149.188 L562.9 147.081 Q561.581 149.373 559.521 150.507 Q557.46 151.642 554.59 151.642 Q549.822 151.642 546.905 148.007 Q543.988 144.373 543.988 138.378 Q543.988 132.359 546.905 128.725 Q549.822 125.091 554.59 125.091 Q557.46 125.091 559.521 126.225 Q561.581 127.359 562.9 129.651 L562.9 125.716 L567.159 125.716 L567.159 148.424 Z\" fill=\"#000000\" fill-rule=\"evenodd\" fill-opacity=\"1\" /><path clip-path=\"url(#clip540)\" d=\"M597.483 135.993 L597.483 151.642 L593.224 151.642 L593.224 136.132 Q593.224 132.452 591.789 130.623 Q590.354 128.794 587.483 128.794 Q584.034 128.794 582.044 130.994 Q580.053 133.193 580.053 136.989 L580.053 151.642 L575.771 151.642 L575.771 125.716 L580.053 125.716 L580.053 129.744 Q581.581 127.406 583.641 126.248 Q585.724 125.091 588.433 125.091 Q592.9 125.091 595.192 127.869 Q597.483 130.623 597.483 135.993 Z\" fill=\"#000000\" fill-rule=\"evenodd\" fill-opacity=\"1\" /><path clip-path=\"url(#clip540)\" d=\"M617.761 138.609 Q612.599 138.609 610.608 139.79 Q608.618 140.97 608.618 143.818 Q608.618 146.086 610.099 147.429 Q611.604 148.748 614.173 148.748 Q617.715 148.748 619.844 146.248 Q621.997 143.725 621.997 139.558 L621.997 138.609 L617.761 138.609 M626.256 136.85 L626.256 151.642 L621.997 151.642 L621.997 147.706 Q620.539 150.067 618.363 151.202 Q616.187 152.313 613.039 152.313 Q609.057 152.313 606.696 150.091 Q604.358 147.845 604.358 144.095 Q604.358 139.72 607.275 137.498 Q610.215 135.276 616.025 135.276 L621.997 135.276 L621.997 134.859 Q621.997 131.919 620.053 130.322 Q618.131 128.702 614.636 128.702 Q612.414 128.702 610.307 129.234 Q608.201 129.767 606.257 130.831 L606.257 126.896 Q608.594 125.994 610.794 125.554 Q612.993 125.091 615.076 125.091 Q620.701 125.091 623.479 128.007 Q626.256 130.924 626.256 136.85 Z\" fill=\"#000000\" fill-rule=\"evenodd\" fill-opacity=\"1\" /><path clip-path=\"url(#clip540)\" d=\"M635.029 115.623 L639.289 115.623 L639.289 151.642 L635.029 151.642 L635.029 115.623 Z\" fill=\"#000000\" fill-rule=\"evenodd\" fill-opacity=\"1\" /><polyline clip-path=\"url(#clip540)\" style=\"stroke:#0000ff; stroke-linecap:round; stroke-linejoin:round; stroke-width:4; stroke-opacity:1; fill:none\" points=\"\n  211.534,186.202 304.055,186.202 \n  \"/>\n<path clip-path=\"url(#clip540)\" d=\"M319.476 168.922 L341.327 168.922 L341.327 172.857 L324.152 172.857 L324.152 183.088 L340.61 183.088 L340.61 187.023 L324.152 187.023 L324.152 199.546 L341.744 199.546 L341.744 203.482 L319.476 203.482 L319.476 168.922 Z\" fill=\"#000000\" fill-rule=\"evenodd\" fill-opacity=\"1\" /><path clip-path=\"url(#clip540)\" d=\"M365.772 178.32 L365.772 182.347 Q363.966 181.421 362.022 180.959 Q360.077 180.496 357.994 180.496 Q354.823 180.496 353.225 181.468 Q351.651 182.44 351.651 184.384 Q351.651 185.866 352.786 186.722 Q353.92 187.556 357.346 188.32 L358.804 188.644 Q363.341 189.616 365.239 191.398 Q367.161 193.158 367.161 196.329 Q367.161 199.94 364.29 202.046 Q361.443 204.153 356.443 204.153 Q354.36 204.153 352.091 203.736 Q349.846 203.343 347.346 202.532 L347.346 198.134 Q349.707 199.361 351.999 199.986 Q354.29 200.588 356.536 200.588 Q359.545 200.588 361.165 199.57 Q362.786 198.528 362.786 196.653 Q362.786 194.917 361.605 193.991 Q360.448 193.065 356.489 192.208 L355.008 191.861 Q351.05 191.028 349.29 189.315 Q347.531 187.579 347.531 184.57 Q347.531 180.912 350.124 178.922 Q352.716 176.931 357.485 176.931 Q359.846 176.931 361.929 177.278 Q364.012 177.625 365.772 178.32 Z\" fill=\"#000000\" fill-rule=\"evenodd\" fill-opacity=\"1\" /><path clip-path=\"url(#clip540)\" d=\"M378.156 170.195 L378.156 177.556 L386.929 177.556 L386.929 180.866 L378.156 180.866 L378.156 194.94 Q378.156 198.111 379.012 199.014 Q379.892 199.917 382.554 199.917 L386.929 199.917 L386.929 203.482 L382.554 203.482 Q377.623 203.482 375.748 201.653 Q373.873 199.801 373.873 194.94 L373.873 180.866 L370.749 180.866 L370.749 177.556 L373.873 177.556 L373.873 170.195 L378.156 170.195 Z\" fill=\"#000000\" fill-rule=\"evenodd\" fill-opacity=\"1\" /><path clip-path=\"url(#clip540)\" d=\"M392.531 177.556 L396.79 177.556 L396.79 203.482 L392.531 203.482 L392.531 177.556 M392.531 167.463 L396.79 167.463 L396.79 172.857 L392.531 172.857 L392.531 167.463 Z\" fill=\"#000000\" fill-rule=\"evenodd\" fill-opacity=\"1\" /><path clip-path=\"url(#clip540)\" d=\"M425.887 182.533 Q427.484 179.662 429.707 178.297 Q431.929 176.931 434.938 176.931 Q438.989 176.931 441.188 179.778 Q443.387 182.602 443.387 187.833 L443.387 203.482 L439.105 203.482 L439.105 187.972 Q439.105 184.246 437.785 182.44 Q436.466 180.634 433.757 180.634 Q430.447 180.634 428.526 182.834 Q426.605 185.033 426.605 188.829 L426.605 203.482 L422.322 203.482 L422.322 187.972 Q422.322 184.222 421.003 182.44 Q419.683 180.634 416.929 180.634 Q413.665 180.634 411.744 182.857 Q409.822 185.056 409.822 188.829 L409.822 203.482 L405.54 203.482 L405.54 177.556 L409.822 177.556 L409.822 181.584 Q411.281 179.199 413.318 178.065 Q415.355 176.931 418.156 176.931 Q420.98 176.931 422.947 178.366 Q424.938 179.801 425.887 182.533 Z\" fill=\"#000000\" fill-rule=\"evenodd\" fill-opacity=\"1\" /><path clip-path=\"url(#clip540)\" d=\"M463.665 190.449 Q458.503 190.449 456.512 191.63 Q454.521 192.81 454.521 195.658 Q454.521 197.926 456.003 199.269 Q457.507 200.588 460.077 200.588 Q463.618 200.588 465.748 198.088 Q467.901 195.565 467.901 191.398 L467.901 190.449 L463.665 190.449 M472.16 188.69 L472.16 203.482 L467.901 203.482 L467.901 199.546 Q466.442 201.907 464.267 203.042 Q462.091 204.153 458.942 204.153 Q454.961 204.153 452.6 201.931 Q450.262 199.685 450.262 195.935 Q450.262 191.56 453.179 189.338 Q456.118 187.116 461.929 187.116 L467.901 187.116 L467.901 186.699 Q467.901 183.759 465.956 182.162 Q464.035 180.542 460.54 180.542 Q458.317 180.542 456.211 181.074 Q454.105 181.607 452.16 182.671 L452.16 178.736 Q454.498 177.834 456.697 177.394 Q458.896 176.931 460.98 176.931 Q466.604 176.931 469.382 179.847 Q472.16 182.764 472.16 188.69 Z\" fill=\"#000000\" fill-rule=\"evenodd\" fill-opacity=\"1\" /><path clip-path=\"url(#clip540)\" d=\"M485.146 170.195 L485.146 177.556 L493.919 177.556 L493.919 180.866 L485.146 180.866 L485.146 194.94 Q485.146 198.111 486.003 199.014 Q486.882 199.917 489.544 199.917 L493.919 199.917 L493.919 203.482 L489.544 203.482 Q484.614 203.482 482.739 201.653 Q480.864 199.801 480.864 194.94 L480.864 180.866 L477.739 180.866 L477.739 177.556 L480.864 177.556 L480.864 170.195 L485.146 170.195 Z\" fill=\"#000000\" fill-rule=\"evenodd\" fill-opacity=\"1\" /><path clip-path=\"url(#clip540)\" d=\"M521.697 189.454 L521.697 191.537 L502.114 191.537 Q502.391 195.935 504.752 198.25 Q507.137 200.542 511.373 200.542 Q513.826 200.542 516.118 199.94 Q518.433 199.338 520.701 198.134 L520.701 202.162 Q518.41 203.134 516.002 203.644 Q513.595 204.153 511.118 204.153 Q504.914 204.153 501.28 200.542 Q497.669 196.931 497.669 190.773 Q497.669 184.408 501.095 180.681 Q504.544 176.931 510.377 176.931 Q515.609 176.931 518.641 180.31 Q521.697 183.667 521.697 189.454 M517.438 188.204 Q517.391 184.709 515.47 182.625 Q513.572 180.542 510.424 180.542 Q506.859 180.542 504.706 182.556 Q502.577 184.57 502.252 188.227 L517.438 188.204 Z\" fill=\"#000000\" fill-rule=\"evenodd\" fill-opacity=\"1\" /><path clip-path=\"url(#clip540)\" d=\"M545.748 181.491 L545.748 167.463 L550.007 167.463 L550.007 203.482 L545.748 203.482 L545.748 199.593 Q544.405 201.907 542.345 203.042 Q540.308 204.153 537.437 204.153 Q532.738 204.153 529.775 200.403 Q526.836 196.653 526.836 190.542 Q526.836 184.431 529.775 180.681 Q532.738 176.931 537.437 176.931 Q540.308 176.931 542.345 178.065 Q544.405 179.176 545.748 181.491 M531.234 190.542 Q531.234 195.241 533.155 197.926 Q535.099 200.588 538.479 200.588 Q541.859 200.588 543.803 197.926 Q545.748 195.241 545.748 190.542 Q545.748 185.843 543.803 183.181 Q541.859 180.496 538.479 180.496 Q535.099 180.496 533.155 183.181 Q531.234 185.843 531.234 190.542 Z\" fill=\"#000000\" fill-rule=\"evenodd\" fill-opacity=\"1\" /><path clip-path=\"url(#clip540)\" d=\"M590.377 178.32 L590.377 182.347 Q588.571 181.421 586.627 180.959 Q584.683 180.496 582.599 180.496 Q579.428 180.496 577.831 181.468 Q576.257 182.44 576.257 184.384 Q576.257 185.866 577.391 186.722 Q578.525 187.556 581.951 188.32 L583.409 188.644 Q587.946 189.616 589.845 191.398 Q591.766 193.158 591.766 196.329 Q591.766 199.94 588.895 202.046 Q586.048 204.153 581.048 204.153 Q578.965 204.153 576.696 203.736 Q574.451 203.343 571.951 202.532 L571.951 198.134 Q574.312 199.361 576.604 199.986 Q578.896 200.588 581.141 200.588 Q584.15 200.588 585.771 199.57 Q587.391 198.528 587.391 196.653 Q587.391 194.917 586.21 193.991 Q585.053 193.065 581.095 192.208 L579.613 191.861 Q575.655 191.028 573.896 189.315 Q572.136 187.579 572.136 184.57 Q572.136 180.912 574.729 178.922 Q577.321 176.931 582.09 176.931 Q584.451 176.931 586.534 177.278 Q588.618 177.625 590.377 178.32 Z\" fill=\"#000000\" fill-rule=\"evenodd\" fill-opacity=\"1\" /><path clip-path=\"url(#clip540)\" d=\"M598.548 177.556 L602.807 177.556 L602.807 203.482 L598.548 203.482 L598.548 177.556 M598.548 167.463 L602.807 167.463 L602.807 172.857 L598.548 172.857 L598.548 167.463 Z\" fill=\"#000000\" fill-rule=\"evenodd\" fill-opacity=\"1\" /><path clip-path=\"url(#clip540)\" d=\"M628.78 190.218 Q628.78 185.588 626.858 183.042 Q624.96 180.496 621.511 180.496 Q618.085 180.496 616.164 183.042 Q614.266 185.588 614.266 190.218 Q614.266 194.824 616.164 197.37 Q618.085 199.917 621.511 199.917 Q624.96 199.917 626.858 197.37 Q628.78 194.824 628.78 190.218 M633.039 200.264 Q633.039 206.884 630.099 210.102 Q627.159 213.343 621.094 213.343 Q618.849 213.343 616.858 212.995 Q614.868 212.671 612.993 211.977 L612.993 207.833 Q614.868 208.852 616.696 209.338 Q618.525 209.824 620.423 209.824 Q624.613 209.824 626.696 207.625 Q628.78 205.449 628.78 201.028 L628.78 198.921 Q627.46 201.213 625.4 202.347 Q623.34 203.482 620.469 203.482 Q615.701 203.482 612.784 199.847 Q609.868 196.213 609.868 190.218 Q609.868 184.199 612.784 180.565 Q615.701 176.931 620.469 176.931 Q623.34 176.931 625.4 178.065 Q627.46 179.199 628.78 181.491 L628.78 177.556 L633.039 177.556 L633.039 200.264 Z\" fill=\"#000000\" fill-rule=\"evenodd\" fill-opacity=\"1\" /><path clip-path=\"url(#clip540)\" d=\"M663.363 187.833 L663.363 203.482 L659.103 203.482 L659.103 187.972 Q659.103 184.292 657.668 182.463 Q656.233 180.634 653.363 180.634 Q649.914 180.634 647.923 182.834 Q645.932 185.033 645.932 188.829 L645.932 203.482 L641.65 203.482 L641.65 177.556 L645.932 177.556 L645.932 181.584 Q647.46 179.246 649.52 178.088 Q651.603 176.931 654.312 176.931 Q658.779 176.931 661.071 179.709 Q663.363 182.463 663.363 187.833 Z\" fill=\"#000000\" fill-rule=\"evenodd\" fill-opacity=\"1\" /><path clip-path=\"url(#clip540)\" d=\"M683.64 190.449 Q678.478 190.449 676.488 191.63 Q674.497 192.81 674.497 195.658 Q674.497 197.926 675.978 199.269 Q677.483 200.588 680.052 200.588 Q683.594 200.588 685.724 198.088 Q687.876 195.565 687.876 191.398 L687.876 190.449 L683.64 190.449 M692.136 188.69 L692.136 203.482 L687.876 203.482 L687.876 199.546 Q686.418 201.907 684.242 203.042 Q682.066 204.153 678.918 204.153 Q674.937 204.153 672.576 201.931 Q670.238 199.685 670.238 195.935 Q670.238 191.56 673.154 189.338 Q676.094 187.116 681.904 187.116 L687.876 187.116 L687.876 186.699 Q687.876 183.759 685.932 182.162 Q684.011 180.542 680.515 180.542 Q678.293 180.542 676.187 181.074 Q674.08 181.607 672.136 182.671 L672.136 178.736 Q674.474 177.834 676.673 177.394 Q678.872 176.931 680.955 176.931 Q686.58 176.931 689.358 179.847 Q692.136 182.764 692.136 188.69 Z\" fill=\"#000000\" fill-rule=\"evenodd\" fill-opacity=\"1\" /><path clip-path=\"url(#clip540)\" d=\"M700.909 167.463 L705.168 167.463 L705.168 203.482 L700.909 203.482 L700.909 167.463 Z\" fill=\"#000000\" fill-rule=\"evenodd\" fill-opacity=\"1\" /><path clip-path=\"url(#clip540)\" d=\"\nM1764.93 1105.57 L3152.76 1105.57 L3152.76 47.2441 L1764.93 47.2441  Z\n  \" fill=\"#ffffff\" fill-rule=\"evenodd\" fill-opacity=\"1\"/>\n<defs>\n  <clipPath id=\"clip543\">\n    <rect x=\"1764\" y=\"47\" width=\"1389\" height=\"1059\"/>\n  </clipPath>\n</defs>\n<polyline clip-path=\"url(#clip543)\" style=\"stroke:#000000; stroke-linecap:round; stroke-linejoin:round; stroke-width:2; stroke-opacity:0.1; fill:none\" points=\"\n  1984.8,1105.57 1984.8,47.2441 \n  \"/>\n<polyline clip-path=\"url(#clip543)\" style=\"stroke:#000000; stroke-linecap:round; stroke-linejoin:round; stroke-width:2; stroke-opacity:0.1; fill:none\" points=\"\n  2210.54,1105.57 2210.54,47.2441 \n  \"/>\n<polyline clip-path=\"url(#clip543)\" style=\"stroke:#000000; stroke-linecap:round; stroke-linejoin:round; stroke-width:2; stroke-opacity:0.1; fill:none\" points=\"\n  2436.27,1105.57 2436.27,47.2441 \n  \"/>\n<polyline clip-path=\"url(#clip543)\" style=\"stroke:#000000; stroke-linecap:round; stroke-linejoin:round; stroke-width:2; stroke-opacity:0.1; fill:none\" points=\"\n  2662.01,1105.57 2662.01,47.2441 \n  \"/>\n<polyline clip-path=\"url(#clip543)\" style=\"stroke:#000000; stroke-linecap:round; stroke-linejoin:round; stroke-width:2; stroke-opacity:0.1; fill:none\" points=\"\n  2887.74,1105.57 2887.74,47.2441 \n  \"/>\n<polyline clip-path=\"url(#clip543)\" style=\"stroke:#000000; stroke-linecap:round; stroke-linejoin:round; stroke-width:2; stroke-opacity:0.1; fill:none\" points=\"\n  3113.48,1105.57 3113.48,47.2441 \n  \"/>\n<polyline clip-path=\"url(#clip540)\" style=\"stroke:#000000; stroke-linecap:round; stroke-linejoin:round; stroke-width:4; stroke-opacity:1; fill:none\" points=\"\n  1764.93,1105.57 3152.76,1105.57 \n  \"/>\n<polyline clip-path=\"url(#clip540)\" style=\"stroke:#000000; stroke-linecap:round; stroke-linejoin:round; stroke-width:4; stroke-opacity:1; fill:none\" points=\"\n  1984.8,1105.57 1984.8,1086.67 \n  \"/>\n<polyline clip-path=\"url(#clip540)\" style=\"stroke:#000000; stroke-linecap:round; stroke-linejoin:round; stroke-width:4; stroke-opacity:1; fill:none\" points=\"\n  2210.54,1105.57 2210.54,1086.67 \n  \"/>\n<polyline clip-path=\"url(#clip540)\" style=\"stroke:#000000; stroke-linecap:round; stroke-linejoin:round; stroke-width:4; stroke-opacity:1; fill:none\" points=\"\n  2436.27,1105.57 2436.27,1086.67 \n  \"/>\n<polyline clip-path=\"url(#clip540)\" style=\"stroke:#000000; stroke-linecap:round; stroke-linejoin:round; stroke-width:4; stroke-opacity:1; fill:none\" points=\"\n  2662.01,1105.57 2662.01,1086.67 \n  \"/>\n<polyline clip-path=\"url(#clip540)\" style=\"stroke:#000000; stroke-linecap:round; stroke-linejoin:round; stroke-width:4; stroke-opacity:1; fill:none\" points=\"\n  2887.74,1105.57 2887.74,1086.67 \n  \"/>\n<polyline clip-path=\"url(#clip540)\" style=\"stroke:#000000; stroke-linecap:round; stroke-linejoin:round; stroke-width:4; stroke-opacity:1; fill:none\" points=\"\n  3113.48,1105.57 3113.48,1086.67 \n  \"/>\n<path clip-path=\"url(#clip540)\" d=\"M1975.08 1139.81 L1993.43 1139.81 L1993.43 1143.74 L1979.36 1143.74 L1979.36 1152.22 Q1980.38 1151.87 1981.4 1151.71 Q1982.42 1151.52 1983.43 1151.52 Q1989.22 1151.52 1992.6 1154.69 Q1995.98 1157.86 1995.98 1163.28 Q1995.98 1168.86 1992.51 1171.96 Q1989.04 1175.04 1982.72 1175.04 Q1980.54 1175.04 1978.27 1174.67 Q1976.03 1174.3 1973.62 1173.56 L1973.62 1168.86 Q1975.7 1169.99 1977.93 1170.55 Q1980.15 1171.1 1982.62 1171.1 Q1986.63 1171.1 1988.97 1169 Q1991.3 1166.89 1991.3 1163.28 Q1991.3 1159.67 1988.97 1157.56 Q1986.63 1155.46 1982.62 1155.46 Q1980.75 1155.46 1978.87 1155.87 Q1977.02 1156.29 1975.08 1157.17 L1975.08 1139.81 Z\" fill=\"#000000\" fill-rule=\"evenodd\" fill-opacity=\"1\" /><path clip-path=\"url(#clip540)\" d=\"M2185.22 1170.43 L2192.86 1170.43 L2192.86 1144.07 L2184.55 1145.73 L2184.55 1141.47 L2192.82 1139.81 L2197.49 1139.81 L2197.49 1170.43 L2205.13 1170.43 L2205.13 1174.37 L2185.22 1174.37 L2185.22 1170.43 Z\" fill=\"#000000\" fill-rule=\"evenodd\" fill-opacity=\"1\" /><path clip-path=\"url(#clip540)\" d=\"M2224.58 1142.89 Q2220.96 1142.89 2219.14 1146.45 Q2217.33 1149.99 2217.33 1157.12 Q2217.33 1164.23 2219.14 1167.79 Q2220.96 1171.34 2224.58 1171.34 Q2228.21 1171.34 2230.01 1167.79 Q2231.84 1164.23 2231.84 1157.12 Q2231.84 1149.99 2230.01 1146.45 Q2228.21 1142.89 2224.58 1142.89 M2224.58 1139.18 Q2230.39 1139.18 2233.44 1143.79 Q2236.52 1148.37 2236.52 1157.12 Q2236.52 1165.85 2233.44 1170.46 Q2230.39 1175.04 2224.58 1175.04 Q2218.76 1175.04 2215.69 1170.46 Q2212.63 1165.85 2212.63 1157.12 Q2212.63 1148.37 2215.69 1143.79 Q2218.76 1139.18 2224.58 1139.18 Z\" fill=\"#000000\" fill-rule=\"evenodd\" fill-opacity=\"1\" /><path clip-path=\"url(#clip540)\" d=\"M2411.46 1170.43 L2419.1 1170.43 L2419.1 1144.07 L2410.79 1145.73 L2410.79 1141.47 L2419.05 1139.81 L2423.73 1139.81 L2423.73 1170.43 L2431.36 1170.43 L2431.36 1174.37 L2411.46 1174.37 L2411.46 1170.43 Z\" fill=\"#000000\" fill-rule=\"evenodd\" fill-opacity=\"1\" /><path clip-path=\"url(#clip540)\" d=\"M2440.85 1139.81 L2459.21 1139.81 L2459.21 1143.74 L2445.14 1143.74 L2445.14 1152.22 Q2446.16 1151.87 2447.17 1151.71 Q2448.19 1151.52 2449.21 1151.52 Q2455 1151.52 2458.38 1154.69 Q2461.76 1157.86 2461.76 1163.28 Q2461.76 1168.86 2458.29 1171.96 Q2454.81 1175.04 2448.49 1175.04 Q2446.32 1175.04 2444.05 1174.67 Q2441.8 1174.3 2439.4 1173.56 L2439.4 1168.86 Q2441.48 1169.99 2443.7 1170.55 Q2445.92 1171.1 2448.4 1171.1 Q2452.41 1171.1 2454.74 1169 Q2457.08 1166.89 2457.08 1163.28 Q2457.08 1159.67 2454.74 1157.56 Q2452.41 1155.46 2448.4 1155.46 Q2446.53 1155.46 2444.65 1155.87 Q2442.8 1156.29 2440.85 1157.17 L2440.85 1139.81 Z\" fill=\"#000000\" fill-rule=\"evenodd\" fill-opacity=\"1\" /><path clip-path=\"url(#clip540)\" d=\"M2640.78 1170.43 L2657.1 1170.43 L2657.1 1174.37 L2635.16 1174.37 L2635.16 1170.43 Q2637.82 1167.68 2642.4 1163.05 Q2647.01 1158.4 2648.19 1157.05 Q2650.43 1154.53 2651.31 1152.79 Q2652.22 1151.03 2652.22 1149.34 Q2652.22 1146.59 2650.27 1144.85 Q2648.35 1143.12 2645.25 1143.12 Q2643.05 1143.12 2640.59 1143.88 Q2638.16 1144.65 2635.39 1146.2 L2635.39 1141.47 Q2638.21 1140.34 2640.66 1139.76 Q2643.12 1139.18 2645.16 1139.18 Q2650.53 1139.18 2653.72 1141.87 Q2656.91 1144.55 2656.91 1149.04 Q2656.91 1151.17 2656.1 1153.09 Q2655.32 1154.99 2653.21 1157.59 Q2652.63 1158.26 2649.53 1161.47 Q2646.43 1164.67 2640.78 1170.43 Z\" fill=\"#000000\" fill-rule=\"evenodd\" fill-opacity=\"1\" /><path clip-path=\"url(#clip540)\" d=\"M2676.91 1142.89 Q2673.3 1142.89 2671.47 1146.45 Q2669.67 1149.99 2669.67 1157.12 Q2669.67 1164.23 2671.47 1167.79 Q2673.3 1171.34 2676.91 1171.34 Q2680.55 1171.34 2682.35 1167.79 Q2684.18 1164.23 2684.18 1157.12 Q2684.18 1149.99 2682.35 1146.45 Q2680.55 1142.89 2676.91 1142.89 M2676.91 1139.18 Q2682.72 1139.18 2685.78 1143.79 Q2688.86 1148.37 2688.86 1157.12 Q2688.86 1165.85 2685.78 1170.46 Q2682.72 1175.04 2676.91 1175.04 Q2671.1 1175.04 2668.03 1170.46 Q2664.97 1165.85 2664.97 1157.12 Q2664.97 1148.37 2668.03 1143.79 Q2671.1 1139.18 2676.91 1139.18 Z\" fill=\"#000000\" fill-rule=\"evenodd\" fill-opacity=\"1\" /><path clip-path=\"url(#clip540)\" d=\"M2867.01 1170.43 L2883.33 1170.43 L2883.33 1174.37 L2861.39 1174.37 L2861.39 1170.43 Q2864.05 1167.68 2868.63 1163.05 Q2873.24 1158.4 2874.42 1157.05 Q2876.67 1154.53 2877.55 1152.79 Q2878.45 1151.03 2878.45 1149.34 Q2878.45 1146.59 2876.5 1144.85 Q2874.58 1143.12 2871.48 1143.12 Q2869.28 1143.12 2866.83 1143.88 Q2864.4 1144.65 2861.62 1146.2 L2861.62 1141.47 Q2864.44 1140.34 2866.9 1139.76 Q2869.35 1139.18 2871.39 1139.18 Q2876.76 1139.18 2879.95 1141.87 Q2883.15 1144.55 2883.15 1149.04 Q2883.15 1151.17 2882.34 1153.09 Q2881.55 1154.99 2879.44 1157.59 Q2878.87 1158.26 2875.76 1161.47 Q2872.66 1164.67 2867.01 1170.43 Z\" fill=\"#000000\" fill-rule=\"evenodd\" fill-opacity=\"1\" /><path clip-path=\"url(#clip540)\" d=\"M2893.19 1139.81 L2911.55 1139.81 L2911.55 1143.74 L2897.48 1143.74 L2897.48 1152.22 Q2898.49 1151.87 2899.51 1151.71 Q2900.53 1151.52 2901.55 1151.52 Q2907.34 1151.52 2910.72 1154.69 Q2914.1 1157.86 2914.1 1163.28 Q2914.1 1168.86 2910.62 1171.96 Q2907.15 1175.04 2900.83 1175.04 Q2898.66 1175.04 2896.39 1174.67 Q2894.14 1174.3 2891.74 1173.56 L2891.74 1168.86 Q2893.82 1169.99 2896.04 1170.55 Q2898.26 1171.1 2900.74 1171.1 Q2904.74 1171.1 2907.08 1169 Q2909.42 1166.89 2909.42 1163.28 Q2909.42 1159.67 2907.08 1157.56 Q2904.74 1155.46 2900.74 1155.46 Q2898.87 1155.46 2896.99 1155.87 Q2895.14 1156.29 2893.19 1157.17 L2893.19 1139.81 Z\" fill=\"#000000\" fill-rule=\"evenodd\" fill-opacity=\"1\" /><path clip-path=\"url(#clip540)\" d=\"M3102.32 1155.73 Q3105.68 1156.45 3107.55 1158.72 Q3109.45 1160.99 3109.45 1164.32 Q3109.45 1169.44 3105.93 1172.24 Q3102.41 1175.04 3095.93 1175.04 Q3093.76 1175.04 3091.44 1174.6 Q3089.15 1174.18 3086.7 1173.33 L3086.7 1168.81 Q3088.64 1169.95 3090.95 1170.53 Q3093.27 1171.1 3095.79 1171.1 Q3100.19 1171.1 3102.48 1169.37 Q3104.8 1167.63 3104.8 1164.32 Q3104.8 1161.27 3102.64 1159.55 Q3100.52 1157.82 3096.7 1157.82 L3092.67 1157.82 L3092.67 1153.97 L3096.88 1153.97 Q3100.33 1153.97 3102.16 1152.61 Q3103.99 1151.22 3103.99 1148.63 Q3103.99 1145.97 3102.09 1144.55 Q3100.21 1143.12 3096.7 1143.12 Q3094.77 1143.12 3092.58 1143.53 Q3090.38 1143.95 3087.74 1144.83 L3087.74 1140.66 Q3090.4 1139.92 3092.71 1139.55 Q3095.05 1139.18 3097.11 1139.18 Q3102.44 1139.18 3105.54 1141.61 Q3108.64 1144.02 3108.64 1148.14 Q3108.64 1151.01 3107 1153 Q3105.35 1154.97 3102.32 1155.73 Z\" fill=\"#000000\" fill-rule=\"evenodd\" fill-opacity=\"1\" /><path clip-path=\"url(#clip540)\" d=\"M3128.32 1142.89 Q3124.7 1142.89 3122.88 1146.45 Q3121.07 1149.99 3121.07 1157.12 Q3121.07 1164.23 3122.88 1167.79 Q3124.7 1171.34 3128.32 1171.34 Q3131.95 1171.34 3133.76 1167.79 Q3135.58 1164.23 3135.58 1157.12 Q3135.58 1149.99 3133.76 1146.45 Q3131.95 1142.89 3128.32 1142.89 M3128.32 1139.18 Q3134.13 1139.18 3137.18 1143.79 Q3140.26 1148.37 3140.26 1157.12 Q3140.26 1165.85 3137.18 1170.46 Q3134.13 1175.04 3128.32 1175.04 Q3122.51 1175.04 3119.43 1170.46 Q3116.37 1165.85 3116.37 1157.12 Q3116.37 1148.37 3119.43 1143.79 Q3122.51 1139.18 3128.32 1139.18 Z\" fill=\"#000000\" fill-rule=\"evenodd\" fill-opacity=\"1\" /><polyline clip-path=\"url(#clip543)\" style=\"stroke:#000000; stroke-linecap:round; stroke-linejoin:round; stroke-width:2; stroke-opacity:0.1; fill:none\" points=\"\n  1764.93,895.504 3152.76,895.504 \n  \"/>\n<polyline clip-path=\"url(#clip543)\" style=\"stroke:#000000; stroke-linecap:round; stroke-linejoin:round; stroke-width:2; stroke-opacity:0.1; fill:none\" points=\"\n  1764.93,670.697 3152.76,670.697 \n  \"/>\n<polyline clip-path=\"url(#clip543)\" style=\"stroke:#000000; stroke-linecap:round; stroke-linejoin:round; stroke-width:2; stroke-opacity:0.1; fill:none\" points=\"\n  1764.93,445.89 3152.76,445.89 \n  \"/>\n<polyline clip-path=\"url(#clip543)\" style=\"stroke:#000000; stroke-linecap:round; stroke-linejoin:round; stroke-width:2; stroke-opacity:0.1; fill:none\" points=\"\n  1764.93,221.082 3152.76,221.082 \n  \"/>\n<polyline clip-path=\"url(#clip540)\" style=\"stroke:#000000; stroke-linecap:round; stroke-linejoin:round; stroke-width:4; stroke-opacity:1; fill:none\" points=\"\n  1764.93,1105.57 1764.93,47.2441 \n  \"/>\n<polyline clip-path=\"url(#clip540)\" style=\"stroke:#000000; stroke-linecap:round; stroke-linejoin:round; stroke-width:4; stroke-opacity:1; fill:none\" points=\"\n  1764.93,895.504 1783.83,895.504 \n  \"/>\n<polyline clip-path=\"url(#clip540)\" style=\"stroke:#000000; stroke-linecap:round; stroke-linejoin:round; stroke-width:4; stroke-opacity:1; fill:none\" points=\"\n  1764.93,670.697 1783.83,670.697 \n  \"/>\n<polyline clip-path=\"url(#clip540)\" style=\"stroke:#000000; stroke-linecap:round; stroke-linejoin:round; stroke-width:4; stroke-opacity:1; fill:none\" points=\"\n  1764.93,445.89 1783.83,445.89 \n  \"/>\n<polyline clip-path=\"url(#clip540)\" style=\"stroke:#000000; stroke-linecap:round; stroke-linejoin:round; stroke-width:4; stroke-opacity:1; fill:none\" points=\"\n  1764.93,221.082 1783.83,221.082 \n  \"/>\n<path clip-path=\"url(#clip540)\" d=\"M1648.83 894.15 Q1652.19 894.868 1654.06 897.136 Q1655.96 899.405 1655.96 902.738 Q1655.96 907.854 1652.44 910.655 Q1648.92 913.456 1642.44 913.456 Q1640.27 913.456 1637.95 913.016 Q1635.66 912.599 1633.21 911.743 L1633.21 907.229 Q1635.15 908.363 1637.47 908.942 Q1639.78 909.521 1642.3 909.521 Q1646.7 909.521 1648.99 907.784 Q1651.31 906.048 1651.31 902.738 Q1651.31 899.683 1649.16 897.97 Q1647.03 896.234 1643.21 896.234 L1639.18 896.234 L1639.18 892.391 L1643.39 892.391 Q1646.84 892.391 1648.67 891.025 Q1650.5 889.636 1650.5 887.044 Q1650.5 884.382 1648.6 882.97 Q1646.73 881.535 1643.21 881.535 Q1641.29 881.535 1639.09 881.951 Q1636.89 882.368 1634.25 883.248 L1634.25 879.081 Q1636.91 878.34 1639.23 877.97 Q1641.56 877.599 1643.62 877.599 Q1648.95 877.599 1652.05 880.03 Q1655.15 882.437 1655.15 886.558 Q1655.15 889.428 1653.51 891.419 Q1651.86 893.386 1648.83 894.15 Z\" fill=\"#000000\" fill-rule=\"evenodd\" fill-opacity=\"1\" /><path clip-path=\"url(#clip540)\" d=\"M1664.87 878.224 L1683.23 878.224 L1683.23 882.16 L1669.16 882.16 L1669.16 890.632 Q1670.17 890.285 1671.19 890.122 Q1672.21 889.937 1673.23 889.937 Q1679.02 889.937 1682.4 893.109 Q1685.78 896.28 1685.78 901.696 Q1685.78 907.275 1682.3 910.377 Q1678.83 913.456 1672.51 913.456 Q1670.34 913.456 1668.07 913.085 Q1665.82 912.715 1663.42 911.974 L1663.42 907.275 Q1665.5 908.409 1667.72 908.965 Q1669.94 909.521 1672.42 909.521 Q1676.42 909.521 1678.76 907.414 Q1681.1 905.308 1681.1 901.696 Q1681.1 898.085 1678.76 895.979 Q1676.42 893.872 1672.42 893.872 Q1670.55 893.872 1668.67 894.289 Q1666.82 894.706 1664.87 895.585 L1664.87 878.224 Z\" fill=\"#000000\" fill-rule=\"evenodd\" fill-opacity=\"1\" /><path clip-path=\"url(#clip540)\" d=\"M1704.99 881.303 Q1701.38 881.303 1699.55 884.868 Q1697.74 888.41 1697.74 895.539 Q1697.74 902.646 1699.55 906.21 Q1701.38 909.752 1704.99 909.752 Q1708.62 909.752 1710.43 906.21 Q1712.26 902.646 1712.26 895.539 Q1712.26 888.41 1710.43 884.868 Q1708.62 881.303 1704.99 881.303 M1704.99 877.599 Q1710.8 877.599 1713.86 882.206 Q1716.93 886.789 1716.93 895.539 Q1716.93 904.266 1713.86 908.872 Q1710.8 913.456 1704.99 913.456 Q1699.18 913.456 1696.1 908.872 Q1693.05 904.266 1693.05 895.539 Q1693.05 886.789 1696.1 882.206 Q1699.18 877.599 1704.99 877.599 Z\" fill=\"#000000\" fill-rule=\"evenodd\" fill-opacity=\"1\" /><path clip-path=\"url(#clip540)\" d=\"M1647.51 657.491 L1635.71 675.94 L1647.51 675.94 L1647.51 657.491 M1646.29 653.417 L1652.17 653.417 L1652.17 675.94 L1657.1 675.94 L1657.1 679.829 L1652.17 679.829 L1652.17 687.977 L1647.51 687.977 L1647.51 679.829 L1631.91 679.829 L1631.91 675.315 L1646.29 653.417 Z\" fill=\"#000000\" fill-rule=\"evenodd\" fill-opacity=\"1\" /><path clip-path=\"url(#clip540)\" d=\"M1674.83 656.496 Q1671.22 656.496 1669.39 660.06 Q1667.58 663.602 1667.58 670.732 Q1667.58 677.838 1669.39 681.403 Q1671.22 684.945 1674.83 684.945 Q1678.46 684.945 1680.27 681.403 Q1682.1 677.838 1682.1 670.732 Q1682.1 663.602 1680.27 660.06 Q1678.46 656.496 1674.83 656.496 M1674.83 652.792 Q1680.64 652.792 1683.69 657.398 Q1686.77 661.982 1686.77 670.732 Q1686.77 679.459 1683.69 684.065 Q1680.64 688.648 1674.83 688.648 Q1669.02 688.648 1665.94 684.065 Q1662.88 679.459 1662.88 670.732 Q1662.88 661.982 1665.94 657.398 Q1669.02 652.792 1674.83 652.792 Z\" fill=\"#000000\" fill-rule=\"evenodd\" fill-opacity=\"1\" /><path clip-path=\"url(#clip540)\" d=\"M1704.99 656.496 Q1701.38 656.496 1699.55 660.06 Q1697.74 663.602 1697.74 670.732 Q1697.74 677.838 1699.55 681.403 Q1701.38 684.945 1704.99 684.945 Q1708.62 684.945 1710.43 681.403 Q1712.26 677.838 1712.26 670.732 Q1712.26 663.602 1710.43 660.06 Q1708.62 656.496 1704.99 656.496 M1704.99 652.792 Q1710.8 652.792 1713.86 657.398 Q1716.93 661.982 1716.93 670.732 Q1716.93 679.459 1713.86 684.065 Q1710.8 688.648 1704.99 688.648 Q1699.18 688.648 1696.1 684.065 Q1693.05 679.459 1693.05 670.732 Q1693.05 661.982 1696.1 657.398 Q1699.18 652.792 1704.99 652.792 Z\" fill=\"#000000\" fill-rule=\"evenodd\" fill-opacity=\"1\" /><path clip-path=\"url(#clip540)\" d=\"M1647.51 432.684 L1635.71 451.133 L1647.51 451.133 L1647.51 432.684 M1646.29 428.61 L1652.17 428.61 L1652.17 451.133 L1657.1 451.133 L1657.1 455.021 L1652.17 455.021 L1652.17 463.17 L1647.51 463.17 L1647.51 455.021 L1631.91 455.021 L1631.91 450.508 L1646.29 428.61 Z\" fill=\"#000000\" fill-rule=\"evenodd\" fill-opacity=\"1\" /><path clip-path=\"url(#clip540)\" d=\"M1664.87 428.61 L1683.23 428.61 L1683.23 432.545 L1669.16 432.545 L1669.16 441.017 Q1670.17 440.67 1671.19 440.508 Q1672.21 440.322 1673.23 440.322 Q1679.02 440.322 1682.4 443.494 Q1685.78 446.665 1685.78 452.082 Q1685.78 457.66 1682.3 460.762 Q1678.83 463.841 1672.51 463.841 Q1670.34 463.841 1668.07 463.47 Q1665.82 463.1 1663.42 462.359 L1663.42 457.66 Q1665.5 458.795 1667.72 459.35 Q1669.94 459.906 1672.42 459.906 Q1676.42 459.906 1678.76 457.799 Q1681.1 455.693 1681.1 452.082 Q1681.1 448.471 1678.76 446.364 Q1676.42 444.258 1672.42 444.258 Q1670.55 444.258 1668.67 444.674 Q1666.82 445.091 1664.87 445.971 L1664.87 428.61 Z\" fill=\"#000000\" fill-rule=\"evenodd\" fill-opacity=\"1\" /><path clip-path=\"url(#clip540)\" d=\"M1704.99 431.688 Q1701.38 431.688 1699.55 435.253 Q1697.74 438.795 1697.74 445.924 Q1697.74 453.031 1699.55 456.596 Q1701.38 460.137 1704.99 460.137 Q1708.62 460.137 1710.43 456.596 Q1712.26 453.031 1712.26 445.924 Q1712.26 438.795 1710.43 435.253 Q1708.62 431.688 1704.99 431.688 M1704.99 427.985 Q1710.8 427.985 1713.86 432.591 Q1716.93 437.174 1716.93 445.924 Q1716.93 454.651 1713.86 459.258 Q1710.8 463.841 1704.99 463.841 Q1699.18 463.841 1696.1 459.258 Q1693.05 454.651 1693.05 445.924 Q1693.05 437.174 1696.1 432.591 Q1699.18 427.985 1704.99 427.985 Z\" fill=\"#000000\" fill-rule=\"evenodd\" fill-opacity=\"1\" /><path clip-path=\"url(#clip540)\" d=\"M1634.71 203.802 L1653.07 203.802 L1653.07 207.737 L1638.99 207.737 L1638.99 216.209 Q1640.01 215.862 1641.03 215.7 Q1642.05 215.515 1643.07 215.515 Q1648.86 215.515 1652.24 218.686 Q1655.61 221.858 1655.61 227.274 Q1655.61 232.853 1652.14 235.955 Q1648.67 239.033 1642.35 239.033 Q1640.18 239.033 1637.91 238.663 Q1635.66 238.293 1633.25 237.552 L1633.25 232.853 Q1635.34 233.987 1637.56 234.543 Q1639.78 235.098 1642.26 235.098 Q1646.26 235.098 1648.6 232.992 Q1650.94 230.885 1650.94 227.274 Q1650.94 223.663 1648.6 221.557 Q1646.26 219.45 1642.26 219.45 Q1640.38 219.45 1638.51 219.867 Q1636.66 220.284 1634.71 221.163 L1634.71 203.802 Z\" fill=\"#000000\" fill-rule=\"evenodd\" fill-opacity=\"1\" /><path clip-path=\"url(#clip540)\" d=\"M1674.83 206.881 Q1671.22 206.881 1669.39 210.446 Q1667.58 213.987 1667.58 221.117 Q1667.58 228.223 1669.39 231.788 Q1671.22 235.33 1674.83 235.33 Q1678.46 235.33 1680.27 231.788 Q1682.1 228.223 1682.1 221.117 Q1682.1 213.987 1680.27 210.446 Q1678.46 206.881 1674.83 206.881 M1674.83 203.177 Q1680.64 203.177 1683.69 207.784 Q1686.77 212.367 1686.77 221.117 Q1686.77 229.844 1683.69 234.45 Q1680.64 239.033 1674.83 239.033 Q1669.02 239.033 1665.94 234.45 Q1662.88 229.844 1662.88 221.117 Q1662.88 212.367 1665.94 207.784 Q1669.02 203.177 1674.83 203.177 Z\" fill=\"#000000\" fill-rule=\"evenodd\" fill-opacity=\"1\" /><path clip-path=\"url(#clip540)\" d=\"M1704.99 206.881 Q1701.38 206.881 1699.55 210.446 Q1697.74 213.987 1697.74 221.117 Q1697.74 228.223 1699.55 231.788 Q1701.38 235.33 1704.99 235.33 Q1708.62 235.33 1710.43 231.788 Q1712.26 228.223 1712.26 221.117 Q1712.26 213.987 1710.43 210.446 Q1708.62 206.881 1704.99 206.881 M1704.99 203.177 Q1710.8 203.177 1713.86 207.784 Q1716.93 212.367 1716.93 221.117 Q1716.93 229.844 1713.86 234.45 Q1710.8 239.033 1704.99 239.033 Q1699.18 239.033 1696.1 234.45 Q1693.05 229.844 1693.05 221.117 Q1693.05 212.367 1696.1 207.784 Q1699.18 203.177 1704.99 203.177 Z\" fill=\"#000000\" fill-rule=\"evenodd\" fill-opacity=\"1\" /><polyline clip-path=\"url(#clip543)\" style=\"stroke:#009af9; stroke-linecap:round; stroke-linejoin:round; stroke-width:4; stroke-opacity:1; fill:none\" points=\"\n  1804.21,77.1967 1849.36,883.82 1894.51,983.972 1939.65,1021.7 1984.8,1046.71 2029.95,1060.22 2075.09,1069.14 2120.24,1075.62 2165.39,1075.33 2210.54,1073.52 \n  2255.68,1074.08 2300.83,1073.56 2345.98,1073.48 2391.12,1073.5 2436.27,1072.51 2481.42,1071.35 2526.57,1071.71 2571.71,1071.1 2616.86,1069.87 2662.01,1069.18 \n  2707.15,1068.72 2752.3,1070.66 2797.45,1069.59 2842.6,1069.15 2887.74,1070.68 2932.89,1069.52 2978.04,1068.55 3023.18,1069.43 3068.33,1068.88 3113.48,1069.05 \n  \n  \"/>\n<path clip-path=\"url(#clip540)\" d=\"\nM2522.16 186.202 L3106.5 186.202 L3106.5 82.5216 L2522.16 82.5216  Z\n  \" fill=\"#ffffff\" fill-rule=\"evenodd\" fill-opacity=\"1\"/>\n<polyline clip-path=\"url(#clip540)\" style=\"stroke:#000000; stroke-linecap:round; stroke-linejoin:round; stroke-width:4; stroke-opacity:1; fill:none\" points=\"\n  2522.16,186.202 3106.5,186.202 3106.5,82.5216 2522.16,82.5216 2522.16,186.202 \n  \"/>\n<polyline clip-path=\"url(#clip540)\" style=\"stroke:#009af9; stroke-linecap:round; stroke-linejoin:round; stroke-width:4; stroke-opacity:1; fill:none\" points=\"\n  2537.58,134.362 2630.1,134.362 \n  \"/>\n<path clip-path=\"url(#clip540)\" d=\"M2650.19 135.137 L2650.19 147.799 L2657.69 147.799 Q2661.47 147.799 2663.27 146.248 Q2665.1 144.674 2665.1 141.456 Q2665.1 138.216 2663.27 136.688 Q2661.47 135.137 2657.69 135.137 L2650.19 135.137 M2650.19 120.924 L2650.19 131.341 L2657.12 131.341 Q2660.54 131.341 2662.21 130.068 Q2663.9 128.771 2663.9 126.132 Q2663.9 123.517 2662.21 122.22 Q2660.54 120.924 2657.12 120.924 L2650.19 120.924 M2645.52 117.082 L2657.46 117.082 Q2662.81 117.082 2665.7 119.304 Q2668.6 121.526 2668.6 125.623 Q2668.6 128.794 2667.12 130.669 Q2665.63 132.544 2662.76 133.007 Q2666.21 133.748 2668.11 136.109 Q2670.03 138.447 2670.03 141.966 Q2670.03 146.595 2666.88 149.118 Q2663.74 151.642 2657.93 151.642 L2645.52 151.642 L2645.52 117.082 Z\" fill=\"#000000\" fill-rule=\"evenodd\" fill-opacity=\"1\" /><path clip-path=\"url(#clip540)\" d=\"M2700.03 137.614 L2700.03 139.697 L2680.45 139.697 Q2680.73 144.095 2683.09 146.41 Q2685.47 148.702 2689.71 148.702 Q2692.16 148.702 2694.45 148.1 Q2696.77 147.498 2699.04 146.294 L2699.04 150.322 Q2696.74 151.294 2694.34 151.804 Q2691.93 152.313 2689.45 152.313 Q2683.25 152.313 2679.62 148.702 Q2676 145.091 2676 138.933 Q2676 132.568 2679.43 128.841 Q2682.88 125.091 2688.71 125.091 Q2693.94 125.091 2696.98 128.47 Q2700.03 131.827 2700.03 137.614 M2695.77 136.364 Q2695.73 132.869 2693.8 130.785 Q2691.91 128.702 2688.76 128.702 Q2685.19 128.702 2683.04 130.716 Q2680.91 132.73 2680.59 136.387 L2695.77 136.364 Z\" fill=\"#000000\" fill-rule=\"evenodd\" fill-opacity=\"1\" /><path clip-path=\"url(#clip540)\" d=\"M2711.24 118.355 L2711.24 125.716 L2720.01 125.716 L2720.01 129.026 L2711.24 129.026 L2711.24 143.1 Q2711.24 146.271 2712.09 147.174 Q2712.97 148.077 2715.63 148.077 L2720.01 148.077 L2720.01 151.642 L2715.63 151.642 Q2710.7 151.642 2708.83 149.813 Q2706.95 147.961 2706.95 143.1 L2706.95 129.026 L2703.83 129.026 L2703.83 125.716 L2706.95 125.716 L2706.95 118.355 L2711.24 118.355 Z\" fill=\"#000000\" fill-rule=\"evenodd\" fill-opacity=\"1\" /><path clip-path=\"url(#clip540)\" d=\"M2747.16 135.993 L2747.16 151.642 L2742.9 151.642 L2742.9 136.132 Q2742.9 132.452 2741.47 130.623 Q2740.03 128.794 2737.16 128.794 Q2733.71 128.794 2731.72 130.994 Q2729.73 133.193 2729.73 136.989 L2729.73 151.642 L2725.45 151.642 L2725.45 115.623 L2729.73 115.623 L2729.73 129.744 Q2731.26 127.406 2733.32 126.248 Q2735.4 125.091 2738.11 125.091 Q2742.58 125.091 2744.87 127.869 Q2747.16 130.623 2747.16 135.993 Z\" fill=\"#000000\" fill-rule=\"evenodd\" fill-opacity=\"1\" /><path clip-path=\"url(#clip540)\" d=\"M2777.83 137.614 L2777.83 139.697 L2758.25 139.697 Q2758.53 144.095 2760.89 146.41 Q2763.27 148.702 2767.51 148.702 Q2769.96 148.702 2772.25 148.1 Q2774.57 147.498 2776.84 146.294 L2776.84 150.322 Q2774.55 151.294 2772.14 151.804 Q2769.73 152.313 2767.25 152.313 Q2761.05 152.313 2757.42 148.702 Q2753.8 145.091 2753.8 138.933 Q2753.8 132.568 2757.23 128.841 Q2760.68 125.091 2766.51 125.091 Q2771.74 125.091 2774.78 128.47 Q2777.83 131.827 2777.83 137.614 M2773.57 136.364 Q2773.53 132.869 2771.61 130.785 Q2769.71 128.702 2766.56 128.702 Q2762.99 128.702 2760.84 130.716 Q2758.71 132.73 2758.39 136.387 L2773.57 136.364 Z\" fill=\"#000000\" fill-rule=\"evenodd\" fill-opacity=\"1\" /><path clip-path=\"url(#clip540)\" d=\"M2800.08 117.082 L2819.94 117.082 L2819.94 121.017 L2804.75 121.017 L2804.75 131.202 L2818.46 131.202 L2818.46 135.137 L2804.75 135.137 L2804.75 151.642 L2800.08 151.642 L2800.08 117.082 Z\" fill=\"#000000\" fill-rule=\"evenodd\" fill-opacity=\"1\" /><path clip-path=\"url(#clip540)\" d=\"M2838.73 129.697 Q2838.02 129.281 2837.16 129.095 Q2836.33 128.887 2835.31 128.887 Q2831.7 128.887 2829.75 131.248 Q2827.83 133.586 2827.83 137.984 L2827.83 151.642 L2823.55 151.642 L2823.55 125.716 L2827.83 125.716 L2827.83 129.744 Q2829.17 127.382 2831.33 126.248 Q2833.48 125.091 2836.56 125.091 Q2837 125.091 2837.53 125.16 Q2838.06 125.207 2838.71 125.322 L2838.73 129.697 Z\" fill=\"#000000\" fill-rule=\"evenodd\" fill-opacity=\"1\" /><path clip-path=\"url(#clip540)\" d=\"M2864.34 137.614 L2864.34 139.697 L2844.75 139.697 Q2845.03 144.095 2847.39 146.41 Q2849.78 148.702 2854.01 148.702 Q2856.47 148.702 2858.76 148.1 Q2861.07 147.498 2863.34 146.294 L2863.34 150.322 Q2861.05 151.294 2858.64 151.804 Q2856.23 152.313 2853.76 152.313 Q2847.55 152.313 2843.92 148.702 Q2840.31 145.091 2840.31 138.933 Q2840.31 132.568 2843.73 128.841 Q2847.18 125.091 2853.02 125.091 Q2858.25 125.091 2861.28 128.47 Q2864.34 131.827 2864.34 137.614 M2860.08 136.364 Q2860.03 132.869 2858.11 130.785 Q2856.21 128.702 2853.06 128.702 Q2849.5 128.702 2847.35 130.716 Q2845.22 132.73 2844.89 136.387 L2860.08 136.364 Z\" fill=\"#000000\" fill-rule=\"evenodd\" fill-opacity=\"1\" /><path clip-path=\"url(#clip540)\" d=\"M2893.5 137.614 L2893.5 139.697 L2873.92 139.697 Q2874.2 144.095 2876.56 146.41 Q2878.94 148.702 2883.18 148.702 Q2885.63 148.702 2887.92 148.1 Q2890.24 147.498 2892.51 146.294 L2892.51 150.322 Q2890.22 151.294 2887.81 151.804 Q2885.4 152.313 2882.92 152.313 Q2876.72 152.313 2873.09 148.702 Q2869.48 145.091 2869.48 138.933 Q2869.48 132.568 2872.9 128.841 Q2876.35 125.091 2882.18 125.091 Q2887.41 125.091 2890.45 128.47 Q2893.5 131.827 2893.5 137.614 M2889.24 136.364 Q2889.2 132.869 2887.28 130.785 Q2885.38 128.702 2882.23 128.702 Q2878.66 128.702 2876.51 130.716 Q2874.38 132.73 2874.06 136.387 L2889.24 136.364 Z\" fill=\"#000000\" fill-rule=\"evenodd\" fill-opacity=\"1\" /><path clip-path=\"url(#clip540)\" d=\"M2915.75 117.082 L2937.6 117.082 L2937.6 121.017 L2920.42 121.017 L2920.42 131.248 L2936.88 131.248 L2936.88 135.183 L2920.42 135.183 L2920.42 147.706 L2938.02 147.706 L2938.02 151.642 L2915.75 151.642 L2915.75 117.082 Z\" fill=\"#000000\" fill-rule=\"evenodd\" fill-opacity=\"1\" /><path clip-path=\"url(#clip540)\" d=\"M2967.07 135.993 L2967.07 151.642 L2962.81 151.642 L2962.81 136.132 Q2962.81 132.452 2961.37 130.623 Q2959.94 128.794 2957.07 128.794 Q2953.62 128.794 2951.63 130.994 Q2949.64 133.193 2949.64 136.989 L2949.64 151.642 L2945.35 151.642 L2945.35 125.716 L2949.64 125.716 L2949.64 129.744 Q2951.16 127.406 2953.22 126.248 Q2955.31 125.091 2958.02 125.091 Q2962.48 125.091 2964.78 127.869 Q2967.07 130.623 2967.07 135.993 Z\" fill=\"#000000\" fill-rule=\"evenodd\" fill-opacity=\"1\" /><path clip-path=\"url(#clip540)\" d=\"M2997.74 137.614 L2997.74 139.697 L2978.16 139.697 Q2978.43 144.095 2980.79 146.41 Q2983.18 148.702 2987.41 148.702 Q2989.87 148.702 2992.16 148.1 Q2994.47 147.498 2996.74 146.294 L2996.74 150.322 Q2994.45 151.294 2992.04 151.804 Q2989.64 152.313 2987.16 152.313 Q2980.96 152.313 2977.32 148.702 Q2973.71 145.091 2973.71 138.933 Q2973.71 132.568 2977.14 128.841 Q2980.59 125.091 2986.42 125.091 Q2991.65 125.091 2994.68 128.47 Q2997.74 131.827 2997.74 137.614 M2993.48 136.364 Q2993.43 132.869 2991.51 130.785 Q2989.61 128.702 2986.47 128.702 Q2982.9 128.702 2980.75 130.716 Q2978.62 132.73 2978.29 136.387 L2993.48 136.364 Z\" fill=\"#000000\" fill-rule=\"evenodd\" fill-opacity=\"1\" /><path clip-path=\"url(#clip540)\" d=\"M3019.75 129.697 Q3019.03 129.281 3018.18 129.095 Q3017.34 128.887 3016.33 128.887 Q3012.72 128.887 3010.77 131.248 Q3008.85 133.586 3008.85 137.984 L3008.85 151.642 L3004.57 151.642 L3004.57 125.716 L3008.85 125.716 L3008.85 129.744 Q3010.19 127.382 3012.34 126.248 Q3014.5 125.091 3017.58 125.091 Q3018.02 125.091 3018.55 125.16 Q3019.08 125.207 3019.73 125.322 L3019.75 129.697 Z\" fill=\"#000000\" fill-rule=\"evenodd\" fill-opacity=\"1\" /><path clip-path=\"url(#clip540)\" d=\"M3040.45 138.378 Q3040.45 133.748 3038.53 131.202 Q3036.63 128.656 3033.18 128.656 Q3029.75 128.656 3027.83 131.202 Q3025.93 133.748 3025.93 138.378 Q3025.93 142.984 3027.83 145.53 Q3029.75 148.077 3033.18 148.077 Q3036.63 148.077 3038.53 145.53 Q3040.45 142.984 3040.45 138.378 M3044.71 148.424 Q3044.71 155.044 3041.77 158.262 Q3038.83 161.503 3032.76 161.503 Q3030.52 161.503 3028.53 161.155 Q3026.53 160.831 3024.66 160.137 L3024.66 155.993 Q3026.53 157.012 3028.36 157.498 Q3030.19 157.984 3032.09 157.984 Q3036.28 157.984 3038.36 155.785 Q3040.45 153.609 3040.45 149.188 L3040.45 147.081 Q3039.13 149.373 3037.07 150.507 Q3035.01 151.642 3032.14 151.642 Q3027.37 151.642 3024.45 148.007 Q3021.53 144.373 3021.53 138.378 Q3021.53 132.359 3024.45 128.725 Q3027.37 125.091 3032.14 125.091 Q3035.01 125.091 3037.07 126.225 Q3039.13 127.359 3040.45 129.651 L3040.45 125.716 L3044.71 125.716 L3044.71 148.424 Z\" fill=\"#000000\" fill-rule=\"evenodd\" fill-opacity=\"1\" /><path clip-path=\"url(#clip540)\" d=\"M3064.27 154.049 Q3062.46 158.679 3060.75 160.091 Q3059.03 161.503 3056.16 161.503 L3052.76 161.503 L3052.76 157.938 L3055.26 157.938 Q3057.02 157.938 3057.99 157.104 Q3058.96 156.271 3060.15 153.169 L3060.91 151.225 L3050.42 125.716 L3054.94 125.716 L3063.04 145.993 L3071.14 125.716 L3075.65 125.716 L3064.27 154.049 Z\" fill=\"#000000\" fill-rule=\"evenodd\" fill-opacity=\"1\" /></svg>\n"
     },
     "execution_count": 16,
     "metadata": {},
     "output_type": "execute_result"
    }
   ],
   "source": [
    "px = plot()\n",
    "\n",
    "px = plot!(px,  hidden, label = \"Hidden Signal\", color = :red)\n",
    "px = plot!(px,  map(mean, res.posteriors[:z]), ribbon = std.(9 .* res.posteriors[:z]).|> sqrt, fillalpha = 0.5, label = \"Estimated signal\", color = :blue)\n",
    "\n",
    "px = plot!(px, legend=:topleft)\n",
    "pfe = plot(res.free_energy, label = \"Bethe Free Energy\")\n",
    "\n",
    "plot(px, pfe, size = (800, 300))"
   ]
  },
  {
   "cell_type": "markdown",
   "metadata": {},
   "source": [
    "## Extension"
   ]
  },
  {
   "cell_type": "markdown",
   "metadata": {},
   "source": [
    "### Adding a custom implementation for an instance from exponential family distribution"
   ]
  },
  {
   "cell_type": "markdown",
   "metadata": {},
   "source": [
    "You might need a distribution from the exponential distribution family, which has not yet been implemented in `ReactiveMP.`\n",
    "\n",
    "This section shows how you can implement it yourself."
   ]
  },
  {
   "cell_type": "markdown",
   "metadata": {},
   "source": [
    "This example implements `Beta distribution`."
   ]
  },
  {
   "cell_type": "markdown",
   "metadata": {},
   "source": [
    "To add a new distribution, we need to implement the following:\n",
    "\n",
    "1. auxiliary structure for storing `Beta` natural parameters: it is `BetaNaturalParameters` in our example\n",
    "2. `isproper`: the domain check for `BetaNaturalParameters`\n",
    "3. auxiliary functions that convert `BetaNaturalParameters` to vector, distribution, and vice-versa\n",
    "4. `lognormalizer` and `logpdf` for `BetaNaturalParameters`\n",
    "5. subtraction for `BetaNaturalParameters` "
   ]
  },
  {
   "cell_type": "code",
   "execution_count": 18,
   "metadata": {},
   "outputs": [],
   "source": [
    "using RxInfer\n",
    "using Distributions\n",
    "using Base\n",
    "using Random, StableRNGs\n",
    "\n",
    "using Flux              # only used to import optimzers\n",
    "using SpecialFunctions  # only used for loggamma computation\n",
    "using Plots             # only used for visualisatio"
   ]
  },
  {
   "cell_type": "markdown",
   "metadata": {},
   "source": [
    "`BetaNaturalParameters` structure"
   ]
  },
  {
   "cell_type": "code",
   "execution_count": 19,
   "metadata": {},
   "outputs": [],
   "source": [
    "struct BetaNaturalParameters{T <: Real} <: NaturalParameters\n",
    "    α::T\n",
    "    β::T\n",
    "end"
   ]
  },
  {
   "cell_type": "markdown",
   "metadata": {},
   "source": [
    "`isproper` functions"
   ]
  },
  {
   "cell_type": "code",
   "execution_count": 20,
   "metadata": {},
   "outputs": [],
   "source": [
    "ReactiveMP.isproper(params::BetaNaturalParameters) = (params.α > zero(params.α)) && (params.β > zero(params.β))"
   ]
  },
  {
   "cell_type": "markdown",
   "metadata": {},
   "source": [
    "Needed axillary \"convert\" functions"
   ]
  },
  {
   "cell_type": "code",
   "execution_count": 21,
   "metadata": {},
   "outputs": [],
   "source": [
    "ReactiveMP.naturalparams(dist::Beta) = BetaNaturalParameters(dist.α, dist.β)\n",
    "\n",
    "function Base.convert(::Type{Distribution}, η::BetaNaturalParameters)\n",
    "    return Beta(η.α, η.β)\n",
    "end\n",
    "\n",
    "function Base.vec(p::BetaNaturalParameters)\n",
    "    return [p.α, p.β]\n",
    "end\n",
    "\n",
    "ReactiveMP.as_naturalparams(::Type{T}, args...) where {T <: BetaNaturalParameters} =\n",
    "    convert(BetaNaturalParameters, args...)\n",
    "\n",
    "function BetaNaturalParameters(v::AbstractVector{T}) where {T <: Real}\n",
    "    @assert length(v) === 2 \"`BetaNaturalParameters` must accept a vector of length `2`.\"\n",
    "    return BetaNaturalParameters(v[1], v[2])\n",
    "end\n",
    "\n",
    "Base.convert(::Type{BetaNaturalParameters}, vector::AbstractVector) =\n",
    "    convert(BetaNaturalParameters{eltype(vector)}, vector)\n",
    "\n",
    "Base.convert(::Type{BetaNaturalParameters{T}}, vector::AbstractVector) where {T} =\n",
    "    BetaNaturalParameters(convert(AbstractVector{T}, vector))"
   ]
  },
  {
   "cell_type": "markdown",
   "metadata": {},
   "source": [
    "`lognormalizer` and `logpdf`"
   ]
  },
  {
   "cell_type": "code",
   "execution_count": 22,
   "metadata": {},
   "outputs": [],
   "source": [
    "ReactiveMP.lognormalizer(params::BetaNaturalParameters) = loggamma(params.α) + loggamma(params.β) - loggamma(params.α + params.β) \n",
    "ReactiveMP.logpdf(params::BetaNaturalParameters, x) = x * (params.α - 1) + (1-x) * (params.β - 1) - lognormalizer(params) "
   ]
  },
  {
   "cell_type": "markdown",
   "metadata": {},
   "source": [
    "Implemeting subtraction for `BetaNaturalParameters`"
   ]
  },
  {
   "cell_type": "code",
   "execution_count": 23,
   "metadata": {},
   "outputs": [],
   "source": [
    "function Base.:-(left::BetaNaturalParameters, right::BetaNaturalParameters)\n",
    "    return BetaNaturalParameters(\n",
    "        left.α - right.α,\n",
    "        left.β - right.β\n",
    "    )\n",
    "end"
   ]
  },
  {
   "cell_type": "markdown",
   "metadata": {},
   "source": [
    "Now, we can specify a model with `Beta distribution` inside `Delta` factor."
   ]
  },
  {
   "cell_type": "markdown",
   "metadata": {},
   "source": [
    "Let's try to do it with a model:\n",
    "$$\n",
    "\\begin{aligned}\n",
    " p(x) & = \\text{Beta}(1, 1),\\\\\n",
    " p(y_{i}) & = \\mathcal{N}(x, 1),\\\\\n",
    "\\end{aligned}\n",
    "$$\n",
    "\n",
    "This model is not particularly interesting, but it is enough to demonstrate the inference of `Beta` distribution parameters trough `CVI.`\n",
    "\n",
    "Note that `Normal` and `Beta` are not a conjugate pair, and even with the `identity` function, the analytical inference is impossible."
   ]
  },
  {
   "cell_type": "markdown",
   "metadata": {},
   "source": [
    "Generation of some syntatic data for the model."
   ]
  },
  {
   "cell_type": "code",
   "execution_count": 24,
   "metadata": {},
   "outputs": [],
   "source": [
    "rng = StableRNG(123)\n",
    "\n",
    "num_samples = 1000\n",
    "mean_point = 0.75\n",
    "y = rand(rng, NormalMeanVariance(mean_point, 0.1), num_samples);"
   ]
  },
  {
   "cell_type": "markdown",
   "metadata": {},
   "source": [
    "Creating a model specification with `@model` macro."
   ]
  },
  {
   "cell_type": "code",
   "execution_count": 25,
   "metadata": {},
   "outputs": [
    {
     "data": {
      "text/plain": [
       "beta_model_meta (generic function with 1 method)"
      ]
     },
     "execution_count": 25,
     "metadata": {},
     "output_type": "execute_result"
    }
   ],
   "source": [
    "@model function normal_with_beta_mean(num_observations)\n",
    "    observations = datavar(Float64, num_observations) \n",
    "    beta ~ Beta(2, 1)\n",
    "    mean ~ identity(beta)\n",
    "    observations .~ NormalMeanVariance(mean, 0.1)\n",
    "end\n",
    "\n",
    "@meta function beta_model_meta(cvi_rng, cvi_num_samples, cvi_num_iterations, optimizer)\n",
    "    identity() -> CVI(cvi_rng, cvi_num_samples, cvi_num_iterations, optimizer)\n",
    "end"
   ]
  },
  {
   "cell_type": "markdown",
   "metadata": {},
   "source": [
    "To run inference we will use `inference` function from `ReactiveMP`.\n",
    "Note, that for running inference for this model we need to init message for `beta`."
   ]
  },
  {
   "cell_type": "code",
   "execution_count": 26,
   "metadata": {},
   "outputs": [
    {
     "data": {
      "text/plain": [
       "Inference results:\n",
       "  Posteriors       | available for (beta)\n",
       "  Free Energy:     | Real[265.744, 266.438, 266.246, 266.725, 266.155]\n"
      ]
     },
     "execution_count": 26,
     "metadata": {},
     "output_type": "execute_result"
    }
   ],
   "source": [
    "res = inference(\n",
    "    model = normal_with_beta_mean(num_samples),\n",
    "    data = (observations = y,),\n",
    "    iterations = 5,\n",
    "    free_energy = true,\n",
    "    returnvars = (beta = KeepLast(),),\n",
    "    initmessages = (beta = Beta(2, 1),),\n",
    "    meta = beta_model_meta(rng, 10, 50, Descent(0.1))\n",
    ")"
   ]
  },
  {
   "cell_type": "code",
   "execution_count": 27,
   "metadata": {},
   "outputs": [
    {
     "data": {
      "text/plain": [
       "(0.7125557890075898, 0.75)"
      ]
     },
     "execution_count": 27,
     "metadata": {},
     "output_type": "execute_result"
    }
   ],
   "source": [
    "mean(res.posteriors[:beta]), mean_point"
   ]
  },
  {
   "cell_type": "markdown",
   "metadata": {},
   "source": [
    "The inference is working!\n",
    "As we can see by mean comparison with our noisy observed point: we obtained a reasonable `Beta` posterior."
   ]
  },
  {
   "cell_type": "markdown",
   "metadata": {},
   "source": [
    "### Using a custom optimizer"
   ]
  },
  {
   "cell_type": "markdown",
   "metadata": {},
   "source": [
    "`CVI` supports only `Flux` optimizers out of the box.\n",
    "\n",
    "Here it is shown how to extend it for a some structure."
   ]
  },
  {
   "cell_type": "markdown",
   "metadata": {},
   "source": [
    "Suppose we have `CustomDescent` structure which we want to use inside `CVI`."
   ]
  },
  {
   "cell_type": "markdown",
   "metadata": {},
   "source": [
    "To do it we need to implement `ReactiveMP.cvi_update!(opt::CustomDescent, λ, ∇)`.\n",
    "\n",
    "`ReactiveMP.cvi_update!` incapsulates gradient step:\n",
    "1. `opt` is used to select your flow\n",
    "2. `λ` is a current point\n",
    "3. `∇` is a gradient value computed inside `CVI`."
   ]
  },
  {
   "cell_type": "code",
   "execution_count": 28,
   "metadata": {},
   "outputs": [],
   "source": [
    "struct CustomDescent \n",
    "    learning_rate::Float64\n",
    "end\n",
    "\n",
    "function ReactiveMP.cvi_update!(opt::CustomDescent, λ, ∇)\n",
    "    return vec(λ) - (opt.learning_rate .* vec(∇))\n",
    "end"
   ]
  },
  {
   "cell_type": "markdown",
   "metadata": {},
   "source": [
    "Let's try to apply it to a model:\n",
    "$$\n",
    "\\begin{aligned}\n",
    " p(x) & = \\mathcal{N}(0, 1),\\\\\n",
    " p(y_{i}) & = \\mathcal{N}(x^2, 1),\\\\\n",
    "\\end{aligned}\n",
    "$$\n",
    "\n",
    "This model is not particularly interesting, but it show how to use `CVI` approximation with a custom structure."
   ]
  },
  {
   "cell_type": "markdown",
   "metadata": {},
   "source": [
    "Let's generate some syntatic data for the model"
   ]
  },
  {
   "cell_type": "code",
   "execution_count": 29,
   "metadata": {},
   "outputs": [],
   "source": [
    "rng = StableRNG(123)\n",
    "num_samples = 100\n",
    "\n",
    "mean_point = 19\n",
    "observations = rand(rng, NormalMeanVariance(mean_point^2, 1), num_samples);"
   ]
  },
  {
   "cell_type": "markdown",
   "metadata": {},
   "source": [
    "To create a model we use `GraphPPL` package and `@model` macro:"
   ]
  },
  {
   "cell_type": "code",
   "execution_count": 30,
   "metadata": {},
   "outputs": [
    {
     "data": {
      "text/plain": [
       "normal_normal_model_meta (generic function with 1 method)"
      ]
     },
     "execution_count": 30,
     "metadata": {},
     "output_type": "execute_result"
    }
   ],
   "source": [
    "f(x) = x ^ 2\n",
    "@model function normal_square_mean(num_observations)\n",
    "    observations = datavar(Float64, num_observations)\n",
    "    latent ~ NormalMeanPrecision(0, 100)\n",
    "    mean ~ f(latent)\n",
    "    observations .~ NormalMeanVariance(mean, 1)\n",
    "end\n",
    "\n",
    "@meta function normal_normal_model_meta(rng, num_samples, num_iterations, optimizer)\n",
    "    f() ->  CVI(rng, num_samples, num_iterations, optimizer, false)\n",
    "end"
   ]
  },
  {
   "cell_type": "markdown",
   "metadata": {},
   "source": [
    "Note we are using optimizer, as a model parameter: `normal_square_mean(..., optimizer)`."
   ]
  },
  {
   "cell_type": "markdown",
   "metadata": {},
   "source": [
    "We will use the `inference` function from `ReactiveMP` to run inference, where we provide an instance of the `CustomDescent` structure:"
   ]
  },
  {
   "cell_type": "markdown",
   "metadata": {},
   "source": [
    "**Side note**:\n",
    "To run the inference for this model, we do not need to init the message for `latent` but with this initialization, the inference procedure is more stable."
   ]
  },
  {
   "cell_type": "code",
   "execution_count": 31,
   "metadata": {},
   "outputs": [
    {
     "data": {
      "text/plain": [
       "(-18.99115645613996, 19)"
      ]
     },
     "execution_count": 31,
     "metadata": {},
     "output_type": "execute_result"
    }
   ],
   "source": [
    "res = inference(\n",
    "    model = normal_square_mean(num_samples),\n",
    "    data = (observations = observations,),\n",
    "    iterations = 10,\n",
    "    free_energy = true,\n",
    "    initmessages = (latent = NormalMeanVariance(0, 100),),\n",
    "    meta = model_meta(rng, 100, 100, CustomDescent(0.1))\n",
    ")\n",
    "\n",
    "mean(res.posteriors[:latent][end]), mean_point"
   ]
  },
  {
   "cell_type": "markdown",
   "metadata": {},
   "source": [
    "The inference is working! \n",
    "\n",
    "**Note**: \n",
    "$x^2$ can not be inverted; the sign information can be lost: -19 and 19 are both equally good solutions."
   ]
  }
 ],
 "metadata": {
  "kernelspec": {
   "display_name": "Julia 1.8.2",
   "language": "julia",
   "name": "julia-1.8"
  },
  "language_info": {
   "file_extension": ".jl",
   "mimetype": "application/julia",
   "name": "julia",
   "version": "1.8.2"
  },
  "orig_nbformat": 4
 },
 "nbformat": 4,
 "nbformat_minor": 2
}
