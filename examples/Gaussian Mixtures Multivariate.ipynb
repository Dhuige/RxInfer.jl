{
 "cells": [
  {
   "cell_type": "markdown",
   "metadata": {},
   "source": [
    "# Multivariate Gaussian Mixture Model"
   ]
  },
  {
   "cell_type": "markdown",
   "metadata": {},
   "source": [
    "The multivariate Gaussian Mixture Model can be represented as:\n",
    "$$\\begin{aligned}\n",
    "    p(\\mathbf{s})   &= \\mathrm{Dir}(\\mathbf{s}|\\boldsymbol{\\alpha}) \\\\\n",
    "    p(\\mathbf{m}_{l}) &=  \\mathcal{N}(m_l|\\boldsymbol{\\mu}_l, \\boldsymbol{\\Sigma}_l) \\\\    \n",
    "    p(\\mathbf{W}_{l}) &=  \\mathcal{W}(\\mathbf{W}_l|\\mathbf{V}_l, \\nu_l) \\\\\n",
    "    p(\\mathbf{z}_i) &=  \\mathrm{Cat}(\\mathbf{z}_i|\\mathbf{s}) \\\\\n",
    "    p(\\mathbf{y}_i) &= \\prod_{l=1}^L \\mathcal{N}\\left(\\mathbf{m}_{l}, \\mathbf{W}_{l}\\right)^{\\mathbf{z}_{i}}\n",
    "\\end{aligned}$$"
   ]
  },
  {
   "cell_type": "code",
   "execution_count": null,
   "metadata": {},
   "outputs": [],
   "source": [
    "ENV[\"GKS_ENCODING\"] = \"utf8\"; # Fix for Plots.jl"
   ]
  },
  {
   "cell_type": "code",
   "execution_count": null,
   "metadata": {},
   "outputs": [],
   "source": [
    "using RxInfer, Plots, Random, LinearAlgebra, BenchmarkTools"
   ]
  },
  {
   "cell_type": "code",
   "execution_count": null,
   "metadata": {},
   "outputs": [],
   "source": [
    "Random.seed!(123)\n",
    "\n",
    "L         = 50.0\n",
    "nmixtures = 6\n",
    "n_samples = 500\n",
    "\n",
    "probvec = ones(nmixtures)\n",
    "probvec = probvec ./ sum(probvec)\n",
    "\n",
    "switch = Categorical(probvec)\n",
    "\n",
    "println(\"Switch distribution: \", Distributions.params(switch))\n",
    "\n",
    "gaussians = map(1:nmixtures) do index\n",
    "    angle      = 2π / nmixtures * (index - 1)\n",
    "    basis_v    = L * [ 1.0, 0.0 ]\n",
    "    rotationm  = [ cos(angle) -sin(angle); sin(angle) cos(angle) ]\n",
    "    mean       = rotationm * basis_v \n",
    "    covariance = Matrix(Hermitian(rotationm * [ 10.0 0.0; 0.0 20.0 ] * transpose(rotationm)))\n",
    "    return MvNormal(mean, covariance)\n",
    "end\n",
    "\n",
    "z = rand(switch, n_samples)\n",
    "y = Vector{Vector{Float64}}(undef, n_samples)\n",
    "\n",
    "for i in 1:n_samples\n",
    "    y[i] = rand(gaussians[z[i]])\n",
    "end"
   ]
  },
  {
   "cell_type": "code",
   "execution_count": null,
   "metadata": {},
   "outputs": [],
   "source": [
    "sdim(n) = (a) -> map(d -> d[n], a)"
   ]
  },
  {
   "cell_type": "code",
   "execution_count": null,
   "metadata": {},
   "outputs": [],
   "source": [
    "let \n",
    "    local p = plot(xlim = (-1.5L, 1.5L), ylim = (-1.5L, 1.5L))\n",
    "\n",
    "    for (index, gaussian) in enumerate(gaussians)\n",
    "        p = contour!(p, range(-2L, 2L, step = 0.25), range(-2L, 2L, step = 0.25), (x, y) -> pdf(gaussian, [ x, y ]), levels = 3, colorbar = false)\n",
    "    end\n",
    "\n",
    "    p = scatter!(y |> sdim(1), y |> sdim(2), ms = 2, alpha = 0.4)\n",
    "\n",
    "    plot(p, size = (600, 400), legend=false)\n",
    "end"
   ]
  },
  {
   "cell_type": "code",
   "execution_count": null,
   "metadata": {},
   "outputs": [],
   "source": [
    "@model function gaussian_mixture_model(rng, nmixtures, n, priors_mean, priors_cov)\n",
    "    \n",
    "    z = randomvar(n)\n",
    "    m = randomvar(nmixtures)\n",
    "    w = randomvar(nmixtures)\n",
    "    \n",
    "    for i in 1:nmixtures        \n",
    "        m[i] ~ MvNormal(μ = priors_mean[i], Σ = priors_cov[i])\n",
    "        w[i] ~ Wishart(3, [ 1e2 0.0; 0.0 1e2 ])\n",
    "    end\n",
    "    \n",
    "    s ~ Dirichlet(ones(nmixtures))\n",
    "\n",
    "    y = datavar(Vector{Float64}, n)\n",
    "    \n",
    "    means = tuple(m...)\n",
    "    precs = tuple(w...)\n",
    "    \n",
    "    for i in 1:n\n",
    "        z[i] ~ Categorical(s) \n",
    "        y[i] ~ NormalMixture(z[i], means, precs)\n",
    "    end\n",
    "    \n",
    "    return s, z, m, w, y\n",
    "end"
   ]
  },
  {
   "cell_type": "code",
   "execution_count": null,
   "metadata": {},
   "outputs": [],
   "source": [
    "rng = MersenneTwister(11)\n",
    "\n",
    "basis_v       = [ 1.0, 0.0 ]\n",
    "approximate_L = 50rand(rng)\n",
    "priors_mean   = []\n",
    "\n",
    "for i in 1:nmixtures\n",
    "    approximate_angle_prior = ((2π + rand(rng)) / nmixtures) * (i - 1)\n",
    "    approximate_basis_v  = approximate_L / 2 * (basis_v .+ rand(rng, 2))\n",
    "    approximate_rotation = [ cos(approximate_angle_prior) -sin(approximate_angle_prior); sin(approximate_angle_prior) cos(approximate_angle_prior) ]\n",
    "    push!(priors_mean,  approximate_rotation * approximate_basis_v)\n",
    "end\n",
    "\n",
    "priors_cov = [ [ 1e2 0.0; 0.0 1e2 ] for _ in 1:nmixtures ]\n",
    "\n",
    "initmarginals = (\n",
    "    s = vague(Dirichlet, nmixtures), \n",
    "    m = [ MvNormalMeanCovariance(prior[1], prior[2]) for prior in zip(priors_mean, priors_cov) ], \n",
    "    w = Wishart(3, [ 1e2 0.0; 0.0 1e2 ])\n",
    ")\n",
    "\n",
    "result = inference(\n",
    "    model = gaussian_mixture_model(rng, nmixtures, length(y), priors_mean, priors_cov), \n",
    "    data  = (y = y,), \n",
    "    constraints   = MeanField(),\n",
    "    initmarginals = initmarginals, \n",
    "    iterations  = 20, \n",
    "    free_energy = true\n",
    ")"
   ]
  },
  {
   "cell_type": "code",
   "execution_count": null,
   "metadata": {},
   "outputs": [],
   "source": [
    "s = result.posteriors[:s]\n",
    "z = result.posteriors[:z]\n",
    "m = result.posteriors[:m]\n",
    "w = result.posteriors[:w]\n",
    "fe = result.free_energy;"
   ]
  },
  {
   "cell_type": "code",
   "execution_count": null,
   "metadata": {},
   "outputs": [],
   "source": [
    "let \n",
    "    local pe = plot(xlim = (-1.5L, 1.5L), ylim = (-1.5L, 1.5L))\n",
    "    local rp = scatter(y |> sdim(1), y |> sdim(2), xlim = (-1.5L, 1.5L), ylim = (-1.5L, 1.5L), legend=false, title=\"Generated\", ms = 2)\n",
    "    local pfe = plot(fe[2:end], label = \"Free Energy\")\n",
    "\n",
    "    e_means = m[end]\n",
    "    e_precs = w[end]\n",
    "\n",
    "    for (e_m, e_w) in zip(e_means, e_precs)\n",
    "        gaussian = MvNormal(mean(e_m), Matrix(Hermitian(mean(inv, e_w))))\n",
    "        pe = contour!(pe, range(-2L, 2L, step = 0.25), range(-2L, 2L, step = 0.25), (x, y) -> pdf(gaussian, [ x, y ]), title=\"Inference result\", legend=false, levels = 7, colorbar = false)\n",
    "    end\n",
    "\n",
    "    plot(rp, pe, pfe, layout = @layout([ a b; c ]))\n",
    "end"
   ]
  },
  {
   "cell_type": "code",
   "execution_count": null,
   "metadata": {},
   "outputs": [],
   "source": [
    "@benchmark inference(\n",
    "    model = gaussian_mixture_model($rng, $nmixtures, length($y), $priors_mean, $priors_cov), \n",
    "    data = (y = $y,), \n",
    "    initmarginals = $initmarginals, \n",
    "    constraints = MeanField(),\n",
    "    iterations = 15, \n",
    "    free_energy = true\n",
    ")"
   ]
  }
 ],
 "metadata": {
  "kernelspec": {
   "display_name": "Julia 1.7.3",
   "language": "julia",
   "name": "julia-1.7"
  },
  "language_info": {
   "file_extension": ".jl",
   "mimetype": "application/julia",
   "name": "julia",
   "version": "1.8.0"
  }
 },
 "nbformat": 4,
 "nbformat_minor": 4
}
