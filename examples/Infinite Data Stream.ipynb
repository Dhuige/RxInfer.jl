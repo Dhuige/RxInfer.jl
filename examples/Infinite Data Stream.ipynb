{
 "cells": [
  {
   "cell_type": "markdown",
   "metadata": {},
   "source": [
    "# Infinite Data Stream"
   ]
  },
  {
   "cell_type": "code",
   "execution_count": 3,
   "metadata": {},
   "outputs": [
    {
     "name": "stderr",
     "output_type": "stream",
     "text": [
      "\u001b[32m\u001b[1m  Activating\u001b[22m\u001b[39m project at `~/.julia/dev/RxInfer/examples`\n"
     ]
    }
   ],
   "source": [
    "# Activate local environment, see `Project.toml`\n",
    "import Pkg; Pkg.activate(\".\"); Pkg.instantiate();"
   ]
  },
  {
   "cell_type": "code",
   "execution_count": 4,
   "metadata": {},
   "outputs": [
    {
     "name": "stderr",
     "output_type": "stream",
     "text": [
      "┌ Info: Precompiling RxInfer [86711068-29c9-4ff7-b620-ae75d7495b3d]\n",
      "└ @ Base loading.jl:1662\n"
     ]
    }
   ],
   "source": [
    "using RxInfer, Plots"
   ]
  },
  {
   "cell_type": "markdown",
   "metadata": {},
   "source": [
    "We assume that we don't know the shape of our signal in advance. So we try to fit a simple gaussian random walk with unknown observation noise:"
   ]
  },
  {
   "cell_type": "code",
   "execution_count": 5,
   "metadata": {},
   "outputs": [
    {
     "data": {
      "text/plain": [
       "getobservations (generic function with 1 method)"
      ]
     },
     "execution_count": 5,
     "metadata": {},
     "output_type": "execute_result"
    }
   ],
   "source": [
    "mutable struct DataGenerationProcess\n",
    "    previous :: Float64\n",
    "    process_noise :: Float64\n",
    "    observation_noise :: Float64\n",
    "    history :: Vector{Float64}\n",
    "    observations :: Vector{Float64}\n",
    "end\n",
    "\n",
    "function getnext!(process::DataGenerationProcess)\n",
    "    process.previous = process.previous + 1.0\n",
    "    next = 10sin(0.1 * process.previous)\n",
    "    observation = next + rand(Normal(0.0, process.observation_noise))\n",
    "    push!(process.history, next)\n",
    "    push!(process.observations, observation)\n",
    "    return observation\n",
    "end\n",
    "\n",
    "function gethistory(process::DataGenerationProcess)\n",
    "    return process.history\n",
    "end\n",
    "\n",
    "function getobservations(process::DataGenerationProcess)\n",
    "    return process.observations\n",
    "end"
   ]
  },
  {
   "cell_type": "code",
   "execution_count": 6,
   "metadata": {},
   "outputs": [
    {
     "data": {
      "text/plain": [
       "filter_constraints (generic function with 1 method)"
      ]
     },
     "execution_count": 6,
     "metadata": {},
     "output_type": "execute_result"
    }
   ],
   "source": [
    "@model function kalman_filter()\n",
    "    \n",
    "    # Reactive inputs\n",
    "    x_t_min_mean = datavar(Float64)\n",
    "    x_t_min_var  = datavar(Float64)\n",
    "    τ_shape = datavar(Float64)\n",
    "    τ_rate  = datavar(Float64)\n",
    "\n",
    "    τ ~ Gamma(shape = τ_shape, rate = τ_rate)\n",
    "    \n",
    "    x_t_min ~ Normal(mean = x_t_min_mean, variance = x_t_min_var)\n",
    "    x_t     ~ Normal(mean = x_t_min, precision = 1.0)\n",
    "    \n",
    "    y = datavar(Float64)\n",
    "    y ~ Normal(mean = x_t, precision = τ)\n",
    "    \n",
    "end\n",
    "\n",
    "\n",
    "@constraints function filter_constraints()\n",
    "    q(x_t, τ) = q(x_t)q(τ)\n",
    "end"
   ]
  },
  {
   "cell_type": "code",
   "execution_count": 7,
   "metadata": {},
   "outputs": [
    {
     "data": {
      "text/plain": [
       "100"
      ]
     },
     "execution_count": 7,
     "metadata": {},
     "output_type": "execute_result"
    }
   ],
   "source": [
    "# We force stop after n data points\n",
    "n = 100"
   ]
  },
  {
   "cell_type": "code",
   "execution_count": 8,
   "metadata": {},
   "outputs": [],
   "source": [
    "process = DataGenerationProcess(0.0, 1.0, 10.0, Float64[], Float64[])\n",
    "# stream = timer(100, 100) |> map_to(process) |> map(Float64, getnext!) |> take(n)\n",
    "stream = from(1:n) |> map_to(process) |> map(Float64, getnext!)\n",
    "\n",
    "keystream = stream |> map(NamedTuple{(:y,), Tuple{Float64}}, (d) -> (y = d, ))\n",
    "\n",
    "static = keep(eltype(keystream))\n",
    "subscribe!(keystream, static)\n",
    "static = collect(static);"
   ]
  },
  {
   "cell_type": "code",
   "execution_count": 97,
   "metadata": {},
   "outputs": [
    {
     "data": {
      "text/plain": [
       "testme (generic function with 1 method)"
      ]
     },
     "execution_count": 97,
     "metadata": {},
     "output_type": "execute_result"
    }
   ],
   "source": [
    "function testme(datastream)\n",
    "    \n",
    "    autoupdates = @autoupdates begin \n",
    "        x_t_min_mean, x_t_min_var = mean_var(q(x_t))\n",
    "        τ_shape = shape(q(τ))\n",
    "        τ_rate = rate(q(τ))\n",
    "    end\n",
    "    \n",
    "    engine = rxinference(\n",
    "        model = kalman_filter(),\n",
    "        constraints = filter_constraints(),\n",
    "        datastream = datastream,\n",
    "        autoupdates = autoupdates,\n",
    "        returnvars = (:x_t, :τ),\n",
    "        keephistory = 10_000,\n",
    "        historyvars = KeepEach(),\n",
    "        initmarginals = (\n",
    "            x_t = NormalMeanVariance(0.0, 1e3),\n",
    "            τ = GammaShapeRate(1.0, 1.0)\n",
    "        ),\n",
    "        iterations = 15,\n",
    "        free_energy = true,\n",
    "        autostart = true,\n",
    "    );\n",
    "    \n",
    "    # subscribe!(engine.posteriors[:x_t], void())\n",
    "    \n",
    "    # RxInfer.start(engine)\n",
    "    \n",
    "    return engine\n",
    "end"
   ]
  },
  {
   "cell_type": "code",
   "execution_count": 98,
   "metadata": {},
   "outputs": [
    {
     "name": "stdout",
     "output_type": "stream",
     "text": [
      "  0.699543 seconds (1.71 M allocations: 90.880 MiB, 4.25% gc time, 92.67% compilation time)\n"
     ]
    },
    {
     "data": {
      "image/svg+xml": [
       "<?xml version=\"1.0\" encoding=\"utf-8\"?>\n",
       "<svg xmlns=\"http://www.w3.org/2000/svg\" xmlns:xlink=\"http://www.w3.org/1999/xlink\" width=\"800\" height=\"200\" viewBox=\"0 0 3200 800\">\n",
       "<defs>\n",
       "  <clipPath id=\"clip690\">\n",
       "    <rect x=\"0\" y=\"0\" width=\"3200\" height=\"800\"/>\n",
       "  </clipPath>\n",
       "</defs>\n",
       "<path clip-path=\"url(#clip690)\" d=\"\n",
       "M0 800 L3200 800 L3200 0 L0 0  Z\n",
       "  \" fill=\"#ffffff\" fill-rule=\"evenodd\" fill-opacity=\"1\"/>\n",
       "<defs>\n",
       "  <clipPath id=\"clip691\">\n",
       "    <rect x=\"640\" y=\"0\" width=\"2241\" height=\"800\"/>\n",
       "  </clipPath>\n",
       "</defs>\n",
       "<path clip-path=\"url(#clip690)\" d=\"\n",
       "M186.867 716.048 L1549.23 716.048 L1549.23 47.2441 L186.867 47.2441  Z\n",
       "  \" fill=\"#ffffff\" fill-rule=\"evenodd\" fill-opacity=\"1\"/>\n",
       "<defs>\n",
       "  <clipPath id=\"clip692\">\n",
       "    <rect x=\"186\" y=\"47\" width=\"1363\" height=\"670\"/>\n",
       "  </clipPath>\n",
       "</defs>\n",
       "<polyline clip-path=\"url(#clip692)\" style=\"stroke:#000000; stroke-linecap:butt; stroke-linejoin:round; stroke-width:2; stroke-opacity:0.1; fill:none\" points=\"\n",
       "  212.442,716.048 212.442,47.2441 \n",
       "  \"/>\n",
       "<polyline clip-path=\"url(#clip692)\" style=\"stroke:#000000; stroke-linecap:butt; stroke-linejoin:round; stroke-width:2; stroke-opacity:0.1; fill:none\" points=\"\n",
       "  536.998,716.048 536.998,47.2441 \n",
       "  \"/>\n",
       "<polyline clip-path=\"url(#clip692)\" style=\"stroke:#000000; stroke-linecap:butt; stroke-linejoin:round; stroke-width:2; stroke-opacity:0.1; fill:none\" points=\"\n",
       "  861.555,716.048 861.555,47.2441 \n",
       "  \"/>\n",
       "<polyline clip-path=\"url(#clip692)\" style=\"stroke:#000000; stroke-linecap:butt; stroke-linejoin:round; stroke-width:2; stroke-opacity:0.1; fill:none\" points=\"\n",
       "  1186.11,716.048 1186.11,47.2441 \n",
       "  \"/>\n",
       "<polyline clip-path=\"url(#clip692)\" style=\"stroke:#000000; stroke-linecap:butt; stroke-linejoin:round; stroke-width:2; stroke-opacity:0.1; fill:none\" points=\"\n",
       "  1510.67,716.048 1510.67,47.2441 \n",
       "  \"/>\n",
       "<polyline clip-path=\"url(#clip690)\" style=\"stroke:#000000; stroke-linecap:butt; stroke-linejoin:round; stroke-width:4; stroke-opacity:1; fill:none\" points=\"\n",
       "  186.867,716.048 1549.23,716.048 \n",
       "  \"/>\n",
       "<polyline clip-path=\"url(#clip690)\" style=\"stroke:#000000; stroke-linecap:butt; stroke-linejoin:round; stroke-width:4; stroke-opacity:1; fill:none\" points=\"\n",
       "  212.442,716.048 212.442,697.15 \n",
       "  \"/>\n",
       "<polyline clip-path=\"url(#clip690)\" style=\"stroke:#000000; stroke-linecap:butt; stroke-linejoin:round; stroke-width:4; stroke-opacity:1; fill:none\" points=\"\n",
       "  536.998,716.048 536.998,697.15 \n",
       "  \"/>\n",
       "<polyline clip-path=\"url(#clip690)\" style=\"stroke:#000000; stroke-linecap:butt; stroke-linejoin:round; stroke-width:4; stroke-opacity:1; fill:none\" points=\"\n",
       "  861.555,716.048 861.555,697.15 \n",
       "  \"/>\n",
       "<polyline clip-path=\"url(#clip690)\" style=\"stroke:#000000; stroke-linecap:butt; stroke-linejoin:round; stroke-width:4; stroke-opacity:1; fill:none\" points=\"\n",
       "  1186.11,716.048 1186.11,697.15 \n",
       "  \"/>\n",
       "<polyline clip-path=\"url(#clip690)\" style=\"stroke:#000000; stroke-linecap:butt; stroke-linejoin:round; stroke-width:4; stroke-opacity:1; fill:none\" points=\"\n",
       "  1510.67,716.048 1510.67,697.15 \n",
       "  \"/>\n",
       "<path clip-path=\"url(#clip690)\" d=\"M212.442 753.367 Q208.831 753.367 207.002 756.931 Q205.196 760.473 205.196 767.603 Q205.196 774.709 207.002 778.274 Q208.831 781.815 212.442 781.815 Q216.076 781.815 217.881 778.274 Q219.71 774.709 219.71 767.603 Q219.71 760.473 217.881 756.931 Q216.076 753.367 212.442 753.367 M212.442 749.663 Q218.252 749.663 221.307 754.269 Q224.386 758.853 224.386 767.603 Q224.386 776.329 221.307 780.936 Q218.252 785.519 212.442 785.519 Q206.632 785.519 203.553 780.936 Q200.497 776.329 200.497 767.603 Q200.497 758.853 203.553 754.269 Q206.632 749.663 212.442 749.663 Z\" fill=\"#000000\" fill-rule=\"evenodd\" fill-opacity=\"1\" /><path clip-path=\"url(#clip690)\" d=\"M516.269 780.913 L532.589 780.913 L532.589 784.848 L510.644 784.848 L510.644 780.913 Q513.306 778.158 517.89 773.528 Q522.496 768.876 523.677 767.533 Q525.922 765.01 526.802 763.274 Q527.704 761.515 527.704 759.825 Q527.704 757.07 525.76 755.334 Q523.839 753.598 520.737 753.598 Q518.538 753.598 516.084 754.362 Q513.654 755.126 510.876 756.677 L510.876 751.955 Q513.7 750.82 516.154 750.242 Q518.607 749.663 520.644 749.663 Q526.015 749.663 529.209 752.348 Q532.404 755.033 532.404 759.524 Q532.404 761.654 531.593 763.575 Q530.806 765.473 528.7 768.066 Q528.121 768.737 525.019 771.954 Q521.917 775.149 516.269 780.913 Z\" fill=\"#000000\" fill-rule=\"evenodd\" fill-opacity=\"1\" /><path clip-path=\"url(#clip690)\" d=\"M542.45 750.288 L560.806 750.288 L560.806 754.223 L546.732 754.223 L546.732 762.695 Q547.751 762.348 548.769 762.186 Q549.788 762.001 550.806 762.001 Q556.593 762.001 559.973 765.172 Q563.352 768.343 563.352 773.76 Q563.352 779.339 559.88 782.44 Q556.408 785.519 550.089 785.519 Q547.913 785.519 545.644 785.149 Q543.399 784.778 540.991 784.038 L540.991 779.339 Q543.075 780.473 545.297 781.028 Q547.519 781.584 549.996 781.584 Q554.001 781.584 556.339 779.478 Q558.677 777.371 558.677 773.76 Q558.677 770.149 556.339 768.042 Q554.001 765.936 549.996 765.936 Q548.121 765.936 546.246 766.353 Q544.394 766.769 542.45 767.649 L542.45 750.288 Z\" fill=\"#000000\" fill-rule=\"evenodd\" fill-opacity=\"1\" /><path clip-path=\"url(#clip690)\" d=\"M836.254 750.288 L854.611 750.288 L854.611 754.223 L840.537 754.223 L840.537 762.695 Q841.555 762.348 842.574 762.186 Q843.592 762.001 844.611 762.001 Q850.398 762.001 853.777 765.172 Q857.157 768.343 857.157 773.76 Q857.157 779.339 853.685 782.44 Q850.213 785.519 843.893 785.519 Q841.717 785.519 839.449 785.149 Q837.203 784.778 834.796 784.038 L834.796 779.339 Q836.879 780.473 839.102 781.028 Q841.324 781.584 843.801 781.584 Q847.805 781.584 850.143 779.478 Q852.481 777.371 852.481 773.76 Q852.481 770.149 850.143 768.042 Q847.805 765.936 843.801 765.936 Q841.926 765.936 840.051 766.353 Q838.199 766.769 836.254 767.649 L836.254 750.288 Z\" fill=\"#000000\" fill-rule=\"evenodd\" fill-opacity=\"1\" /><path clip-path=\"url(#clip690)\" d=\"M876.37 753.367 Q872.759 753.367 870.93 756.931 Q869.125 760.473 869.125 767.603 Q869.125 774.709 870.93 778.274 Q872.759 781.815 876.37 781.815 Q880.004 781.815 881.81 778.274 Q883.638 774.709 883.638 767.603 Q883.638 760.473 881.81 756.931 Q880.004 753.367 876.37 753.367 M876.37 749.663 Q882.18 749.663 885.236 754.269 Q888.314 758.853 888.314 767.603 Q888.314 776.329 885.236 780.936 Q882.18 785.519 876.37 785.519 Q870.56 785.519 867.481 780.936 Q864.425 776.329 864.425 767.603 Q864.425 758.853 867.481 754.269 Q870.56 749.663 876.37 749.663 Z\" fill=\"#000000\" fill-rule=\"evenodd\" fill-opacity=\"1\" /><path clip-path=\"url(#clip690)\" d=\"M1159.97 750.288 L1182.19 750.288 L1182.19 752.279 L1169.64 784.848 L1164.76 784.848 L1176.56 754.223 L1159.97 754.223 L1159.97 750.288 Z\" fill=\"#000000\" fill-rule=\"evenodd\" fill-opacity=\"1\" /><path clip-path=\"url(#clip690)\" d=\"M1191.35 750.288 L1209.71 750.288 L1209.71 754.223 L1195.64 754.223 L1195.64 762.695 Q1196.66 762.348 1197.67 762.186 Q1198.69 762.001 1199.71 762.001 Q1205.5 762.001 1208.88 765.172 Q1212.26 768.343 1212.26 773.76 Q1212.26 779.339 1208.79 782.44 Q1205.31 785.519 1198.99 785.519 Q1196.82 785.519 1194.55 785.149 Q1192.3 784.778 1189.9 784.038 L1189.9 779.339 Q1191.98 780.473 1194.2 781.028 Q1196.42 781.584 1198.9 781.584 Q1202.91 781.584 1205.24 779.478 Q1207.58 777.371 1207.58 773.76 Q1207.58 770.149 1205.24 768.042 Q1202.91 765.936 1198.9 765.936 Q1197.03 765.936 1195.15 766.353 Q1193.3 766.769 1191.35 767.649 L1191.35 750.288 Z\" fill=\"#000000\" fill-rule=\"evenodd\" fill-opacity=\"1\" /><path clip-path=\"url(#clip690)\" d=\"M1470.28 780.913 L1477.91 780.913 L1477.91 754.547 L1469.6 756.214 L1469.6 751.955 L1477.87 750.288 L1482.54 750.288 L1482.54 780.913 L1490.18 780.913 L1490.18 784.848 L1470.28 784.848 L1470.28 780.913 Z\" fill=\"#000000\" fill-rule=\"evenodd\" fill-opacity=\"1\" /><path clip-path=\"url(#clip690)\" d=\"M1509.63 753.367 Q1506.02 753.367 1504.19 756.931 Q1502.38 760.473 1502.38 767.603 Q1502.38 774.709 1504.19 778.274 Q1506.02 781.815 1509.63 781.815 Q1513.26 781.815 1515.07 778.274 Q1516.9 774.709 1516.9 767.603 Q1516.9 760.473 1515.07 756.931 Q1513.26 753.367 1509.63 753.367 M1509.63 749.663 Q1515.44 749.663 1518.49 754.269 Q1521.57 758.853 1521.57 767.603 Q1521.57 776.329 1518.49 780.936 Q1515.44 785.519 1509.63 785.519 Q1503.82 785.519 1500.74 780.936 Q1497.68 776.329 1497.68 767.603 Q1497.68 758.853 1500.74 754.269 Q1503.82 749.663 1509.63 749.663 Z\" fill=\"#000000\" fill-rule=\"evenodd\" fill-opacity=\"1\" /><path clip-path=\"url(#clip690)\" d=\"M1539.79 753.367 Q1536.18 753.367 1534.35 756.931 Q1532.54 760.473 1532.54 767.603 Q1532.54 774.709 1534.35 778.274 Q1536.18 781.815 1539.79 781.815 Q1543.42 781.815 1545.23 778.274 Q1547.06 774.709 1547.06 767.603 Q1547.06 760.473 1545.23 756.931 Q1543.42 753.367 1539.79 753.367 M1539.79 749.663 Q1545.6 749.663 1548.65 754.269 Q1551.73 758.853 1551.73 767.603 Q1551.73 776.329 1548.65 780.936 Q1545.6 785.519 1539.79 785.519 Q1533.98 785.519 1530.9 780.936 Q1527.84 776.329 1527.84 767.603 Q1527.84 758.853 1530.9 754.269 Q1533.98 749.663 1539.79 749.663 Z\" fill=\"#000000\" fill-rule=\"evenodd\" fill-opacity=\"1\" /><polyline clip-path=\"url(#clip692)\" style=\"stroke:#000000; stroke-linecap:butt; stroke-linejoin:round; stroke-width:2; stroke-opacity:0.1; fill:none\" points=\"\n",
       "  186.867,642.105 1549.23,642.105 \n",
       "  \"/>\n",
       "<polyline clip-path=\"url(#clip692)\" style=\"stroke:#000000; stroke-linecap:butt; stroke-linejoin:round; stroke-width:2; stroke-opacity:0.1; fill:none\" points=\"\n",
       "  186.867,518.154 1549.23,518.154 \n",
       "  \"/>\n",
       "<polyline clip-path=\"url(#clip692)\" style=\"stroke:#000000; stroke-linecap:butt; stroke-linejoin:round; stroke-width:2; stroke-opacity:0.1; fill:none\" points=\"\n",
       "  186.867,394.203 1549.23,394.203 \n",
       "  \"/>\n",
       "<polyline clip-path=\"url(#clip692)\" style=\"stroke:#000000; stroke-linecap:butt; stroke-linejoin:round; stroke-width:2; stroke-opacity:0.1; fill:none\" points=\"\n",
       "  186.867,270.252 1549.23,270.252 \n",
       "  \"/>\n",
       "<polyline clip-path=\"url(#clip692)\" style=\"stroke:#000000; stroke-linecap:butt; stroke-linejoin:round; stroke-width:2; stroke-opacity:0.1; fill:none\" points=\"\n",
       "  186.867,146.301 1549.23,146.301 \n",
       "  \"/>\n",
       "<polyline clip-path=\"url(#clip690)\" style=\"stroke:#000000; stroke-linecap:butt; stroke-linejoin:round; stroke-width:4; stroke-opacity:1; fill:none\" points=\"\n",
       "  186.867,716.048 186.867,47.2441 \n",
       "  \"/>\n",
       "<polyline clip-path=\"url(#clip690)\" style=\"stroke:#000000; stroke-linecap:butt; stroke-linejoin:round; stroke-width:4; stroke-opacity:1; fill:none\" points=\"\n",
       "  186.867,642.105 205.764,642.105 \n",
       "  \"/>\n",
       "<polyline clip-path=\"url(#clip690)\" style=\"stroke:#000000; stroke-linecap:butt; stroke-linejoin:round; stroke-width:4; stroke-opacity:1; fill:none\" points=\"\n",
       "  186.867,518.154 205.764,518.154 \n",
       "  \"/>\n",
       "<polyline clip-path=\"url(#clip690)\" style=\"stroke:#000000; stroke-linecap:butt; stroke-linejoin:round; stroke-width:4; stroke-opacity:1; fill:none\" points=\"\n",
       "  186.867,394.203 205.764,394.203 \n",
       "  \"/>\n",
       "<polyline clip-path=\"url(#clip690)\" style=\"stroke:#000000; stroke-linecap:butt; stroke-linejoin:round; stroke-width:4; stroke-opacity:1; fill:none\" points=\"\n",
       "  186.867,270.252 205.764,270.252 \n",
       "  \"/>\n",
       "<polyline clip-path=\"url(#clip690)\" style=\"stroke:#000000; stroke-linecap:butt; stroke-linejoin:round; stroke-width:4; stroke-opacity:1; fill:none\" points=\"\n",
       "  186.867,146.301 205.764,146.301 \n",
       "  \"/>\n",
       "<path clip-path=\"url(#clip690)\" d=\"M46.9921 642.556 L76.6679 642.556 L76.6679 646.491 L46.9921 646.491 L46.9921 642.556 Z\" fill=\"#000000\" fill-rule=\"evenodd\" fill-opacity=\"1\" /><path clip-path=\"url(#clip690)\" d=\"M87.5706 655.45 L95.2095 655.45 L95.2095 629.084 L86.8993 630.751 L86.8993 626.492 L95.1632 624.825 L99.8391 624.825 L99.8391 655.45 L107.478 655.45 L107.478 659.385 L87.5706 659.385 L87.5706 655.45 Z\" fill=\"#000000\" fill-rule=\"evenodd\" fill-opacity=\"1\" /><path clip-path=\"url(#clip690)\" d=\"M126.922 627.904 Q123.311 627.904 121.482 631.468 Q119.677 635.01 119.677 642.14 Q119.677 649.246 121.482 652.811 Q123.311 656.353 126.922 656.353 Q130.556 656.353 132.362 652.811 Q134.191 649.246 134.191 642.14 Q134.191 635.01 132.362 631.468 Q130.556 627.904 126.922 627.904 M126.922 624.2 Q132.732 624.2 135.788 628.806 Q138.867 633.39 138.867 642.14 Q138.867 650.866 135.788 655.473 Q132.732 660.056 126.922 660.056 Q121.112 660.056 118.033 655.473 Q114.978 650.866 114.978 642.14 Q114.978 633.39 118.033 628.806 Q121.112 624.2 126.922 624.2 Z\" fill=\"#000000\" fill-rule=\"evenodd\" fill-opacity=\"1\" /><path clip-path=\"url(#clip690)\" d=\"M78.1494 518.605 L107.825 518.605 L107.825 522.54 L78.1494 522.54 L78.1494 518.605 Z\" fill=\"#000000\" fill-rule=\"evenodd\" fill-opacity=\"1\" /><path clip-path=\"url(#clip690)\" d=\"M117.964 500.874 L136.32 500.874 L136.32 504.809 L122.246 504.809 L122.246 513.281 Q123.265 512.934 124.283 512.772 Q125.302 512.587 126.32 512.587 Q132.107 512.587 135.487 515.758 Q138.867 518.929 138.867 524.346 Q138.867 529.925 135.394 533.026 Q131.922 536.105 125.603 536.105 Q123.427 536.105 121.158 535.735 Q118.913 535.364 116.506 534.624 L116.506 529.925 Q118.589 531.059 120.811 531.614 Q123.033 532.17 125.51 532.17 Q129.515 532.17 131.853 530.063 Q134.191 527.957 134.191 524.346 Q134.191 520.735 131.853 518.628 Q129.515 516.522 125.51 516.522 Q123.635 516.522 121.76 516.939 Q119.908 517.355 117.964 518.235 L117.964 500.874 Z\" fill=\"#000000\" fill-rule=\"evenodd\" fill-opacity=\"1\" /><path clip-path=\"url(#clip690)\" d=\"M126.922 380.001 Q123.311 380.001 121.482 383.566 Q119.677 387.108 119.677 394.237 Q119.677 401.344 121.482 404.909 Q123.311 408.45 126.922 408.45 Q130.556 408.45 132.362 404.909 Q134.191 401.344 134.191 394.237 Q134.191 387.108 132.362 383.566 Q130.556 380.001 126.922 380.001 M126.922 376.298 Q132.732 376.298 135.788 380.904 Q138.867 385.487 138.867 394.237 Q138.867 402.964 135.788 407.571 Q132.732 412.154 126.922 412.154 Q121.112 412.154 118.033 407.571 Q114.978 402.964 114.978 394.237 Q114.978 385.487 118.033 380.904 Q121.112 376.298 126.922 376.298 Z\" fill=\"#000000\" fill-rule=\"evenodd\" fill-opacity=\"1\" /><path clip-path=\"url(#clip690)\" d=\"M117.964 252.972 L136.32 252.972 L136.32 256.907 L122.246 256.907 L122.246 265.379 Q123.265 265.032 124.283 264.87 Q125.302 264.685 126.32 264.685 Q132.107 264.685 135.487 267.856 Q138.867 271.027 138.867 276.444 Q138.867 282.022 135.394 285.124 Q131.922 288.203 125.603 288.203 Q123.427 288.203 121.158 287.833 Q118.913 287.462 116.506 286.721 L116.506 282.022 Q118.589 283.157 120.811 283.712 Q123.033 284.268 125.51 284.268 Q129.515 284.268 131.853 282.161 Q134.191 280.055 134.191 276.444 Q134.191 272.833 131.853 270.726 Q129.515 268.62 125.51 268.62 Q123.635 268.62 121.76 269.036 Q119.908 269.453 117.964 270.333 L117.964 252.972 Z\" fill=\"#000000\" fill-rule=\"evenodd\" fill-opacity=\"1\" /><path clip-path=\"url(#clip690)\" d=\"M87.5706 159.645 L95.2095 159.645 L95.2095 133.28 L86.8993 134.946 L86.8993 130.687 L95.1632 129.021 L99.8391 129.021 L99.8391 159.645 L107.478 159.645 L107.478 163.581 L87.5706 163.581 L87.5706 159.645 Z\" fill=\"#000000\" fill-rule=\"evenodd\" fill-opacity=\"1\" /><path clip-path=\"url(#clip690)\" d=\"M126.922 132.099 Q123.311 132.099 121.482 135.664 Q119.677 139.206 119.677 146.335 Q119.677 153.442 121.482 157.006 Q123.311 160.548 126.922 160.548 Q130.556 160.548 132.362 157.006 Q134.191 153.442 134.191 146.335 Q134.191 139.206 132.362 135.664 Q130.556 132.099 126.922 132.099 M126.922 128.396 Q132.732 128.396 135.788 133.002 Q138.867 137.585 138.867 146.335 Q138.867 155.062 135.788 159.669 Q132.732 164.252 126.922 164.252 Q121.112 164.252 118.033 159.669 Q114.978 155.062 114.978 146.335 Q114.978 137.585 118.033 133.002 Q121.112 128.396 126.922 128.396 Z\" fill=\"#000000\" fill-rule=\"evenodd\" fill-opacity=\"1\" /><path clip-path=\"url(#clip692)\" d=\"\n",
       "M225.424 284.775 L238.406 333.603 L251.389 313.995 L264.371 298.153 L277.353 295.858 L290.335 289.323 L303.318 311.387 L316.3 299.439 L329.282 298.929 L342.264 280.726 \n",
       "  L355.247 249.765 L368.229 203.91 L381.211 180.77 L394.193 218.75 L407.176 258.676 L420.158 246.961 L433.14 279.498 L446.123 256.103 L459.105 279.878 L472.087 295.427 \n",
       "  L485.069 328 L498.052 317.573 L511.034 274.894 L524.016 265.59 L536.998 293.08 L549.981 301.295 L562.963 342.941 L575.945 332.474 L588.927 325.155 L601.91 320.754 \n",
       "  L614.892 362.94 L627.874 361.596 L640.857 332.684 L653.839 387.328 L666.821 412.301 L679.803 428.329 L692.786 503.613 L705.768 517.489 L718.75 572.142 L731.732 570.772 \n",
       "  L744.715 609.614 L757.697 619.035 L770.679 597.952 L783.661 590.321 L796.644 626.59 L809.626 675.105 L822.608 694.356 L835.591 697.119 L848.573 657.284 L861.555 665.218 \n",
       "  L874.537 657.271 L887.52 677.297 L900.502 660.029 L913.484 629.251 L926.466 633.932 L939.449 669.311 L952.431 637.124 L965.413 593.158 L978.396 611.371 L991.378 599.914 \n",
       "  L1004.36 586.064 L1017.34 584.511 L1030.32 598.072 L1043.31 595.575 L1056.29 574.67 L1069.27 544.661 L1082.25 506.716 L1095.24 506.154 L1108.22 476.615 L1121.2 459.171 \n",
       "  L1134.18 408.285 L1147.16 398.386 L1160.15 397.519 L1173.13 441.992 L1186.11 393.924 L1199.09 426.569 L1212.08 389.813 L1225.06 355.49 L1238.04 362.11 L1251.02 327.983 \n",
       "  L1264.01 351.986 L1276.99 355.879 L1289.97 365.879 L1302.95 393.207 L1315.93 339.669 L1328.92 315.638 L1341.9 301.098 L1354.88 290.883 L1367.86 329.115 L1380.85 355.793 \n",
       "  L1393.83 365.152 L1406.81 327.472 L1419.79 295.713 L1432.77 341.151 L1445.76 343.4 L1458.74 340.942 L1471.72 340.763 L1484.7 343.038 L1497.69 396.724 L1510.67 396.494 \n",
       "  L1510.67 232.292 L1497.69 232.64 L1484.7 179.164 L1471.72 176.853 L1458.74 177.063 L1445.76 179.634 L1432.77 177.594 L1419.79 132.477 L1406.81 164.426 L1393.83 202.277 \n",
       "  L1380.85 193.011 L1367.86 166.513 L1354.88 128.481 L1341.9 138.815 L1328.92 153.566 L1315.93 177.902 L1302.95 231.802 L1289.97 204.56 L1276.99 194.644 L1264.01 190.925 \n",
       "  L1251.02 167.217 L1238.04 201.699 L1225.06 195.411 L1212.08 230.213 L1199.09 267.442 L1186.11 235.231 L1173.13 283.742 L1160.15 239.497 L1147.16 240.402 L1134.18 250.447 \n",
       "  L1121.2 301.598 L1108.22 318.989 L1095.24 348.521 L1082.25 349.027 L1069.27 387.017 L1056.29 416.923 L1043.31 437.651 L1030.32 439.97 L1017.34 426.313 L1004.36 427.836 \n",
       "  L991.378 441.773 L978.396 453.417 L965.413 435.524 L952.431 479.929 L939.449 512.337 L926.466 477.125 L913.484 472.499 L900.502 503.476 L887.52 520.9 L874.537 501.134 \n",
       "  L861.555 509.44 L848.573 502.066 L835.591 542.699 L822.608 540.608 L809.626 522.31 L796.644 474.986 L783.661 439.62 L770.679 448.126 L757.697 470.404 L744.715 462.44 \n",
       "  L731.732 425.48 L718.75 428.788 L705.768 376.616 L692.786 364.773 L679.803 292.068 L666.821 276.557 L653.839 252.368 L640.857 198.701 L627.874 227.717 L614.892 229.092 \n",
       "  L601.91 187.215 L588.927 191.435 L575.945 198.804 L562.963 209.606 L549.981 168.629 L536.998 160.624 L524.016 133.693 L511.034 143.62 L498.052 187.383 L485.069 198.277 \n",
       "  L472.087 166.614 L459.105 151.897 L446.123 129.436 L433.14 154.521 L420.158 124.09 L407.176 138.048 L394.193 101.294 L381.211 66.1725 L368.229 91.953 L355.247 141.162 \n",
       "  L342.264 173.15 L329.282 192.128 L316.3 194.122 L303.318 209.076 L290.335 191.718 L277.353 204.683 L264.371 216.277 L251.389 245.247 L238.406 279.867 L225.424 235.23 \n",
       "   Z\n",
       "  \" fill=\"#009af9\" fill-rule=\"evenodd\" fill-opacity=\"0.5\"/>\n",
       "<polyline clip-path=\"url(#clip692)\" style=\"stroke:#009af9; stroke-linecap:butt; stroke-linejoin:round; stroke-width:4; stroke-opacity:1; fill:none\" points=\"\n",
       "  225.424,260.003 238.406,306.735 251.389,279.621 264.371,257.215 277.353,250.271 290.335,240.521 303.318,260.231 316.3,246.78 329.282,245.529 342.264,226.938 \n",
       "  355.247,195.464 368.229,147.931 381.211,123.471 394.193,160.022 407.176,198.362 420.158,185.525 433.14,217.009 446.123,192.769 459.105,215.888 472.087,231.02 \n",
       "  485.069,263.139 498.052,252.478 511.034,209.257 524.016,199.642 536.998,226.852 549.981,234.962 562.963,276.274 575.945,265.639 588.927,258.295 601.91,253.984 \n",
       "  614.892,296.016 627.874,294.656 640.857,265.693 653.839,319.848 666.821,344.429 679.803,360.198 692.786,434.193 705.768,447.053 718.75,500.465 731.732,498.126 \n",
       "  744.715,536.027 757.697,544.719 770.679,523.039 783.661,514.97 796.644,550.788 809.626,598.707 822.608,617.482 835.591,619.909 848.573,579.675 861.555,587.329 \n",
       "  874.537,579.203 887.52,599.099 900.502,581.752 913.484,550.875 926.466,555.529 939.449,590.824 952.431,558.526 965.413,514.341 978.396,532.394 991.378,520.843 \n",
       "  1004.36,506.95 1017.34,505.412 1030.32,519.021 1043.31,516.613 1056.29,495.796 1069.27,465.839 1082.25,427.872 1095.24,427.338 1108.22,397.802 1121.2,380.385 \n",
       "  1134.18,329.366 1147.16,319.394 1160.15,318.508 1173.13,362.867 1186.11,314.577 1199.09,347.006 1212.08,310.013 1225.06,275.45 1238.04,281.905 1251.02,247.6 \n",
       "  1264.01,271.456 1276.99,275.261 1289.97,285.22 1302.95,312.504 1315.93,258.785 1328.92,234.602 1341.9,219.956 1354.88,209.682 1367.86,247.814 1380.85,274.402 \n",
       "  1393.83,283.714 1406.81,245.949 1419.79,214.095 1432.77,259.372 1445.76,261.517 1458.74,259.003 1471.72,258.808 1484.7,261.101 1497.69,314.682 1510.67,314.393 \n",
       "  \n",
       "  \"/>\n",
       "<path clip-path=\"url(#clip690)\" d=\"\n",
       "M1300.01 173.218 L1503.81 173.218 L1503.81 69.5376 L1300.01 69.5376  Z\n",
       "  \" fill=\"#ffffff\" fill-rule=\"evenodd\" fill-opacity=\"1\"/>\n",
       "<polyline clip-path=\"url(#clip690)\" style=\"stroke:#000000; stroke-linecap:butt; stroke-linejoin:round; stroke-width:4; stroke-opacity:1; fill:none\" points=\"\n",
       "  1300.01,173.218 1503.81,173.218 1503.81,69.5376 1300.01,69.5376 1300.01,173.218 \n",
       "  \"/>\n",
       "<polyline clip-path=\"url(#clip690)\" style=\"stroke:#009af9; stroke-linecap:butt; stroke-linejoin:round; stroke-width:4; stroke-opacity:1; fill:none\" points=\"\n",
       "  1315.15,121.378 1405.97,121.378 \n",
       "  \"/>\n",
       "<path clip-path=\"url(#clip690)\" d=\"M1434.95 141.065 Q1433.15 145.695 1431.43 147.107 Q1429.72 148.519 1426.85 148.519 L1423.45 148.519 L1423.45 144.954 L1425.95 144.954 Q1427.71 144.954 1428.68 144.12 Q1429.65 143.287 1430.83 140.185 L1431.59 138.241 L1421.11 112.732 L1425.62 112.732 L1433.72 133.009 L1441.83 112.732 L1446.34 112.732 L1434.95 141.065 Z\" fill=\"#000000\" fill-rule=\"evenodd\" fill-opacity=\"1\" /><path clip-path=\"url(#clip690)\" d=\"M1453.63 134.722 L1461.27 134.722 L1461.27 108.357 L1452.96 110.023 L1452.96 105.764 L1461.22 104.098 L1465.9 104.098 L1465.9 134.722 L1473.54 134.722 L1473.54 138.658 L1453.63 138.658 L1453.63 134.722 Z\" fill=\"#000000\" fill-rule=\"evenodd\" fill-opacity=\"1\" /><path clip-path=\"url(#clip690)\" d=\"\n",
       "M1790.4 716.048 L3152.76 716.048 L3152.76 47.2441 L1790.4 47.2441  Z\n",
       "  \" fill=\"#ffffff\" fill-rule=\"evenodd\" fill-opacity=\"1\"/>\n",
       "<defs>\n",
       "  <clipPath id=\"clip693\">\n",
       "    <rect x=\"1790\" y=\"47\" width=\"1363\" height=\"670\"/>\n",
       "  </clipPath>\n",
       "</defs>\n",
       "<polyline clip-path=\"url(#clip693)\" style=\"stroke:#000000; stroke-linecap:butt; stroke-linejoin:round; stroke-width:2; stroke-opacity:0.1; fill:none\" points=\"\n",
       "  1920.76,716.048 1920.76,47.2441 \n",
       "  \"/>\n",
       "<polyline clip-path=\"url(#clip693)\" style=\"stroke:#000000; stroke-linecap:butt; stroke-linejoin:round; stroke-width:2; stroke-opacity:0.1; fill:none\" points=\"\n",
       "  2104.36,716.048 2104.36,47.2441 \n",
       "  \"/>\n",
       "<polyline clip-path=\"url(#clip693)\" style=\"stroke:#000000; stroke-linecap:butt; stroke-linejoin:round; stroke-width:2; stroke-opacity:0.1; fill:none\" points=\"\n",
       "  2287.97,716.048 2287.97,47.2441 \n",
       "  \"/>\n",
       "<polyline clip-path=\"url(#clip693)\" style=\"stroke:#000000; stroke-linecap:butt; stroke-linejoin:round; stroke-width:2; stroke-opacity:0.1; fill:none\" points=\"\n",
       "  2471.58,716.048 2471.58,47.2441 \n",
       "  \"/>\n",
       "<polyline clip-path=\"url(#clip693)\" style=\"stroke:#000000; stroke-linecap:butt; stroke-linejoin:round; stroke-width:2; stroke-opacity:0.1; fill:none\" points=\"\n",
       "  2655.18,716.048 2655.18,47.2441 \n",
       "  \"/>\n",
       "<polyline clip-path=\"url(#clip693)\" style=\"stroke:#000000; stroke-linecap:butt; stroke-linejoin:round; stroke-width:2; stroke-opacity:0.1; fill:none\" points=\"\n",
       "  2838.79,716.048 2838.79,47.2441 \n",
       "  \"/>\n",
       "<polyline clip-path=\"url(#clip693)\" style=\"stroke:#000000; stroke-linecap:butt; stroke-linejoin:round; stroke-width:2; stroke-opacity:0.1; fill:none\" points=\"\n",
       "  3022.4,716.048 3022.4,47.2441 \n",
       "  \"/>\n",
       "<polyline clip-path=\"url(#clip690)\" style=\"stroke:#000000; stroke-linecap:butt; stroke-linejoin:round; stroke-width:4; stroke-opacity:1; fill:none\" points=\"\n",
       "  1790.4,716.048 3152.76,716.048 \n",
       "  \"/>\n",
       "<polyline clip-path=\"url(#clip690)\" style=\"stroke:#000000; stroke-linecap:butt; stroke-linejoin:round; stroke-width:4; stroke-opacity:1; fill:none\" points=\"\n",
       "  1920.76,716.048 1920.76,697.15 \n",
       "  \"/>\n",
       "<polyline clip-path=\"url(#clip690)\" style=\"stroke:#000000; stroke-linecap:butt; stroke-linejoin:round; stroke-width:4; stroke-opacity:1; fill:none\" points=\"\n",
       "  2104.36,716.048 2104.36,697.15 \n",
       "  \"/>\n",
       "<polyline clip-path=\"url(#clip690)\" style=\"stroke:#000000; stroke-linecap:butt; stroke-linejoin:round; stroke-width:4; stroke-opacity:1; fill:none\" points=\"\n",
       "  2287.97,716.048 2287.97,697.15 \n",
       "  \"/>\n",
       "<polyline clip-path=\"url(#clip690)\" style=\"stroke:#000000; stroke-linecap:butt; stroke-linejoin:round; stroke-width:4; stroke-opacity:1; fill:none\" points=\"\n",
       "  2471.58,716.048 2471.58,697.15 \n",
       "  \"/>\n",
       "<polyline clip-path=\"url(#clip690)\" style=\"stroke:#000000; stroke-linecap:butt; stroke-linejoin:round; stroke-width:4; stroke-opacity:1; fill:none\" points=\"\n",
       "  2655.18,716.048 2655.18,697.15 \n",
       "  \"/>\n",
       "<polyline clip-path=\"url(#clip690)\" style=\"stroke:#000000; stroke-linecap:butt; stroke-linejoin:round; stroke-width:4; stroke-opacity:1; fill:none\" points=\"\n",
       "  2838.79,716.048 2838.79,697.15 \n",
       "  \"/>\n",
       "<polyline clip-path=\"url(#clip690)\" style=\"stroke:#000000; stroke-linecap:butt; stroke-linejoin:round; stroke-width:4; stroke-opacity:1; fill:none\" points=\"\n",
       "  3022.4,716.048 3022.4,697.15 \n",
       "  \"/>\n",
       "<path clip-path=\"url(#clip690)\" d=\"M1915.41 780.913 L1931.73 780.913 L1931.73 784.848 L1909.79 784.848 L1909.79 780.913 Q1912.45 778.158 1917.03 773.528 Q1921.64 768.876 1922.82 767.533 Q1925.06 765.01 1925.94 763.274 Q1926.85 761.515 1926.85 759.825 Q1926.85 757.07 1924.9 755.334 Q1922.98 753.598 1919.88 753.598 Q1917.68 753.598 1915.22 754.362 Q1912.79 755.126 1910.02 756.677 L1910.02 751.955 Q1912.84 750.82 1915.29 750.242 Q1917.75 749.663 1919.79 749.663 Q1925.16 749.663 1928.35 752.348 Q1931.54 755.033 1931.54 759.524 Q1931.54 761.654 1930.73 763.575 Q1929.95 765.473 1927.84 768.066 Q1927.26 768.737 1924.16 771.954 Q1921.06 775.149 1915.41 780.913 Z\" fill=\"#000000\" fill-rule=\"evenodd\" fill-opacity=\"1\" /><path clip-path=\"url(#clip690)\" d=\"M2107.37 754.362 L2095.57 772.811 L2107.37 772.811 L2107.37 754.362 M2106.15 750.288 L2112.03 750.288 L2112.03 772.811 L2116.96 772.811 L2116.96 776.7 L2112.03 776.7 L2112.03 784.848 L2107.37 784.848 L2107.37 776.7 L2091.77 776.7 L2091.77 772.186 L2106.15 750.288 Z\" fill=\"#000000\" fill-rule=\"evenodd\" fill-opacity=\"1\" /><path clip-path=\"url(#clip690)\" d=\"M2288.38 765.704 Q2285.23 765.704 2283.38 767.857 Q2281.55 770.01 2281.55 773.76 Q2281.55 777.487 2283.38 779.663 Q2285.23 781.815 2288.38 781.815 Q2291.52 781.815 2293.35 779.663 Q2295.2 777.487 2295.2 773.76 Q2295.2 770.01 2293.35 767.857 Q2291.52 765.704 2288.38 765.704 M2297.66 751.052 L2297.66 755.311 Q2295.9 754.478 2294.09 754.038 Q2292.31 753.598 2290.55 753.598 Q2285.92 753.598 2283.47 756.723 Q2281.04 759.848 2280.69 766.167 Q2282.06 764.154 2284.12 763.089 Q2286.18 762.001 2288.65 762.001 Q2293.86 762.001 2296.87 765.172 Q2299.9 768.32 2299.9 773.76 Q2299.9 779.084 2296.75 782.302 Q2293.61 785.519 2288.38 785.519 Q2282.38 785.519 2279.21 780.936 Q2276.04 776.329 2276.04 767.603 Q2276.04 759.408 2279.93 754.547 Q2283.81 749.663 2290.37 749.663 Q2292.13 749.663 2293.91 750.01 Q2295.71 750.357 2297.66 751.052 Z\" fill=\"#000000\" fill-rule=\"evenodd\" fill-opacity=\"1\" /><path clip-path=\"url(#clip690)\" d=\"M2471.58 768.436 Q2468.24 768.436 2466.32 770.218 Q2464.42 772.001 2464.42 775.126 Q2464.42 778.251 2466.32 780.033 Q2468.24 781.815 2471.58 781.815 Q2474.91 781.815 2476.83 780.033 Q2478.75 778.228 2478.75 775.126 Q2478.75 772.001 2476.83 770.218 Q2474.93 768.436 2471.58 768.436 M2466.9 766.445 Q2463.89 765.704 2462.2 763.644 Q2460.53 761.584 2460.53 758.621 Q2460.53 754.478 2463.47 752.07 Q2466.44 749.663 2471.58 749.663 Q2476.74 749.663 2479.68 752.07 Q2482.62 754.478 2482.62 758.621 Q2482.62 761.584 2480.93 763.644 Q2479.26 765.704 2476.28 766.445 Q2479.65 767.232 2481.53 769.524 Q2483.43 771.816 2483.43 775.126 Q2483.43 780.149 2480.35 782.834 Q2477.29 785.519 2471.58 785.519 Q2465.86 785.519 2462.78 782.834 Q2459.72 780.149 2459.72 775.126 Q2459.72 771.816 2461.62 769.524 Q2463.52 767.232 2466.9 766.445 M2465.19 759.061 Q2465.19 761.746 2466.85 763.251 Q2468.54 764.755 2471.58 764.755 Q2474.59 764.755 2476.28 763.251 Q2477.99 761.746 2477.99 759.061 Q2477.99 756.376 2476.28 754.871 Q2474.59 753.367 2471.58 753.367 Q2468.54 753.367 2466.85 754.871 Q2465.19 756.376 2465.19 759.061 Z\" fill=\"#000000\" fill-rule=\"evenodd\" fill-opacity=\"1\" /><path clip-path=\"url(#clip690)\" d=\"M2629.87 780.913 L2637.51 780.913 L2637.51 754.547 L2629.2 756.214 L2629.2 751.955 L2637.46 750.288 L2642.14 750.288 L2642.14 780.913 L2649.78 780.913 L2649.78 784.848 L2629.87 784.848 L2629.87 780.913 Z\" fill=\"#000000\" fill-rule=\"evenodd\" fill-opacity=\"1\" /><path clip-path=\"url(#clip690)\" d=\"M2669.22 753.367 Q2665.61 753.367 2663.78 756.931 Q2661.98 760.473 2661.98 767.603 Q2661.98 774.709 2663.78 778.274 Q2665.61 781.815 2669.22 781.815 Q2672.86 781.815 2674.66 778.274 Q2676.49 774.709 2676.49 767.603 Q2676.49 760.473 2674.66 756.931 Q2672.86 753.367 2669.22 753.367 M2669.22 749.663 Q2675.03 749.663 2678.09 754.269 Q2681.17 758.853 2681.17 767.603 Q2681.17 776.329 2678.09 780.936 Q2675.03 785.519 2669.22 785.519 Q2663.41 785.519 2660.33 780.936 Q2657.28 776.329 2657.28 767.603 Q2657.28 758.853 2660.33 754.269 Q2663.41 749.663 2669.22 749.663 Z\" fill=\"#000000\" fill-rule=\"evenodd\" fill-opacity=\"1\" /><path clip-path=\"url(#clip690)\" d=\"M2814.28 780.913 L2821.91 780.913 L2821.91 754.547 L2813.6 756.214 L2813.6 751.955 L2821.87 750.288 L2826.54 750.288 L2826.54 780.913 L2834.18 780.913 L2834.18 784.848 L2814.28 784.848 L2814.28 780.913 Z\" fill=\"#000000\" fill-rule=\"evenodd\" fill-opacity=\"1\" /><path clip-path=\"url(#clip690)\" d=\"M2847.65 780.913 L2863.97 780.913 L2863.97 784.848 L2842.03 784.848 L2842.03 780.913 Q2844.69 778.158 2849.28 773.528 Q2853.88 768.876 2855.06 767.533 Q2857.31 765.01 2858.19 763.274 Q2859.09 761.515 2859.09 759.825 Q2859.09 757.07 2857.15 755.334 Q2855.22 753.598 2852.12 753.598 Q2849.92 753.598 2847.47 754.362 Q2845.04 755.126 2842.26 756.677 L2842.26 751.955 Q2845.09 750.82 2847.54 750.242 Q2849.99 749.663 2852.03 749.663 Q2857.4 749.663 2860.59 752.348 Q2863.79 755.033 2863.79 759.524 Q2863.79 761.654 2862.98 763.575 Q2862.19 765.473 2860.09 768.066 Q2859.51 768.737 2856.4 771.954 Q2853.3 775.149 2847.65 780.913 Z\" fill=\"#000000\" fill-rule=\"evenodd\" fill-opacity=\"1\" /><path clip-path=\"url(#clip690)\" d=\"M2996.84 780.913 L3004.48 780.913 L3004.48 754.547 L2996.17 756.214 L2996.17 751.955 L3004.43 750.288 L3009.11 750.288 L3009.11 780.913 L3016.75 780.913 L3016.75 784.848 L2996.84 784.848 L2996.84 780.913 Z\" fill=\"#000000\" fill-rule=\"evenodd\" fill-opacity=\"1\" /><path clip-path=\"url(#clip690)\" d=\"M3039.04 754.362 L3027.23 772.811 L3039.04 772.811 L3039.04 754.362 M3037.81 750.288 L3043.69 750.288 L3043.69 772.811 L3048.62 772.811 L3048.62 776.7 L3043.69 776.7 L3043.69 784.848 L3039.04 784.848 L3039.04 776.7 L3023.44 776.7 L3023.44 772.186 L3037.81 750.288 Z\" fill=\"#000000\" fill-rule=\"evenodd\" fill-opacity=\"1\" /><polyline clip-path=\"url(#clip693)\" style=\"stroke:#000000; stroke-linecap:butt; stroke-linejoin:round; stroke-width:2; stroke-opacity:0.1; fill:none\" points=\"\n",
       "  1790.4,656.053 3152.76,656.053 \n",
       "  \"/>\n",
       "<polyline clip-path=\"url(#clip693)\" style=\"stroke:#000000; stroke-linecap:butt; stroke-linejoin:round; stroke-width:2; stroke-opacity:0.1; fill:none\" points=\"\n",
       "  1790.4,482.284 3152.76,482.284 \n",
       "  \"/>\n",
       "<polyline clip-path=\"url(#clip693)\" style=\"stroke:#000000; stroke-linecap:butt; stroke-linejoin:round; stroke-width:2; stroke-opacity:0.1; fill:none\" points=\"\n",
       "  1790.4,308.515 3152.76,308.515 \n",
       "  \"/>\n",
       "<polyline clip-path=\"url(#clip693)\" style=\"stroke:#000000; stroke-linecap:butt; stroke-linejoin:round; stroke-width:2; stroke-opacity:0.1; fill:none\" points=\"\n",
       "  1790.4,134.746 3152.76,134.746 \n",
       "  \"/>\n",
       "<polyline clip-path=\"url(#clip690)\" style=\"stroke:#000000; stroke-linecap:butt; stroke-linejoin:round; stroke-width:4; stroke-opacity:1; fill:none\" points=\"\n",
       "  1790.4,716.048 1790.4,47.2441 \n",
       "  \"/>\n",
       "<polyline clip-path=\"url(#clip690)\" style=\"stroke:#000000; stroke-linecap:butt; stroke-linejoin:round; stroke-width:4; stroke-opacity:1; fill:none\" points=\"\n",
       "  1790.4,656.053 1809.29,656.053 \n",
       "  \"/>\n",
       "<polyline clip-path=\"url(#clip690)\" style=\"stroke:#000000; stroke-linecap:butt; stroke-linejoin:round; stroke-width:4; stroke-opacity:1; fill:none\" points=\"\n",
       "  1790.4,482.284 1809.29,482.284 \n",
       "  \"/>\n",
       "<polyline clip-path=\"url(#clip690)\" style=\"stroke:#000000; stroke-linecap:butt; stroke-linejoin:round; stroke-width:4; stroke-opacity:1; fill:none\" points=\"\n",
       "  1790.4,308.515 1809.29,308.515 \n",
       "  \"/>\n",
       "<polyline clip-path=\"url(#clip690)\" style=\"stroke:#000000; stroke-linecap:butt; stroke-linejoin:round; stroke-width:4; stroke-opacity:1; fill:none\" points=\"\n",
       "  1790.4,134.746 1809.29,134.746 \n",
       "  \"/>\n",
       "<path clip-path=\"url(#clip690)\" d=\"M1649.09 669.398 L1665.41 669.398 L1665.41 673.333 L1643.46 673.333 L1643.46 669.398 Q1646.12 666.644 1650.71 662.014 Q1655.31 657.361 1656.49 656.019 Q1658.74 653.496 1659.62 651.759 Q1660.52 650 1660.52 648.31 Q1660.52 645.556 1658.58 643.82 Q1656.66 642.084 1653.55 642.084 Q1651.36 642.084 1648.9 642.847 Q1646.47 643.611 1643.69 645.162 L1643.69 640.44 Q1646.52 639.306 1648.97 638.727 Q1651.42 638.148 1653.46 638.148 Q1658.83 638.148 1662.03 640.834 Q1665.22 643.519 1665.22 648.009 Q1665.22 650.139 1664.41 652.06 Q1663.62 653.958 1661.52 656.551 Q1660.94 657.222 1657.84 660.44 Q1654.74 663.634 1649.09 669.398 Z\" fill=\"#000000\" fill-rule=\"evenodd\" fill-opacity=\"1\" /><path clip-path=\"url(#clip690)\" d=\"M1674.04 638.773 L1696.26 638.773 L1696.26 640.764 L1683.72 673.333 L1678.83 673.333 L1690.64 642.709 L1674.04 642.709 L1674.04 638.773 Z\" fill=\"#000000\" fill-rule=\"evenodd\" fill-opacity=\"1\" /><path clip-path=\"url(#clip690)\" d=\"M1705.38 667.454 L1710.27 667.454 L1710.27 673.333 L1705.38 673.333 L1705.38 667.454 Z\" fill=\"#000000\" fill-rule=\"evenodd\" fill-opacity=\"1\" /><path clip-path=\"url(#clip690)\" d=\"M1730.45 641.852 Q1726.84 641.852 1725.01 645.417 Q1723.21 648.959 1723.21 656.088 Q1723.21 663.195 1725.01 666.759 Q1726.84 670.301 1730.45 670.301 Q1734.09 670.301 1735.89 666.759 Q1737.72 663.195 1737.72 656.088 Q1737.72 648.959 1735.89 645.417 Q1734.09 641.852 1730.45 641.852 M1730.45 638.148 Q1736.26 638.148 1739.32 642.755 Q1742.4 647.338 1742.4 656.088 Q1742.4 664.815 1739.32 669.421 Q1736.26 674.005 1730.45 674.005 Q1724.64 674.005 1721.56 669.421 Q1718.51 664.815 1718.51 656.088 Q1718.51 647.338 1721.56 642.755 Q1724.64 638.148 1730.45 638.148 Z\" fill=\"#000000\" fill-rule=\"evenodd\" fill-opacity=\"1\" /><path clip-path=\"url(#clip690)\" d=\"M1650.31 495.629 L1666.63 495.629 L1666.63 499.564 L1644.69 499.564 L1644.69 495.629 Q1647.35 492.874 1651.93 488.245 Q1656.54 483.592 1657.72 482.249 Q1659.97 479.726 1660.85 477.99 Q1661.75 476.231 1661.75 474.541 Q1661.75 471.787 1659.8 470.05 Q1657.88 468.314 1654.78 468.314 Q1652.58 468.314 1650.13 469.078 Q1647.7 469.842 1644.92 471.393 L1644.92 466.671 Q1647.74 465.537 1650.2 464.958 Q1652.65 464.379 1654.69 464.379 Q1660.06 464.379 1663.25 467.064 Q1666.45 469.749 1666.45 474.24 Q1666.45 476.37 1665.64 478.291 Q1664.85 480.189 1662.74 482.782 Q1662.17 483.453 1659.06 486.671 Q1655.96 489.865 1650.31 495.629 Z\" fill=\"#000000\" fill-rule=\"evenodd\" fill-opacity=\"1\" /><path clip-path=\"url(#clip690)\" d=\"M1675.27 465.004 L1697.49 465.004 L1697.49 466.995 L1684.94 499.564 L1680.06 499.564 L1691.86 468.939 L1675.27 468.939 L1675.27 465.004 Z\" fill=\"#000000\" fill-rule=\"evenodd\" fill-opacity=\"1\" /><path clip-path=\"url(#clip690)\" d=\"M1706.61 493.685 L1711.49 493.685 L1711.49 499.564 L1706.61 499.564 L1706.61 493.685 Z\" fill=\"#000000\" fill-rule=\"evenodd\" fill-opacity=\"1\" /><path clip-path=\"url(#clip690)\" d=\"M1722.49 495.629 L1730.13 495.629 L1730.13 469.263 L1721.82 470.93 L1721.82 466.671 L1730.08 465.004 L1734.76 465.004 L1734.76 495.629 L1742.4 495.629 L1742.4 499.564 L1722.49 499.564 L1722.49 495.629 Z\" fill=\"#000000\" fill-rule=\"evenodd\" fill-opacity=\"1\" /><path clip-path=\"url(#clip690)\" d=\"M1650.68 321.86 L1667 321.86 L1667 325.795 L1645.06 325.795 L1645.06 321.86 Q1647.72 319.105 1652.3 314.476 Q1656.91 309.823 1658.09 308.48 Q1660.34 305.957 1661.22 304.221 Q1662.12 302.462 1662.12 300.772 Q1662.12 298.017 1660.17 296.281 Q1658.25 294.545 1655.15 294.545 Q1652.95 294.545 1650.5 295.309 Q1648.07 296.073 1645.29 297.624 L1645.29 292.902 Q1648.11 291.767 1650.57 291.189 Q1653.02 290.61 1655.06 290.61 Q1660.43 290.61 1663.62 293.295 Q1666.82 295.98 1666.82 300.471 Q1666.82 302.601 1666.01 304.522 Q1665.22 306.42 1663.11 309.013 Q1662.54 309.684 1659.43 312.901 Q1656.33 316.096 1650.68 321.86 Z\" fill=\"#000000\" fill-rule=\"evenodd\" fill-opacity=\"1\" /><path clip-path=\"url(#clip690)\" d=\"M1675.64 291.235 L1697.86 291.235 L1697.86 293.226 L1685.31 325.795 L1680.43 325.795 L1692.23 295.17 L1675.64 295.17 L1675.64 291.235 Z\" fill=\"#000000\" fill-rule=\"evenodd\" fill-opacity=\"1\" /><path clip-path=\"url(#clip690)\" d=\"M1706.98 319.915 L1711.86 319.915 L1711.86 325.795 L1706.98 325.795 L1706.98 319.915 Z\" fill=\"#000000\" fill-rule=\"evenodd\" fill-opacity=\"1\" /><path clip-path=\"url(#clip690)\" d=\"M1726.08 321.86 L1742.4 321.86 L1742.4 325.795 L1720.45 325.795 L1720.45 321.86 Q1723.11 319.105 1727.7 314.476 Q1732.3 309.823 1733.48 308.48 Q1735.73 305.957 1736.61 304.221 Q1737.51 302.462 1737.51 300.772 Q1737.51 298.017 1735.57 296.281 Q1733.65 294.545 1730.54 294.545 Q1728.35 294.545 1725.89 295.309 Q1723.46 296.073 1720.68 297.624 L1720.68 292.902 Q1723.51 291.767 1725.96 291.189 Q1728.42 290.61 1730.45 290.61 Q1735.82 290.61 1739.02 293.295 Q1742.21 295.98 1742.21 300.471 Q1742.21 302.601 1741.4 304.522 Q1740.61 306.42 1738.51 309.013 Q1737.93 309.684 1734.83 312.901 Q1731.73 316.096 1726.08 321.86 Z\" fill=\"#000000\" fill-rule=\"evenodd\" fill-opacity=\"1\" /><path clip-path=\"url(#clip690)\" d=\"M1649.74 148.091 L1666.05 148.091 L1666.05 152.026 L1644.11 152.026 L1644.11 148.091 Q1646.77 145.336 1651.36 140.706 Q1655.96 136.054 1657.14 134.711 Q1659.39 132.188 1660.27 130.452 Q1661.17 128.692 1661.17 127.003 Q1661.17 124.248 1659.23 122.512 Q1657.3 120.776 1654.2 120.776 Q1652 120.776 1649.55 121.54 Q1647.12 122.304 1644.34 123.855 L1644.34 119.132 Q1647.17 117.998 1649.62 117.419 Q1652.07 116.841 1654.11 116.841 Q1659.48 116.841 1662.67 119.526 Q1665.87 122.211 1665.87 126.702 Q1665.87 128.831 1665.06 130.753 Q1664.27 132.651 1662.17 135.243 Q1661.59 135.915 1658.49 139.132 Q1655.38 142.327 1649.74 148.091 Z\" fill=\"#000000\" fill-rule=\"evenodd\" fill-opacity=\"1\" /><path clip-path=\"url(#clip690)\" d=\"M1674.69 117.466 L1696.91 117.466 L1696.91 119.456 L1684.36 152.026 L1679.48 152.026 L1691.29 121.401 L1674.69 121.401 L1674.69 117.466 Z\" fill=\"#000000\" fill-rule=\"evenodd\" fill-opacity=\"1\" /><path clip-path=\"url(#clip690)\" d=\"M1706.03 146.146 L1710.92 146.146 L1710.92 152.026 L1706.03 152.026 L1706.03 146.146 Z\" fill=\"#000000\" fill-rule=\"evenodd\" fill-opacity=\"1\" /><path clip-path=\"url(#clip690)\" d=\"M1735.27 133.392 Q1738.62 134.109 1740.5 136.378 Q1742.4 138.646 1742.4 141.979 Q1742.4 147.095 1738.88 149.896 Q1735.36 152.697 1728.88 152.697 Q1726.7 152.697 1724.39 152.257 Q1722.1 151.84 1719.64 150.984 L1719.64 146.47 Q1721.59 147.604 1723.9 148.183 Q1726.22 148.762 1728.74 148.762 Q1733.14 148.762 1735.43 147.026 Q1737.74 145.29 1737.74 141.979 Q1737.74 138.924 1735.59 137.211 Q1733.46 135.475 1729.64 135.475 L1725.61 135.475 L1725.61 131.632 L1729.83 131.632 Q1733.28 131.632 1735.11 130.267 Q1736.93 128.878 1736.93 126.285 Q1736.93 123.623 1735.04 122.211 Q1733.16 120.776 1729.64 120.776 Q1727.72 120.776 1725.52 121.193 Q1723.32 121.609 1720.68 122.489 L1720.68 118.322 Q1723.35 117.581 1725.66 117.211 Q1728 116.841 1730.06 116.841 Q1735.38 116.841 1738.48 119.271 Q1741.59 121.679 1741.59 125.799 Q1741.59 128.669 1739.94 130.66 Q1738.3 132.628 1735.27 133.392 Z\" fill=\"#000000\" fill-rule=\"evenodd\" fill-opacity=\"1\" /><polyline clip-path=\"url(#clip693)\" style=\"stroke:#009af9; stroke-linecap:butt; stroke-linejoin:round; stroke-width:4; stroke-opacity:1; fill:none\" points=\"\n",
       "  1828.95,66.1725 1920.76,283.069 2012.56,422.28 2104.36,538.586 2196.17,627.164 2287.97,676.561 2379.77,693.218 2471.58,696.572 2563.38,697.052 2655.18,697.111 \n",
       "  2746.99,697.118 2838.79,697.119 2930.59,697.119 3022.4,697.119 3114.2,697.119 \n",
       "  \"/>\n",
       "<path clip-path=\"url(#clip690)\" d=\"\n",
       "M2903.54 173.218 L3107.34 173.218 L3107.34 69.5376 L2903.54 69.5376  Z\n",
       "  \" fill=\"#ffffff\" fill-rule=\"evenodd\" fill-opacity=\"1\"/>\n",
       "<polyline clip-path=\"url(#clip690)\" style=\"stroke:#000000; stroke-linecap:butt; stroke-linejoin:round; stroke-width:4; stroke-opacity:1; fill:none\" points=\"\n",
       "  2903.54,173.218 3107.34,173.218 3107.34,69.5376 2903.54,69.5376 2903.54,173.218 \n",
       "  \"/>\n",
       "<polyline clip-path=\"url(#clip690)\" style=\"stroke:#009af9; stroke-linecap:butt; stroke-linejoin:round; stroke-width:4; stroke-opacity:1; fill:none\" points=\"\n",
       "  2918.68,121.378 3009.5,121.378 \n",
       "  \"/>\n",
       "<path clip-path=\"url(#clip690)\" d=\"M3038.48 141.065 Q3036.68 145.695 3034.96 147.107 Q3033.25 148.519 3030.38 148.519 L3026.98 148.519 L3026.98 144.954 L3029.48 144.954 Q3031.24 144.954 3032.21 144.12 Q3033.18 143.287 3034.36 140.185 L3035.13 138.241 L3024.64 112.732 L3029.15 112.732 L3037.25 133.009 L3045.36 112.732 L3049.87 112.732 L3038.48 141.065 Z\" fill=\"#000000\" fill-rule=\"evenodd\" fill-opacity=\"1\" /><path clip-path=\"url(#clip690)\" d=\"M3057.16 134.722 L3064.8 134.722 L3064.8 108.357 L3056.49 110.023 L3056.49 105.764 L3064.75 104.098 L3069.43 104.098 L3069.43 134.722 L3077.07 134.722 L3077.07 138.658 L3057.16 138.658 L3057.16 134.722 Z\" fill=\"#000000\" fill-rule=\"evenodd\" fill-opacity=\"1\" /></svg>\n"
      ]
     },
     "execution_count": 98,
     "metadata": {},
     "output_type": "execute_result"
    }
   ],
   "source": [
    "@time engine = testme(from(static))\n",
    "\n",
    "qxt = last.(engine.history[:x_t])\n",
    "\n",
    "p1 = plot(mean.(qxt), ribbon = std.(qxt))\n",
    "p2 = plot(getvalues(engine.fe_actor))\n",
    "\n",
    "plot(p1, p2, size = (800, 200))"
   ]
  },
  {
   "cell_type": "code",
   "execution_count": 47,
   "metadata": {},
   "outputs": [],
   "source": [
    "using BenchmarkTools"
   ]
  },
  {
   "cell_type": "code",
   "execution_count": 48,
   "metadata": {},
   "outputs": [
    {
     "data": {
      "text/plain": [
       "BenchmarkTools.Trial: 171 samples with 1 evaluation.\n",
       " Range \u001b[90m(\u001b[39m\u001b[36m\u001b[1mmin\u001b[22m\u001b[39m … \u001b[35mmax\u001b[39m\u001b[90m):  \u001b[39m\u001b[36m\u001b[1m23.896 ms\u001b[22m\u001b[39m … \u001b[35m48.633 ms\u001b[39m  \u001b[90m┊\u001b[39m GC \u001b[90m(\u001b[39mmin … max\u001b[90m): \u001b[39m0.00% … 23.20%\n",
       " Time  \u001b[90m(\u001b[39m\u001b[34m\u001b[1mmedian\u001b[22m\u001b[39m\u001b[90m):     \u001b[39m\u001b[34m\u001b[1m28.410 ms              \u001b[22m\u001b[39m\u001b[90m┊\u001b[39m GC \u001b[90m(\u001b[39mmedian\u001b[90m):    \u001b[39m0.00%\n",
       " Time  \u001b[90m(\u001b[39m\u001b[32m\u001b[1mmean\u001b[22m\u001b[39m ± \u001b[32mσ\u001b[39m\u001b[90m):   \u001b[39m\u001b[32m\u001b[1m29.325 ms\u001b[22m\u001b[39m ± \u001b[32m 5.067 ms\u001b[39m  \u001b[90m┊\u001b[39m GC \u001b[90m(\u001b[39mmean ± σ\u001b[90m):  \u001b[39m3.57% ±  7.99%\n",
       "\n",
       "  \u001b[39m▃\u001b[39m▃\u001b[39m▆\u001b[39m▄\u001b[39m▅\u001b[39m▆\u001b[39m \u001b[39m \u001b[39m \u001b[39m \u001b[39m \u001b[39m \u001b[34m▃\u001b[39m\u001b[39m▆\u001b[39m█\u001b[32m \u001b[39m\u001b[39m \u001b[39m \u001b[39m \u001b[39m \u001b[39m \u001b[39m \u001b[39m \u001b[39m \u001b[39m \u001b[39m \u001b[39m \u001b[39m \u001b[39m \u001b[39m \u001b[39m \u001b[39m \u001b[39m \u001b[39m \u001b[39m \u001b[39m \u001b[39m \u001b[39m \u001b[39m \u001b[39m \u001b[39m \u001b[39m \u001b[39m \u001b[39m \u001b[39m \u001b[39m \u001b[39m \u001b[39m \u001b[39m \u001b[39m \u001b[39m \u001b[39m \u001b[39m \u001b[39m \u001b[39m \u001b[39m \u001b[39m \u001b[39m \u001b[39m \u001b[39m \u001b[39m \n",
       "  \u001b[39m█\u001b[39m█\u001b[39m█\u001b[39m█\u001b[39m█\u001b[39m█\u001b[39m█\u001b[39m▅\u001b[39m█\u001b[39m▃\u001b[39m█\u001b[39m▄\u001b[34m█\u001b[39m\u001b[39m█\u001b[39m█\u001b[32m▆\u001b[39m\u001b[39m▆\u001b[39m█\u001b[39m▅\u001b[39m▅\u001b[39m▃\u001b[39m▃\u001b[39m▅\u001b[39m▄\u001b[39m▃\u001b[39m▆\u001b[39m▄\u001b[39m▄\u001b[39m▁\u001b[39m▃\u001b[39m▄\u001b[39m▅\u001b[39m▁\u001b[39m▁\u001b[39m▁\u001b[39m▁\u001b[39m▃\u001b[39m▃\u001b[39m▁\u001b[39m▃\u001b[39m▃\u001b[39m▁\u001b[39m▃\u001b[39m▁\u001b[39m▃\u001b[39m▁\u001b[39m▁\u001b[39m▁\u001b[39m▃\u001b[39m▁\u001b[39m▅\u001b[39m▁\u001b[39m▃\u001b[39m▁\u001b[39m▃\u001b[39m▁\u001b[39m▁\u001b[39m▃\u001b[39m▃\u001b[39m \u001b[39m▃\n",
       "  23.9 ms\u001b[90m         Histogram: frequency by time\u001b[39m        45.4 ms \u001b[0m\u001b[1m<\u001b[22m\n",
       "\n",
       " Memory estimate\u001b[90m: \u001b[39m\u001b[33m10.28 MiB\u001b[39m, allocs estimate\u001b[90m: \u001b[39m\u001b[33m249617\u001b[39m."
      ]
     },
     "execution_count": 48,
     "metadata": {},
     "output_type": "execute_result"
    }
   ],
   "source": [
    "@benchmark testme(from($static))"
   ]
  },
  {
   "cell_type": "code",
   "execution_count": null,
   "metadata": {},
   "outputs": [],
   "source": []
  },
  {
   "cell_type": "code",
   "execution_count": null,
   "metadata": {},
   "outputs": [],
   "source": []
  },
  {
   "cell_type": "code",
   "execution_count": null,
   "metadata": {},
   "outputs": [],
   "source": []
  },
  {
   "cell_type": "code",
   "execution_count": 124,
   "metadata": {},
   "outputs": [
    {
     "data": {
      "text/plain": [
       "#127 (generic function with 1 method)"
      ]
     },
     "execution_count": 124,
     "metadata": {},
     "output_type": "execute_result"
    }
   ],
   "source": [
    "plot_callback = (posteriors) -> begin\n",
    "    IJulia.clear_output(true)\n",
    "\n",
    "    p = plot(mean.(posteriors), ribbon = var.(posteriors), label = \"Estimation\")\n",
    "    p = plot!(gethistory(process), label = \"Real states\")    \n",
    "    p = scatter!(getobservations(process), ms = 2, label = \"Observations\")\n",
    "    p = plot(p, size = (1000, 400), legend = :bottomright)\n",
    "        \n",
    "    display(p)\n",
    "end"
   ]
  }
 ],
 "metadata": {
  "kernelspec": {
   "display_name": "Julia 1.8.0",
   "language": "julia",
   "name": "julia-1.8"
  },
  "language_info": {
   "file_extension": ".jl",
   "mimetype": "application/julia",
   "name": "julia",
   "version": "1.8.0"
  }
 },
 "nbformat": 4,
 "nbformat_minor": 4
}
