{
 "cells": [
  {
   "cell_type": "markdown",
   "metadata": {},
   "source": [
    "# Infinite Data Stream"
   ]
  },
  {
   "cell_type": "code",
   "execution_count": 1,
   "metadata": {},
   "outputs": [
    {
     "name": "stderr",
     "output_type": "stream",
     "text": [
      "\u001b[32m\u001b[1m  Activating\u001b[22m\u001b[39m project at `~/.julia/dev/RxInfer/examples`\n"
     ]
    }
   ],
   "source": [
    "# Activate local environment, see `Project.toml`\n",
    "import Pkg; Pkg.activate(\".\"); Pkg.instantiate();"
   ]
  },
  {
   "cell_type": "code",
   "execution_count": 2,
   "metadata": {},
   "outputs": [
    {
     "name": "stderr",
     "output_type": "stream",
     "text": [
      "┌ Info: Precompiling RxInfer [86711068-29c9-4ff7-b620-ae75d7495b3d]\n",
      "└ @ Base loading.jl:1662\n"
     ]
    }
   ],
   "source": [
    "using RxInfer, Plots"
   ]
  },
  {
   "cell_type": "markdown",
   "metadata": {},
   "source": [
    "We assume that we don't know the shape of our signal in advance. So we try to fit a simple gaussian random walk with unknown observation noise:"
   ]
  },
  {
   "cell_type": "code",
   "execution_count": 3,
   "metadata": {},
   "outputs": [
    {
     "data": {
      "text/plain": [
       "getobservations (generic function with 1 method)"
      ]
     },
     "execution_count": 3,
     "metadata": {},
     "output_type": "execute_result"
    }
   ],
   "source": [
    "mutable struct DataGenerationProcess\n",
    "    previous :: Float64\n",
    "    process_noise :: Float64\n",
    "    observation_noise :: Float64\n",
    "    history :: Vector{Float64}\n",
    "    observations :: Vector{Float64}\n",
    "end\n",
    "\n",
    "function getnext!(process::DataGenerationProcess)\n",
    "    process.previous = process.previous + 1.0\n",
    "    next = 10sin(0.1 * process.previous)\n",
    "    observation = next + rand(Normal(0.0, process.observation_noise))\n",
    "    push!(process.history, next)\n",
    "    push!(process.observations, observation)\n",
    "    return observation\n",
    "end\n",
    "\n",
    "function gethistory(process::DataGenerationProcess)\n",
    "    return process.history\n",
    "end\n",
    "\n",
    "function getobservations(process::DataGenerationProcess)\n",
    "    return process.observations\n",
    "end"
   ]
  },
  {
   "cell_type": "code",
   "execution_count": 4,
   "metadata": {},
   "outputs": [
    {
     "data": {
      "text/plain": [
       "filter_constraints (generic function with 1 method)"
      ]
     },
     "execution_count": 4,
     "metadata": {},
     "output_type": "execute_result"
    }
   ],
   "source": [
    "@model function kalman_filter()\n",
    "    \n",
    "    # Reactive inputs\n",
    "    x_t_min_mean = datavar(Float64)\n",
    "    x_t_min_var  = datavar(Float64)\n",
    "    τ_shape = datavar(Float64)\n",
    "    τ_rate  = datavar(Float64)\n",
    "\n",
    "    τ ~ Gamma(shape = τ_shape, rate = τ_rate)\n",
    "    \n",
    "    x_t_min ~ Normal(mean = x_t_min_mean, variance = x_t_min_var)\n",
    "    x_t     ~ Normal(mean = x_t_min, precision = 1.0)\n",
    "    \n",
    "    y = datavar(Float64)\n",
    "    y ~ Normal(mean = x_t, precision = τ)\n",
    "    \n",
    "end\n",
    "\n",
    "\n",
    "@constraints function filter_constraints()\n",
    "    q(x_t, τ) = q(x_t)q(τ)\n",
    "end"
   ]
  },
  {
   "cell_type": "code",
   "execution_count": 32,
   "metadata": {},
   "outputs": [
    {
     "data": {
      "text/plain": [
       "100"
      ]
     },
     "execution_count": 32,
     "metadata": {},
     "output_type": "execute_result"
    }
   ],
   "source": [
    "# We force stop after n data points\n",
    "n = 100"
   ]
  },
  {
   "cell_type": "code",
   "execution_count": 33,
   "metadata": {},
   "outputs": [],
   "source": [
    "process = DataGenerationProcess(0.0, 1.0, 10.0, Float64[], Float64[])\n",
    "# stream = timer(100, 100) |> map_to(process) |> map(Float64, getnext!) |> take(n)\n",
    "stream = from(1:n) |> map_to(process) |> map(Float64, getnext!)\n",
    "\n",
    "keystream = stream |> map(NamedTuple{(:y,), Tuple{Float64}}, (d) -> (y = d, ))\n",
    "\n",
    "static = keep(eltype(keystream))\n",
    "subscribe!(keystream, static)\n",
    "static = collect(static);"
   ]
  },
  {
   "cell_type": "code",
   "execution_count": 44,
   "metadata": {},
   "outputs": [
    {
     "data": {
      "text/plain": [
       "testme (generic function with 1 method)"
      ]
     },
     "execution_count": 44,
     "metadata": {},
     "output_type": "execute_result"
    }
   ],
   "source": [
    "function testme(datastream)\n",
    "    \n",
    "    autoupdates = @autoupdates begin \n",
    "        x_t_min_mean, x_t_min_var = mean_var(q(x_t))\n",
    "        τ_shape = shape(q(τ))\n",
    "        τ_rate = rate(q(τ))\n",
    "    end\n",
    "    \n",
    "    engine = rxinference(\n",
    "        model = kalman_filter(),\n",
    "        constraints = filter_constraints(),\n",
    "        datastream = datastream,\n",
    "        autoupdates = autoupdates,\n",
    "        returnvars = (:x_t, :τ),\n",
    "        historyvars = (\n",
    "            x_t = KeepLast(),\n",
    "        ),\n",
    "        initmarginals = (\n",
    "            x_t = NormalMeanVariance(0.0, 1e3),\n",
    "            τ = GammaShapeRate(1.0, 1.0)\n",
    "        ),\n",
    "        iterations = 15,\n",
    "        free_energy = true,\n",
    "        autostart = false,\n",
    "    );\n",
    "\n",
    "    qxt = []\n",
    "    qτ = []\n",
    "\n",
    "    subscription1 = subscribe!(engine.posteriors[:x_t], (q) -> push!(qxt, q))\n",
    "    subscription2 = subscribe!(engine.posteriors[:τ], (q) -> push!(qτ, q))\n",
    "\n",
    "    RxInfer.start(engine)\n",
    "\n",
    "    unsubscribe!(subscription1)\n",
    "    unsubscribe!(subscription2)\n",
    "    \n",
    "    RxInfer.stop(engine)\n",
    "    \n",
    "    return qxt, qτ, engine\n",
    "end"
   ]
  },
  {
   "cell_type": "code",
   "execution_count": 50,
   "metadata": {},
   "outputs": [
    {
     "name": "stdout",
     "output_type": "stream",
     "text": [
      "  0.046997 seconds (249.62 k allocations: 10.281 MiB)\n"
     ]
    },
    {
     "data": {
      "image/svg+xml": [
       "<?xml version=\"1.0\" encoding=\"utf-8\"?>\n",
       "<svg xmlns=\"http://www.w3.org/2000/svg\" xmlns:xlink=\"http://www.w3.org/1999/xlink\" width=\"800\" height=\"200\" viewBox=\"0 0 3200 800\">\n",
       "<defs>\n",
       "  <clipPath id=\"clip730\">\n",
       "    <rect x=\"0\" y=\"0\" width=\"3200\" height=\"800\"/>\n",
       "  </clipPath>\n",
       "</defs>\n",
       "<path clip-path=\"url(#clip730)\" d=\"\n",
       "M0 800 L3200 800 L3200 0 L0 0  Z\n",
       "  \" fill=\"#ffffff\" fill-rule=\"evenodd\" fill-opacity=\"1\"/>\n",
       "<defs>\n",
       "  <clipPath id=\"clip731\">\n",
       "    <rect x=\"640\" y=\"0\" width=\"2241\" height=\"800\"/>\n",
       "  </clipPath>\n",
       "</defs>\n",
       "<path clip-path=\"url(#clip730)\" d=\"\n",
       "M186.867 716.048 L1549.23 716.048 L1549.23 47.2441 L186.867 47.2441  Z\n",
       "  \" fill=\"#ffffff\" fill-rule=\"evenodd\" fill-opacity=\"1\"/>\n",
       "<defs>\n",
       "  <clipPath id=\"clip732\">\n",
       "    <rect x=\"186\" y=\"47\" width=\"1363\" height=\"670\"/>\n",
       "  </clipPath>\n",
       "</defs>\n",
       "<polyline clip-path=\"url(#clip732)\" style=\"stroke:#000000; stroke-linecap:butt; stroke-linejoin:round; stroke-width:2; stroke-opacity:0.1; fill:none\" points=\"\n",
       "  212.442,716.048 212.442,47.2441 \n",
       "  \"/>\n",
       "<polyline clip-path=\"url(#clip732)\" style=\"stroke:#000000; stroke-linecap:butt; stroke-linejoin:round; stroke-width:2; stroke-opacity:0.1; fill:none\" points=\"\n",
       "  536.998,716.048 536.998,47.2441 \n",
       "  \"/>\n",
       "<polyline clip-path=\"url(#clip732)\" style=\"stroke:#000000; stroke-linecap:butt; stroke-linejoin:round; stroke-width:2; stroke-opacity:0.1; fill:none\" points=\"\n",
       "  861.555,716.048 861.555,47.2441 \n",
       "  \"/>\n",
       "<polyline clip-path=\"url(#clip732)\" style=\"stroke:#000000; stroke-linecap:butt; stroke-linejoin:round; stroke-width:2; stroke-opacity:0.1; fill:none\" points=\"\n",
       "  1186.11,716.048 1186.11,47.2441 \n",
       "  \"/>\n",
       "<polyline clip-path=\"url(#clip732)\" style=\"stroke:#000000; stroke-linecap:butt; stroke-linejoin:round; stroke-width:2; stroke-opacity:0.1; fill:none\" points=\"\n",
       "  1510.67,716.048 1510.67,47.2441 \n",
       "  \"/>\n",
       "<polyline clip-path=\"url(#clip730)\" style=\"stroke:#000000; stroke-linecap:butt; stroke-linejoin:round; stroke-width:4; stroke-opacity:1; fill:none\" points=\"\n",
       "  186.867,716.048 1549.23,716.048 \n",
       "  \"/>\n",
       "<polyline clip-path=\"url(#clip730)\" style=\"stroke:#000000; stroke-linecap:butt; stroke-linejoin:round; stroke-width:4; stroke-opacity:1; fill:none\" points=\"\n",
       "  212.442,716.048 212.442,697.15 \n",
       "  \"/>\n",
       "<polyline clip-path=\"url(#clip730)\" style=\"stroke:#000000; stroke-linecap:butt; stroke-linejoin:round; stroke-width:4; stroke-opacity:1; fill:none\" points=\"\n",
       "  536.998,716.048 536.998,697.15 \n",
       "  \"/>\n",
       "<polyline clip-path=\"url(#clip730)\" style=\"stroke:#000000; stroke-linecap:butt; stroke-linejoin:round; stroke-width:4; stroke-opacity:1; fill:none\" points=\"\n",
       "  861.555,716.048 861.555,697.15 \n",
       "  \"/>\n",
       "<polyline clip-path=\"url(#clip730)\" style=\"stroke:#000000; stroke-linecap:butt; stroke-linejoin:round; stroke-width:4; stroke-opacity:1; fill:none\" points=\"\n",
       "  1186.11,716.048 1186.11,697.15 \n",
       "  \"/>\n",
       "<polyline clip-path=\"url(#clip730)\" style=\"stroke:#000000; stroke-linecap:butt; stroke-linejoin:round; stroke-width:4; stroke-opacity:1; fill:none\" points=\"\n",
       "  1510.67,716.048 1510.67,697.15 \n",
       "  \"/>\n",
       "<path clip-path=\"url(#clip730)\" d=\"M212.442 753.367 Q208.831 753.367 207.002 756.931 Q205.196 760.473 205.196 767.603 Q205.196 774.709 207.002 778.274 Q208.831 781.815 212.442 781.815 Q216.076 781.815 217.881 778.274 Q219.71 774.709 219.71 767.603 Q219.71 760.473 217.881 756.931 Q216.076 753.367 212.442 753.367 M212.442 749.663 Q218.252 749.663 221.307 754.269 Q224.386 758.853 224.386 767.603 Q224.386 776.329 221.307 780.936 Q218.252 785.519 212.442 785.519 Q206.632 785.519 203.553 780.936 Q200.497 776.329 200.497 767.603 Q200.497 758.853 203.553 754.269 Q206.632 749.663 212.442 749.663 Z\" fill=\"#000000\" fill-rule=\"evenodd\" fill-opacity=\"1\" /><path clip-path=\"url(#clip730)\" d=\"M516.269 780.913 L532.589 780.913 L532.589 784.848 L510.644 784.848 L510.644 780.913 Q513.306 778.158 517.89 773.528 Q522.496 768.876 523.677 767.533 Q525.922 765.01 526.802 763.274 Q527.704 761.515 527.704 759.825 Q527.704 757.07 525.76 755.334 Q523.839 753.598 520.737 753.598 Q518.538 753.598 516.084 754.362 Q513.654 755.126 510.876 756.677 L510.876 751.955 Q513.7 750.82 516.154 750.242 Q518.607 749.663 520.644 749.663 Q526.015 749.663 529.209 752.348 Q532.404 755.033 532.404 759.524 Q532.404 761.654 531.593 763.575 Q530.806 765.473 528.7 768.066 Q528.121 768.737 525.019 771.954 Q521.917 775.149 516.269 780.913 Z\" fill=\"#000000\" fill-rule=\"evenodd\" fill-opacity=\"1\" /><path clip-path=\"url(#clip730)\" d=\"M542.45 750.288 L560.806 750.288 L560.806 754.223 L546.732 754.223 L546.732 762.695 Q547.751 762.348 548.769 762.186 Q549.788 762.001 550.806 762.001 Q556.593 762.001 559.973 765.172 Q563.352 768.343 563.352 773.76 Q563.352 779.339 559.88 782.44 Q556.408 785.519 550.089 785.519 Q547.913 785.519 545.644 785.149 Q543.399 784.778 540.991 784.038 L540.991 779.339 Q543.075 780.473 545.297 781.028 Q547.519 781.584 549.996 781.584 Q554.001 781.584 556.339 779.478 Q558.677 777.371 558.677 773.76 Q558.677 770.149 556.339 768.042 Q554.001 765.936 549.996 765.936 Q548.121 765.936 546.246 766.353 Q544.394 766.769 542.45 767.649 L542.45 750.288 Z\" fill=\"#000000\" fill-rule=\"evenodd\" fill-opacity=\"1\" /><path clip-path=\"url(#clip730)\" d=\"M836.254 750.288 L854.611 750.288 L854.611 754.223 L840.537 754.223 L840.537 762.695 Q841.555 762.348 842.574 762.186 Q843.592 762.001 844.611 762.001 Q850.398 762.001 853.777 765.172 Q857.157 768.343 857.157 773.76 Q857.157 779.339 853.685 782.44 Q850.213 785.519 843.893 785.519 Q841.717 785.519 839.449 785.149 Q837.203 784.778 834.796 784.038 L834.796 779.339 Q836.879 780.473 839.102 781.028 Q841.324 781.584 843.801 781.584 Q847.805 781.584 850.143 779.478 Q852.481 777.371 852.481 773.76 Q852.481 770.149 850.143 768.042 Q847.805 765.936 843.801 765.936 Q841.926 765.936 840.051 766.353 Q838.199 766.769 836.254 767.649 L836.254 750.288 Z\" fill=\"#000000\" fill-rule=\"evenodd\" fill-opacity=\"1\" /><path clip-path=\"url(#clip730)\" d=\"M876.37 753.367 Q872.759 753.367 870.93 756.931 Q869.125 760.473 869.125 767.603 Q869.125 774.709 870.93 778.274 Q872.759 781.815 876.37 781.815 Q880.004 781.815 881.81 778.274 Q883.638 774.709 883.638 767.603 Q883.638 760.473 881.81 756.931 Q880.004 753.367 876.37 753.367 M876.37 749.663 Q882.18 749.663 885.236 754.269 Q888.314 758.853 888.314 767.603 Q888.314 776.329 885.236 780.936 Q882.18 785.519 876.37 785.519 Q870.56 785.519 867.481 780.936 Q864.425 776.329 864.425 767.603 Q864.425 758.853 867.481 754.269 Q870.56 749.663 876.37 749.663 Z\" fill=\"#000000\" fill-rule=\"evenodd\" fill-opacity=\"1\" /><path clip-path=\"url(#clip730)\" d=\"M1159.97 750.288 L1182.19 750.288 L1182.19 752.279 L1169.64 784.848 L1164.76 784.848 L1176.56 754.223 L1159.97 754.223 L1159.97 750.288 Z\" fill=\"#000000\" fill-rule=\"evenodd\" fill-opacity=\"1\" /><path clip-path=\"url(#clip730)\" d=\"M1191.35 750.288 L1209.71 750.288 L1209.71 754.223 L1195.64 754.223 L1195.64 762.695 Q1196.66 762.348 1197.67 762.186 Q1198.69 762.001 1199.71 762.001 Q1205.5 762.001 1208.88 765.172 Q1212.26 768.343 1212.26 773.76 Q1212.26 779.339 1208.79 782.44 Q1205.31 785.519 1198.99 785.519 Q1196.82 785.519 1194.55 785.149 Q1192.3 784.778 1189.9 784.038 L1189.9 779.339 Q1191.98 780.473 1194.2 781.028 Q1196.42 781.584 1198.9 781.584 Q1202.91 781.584 1205.24 779.478 Q1207.58 777.371 1207.58 773.76 Q1207.58 770.149 1205.24 768.042 Q1202.91 765.936 1198.9 765.936 Q1197.03 765.936 1195.15 766.353 Q1193.3 766.769 1191.35 767.649 L1191.35 750.288 Z\" fill=\"#000000\" fill-rule=\"evenodd\" fill-opacity=\"1\" /><path clip-path=\"url(#clip730)\" d=\"M1470.28 780.913 L1477.91 780.913 L1477.91 754.547 L1469.6 756.214 L1469.6 751.955 L1477.87 750.288 L1482.54 750.288 L1482.54 780.913 L1490.18 780.913 L1490.18 784.848 L1470.28 784.848 L1470.28 780.913 Z\" fill=\"#000000\" fill-rule=\"evenodd\" fill-opacity=\"1\" /><path clip-path=\"url(#clip730)\" d=\"M1509.63 753.367 Q1506.02 753.367 1504.19 756.931 Q1502.38 760.473 1502.38 767.603 Q1502.38 774.709 1504.19 778.274 Q1506.02 781.815 1509.63 781.815 Q1513.26 781.815 1515.07 778.274 Q1516.9 774.709 1516.9 767.603 Q1516.9 760.473 1515.07 756.931 Q1513.26 753.367 1509.63 753.367 M1509.63 749.663 Q1515.44 749.663 1518.49 754.269 Q1521.57 758.853 1521.57 767.603 Q1521.57 776.329 1518.49 780.936 Q1515.44 785.519 1509.63 785.519 Q1503.82 785.519 1500.74 780.936 Q1497.68 776.329 1497.68 767.603 Q1497.68 758.853 1500.74 754.269 Q1503.82 749.663 1509.63 749.663 Z\" fill=\"#000000\" fill-rule=\"evenodd\" fill-opacity=\"1\" /><path clip-path=\"url(#clip730)\" d=\"M1539.79 753.367 Q1536.18 753.367 1534.35 756.931 Q1532.54 760.473 1532.54 767.603 Q1532.54 774.709 1534.35 778.274 Q1536.18 781.815 1539.79 781.815 Q1543.42 781.815 1545.23 778.274 Q1547.06 774.709 1547.06 767.603 Q1547.06 760.473 1545.23 756.931 Q1543.42 753.367 1539.79 753.367 M1539.79 749.663 Q1545.6 749.663 1548.65 754.269 Q1551.73 758.853 1551.73 767.603 Q1551.73 776.329 1548.65 780.936 Q1545.6 785.519 1539.79 785.519 Q1533.98 785.519 1530.9 780.936 Q1527.84 776.329 1527.84 767.603 Q1527.84 758.853 1530.9 754.269 Q1533.98 749.663 1539.79 749.663 Z\" fill=\"#000000\" fill-rule=\"evenodd\" fill-opacity=\"1\" /><polyline clip-path=\"url(#clip732)\" style=\"stroke:#000000; stroke-linecap:butt; stroke-linejoin:round; stroke-width:2; stroke-opacity:0.1; fill:none\" points=\"\n",
       "  186.867,632.681 1549.23,632.681 \n",
       "  \"/>\n",
       "<polyline clip-path=\"url(#clip732)\" style=\"stroke:#000000; stroke-linecap:butt; stroke-linejoin:round; stroke-width:2; stroke-opacity:0.1; fill:none\" points=\"\n",
       "  186.867,504.453 1549.23,504.453 \n",
       "  \"/>\n",
       "<polyline clip-path=\"url(#clip732)\" style=\"stroke:#000000; stroke-linecap:butt; stroke-linejoin:round; stroke-width:2; stroke-opacity:0.1; fill:none\" points=\"\n",
       "  186.867,376.225 1549.23,376.225 \n",
       "  \"/>\n",
       "<polyline clip-path=\"url(#clip732)\" style=\"stroke:#000000; stroke-linecap:butt; stroke-linejoin:round; stroke-width:2; stroke-opacity:0.1; fill:none\" points=\"\n",
       "  186.867,247.997 1549.23,247.997 \n",
       "  \"/>\n",
       "<polyline clip-path=\"url(#clip732)\" style=\"stroke:#000000; stroke-linecap:butt; stroke-linejoin:round; stroke-width:2; stroke-opacity:0.1; fill:none\" points=\"\n",
       "  186.867,119.769 1549.23,119.769 \n",
       "  \"/>\n",
       "<polyline clip-path=\"url(#clip730)\" style=\"stroke:#000000; stroke-linecap:butt; stroke-linejoin:round; stroke-width:4; stroke-opacity:1; fill:none\" points=\"\n",
       "  186.867,716.048 186.867,47.2441 \n",
       "  \"/>\n",
       "<polyline clip-path=\"url(#clip730)\" style=\"stroke:#000000; stroke-linecap:butt; stroke-linejoin:round; stroke-width:4; stroke-opacity:1; fill:none\" points=\"\n",
       "  186.867,632.681 205.764,632.681 \n",
       "  \"/>\n",
       "<polyline clip-path=\"url(#clip730)\" style=\"stroke:#000000; stroke-linecap:butt; stroke-linejoin:round; stroke-width:4; stroke-opacity:1; fill:none\" points=\"\n",
       "  186.867,504.453 205.764,504.453 \n",
       "  \"/>\n",
       "<polyline clip-path=\"url(#clip730)\" style=\"stroke:#000000; stroke-linecap:butt; stroke-linejoin:round; stroke-width:4; stroke-opacity:1; fill:none\" points=\"\n",
       "  186.867,376.225 205.764,376.225 \n",
       "  \"/>\n",
       "<polyline clip-path=\"url(#clip730)\" style=\"stroke:#000000; stroke-linecap:butt; stroke-linejoin:round; stroke-width:4; stroke-opacity:1; fill:none\" points=\"\n",
       "  186.867,247.997 205.764,247.997 \n",
       "  \"/>\n",
       "<polyline clip-path=\"url(#clip730)\" style=\"stroke:#000000; stroke-linecap:butt; stroke-linejoin:round; stroke-width:4; stroke-opacity:1; fill:none\" points=\"\n",
       "  186.867,119.769 205.764,119.769 \n",
       "  \"/>\n",
       "<path clip-path=\"url(#clip730)\" d=\"M46.9921 633.132 L76.6679 633.132 L76.6679 637.068 L46.9921 637.068 L46.9921 633.132 Z\" fill=\"#000000\" fill-rule=\"evenodd\" fill-opacity=\"1\" /><path clip-path=\"url(#clip730)\" d=\"M87.5706 646.026 L95.2095 646.026 L95.2095 619.66 L86.8993 621.327 L86.8993 617.068 L95.1632 615.401 L99.8391 615.401 L99.8391 646.026 L107.478 646.026 L107.478 649.961 L87.5706 649.961 L87.5706 646.026 Z\" fill=\"#000000\" fill-rule=\"evenodd\" fill-opacity=\"1\" /><path clip-path=\"url(#clip730)\" d=\"M126.922 618.48 Q123.311 618.48 121.482 622.045 Q119.677 625.586 119.677 632.716 Q119.677 639.822 121.482 643.387 Q123.311 646.929 126.922 646.929 Q130.556 646.929 132.362 643.387 Q134.191 639.822 134.191 632.716 Q134.191 625.586 132.362 622.045 Q130.556 618.48 126.922 618.48 M126.922 614.776 Q132.732 614.776 135.788 619.383 Q138.867 623.966 138.867 632.716 Q138.867 641.443 135.788 646.049 Q132.732 650.632 126.922 650.632 Q121.112 650.632 118.033 646.049 Q114.978 641.443 114.978 632.716 Q114.978 623.966 118.033 619.383 Q121.112 614.776 126.922 614.776 Z\" fill=\"#000000\" fill-rule=\"evenodd\" fill-opacity=\"1\" /><path clip-path=\"url(#clip730)\" d=\"M78.1494 504.904 L107.825 504.904 L107.825 508.84 L78.1494 508.84 L78.1494 504.904 Z\" fill=\"#000000\" fill-rule=\"evenodd\" fill-opacity=\"1\" /><path clip-path=\"url(#clip730)\" d=\"M117.964 487.173 L136.32 487.173 L136.32 491.108 L122.246 491.108 L122.246 499.58 Q123.265 499.233 124.283 499.071 Q125.302 498.886 126.32 498.886 Q132.107 498.886 135.487 502.057 Q138.867 505.229 138.867 510.645 Q138.867 516.224 135.394 519.326 Q131.922 522.404 125.603 522.404 Q123.427 522.404 121.158 522.034 Q118.913 521.664 116.506 520.923 L116.506 516.224 Q118.589 517.358 120.811 517.914 Q123.033 518.469 125.51 518.469 Q129.515 518.469 131.853 516.363 Q134.191 514.256 134.191 510.645 Q134.191 507.034 131.853 504.928 Q129.515 502.821 125.51 502.821 Q123.635 502.821 121.76 503.238 Q119.908 503.654 117.964 504.534 L117.964 487.173 Z\" fill=\"#000000\" fill-rule=\"evenodd\" fill-opacity=\"1\" /><path clip-path=\"url(#clip730)\" d=\"M126.922 362.024 Q123.311 362.024 121.482 365.589 Q119.677 369.13 119.677 376.26 Q119.677 383.366 121.482 386.931 Q123.311 390.473 126.922 390.473 Q130.556 390.473 132.362 386.931 Q134.191 383.366 134.191 376.26 Q134.191 369.13 132.362 365.589 Q130.556 362.024 126.922 362.024 M126.922 358.32 Q132.732 358.32 135.788 362.927 Q138.867 367.51 138.867 376.26 Q138.867 384.987 135.788 389.593 Q132.732 394.176 126.922 394.176 Q121.112 394.176 118.033 389.593 Q114.978 384.987 114.978 376.26 Q114.978 367.51 118.033 362.927 Q121.112 358.32 126.922 358.32 Z\" fill=\"#000000\" fill-rule=\"evenodd\" fill-opacity=\"1\" /><path clip-path=\"url(#clip730)\" d=\"M117.964 230.717 L136.32 230.717 L136.32 234.652 L122.246 234.652 L122.246 243.124 Q123.265 242.777 124.283 242.615 Q125.302 242.43 126.32 242.43 Q132.107 242.43 135.487 245.601 Q138.867 248.772 138.867 254.189 Q138.867 259.768 135.394 262.87 Q131.922 265.948 125.603 265.948 Q123.427 265.948 121.158 265.578 Q118.913 265.208 116.506 264.467 L116.506 259.768 Q118.589 260.902 120.811 261.458 Q123.033 262.013 125.51 262.013 Q129.515 262.013 131.853 259.907 Q134.191 257.8 134.191 254.189 Q134.191 250.578 131.853 248.472 Q129.515 246.365 125.51 246.365 Q123.635 246.365 121.76 246.782 Q119.908 247.198 117.964 248.078 L117.964 230.717 Z\" fill=\"#000000\" fill-rule=\"evenodd\" fill-opacity=\"1\" /><path clip-path=\"url(#clip730)\" d=\"M87.5706 133.114 L95.2095 133.114 L95.2095 106.748 L86.8993 108.415 L86.8993 104.156 L95.1632 102.489 L99.8391 102.489 L99.8391 133.114 L107.478 133.114 L107.478 137.049 L87.5706 137.049 L87.5706 133.114 Z\" fill=\"#000000\" fill-rule=\"evenodd\" fill-opacity=\"1\" /><path clip-path=\"url(#clip730)\" d=\"M126.922 105.568 Q123.311 105.568 121.482 109.132 Q119.677 112.674 119.677 119.804 Q119.677 126.91 121.482 130.475 Q123.311 134.017 126.922 134.017 Q130.556 134.017 132.362 130.475 Q134.191 126.91 134.191 119.804 Q134.191 112.674 132.362 109.132 Q130.556 105.568 126.922 105.568 M126.922 101.864 Q132.732 101.864 135.788 106.47 Q138.867 111.054 138.867 119.804 Q138.867 128.531 135.788 133.137 Q132.732 137.72 126.922 137.72 Q121.112 137.72 118.033 133.137 Q114.978 128.531 114.978 119.804 Q114.978 111.054 118.033 106.47 Q121.112 101.864 126.922 101.864 Z\" fill=\"#000000\" fill-rule=\"evenodd\" fill-opacity=\"1\" /><path clip-path=\"url(#clip732)\" d=\"\n",
       "M225.424 697.119 L238.406 675.643 L251.389 676.431 L264.371 674.309 L277.353 675.911 L290.335 666.093 L303.318 655.889 L316.3 665.389 L329.282 657.626 L342.264 654.052 \n",
       "  L355.247 644.589 L368.229 635.307 L381.211 625.639 L394.193 616.635 L407.176 603.728 L420.158 592.777 L433.14 559.478 L446.123 567.11 L459.105 548.443 L472.087 546.105 \n",
       "  L485.069 543.675 L498.052 542.136 L511.034 525.227 L524.016 492.65 L536.998 493.786 L549.981 457.554 L562.963 450.417 L575.945 450.525 L588.927 442.466 L601.91 432.966 \n",
       "  L614.892 461.983 L627.874 464.657 L640.857 470.85 L653.839 483.629 L666.821 495.186 L679.803 467.206 L692.786 498.65 L705.768 497.98 L718.75 491.654 L731.732 490.012 \n",
       "  L744.715 481.346 L757.697 509.571 L770.679 526.746 L783.661 515.398 L796.644 499.948 L809.626 519.964 L822.608 538.598 L835.591 562.213 L848.573 604.308 L861.555 584.899 \n",
       "  L874.537 589.201 L887.52 585.666 L900.502 618.166 L913.484 632.491 L926.466 645.494 L939.449 625.035 L952.431 622.047 L965.413 622.094 L978.396 634.794 L991.378 629.755 \n",
       "  L1004.36 627.373 L1017.34 576.925 L1030.32 576.006 L1043.31 533.705 L1056.29 523.41 L1069.27 540.571 L1082.25 536.276 L1095.24 478.879 L1108.22 495.869 L1121.2 457.166 \n",
       "  L1134.18 482.859 L1147.16 484.936 L1160.15 477.838 L1173.13 414.364 L1186.11 387.47 L1199.09 350.874 L1212.08 357.39 L1225.06 348.628 L1238.04 332.155 L1251.02 328.272 \n",
       "  L1264.01 319.514 L1276.99 303.161 L1289.97 278.275 L1302.95 245.096 L1315.93 243.62 L1328.92 255.506 L1341.9 284.147 L1354.88 270.142 L1367.86 294.41 L1380.85 284.997 \n",
       "  L1393.83 306.647 L1406.81 323.761 L1419.79 348 L1432.77 354.964 L1445.76 391.549 L1458.74 401.354 L1471.72 431.335 L1484.7 466.507 L1497.69 487.284 L1510.67 533.26 \n",
       "  L1510.67 357.388 L1497.69 311.521 L1484.7 290.703 L1471.72 255.509 L1458.74 225.435 L1445.76 215.493 L1432.77 178.812 L1419.79 171.656 L1406.81 147.263 L1393.83 129.977 \n",
       "  L1380.85 108.17 L1367.86 117.423 L1354.88 93.0387 L1341.9 106.916 L1328.92 78.1844 L1315.93 66.1725 L1302.95 67.5673 L1289.97 100.736 L1276.99 125.553 L1264.01 141.829 \n",
       "  L1251.02 150.551 L1238.04 154.471 L1225.06 171.076 L1212.08 180.044 L1199.09 173.848 L1186.11 210.902 L1173.13 238.22 L1160.15 302.173 L1147.16 309.271 L1134.18 307.287 \n",
       "  L1121.2 281.801 L1108.22 320.746 L1095.24 303.897 L1082.25 361.519 L1069.27 365.609 L1056.29 348.315 L1043.31 358.516 L1030.32 400.801 L1017.34 401.499 L1004.36 451.804 \n",
       "  L991.378 453.663 L978.396 458.209 L965.413 445.049 L952.431 444.556 L939.449 447.149 L926.466 467.272 L913.484 453.928 L900.502 439.304 L887.52 406.546 L874.537 409.699 \n",
       "  L861.555 405.087 L848.573 424.273 L835.591 381.982 L822.608 357.884 L809.626 338.711 L796.644 318.139 L783.661 333.007 L770.679 343.783 L757.697 326.078 L744.715 297.331 \n",
       "  L731.732 305.357 L718.75 306.415 L705.768 312.242 L692.786 312.506 L679.803 280.776 L666.821 308.335 L653.839 296.265 L640.857 283.053 L627.874 276.517 L614.892 273.643 \n",
       "  L601.91 244.605 L588.927 254.019 L575.945 262.171 L562.963 262.37 L549.981 270.082 L536.998 307.173 L524.016 306.701 L511.034 340.273 L498.052 358.085 L485.069 360.775 \n",
       "  L472.087 364.765 L459.105 369.112 L446.123 390.279 L433.14 385.483 L420.158 422.177 L407.176 436.327 L394.193 452.993 L381.211 466.322 L368.229 480.985 L355.247 495.961 \n",
       "  L342.264 511.868 L329.282 522.682 L316.3 538.681 L303.318 538.414 L290.335 559.204 L277.353 580.725 L264.371 592.459 L251.389 611.613 L238.406 634.779 L225.424 645.865 \n",
       "   Z\n",
       "  \" fill=\"#009af9\" fill-rule=\"evenodd\" fill-opacity=\"0.5\"/>\n",
       "<polyline clip-path=\"url(#clip732)\" style=\"stroke:#009af9; stroke-linecap:butt; stroke-linejoin:round; stroke-width:4; stroke-opacity:1; fill:none\" points=\"\n",
       "  225.424,671.492 238.406,655.211 251.389,644.022 264.371,633.384 277.353,628.318 290.335,612.649 303.318,597.152 316.3,602.035 329.282,590.154 342.264,582.96 \n",
       "  355.247,570.275 368.229,558.146 381.211,545.98 394.193,534.814 407.176,520.028 420.158,507.477 433.14,472.481 446.123,478.694 459.105,458.777 472.087,455.435 \n",
       "  485.069,452.225 498.052,450.111 511.034,432.75 524.016,399.676 536.998,400.48 549.981,363.818 562.963,356.393 575.945,356.348 588.927,348.242 601.91,338.785 \n",
       "  614.892,367.813 627.874,370.587 640.857,376.951 653.839,389.947 666.821,401.761 679.803,373.991 692.786,405.578 705.768,405.111 718.75,399.035 731.732,397.684 \n",
       "  744.715,389.338 757.697,417.825 770.679,435.264 783.661,424.203 796.644,409.043 809.626,429.337 822.608,448.241 835.591,472.097 848.573,514.291 861.555,494.993 \n",
       "  874.537,499.45 887.52,496.106 900.502,528.735 913.484,543.209 926.466,556.383 939.449,536.092 952.431,533.302 965.413,533.571 978.396,546.501 991.378,541.709 \n",
       "  1004.36,539.588 1017.34,489.212 1030.32,488.403 1043.31,446.111 1056.29,435.863 1069.27,453.09 1082.25,448.897 1095.24,391.388 1108.22,408.308 1121.2,369.484 \n",
       "  1134.18,395.073 1147.16,397.103 1160.15,390.005 1173.13,326.292 1186.11,299.186 1199.09,262.361 1212.08,268.717 1225.06,259.852 1238.04,243.313 1251.02,239.411 \n",
       "  1264.01,230.671 1276.99,214.357 1289.97,189.506 1302.95,156.332 1315.93,154.897 1328.92,166.845 1341.9,195.531 1354.88,181.59 1367.86,205.917 1380.85,196.583 \n",
       "  1393.83,218.312 1406.81,235.512 1419.79,259.828 1432.77,266.888 1445.76,303.521 1458.74,313.395 1471.72,343.422 1484.7,378.605 1497.69,399.402 1510.67,445.324 \n",
       "  \n",
       "  \"/>\n",
       "<path clip-path=\"url(#clip730)\" d=\"\n",
       "M1300.01 173.218 L1503.81 173.218 L1503.81 69.5376 L1300.01 69.5376  Z\n",
       "  \" fill=\"#ffffff\" fill-rule=\"evenodd\" fill-opacity=\"1\"/>\n",
       "<polyline clip-path=\"url(#clip730)\" style=\"stroke:#000000; stroke-linecap:butt; stroke-linejoin:round; stroke-width:4; stroke-opacity:1; fill:none\" points=\"\n",
       "  1300.01,173.218 1503.81,173.218 1503.81,69.5376 1300.01,69.5376 1300.01,173.218 \n",
       "  \"/>\n",
       "<polyline clip-path=\"url(#clip730)\" style=\"stroke:#009af9; stroke-linecap:butt; stroke-linejoin:round; stroke-width:4; stroke-opacity:1; fill:none\" points=\"\n",
       "  1315.15,121.378 1405.97,121.378 \n",
       "  \"/>\n",
       "<path clip-path=\"url(#clip730)\" d=\"M1434.95 141.065 Q1433.15 145.695 1431.43 147.107 Q1429.72 148.519 1426.85 148.519 L1423.45 148.519 L1423.45 144.954 L1425.95 144.954 Q1427.71 144.954 1428.68 144.12 Q1429.65 143.287 1430.83 140.185 L1431.59 138.241 L1421.11 112.732 L1425.62 112.732 L1433.72 133.009 L1441.83 112.732 L1446.34 112.732 L1434.95 141.065 Z\" fill=\"#000000\" fill-rule=\"evenodd\" fill-opacity=\"1\" /><path clip-path=\"url(#clip730)\" d=\"M1453.63 134.722 L1461.27 134.722 L1461.27 108.357 L1452.96 110.023 L1452.96 105.764 L1461.22 104.098 L1465.9 104.098 L1465.9 134.722 L1473.54 134.722 L1473.54 138.658 L1453.63 138.658 L1453.63 134.722 Z\" fill=\"#000000\" fill-rule=\"evenodd\" fill-opacity=\"1\" /><path clip-path=\"url(#clip730)\" d=\"\n",
       "M1790.4 716.048 L3152.76 716.048 L3152.76 47.2441 L1790.4 47.2441  Z\n",
       "  \" fill=\"#ffffff\" fill-rule=\"evenodd\" fill-opacity=\"1\"/>\n",
       "<defs>\n",
       "  <clipPath id=\"clip733\">\n",
       "    <rect x=\"1790\" y=\"47\" width=\"1363\" height=\"670\"/>\n",
       "  </clipPath>\n",
       "</defs>\n",
       "<polyline clip-path=\"url(#clip733)\" style=\"stroke:#000000; stroke-linecap:butt; stroke-linejoin:round; stroke-width:2; stroke-opacity:0.1; fill:none\" points=\"\n",
       "  1920.76,716.048 1920.76,47.2441 \n",
       "  \"/>\n",
       "<polyline clip-path=\"url(#clip733)\" style=\"stroke:#000000; stroke-linecap:butt; stroke-linejoin:round; stroke-width:2; stroke-opacity:0.1; fill:none\" points=\"\n",
       "  2104.36,716.048 2104.36,47.2441 \n",
       "  \"/>\n",
       "<polyline clip-path=\"url(#clip733)\" style=\"stroke:#000000; stroke-linecap:butt; stroke-linejoin:round; stroke-width:2; stroke-opacity:0.1; fill:none\" points=\"\n",
       "  2287.97,716.048 2287.97,47.2441 \n",
       "  \"/>\n",
       "<polyline clip-path=\"url(#clip733)\" style=\"stroke:#000000; stroke-linecap:butt; stroke-linejoin:round; stroke-width:2; stroke-opacity:0.1; fill:none\" points=\"\n",
       "  2471.58,716.048 2471.58,47.2441 \n",
       "  \"/>\n",
       "<polyline clip-path=\"url(#clip733)\" style=\"stroke:#000000; stroke-linecap:butt; stroke-linejoin:round; stroke-width:2; stroke-opacity:0.1; fill:none\" points=\"\n",
       "  2655.18,716.048 2655.18,47.2441 \n",
       "  \"/>\n",
       "<polyline clip-path=\"url(#clip733)\" style=\"stroke:#000000; stroke-linecap:butt; stroke-linejoin:round; stroke-width:2; stroke-opacity:0.1; fill:none\" points=\"\n",
       "  2838.79,716.048 2838.79,47.2441 \n",
       "  \"/>\n",
       "<polyline clip-path=\"url(#clip733)\" style=\"stroke:#000000; stroke-linecap:butt; stroke-linejoin:round; stroke-width:2; stroke-opacity:0.1; fill:none\" points=\"\n",
       "  3022.4,716.048 3022.4,47.2441 \n",
       "  \"/>\n",
       "<polyline clip-path=\"url(#clip730)\" style=\"stroke:#000000; stroke-linecap:butt; stroke-linejoin:round; stroke-width:4; stroke-opacity:1; fill:none\" points=\"\n",
       "  1790.4,716.048 3152.76,716.048 \n",
       "  \"/>\n",
       "<polyline clip-path=\"url(#clip730)\" style=\"stroke:#000000; stroke-linecap:butt; stroke-linejoin:round; stroke-width:4; stroke-opacity:1; fill:none\" points=\"\n",
       "  1920.76,716.048 1920.76,697.15 \n",
       "  \"/>\n",
       "<polyline clip-path=\"url(#clip730)\" style=\"stroke:#000000; stroke-linecap:butt; stroke-linejoin:round; stroke-width:4; stroke-opacity:1; fill:none\" points=\"\n",
       "  2104.36,716.048 2104.36,697.15 \n",
       "  \"/>\n",
       "<polyline clip-path=\"url(#clip730)\" style=\"stroke:#000000; stroke-linecap:butt; stroke-linejoin:round; stroke-width:4; stroke-opacity:1; fill:none\" points=\"\n",
       "  2287.97,716.048 2287.97,697.15 \n",
       "  \"/>\n",
       "<polyline clip-path=\"url(#clip730)\" style=\"stroke:#000000; stroke-linecap:butt; stroke-linejoin:round; stroke-width:4; stroke-opacity:1; fill:none\" points=\"\n",
       "  2471.58,716.048 2471.58,697.15 \n",
       "  \"/>\n",
       "<polyline clip-path=\"url(#clip730)\" style=\"stroke:#000000; stroke-linecap:butt; stroke-linejoin:round; stroke-width:4; stroke-opacity:1; fill:none\" points=\"\n",
       "  2655.18,716.048 2655.18,697.15 \n",
       "  \"/>\n",
       "<polyline clip-path=\"url(#clip730)\" style=\"stroke:#000000; stroke-linecap:butt; stroke-linejoin:round; stroke-width:4; stroke-opacity:1; fill:none\" points=\"\n",
       "  2838.79,716.048 2838.79,697.15 \n",
       "  \"/>\n",
       "<polyline clip-path=\"url(#clip730)\" style=\"stroke:#000000; stroke-linecap:butt; stroke-linejoin:round; stroke-width:4; stroke-opacity:1; fill:none\" points=\"\n",
       "  3022.4,716.048 3022.4,697.15 \n",
       "  \"/>\n",
       "<path clip-path=\"url(#clip730)\" d=\"M1915.41 780.913 L1931.73 780.913 L1931.73 784.848 L1909.79 784.848 L1909.79 780.913 Q1912.45 778.158 1917.03 773.528 Q1921.64 768.876 1922.82 767.533 Q1925.06 765.01 1925.94 763.274 Q1926.85 761.515 1926.85 759.825 Q1926.85 757.07 1924.9 755.334 Q1922.98 753.598 1919.88 753.598 Q1917.68 753.598 1915.22 754.362 Q1912.79 755.126 1910.02 756.677 L1910.02 751.955 Q1912.84 750.82 1915.29 750.242 Q1917.75 749.663 1919.79 749.663 Q1925.16 749.663 1928.35 752.348 Q1931.54 755.033 1931.54 759.524 Q1931.54 761.654 1930.73 763.575 Q1929.95 765.473 1927.84 768.066 Q1927.26 768.737 1924.16 771.954 Q1921.06 775.149 1915.41 780.913 Z\" fill=\"#000000\" fill-rule=\"evenodd\" fill-opacity=\"1\" /><path clip-path=\"url(#clip730)\" d=\"M2107.37 754.362 L2095.57 772.811 L2107.37 772.811 L2107.37 754.362 M2106.15 750.288 L2112.03 750.288 L2112.03 772.811 L2116.96 772.811 L2116.96 776.7 L2112.03 776.7 L2112.03 784.848 L2107.37 784.848 L2107.37 776.7 L2091.77 776.7 L2091.77 772.186 L2106.15 750.288 Z\" fill=\"#000000\" fill-rule=\"evenodd\" fill-opacity=\"1\" /><path clip-path=\"url(#clip730)\" d=\"M2288.38 765.704 Q2285.23 765.704 2283.38 767.857 Q2281.55 770.01 2281.55 773.76 Q2281.55 777.487 2283.38 779.663 Q2285.23 781.815 2288.38 781.815 Q2291.52 781.815 2293.35 779.663 Q2295.2 777.487 2295.2 773.76 Q2295.2 770.01 2293.35 767.857 Q2291.52 765.704 2288.38 765.704 M2297.66 751.052 L2297.66 755.311 Q2295.9 754.478 2294.09 754.038 Q2292.31 753.598 2290.55 753.598 Q2285.92 753.598 2283.47 756.723 Q2281.04 759.848 2280.69 766.167 Q2282.06 764.154 2284.12 763.089 Q2286.18 762.001 2288.65 762.001 Q2293.86 762.001 2296.87 765.172 Q2299.9 768.32 2299.9 773.76 Q2299.9 779.084 2296.75 782.302 Q2293.61 785.519 2288.38 785.519 Q2282.38 785.519 2279.21 780.936 Q2276.04 776.329 2276.04 767.603 Q2276.04 759.408 2279.93 754.547 Q2283.81 749.663 2290.37 749.663 Q2292.13 749.663 2293.91 750.01 Q2295.71 750.357 2297.66 751.052 Z\" fill=\"#000000\" fill-rule=\"evenodd\" fill-opacity=\"1\" /><path clip-path=\"url(#clip730)\" d=\"M2471.58 768.436 Q2468.24 768.436 2466.32 770.218 Q2464.42 772.001 2464.42 775.126 Q2464.42 778.251 2466.32 780.033 Q2468.24 781.815 2471.58 781.815 Q2474.91 781.815 2476.83 780.033 Q2478.75 778.228 2478.75 775.126 Q2478.75 772.001 2476.83 770.218 Q2474.93 768.436 2471.58 768.436 M2466.9 766.445 Q2463.89 765.704 2462.2 763.644 Q2460.53 761.584 2460.53 758.621 Q2460.53 754.478 2463.47 752.07 Q2466.44 749.663 2471.58 749.663 Q2476.74 749.663 2479.68 752.07 Q2482.62 754.478 2482.62 758.621 Q2482.62 761.584 2480.93 763.644 Q2479.26 765.704 2476.28 766.445 Q2479.65 767.232 2481.53 769.524 Q2483.43 771.816 2483.43 775.126 Q2483.43 780.149 2480.35 782.834 Q2477.29 785.519 2471.58 785.519 Q2465.86 785.519 2462.78 782.834 Q2459.72 780.149 2459.72 775.126 Q2459.72 771.816 2461.62 769.524 Q2463.52 767.232 2466.9 766.445 M2465.19 759.061 Q2465.19 761.746 2466.85 763.251 Q2468.54 764.755 2471.58 764.755 Q2474.59 764.755 2476.28 763.251 Q2477.99 761.746 2477.99 759.061 Q2477.99 756.376 2476.28 754.871 Q2474.59 753.367 2471.58 753.367 Q2468.54 753.367 2466.85 754.871 Q2465.19 756.376 2465.19 759.061 Z\" fill=\"#000000\" fill-rule=\"evenodd\" fill-opacity=\"1\" /><path clip-path=\"url(#clip730)\" d=\"M2629.87 780.913 L2637.51 780.913 L2637.51 754.547 L2629.2 756.214 L2629.2 751.955 L2637.46 750.288 L2642.14 750.288 L2642.14 780.913 L2649.78 780.913 L2649.78 784.848 L2629.87 784.848 L2629.87 780.913 Z\" fill=\"#000000\" fill-rule=\"evenodd\" fill-opacity=\"1\" /><path clip-path=\"url(#clip730)\" d=\"M2669.22 753.367 Q2665.61 753.367 2663.78 756.931 Q2661.98 760.473 2661.98 767.603 Q2661.98 774.709 2663.78 778.274 Q2665.61 781.815 2669.22 781.815 Q2672.86 781.815 2674.66 778.274 Q2676.49 774.709 2676.49 767.603 Q2676.49 760.473 2674.66 756.931 Q2672.86 753.367 2669.22 753.367 M2669.22 749.663 Q2675.03 749.663 2678.09 754.269 Q2681.17 758.853 2681.17 767.603 Q2681.17 776.329 2678.09 780.936 Q2675.03 785.519 2669.22 785.519 Q2663.41 785.519 2660.33 780.936 Q2657.28 776.329 2657.28 767.603 Q2657.28 758.853 2660.33 754.269 Q2663.41 749.663 2669.22 749.663 Z\" fill=\"#000000\" fill-rule=\"evenodd\" fill-opacity=\"1\" /><path clip-path=\"url(#clip730)\" d=\"M2814.28 780.913 L2821.91 780.913 L2821.91 754.547 L2813.6 756.214 L2813.6 751.955 L2821.87 750.288 L2826.54 750.288 L2826.54 780.913 L2834.18 780.913 L2834.18 784.848 L2814.28 784.848 L2814.28 780.913 Z\" fill=\"#000000\" fill-rule=\"evenodd\" fill-opacity=\"1\" /><path clip-path=\"url(#clip730)\" d=\"M2847.65 780.913 L2863.97 780.913 L2863.97 784.848 L2842.03 784.848 L2842.03 780.913 Q2844.69 778.158 2849.28 773.528 Q2853.88 768.876 2855.06 767.533 Q2857.31 765.01 2858.19 763.274 Q2859.09 761.515 2859.09 759.825 Q2859.09 757.07 2857.15 755.334 Q2855.22 753.598 2852.12 753.598 Q2849.92 753.598 2847.47 754.362 Q2845.04 755.126 2842.26 756.677 L2842.26 751.955 Q2845.09 750.82 2847.54 750.242 Q2849.99 749.663 2852.03 749.663 Q2857.4 749.663 2860.59 752.348 Q2863.79 755.033 2863.79 759.524 Q2863.79 761.654 2862.98 763.575 Q2862.19 765.473 2860.09 768.066 Q2859.51 768.737 2856.4 771.954 Q2853.3 775.149 2847.65 780.913 Z\" fill=\"#000000\" fill-rule=\"evenodd\" fill-opacity=\"1\" /><path clip-path=\"url(#clip730)\" d=\"M2996.84 780.913 L3004.48 780.913 L3004.48 754.547 L2996.17 756.214 L2996.17 751.955 L3004.43 750.288 L3009.11 750.288 L3009.11 780.913 L3016.75 780.913 L3016.75 784.848 L2996.84 784.848 L2996.84 780.913 Z\" fill=\"#000000\" fill-rule=\"evenodd\" fill-opacity=\"1\" /><path clip-path=\"url(#clip730)\" d=\"M3039.04 754.362 L3027.23 772.811 L3039.04 772.811 L3039.04 754.362 M3037.81 750.288 L3043.69 750.288 L3043.69 772.811 L3048.62 772.811 L3048.62 776.7 L3043.69 776.7 L3043.69 784.848 L3039.04 784.848 L3039.04 776.7 L3023.44 776.7 L3023.44 772.186 L3037.81 750.288 Z\" fill=\"#000000\" fill-rule=\"evenodd\" fill-opacity=\"1\" /><polyline clip-path=\"url(#clip733)\" style=\"stroke:#000000; stroke-linecap:butt; stroke-linejoin:round; stroke-width:2; stroke-opacity:0.1; fill:none\" points=\"\n",
       "  1790.4,600.861 3152.76,600.861 \n",
       "  \"/>\n",
       "<polyline clip-path=\"url(#clip733)\" style=\"stroke:#000000; stroke-linecap:butt; stroke-linejoin:round; stroke-width:2; stroke-opacity:0.1; fill:none\" points=\"\n",
       "  1790.4,481.683 3152.76,481.683 \n",
       "  \"/>\n",
       "<polyline clip-path=\"url(#clip733)\" style=\"stroke:#000000; stroke-linecap:butt; stroke-linejoin:round; stroke-width:2; stroke-opacity:0.1; fill:none\" points=\"\n",
       "  1790.4,362.505 3152.76,362.505 \n",
       "  \"/>\n",
       "<polyline clip-path=\"url(#clip733)\" style=\"stroke:#000000; stroke-linecap:butt; stroke-linejoin:round; stroke-width:2; stroke-opacity:0.1; fill:none\" points=\"\n",
       "  1790.4,243.327 3152.76,243.327 \n",
       "  \"/>\n",
       "<polyline clip-path=\"url(#clip733)\" style=\"stroke:#000000; stroke-linecap:butt; stroke-linejoin:round; stroke-width:2; stroke-opacity:0.1; fill:none\" points=\"\n",
       "  1790.4,124.149 3152.76,124.149 \n",
       "  \"/>\n",
       "<polyline clip-path=\"url(#clip730)\" style=\"stroke:#000000; stroke-linecap:butt; stroke-linejoin:round; stroke-width:4; stroke-opacity:1; fill:none\" points=\"\n",
       "  1790.4,716.048 1790.4,47.2441 \n",
       "  \"/>\n",
       "<polyline clip-path=\"url(#clip730)\" style=\"stroke:#000000; stroke-linecap:butt; stroke-linejoin:round; stroke-width:4; stroke-opacity:1; fill:none\" points=\"\n",
       "  1790.4,600.861 1809.29,600.861 \n",
       "  \"/>\n",
       "<polyline clip-path=\"url(#clip730)\" style=\"stroke:#000000; stroke-linecap:butt; stroke-linejoin:round; stroke-width:4; stroke-opacity:1; fill:none\" points=\"\n",
       "  1790.4,481.683 1809.29,481.683 \n",
       "  \"/>\n",
       "<polyline clip-path=\"url(#clip730)\" style=\"stroke:#000000; stroke-linecap:butt; stroke-linejoin:round; stroke-width:4; stroke-opacity:1; fill:none\" points=\"\n",
       "  1790.4,362.505 1809.29,362.505 \n",
       "  \"/>\n",
       "<polyline clip-path=\"url(#clip730)\" style=\"stroke:#000000; stroke-linecap:butt; stroke-linejoin:round; stroke-width:4; stroke-opacity:1; fill:none\" points=\"\n",
       "  1790.4,243.327 1809.29,243.327 \n",
       "  \"/>\n",
       "<polyline clip-path=\"url(#clip730)\" style=\"stroke:#000000; stroke-linecap:butt; stroke-linejoin:round; stroke-width:4; stroke-opacity:1; fill:none\" points=\"\n",
       "  1790.4,124.149 1809.29,124.149 \n",
       "  \"/>\n",
       "<path clip-path=\"url(#clip730)\" d=\"M1650.08 614.206 L1666.4 614.206 L1666.4 618.141 L1644.46 618.141 L1644.46 614.206 Q1647.12 611.451 1651.7 606.821 Q1656.31 602.169 1657.49 600.826 Q1659.74 598.303 1660.61 596.567 Q1661.52 594.808 1661.52 593.118 Q1661.52 590.363 1659.57 588.627 Q1657.65 586.891 1654.55 586.891 Q1652.35 586.891 1649.9 587.655 Q1647.47 588.419 1644.69 589.97 L1644.69 585.247 Q1647.51 584.113 1649.97 583.535 Q1652.42 582.956 1654.46 582.956 Q1659.83 582.956 1663.02 585.641 Q1666.22 588.326 1666.22 592.817 Q1666.22 594.946 1665.41 596.868 Q1664.62 598.766 1662.51 601.358 Q1661.93 602.03 1658.83 605.247 Q1655.73 608.442 1650.08 614.206 Z\" fill=\"#000000\" fill-rule=\"evenodd\" fill-opacity=\"1\" /><path clip-path=\"url(#clip730)\" d=\"M1675.04 583.581 L1697.26 583.581 L1697.26 585.572 L1684.71 618.141 L1679.83 618.141 L1691.63 587.516 L1675.04 587.516 L1675.04 583.581 Z\" fill=\"#000000\" fill-rule=\"evenodd\" fill-opacity=\"1\" /><path clip-path=\"url(#clip730)\" d=\"M1706.38 612.261 L1711.26 612.261 L1711.26 618.141 L1706.38 618.141 L1706.38 612.261 Z\" fill=\"#000000\" fill-rule=\"evenodd\" fill-opacity=\"1\" /><path clip-path=\"url(#clip730)\" d=\"M1721.49 583.581 L1739.85 583.581 L1739.85 587.516 L1725.78 587.516 L1725.78 595.988 Q1726.79 595.641 1727.81 595.479 Q1728.83 595.294 1729.85 595.294 Q1735.64 595.294 1739.02 598.465 Q1742.4 601.636 1742.4 607.053 Q1742.4 612.632 1738.92 615.733 Q1735.45 618.812 1729.13 618.812 Q1726.96 618.812 1724.69 618.442 Q1722.44 618.071 1720.04 617.331 L1720.04 612.632 Q1722.12 613.766 1724.34 614.321 Q1726.56 614.877 1729.04 614.877 Q1733.04 614.877 1735.38 612.77 Q1737.72 610.664 1737.72 607.053 Q1737.72 603.442 1735.38 601.335 Q1733.04 599.229 1729.04 599.229 Q1727.17 599.229 1725.29 599.646 Q1723.44 600.062 1721.49 600.942 L1721.49 583.581 Z\" fill=\"#000000\" fill-rule=\"evenodd\" fill-opacity=\"1\" /><path clip-path=\"url(#clip730)\" d=\"M1649.09 495.028 L1665.41 495.028 L1665.41 498.963 L1643.46 498.963 L1643.46 495.028 Q1646.12 492.273 1650.71 487.644 Q1655.31 482.991 1656.49 481.648 Q1658.74 479.125 1659.62 477.389 Q1660.52 475.63 1660.52 473.94 Q1660.52 471.185 1658.58 469.449 Q1656.66 467.713 1653.55 467.713 Q1651.36 467.713 1648.9 468.477 Q1646.47 469.241 1643.69 470.792 L1643.69 466.07 Q1646.52 464.935 1648.97 464.357 Q1651.42 463.778 1653.46 463.778 Q1658.83 463.778 1662.03 466.463 Q1665.22 469.148 1665.22 473.639 Q1665.22 475.769 1664.41 477.69 Q1663.62 479.588 1661.52 482.181 Q1660.94 482.852 1657.84 486.069 Q1654.74 489.264 1649.09 495.028 Z\" fill=\"#000000\" fill-rule=\"evenodd\" fill-opacity=\"1\" /><path clip-path=\"url(#clip730)\" d=\"M1685.22 482.551 Q1681.89 482.551 1679.97 484.333 Q1678.07 486.116 1678.07 489.241 Q1678.07 492.366 1679.97 494.148 Q1681.89 495.93 1685.22 495.93 Q1688.55 495.93 1690.48 494.148 Q1692.4 492.343 1692.4 489.241 Q1692.4 486.116 1690.48 484.333 Q1688.58 482.551 1685.22 482.551 M1680.55 480.56 Q1677.54 479.819 1675.85 477.759 Q1674.18 475.699 1674.18 472.736 Q1674.18 468.593 1677.12 466.185 Q1680.08 463.778 1685.22 463.778 Q1690.38 463.778 1693.32 466.185 Q1696.26 468.593 1696.26 472.736 Q1696.26 475.699 1694.57 477.759 Q1692.91 479.819 1689.92 480.56 Q1693.3 481.347 1695.17 483.639 Q1697.07 485.931 1697.07 489.241 Q1697.07 494.264 1693.99 496.949 Q1690.94 499.634 1685.22 499.634 Q1679.5 499.634 1676.42 496.949 Q1673.37 494.264 1673.37 489.241 Q1673.37 485.931 1675.27 483.639 Q1677.17 481.347 1680.55 480.56 M1678.83 473.176 Q1678.83 475.861 1680.5 477.366 Q1682.19 478.87 1685.22 478.87 Q1688.23 478.87 1689.92 477.366 Q1691.63 475.861 1691.63 473.176 Q1691.63 470.491 1689.92 468.986 Q1688.23 467.482 1685.22 467.482 Q1682.19 467.482 1680.5 468.986 Q1678.83 470.491 1678.83 473.176 Z\" fill=\"#000000\" fill-rule=\"evenodd\" fill-opacity=\"1\" /><path clip-path=\"url(#clip730)\" d=\"M1705.38 493.083 L1710.27 493.083 L1710.27 498.963 L1705.38 498.963 L1705.38 493.083 Z\" fill=\"#000000\" fill-rule=\"evenodd\" fill-opacity=\"1\" /><path clip-path=\"url(#clip730)\" d=\"M1730.45 467.482 Q1726.84 467.482 1725.01 471.046 Q1723.21 474.588 1723.21 481.718 Q1723.21 488.824 1725.01 492.389 Q1726.84 495.93 1730.45 495.93 Q1734.09 495.93 1735.89 492.389 Q1737.72 488.824 1737.72 481.718 Q1737.72 474.588 1735.89 471.046 Q1734.09 467.482 1730.45 467.482 M1730.45 463.778 Q1736.26 463.778 1739.32 468.384 Q1742.4 472.968 1742.4 481.718 Q1742.4 490.444 1739.32 495.051 Q1736.26 499.634 1730.45 499.634 Q1724.64 499.634 1721.56 495.051 Q1718.51 490.444 1718.51 481.718 Q1718.51 472.968 1721.56 468.384 Q1724.64 463.778 1730.45 463.778 Z\" fill=\"#000000\" fill-rule=\"evenodd\" fill-opacity=\"1\" /><path clip-path=\"url(#clip730)\" d=\"M1650.08 375.85 L1666.4 375.85 L1666.4 379.785 L1644.46 379.785 L1644.46 375.85 Q1647.12 373.095 1651.7 368.466 Q1656.31 363.813 1657.49 362.47 Q1659.74 359.947 1660.61 358.211 Q1661.52 356.452 1661.52 354.762 Q1661.52 352.007 1659.57 350.271 Q1657.65 348.535 1654.55 348.535 Q1652.35 348.535 1649.9 349.299 Q1647.47 350.063 1644.69 351.614 L1644.69 346.892 Q1647.51 345.757 1649.97 345.179 Q1652.42 344.6 1654.46 344.6 Q1659.83 344.6 1663.02 347.285 Q1666.22 349.97 1666.22 354.461 Q1666.22 356.591 1665.41 358.512 Q1664.62 360.41 1662.51 363.003 Q1661.93 363.674 1658.83 366.892 Q1655.73 370.086 1650.08 375.85 Z\" fill=\"#000000\" fill-rule=\"evenodd\" fill-opacity=\"1\" /><path clip-path=\"url(#clip730)\" d=\"M1686.22 363.373 Q1682.88 363.373 1680.96 365.155 Q1679.06 366.938 1679.06 370.063 Q1679.06 373.188 1680.96 374.97 Q1682.88 376.753 1686.22 376.753 Q1689.55 376.753 1691.47 374.97 Q1693.39 373.165 1693.39 370.063 Q1693.39 366.938 1691.47 365.155 Q1689.57 363.373 1686.22 363.373 M1681.54 361.382 Q1678.53 360.642 1676.84 358.581 Q1675.17 356.521 1675.17 353.558 Q1675.17 349.415 1678.11 347.007 Q1681.08 344.6 1686.22 344.6 Q1691.38 344.6 1694.32 347.007 Q1697.26 349.415 1697.26 353.558 Q1697.26 356.521 1695.57 358.581 Q1693.9 360.642 1690.92 361.382 Q1694.3 362.169 1696.17 364.461 Q1698.07 366.753 1698.07 370.063 Q1698.07 375.086 1694.99 377.771 Q1691.93 380.456 1686.22 380.456 Q1680.5 380.456 1677.42 377.771 Q1674.36 375.086 1674.36 370.063 Q1674.36 366.753 1676.26 364.461 Q1678.16 362.169 1681.54 361.382 M1679.83 353.998 Q1679.83 356.683 1681.49 358.188 Q1683.18 359.692 1686.22 359.692 Q1689.23 359.692 1690.92 358.188 Q1692.63 356.683 1692.63 353.998 Q1692.63 351.313 1690.92 349.808 Q1689.23 348.304 1686.22 348.304 Q1683.18 348.304 1681.49 349.808 Q1679.83 351.313 1679.83 353.998 Z\" fill=\"#000000\" fill-rule=\"evenodd\" fill-opacity=\"1\" /><path clip-path=\"url(#clip730)\" d=\"M1706.38 373.905 L1711.26 373.905 L1711.26 379.785 L1706.38 379.785 L1706.38 373.905 Z\" fill=\"#000000\" fill-rule=\"evenodd\" fill-opacity=\"1\" /><path clip-path=\"url(#clip730)\" d=\"M1721.49 345.225 L1739.85 345.225 L1739.85 349.16 L1725.78 349.16 L1725.78 357.632 Q1726.79 357.285 1727.81 357.123 Q1728.83 356.938 1729.85 356.938 Q1735.64 356.938 1739.02 360.109 Q1742.4 363.28 1742.4 368.697 Q1742.4 374.276 1738.92 377.378 Q1735.45 380.456 1729.13 380.456 Q1726.96 380.456 1724.69 380.086 Q1722.44 379.716 1720.04 378.975 L1720.04 374.276 Q1722.12 375.41 1724.34 375.966 Q1726.56 376.521 1729.04 376.521 Q1733.04 376.521 1735.38 374.415 Q1737.72 372.308 1737.72 368.697 Q1737.72 365.086 1735.38 362.979 Q1733.04 360.873 1729.04 360.873 Q1727.17 360.873 1725.29 361.29 Q1723.44 361.706 1721.49 362.586 L1721.49 345.225 Z\" fill=\"#000000\" fill-rule=\"evenodd\" fill-opacity=\"1\" /><path clip-path=\"url(#clip730)\" d=\"M1649.09 256.672 L1665.41 256.672 L1665.41 260.607 L1643.46 260.607 L1643.46 256.672 Q1646.12 253.917 1650.71 249.288 Q1655.31 244.635 1656.49 243.292 Q1658.74 240.769 1659.62 239.033 Q1660.52 237.274 1660.52 235.584 Q1660.52 232.829 1658.58 231.093 Q1656.66 229.357 1653.55 229.357 Q1651.36 229.357 1648.9 230.121 Q1646.47 230.885 1643.69 232.436 L1643.69 227.714 Q1646.52 226.579 1648.97 226.001 Q1651.42 225.422 1653.46 225.422 Q1658.83 225.422 1662.03 228.107 Q1665.22 230.792 1665.22 235.283 Q1665.22 237.413 1664.41 239.334 Q1663.62 241.232 1661.52 243.825 Q1660.94 244.496 1657.84 247.714 Q1654.74 250.908 1649.09 256.672 Z\" fill=\"#000000\" fill-rule=\"evenodd\" fill-opacity=\"1\" /><path clip-path=\"url(#clip730)\" d=\"M1675.36 259.889 L1675.36 255.63 Q1677.12 256.464 1678.92 256.903 Q1680.73 257.343 1682.47 257.343 Q1687.1 257.343 1689.53 254.241 Q1691.98 251.116 1692.33 244.774 Q1690.98 246.765 1688.92 247.829 Q1686.86 248.894 1684.36 248.894 Q1679.18 248.894 1676.15 245.769 Q1673.14 242.621 1673.14 237.181 Q1673.14 231.857 1676.29 228.64 Q1679.43 225.422 1684.67 225.422 Q1690.66 225.422 1693.81 230.028 Q1696.98 234.612 1696.98 243.362 Q1696.98 251.533 1693.09 256.417 Q1689.23 261.278 1682.67 261.278 Q1680.92 261.278 1679.11 260.931 Q1677.3 260.584 1675.36 259.889 M1684.67 245.237 Q1687.81 245.237 1689.64 243.084 Q1691.49 240.931 1691.49 237.181 Q1691.49 233.454 1689.64 231.302 Q1687.81 229.126 1684.67 229.126 Q1681.52 229.126 1679.67 231.302 Q1677.84 233.454 1677.84 237.181 Q1677.84 240.931 1679.67 243.084 Q1681.52 245.237 1684.67 245.237 Z\" fill=\"#000000\" fill-rule=\"evenodd\" fill-opacity=\"1\" /><path clip-path=\"url(#clip730)\" d=\"M1705.38 254.727 L1710.27 254.727 L1710.27 260.607 L1705.38 260.607 L1705.38 254.727 Z\" fill=\"#000000\" fill-rule=\"evenodd\" fill-opacity=\"1\" /><path clip-path=\"url(#clip730)\" d=\"M1730.45 229.126 Q1726.84 229.126 1725.01 232.691 Q1723.21 236.232 1723.21 243.362 Q1723.21 250.468 1725.01 254.033 Q1726.84 257.575 1730.45 257.575 Q1734.09 257.575 1735.89 254.033 Q1737.72 250.468 1737.72 243.362 Q1737.72 236.232 1735.89 232.691 Q1734.09 229.126 1730.45 229.126 M1730.45 225.422 Q1736.26 225.422 1739.32 230.028 Q1742.4 234.612 1742.4 243.362 Q1742.4 252.089 1739.32 256.695 Q1736.26 261.278 1730.45 261.278 Q1724.64 261.278 1721.56 256.695 Q1718.51 252.089 1718.51 243.362 Q1718.51 234.612 1721.56 230.028 Q1724.64 225.422 1730.45 225.422 Z\" fill=\"#000000\" fill-rule=\"evenodd\" fill-opacity=\"1\" /><path clip-path=\"url(#clip730)\" d=\"M1650.08 137.494 L1666.4 137.494 L1666.4 141.429 L1644.46 141.429 L1644.46 137.494 Q1647.12 134.739 1651.7 130.11 Q1656.31 125.457 1657.49 124.114 Q1659.74 121.591 1660.61 119.855 Q1661.52 118.096 1661.52 116.406 Q1661.52 113.651 1659.57 111.915 Q1657.65 110.179 1654.55 110.179 Q1652.35 110.179 1649.9 110.943 Q1647.47 111.707 1644.69 113.258 L1644.69 108.536 Q1647.51 107.402 1649.97 106.823 Q1652.42 106.244 1654.46 106.244 Q1659.83 106.244 1663.02 108.929 Q1666.22 111.614 1666.22 116.105 Q1666.22 118.235 1665.41 120.156 Q1664.62 122.054 1662.51 124.647 Q1661.93 125.318 1658.83 128.536 Q1655.73 131.73 1650.08 137.494 Z\" fill=\"#000000\" fill-rule=\"evenodd\" fill-opacity=\"1\" /><path clip-path=\"url(#clip730)\" d=\"M1676.36 140.712 L1676.36 136.452 Q1678.11 137.286 1679.92 137.725 Q1681.73 138.165 1683.46 138.165 Q1688.09 138.165 1690.52 135.063 Q1692.98 131.938 1693.32 125.596 Q1691.98 127.587 1689.92 128.651 Q1687.86 129.716 1685.36 129.716 Q1680.17 129.716 1677.14 126.591 Q1674.13 123.443 1674.13 118.003 Q1674.13 112.679 1677.28 109.462 Q1680.43 106.244 1685.66 106.244 Q1691.66 106.244 1694.8 110.851 Q1697.98 115.434 1697.98 124.184 Q1697.98 132.355 1694.09 137.239 Q1690.22 142.1 1683.67 142.1 Q1681.91 142.1 1680.11 141.753 Q1678.3 141.406 1676.36 140.712 M1685.66 126.059 Q1688.81 126.059 1690.64 123.906 Q1692.49 121.753 1692.49 118.003 Q1692.49 114.276 1690.64 112.124 Q1688.81 109.948 1685.66 109.948 Q1682.51 109.948 1680.66 112.124 Q1678.83 114.276 1678.83 118.003 Q1678.83 121.753 1680.66 123.906 Q1682.51 126.059 1685.66 126.059 Z\" fill=\"#000000\" fill-rule=\"evenodd\" fill-opacity=\"1\" /><path clip-path=\"url(#clip730)\" d=\"M1706.38 135.55 L1711.26 135.55 L1711.26 141.429 L1706.38 141.429 L1706.38 135.55 Z\" fill=\"#000000\" fill-rule=\"evenodd\" fill-opacity=\"1\" /><path clip-path=\"url(#clip730)\" d=\"M1721.49 106.869 L1739.85 106.869 L1739.85 110.804 L1725.78 110.804 L1725.78 119.276 Q1726.79 118.929 1727.81 118.767 Q1728.83 118.582 1729.85 118.582 Q1735.64 118.582 1739.02 121.753 Q1742.4 124.925 1742.4 130.341 Q1742.4 135.92 1738.92 139.022 Q1735.45 142.1 1729.13 142.1 Q1726.96 142.1 1724.69 141.73 Q1722.44 141.36 1720.04 140.619 L1720.04 135.92 Q1722.12 137.054 1724.34 137.61 Q1726.56 138.165 1729.04 138.165 Q1733.04 138.165 1735.38 136.059 Q1737.72 133.952 1737.72 130.341 Q1737.72 126.73 1735.38 124.624 Q1733.04 122.517 1729.04 122.517 Q1727.17 122.517 1725.29 122.934 Q1723.44 123.35 1721.49 124.23 L1721.49 106.869 Z\" fill=\"#000000\" fill-rule=\"evenodd\" fill-opacity=\"1\" /><polyline clip-path=\"url(#clip733)\" style=\"stroke:#009af9; stroke-linecap:butt; stroke-linejoin:round; stroke-width:4; stroke-opacity:1; fill:none\" points=\"\n",
       "  1828.95,66.1725 1920.76,674.892 2012.56,697.053 2104.36,697.119 2196.17,697.119 2287.97,697.119 2379.77,697.119 2471.58,697.119 2563.38,697.119 2655.18,697.119 \n",
       "  2746.99,697.119 2838.79,697.119 2930.59,697.119 3022.4,697.119 3114.2,697.119 \n",
       "  \"/>\n",
       "<path clip-path=\"url(#clip730)\" d=\"\n",
       "M2903.54 173.218 L3107.34 173.218 L3107.34 69.5376 L2903.54 69.5376  Z\n",
       "  \" fill=\"#ffffff\" fill-rule=\"evenodd\" fill-opacity=\"1\"/>\n",
       "<polyline clip-path=\"url(#clip730)\" style=\"stroke:#000000; stroke-linecap:butt; stroke-linejoin:round; stroke-width:4; stroke-opacity:1; fill:none\" points=\"\n",
       "  2903.54,173.218 3107.34,173.218 3107.34,69.5376 2903.54,69.5376 2903.54,173.218 \n",
       "  \"/>\n",
       "<polyline clip-path=\"url(#clip730)\" style=\"stroke:#009af9; stroke-linecap:butt; stroke-linejoin:round; stroke-width:4; stroke-opacity:1; fill:none\" points=\"\n",
       "  2918.68,121.378 3009.5,121.378 \n",
       "  \"/>\n",
       "<path clip-path=\"url(#clip730)\" d=\"M3038.48 141.065 Q3036.68 145.695 3034.96 147.107 Q3033.25 148.519 3030.38 148.519 L3026.98 148.519 L3026.98 144.954 L3029.48 144.954 Q3031.24 144.954 3032.21 144.12 Q3033.18 143.287 3034.36 140.185 L3035.13 138.241 L3024.64 112.732 L3029.15 112.732 L3037.25 133.009 L3045.36 112.732 L3049.87 112.732 L3038.48 141.065 Z\" fill=\"#000000\" fill-rule=\"evenodd\" fill-opacity=\"1\" /><path clip-path=\"url(#clip730)\" d=\"M3057.16 134.722 L3064.8 134.722 L3064.8 108.357 L3056.49 110.023 L3056.49 105.764 L3064.75 104.098 L3069.43 104.098 L3069.43 134.722 L3077.07 134.722 L3077.07 138.658 L3057.16 138.658 L3057.16 134.722 Z\" fill=\"#000000\" fill-rule=\"evenodd\" fill-opacity=\"1\" /></svg>\n"
      ]
     },
     "execution_count": 50,
     "metadata": {},
     "output_type": "execute_result"
    }
   ],
   "source": [
    "@time qxt, qτ, engine = testme(from(static))\n",
    "\n",
    "p1 = plot(mean.(qxt), ribbon = std.(qxt))\n",
    "p2 = plot(getvalues(engine.fe_actor))\n",
    "\n",
    "plot(p1, p2, size = (800, 200))"
   ]
  },
  {
   "cell_type": "code",
   "execution_count": 47,
   "metadata": {},
   "outputs": [],
   "source": [
    "using BenchmarkTools"
   ]
  },
  {
   "cell_type": "code",
   "execution_count": 48,
   "metadata": {},
   "outputs": [
    {
     "data": {
      "text/plain": [
       "BenchmarkTools.Trial: 171 samples with 1 evaluation.\n",
       " Range \u001b[90m(\u001b[39m\u001b[36m\u001b[1mmin\u001b[22m\u001b[39m … \u001b[35mmax\u001b[39m\u001b[90m):  \u001b[39m\u001b[36m\u001b[1m23.896 ms\u001b[22m\u001b[39m … \u001b[35m48.633 ms\u001b[39m  \u001b[90m┊\u001b[39m GC \u001b[90m(\u001b[39mmin … max\u001b[90m): \u001b[39m0.00% … 23.20%\n",
       " Time  \u001b[90m(\u001b[39m\u001b[34m\u001b[1mmedian\u001b[22m\u001b[39m\u001b[90m):     \u001b[39m\u001b[34m\u001b[1m28.410 ms              \u001b[22m\u001b[39m\u001b[90m┊\u001b[39m GC \u001b[90m(\u001b[39mmedian\u001b[90m):    \u001b[39m0.00%\n",
       " Time  \u001b[90m(\u001b[39m\u001b[32m\u001b[1mmean\u001b[22m\u001b[39m ± \u001b[32mσ\u001b[39m\u001b[90m):   \u001b[39m\u001b[32m\u001b[1m29.325 ms\u001b[22m\u001b[39m ± \u001b[32m 5.067 ms\u001b[39m  \u001b[90m┊\u001b[39m GC \u001b[90m(\u001b[39mmean ± σ\u001b[90m):  \u001b[39m3.57% ±  7.99%\n",
       "\n",
       "  \u001b[39m▃\u001b[39m▃\u001b[39m▆\u001b[39m▄\u001b[39m▅\u001b[39m▆\u001b[39m \u001b[39m \u001b[39m \u001b[39m \u001b[39m \u001b[39m \u001b[34m▃\u001b[39m\u001b[39m▆\u001b[39m█\u001b[32m \u001b[39m\u001b[39m \u001b[39m \u001b[39m \u001b[39m \u001b[39m \u001b[39m \u001b[39m \u001b[39m \u001b[39m \u001b[39m \u001b[39m \u001b[39m \u001b[39m \u001b[39m \u001b[39m \u001b[39m \u001b[39m \u001b[39m \u001b[39m \u001b[39m \u001b[39m \u001b[39m \u001b[39m \u001b[39m \u001b[39m \u001b[39m \u001b[39m \u001b[39m \u001b[39m \u001b[39m \u001b[39m \u001b[39m \u001b[39m \u001b[39m \u001b[39m \u001b[39m \u001b[39m \u001b[39m \u001b[39m \u001b[39m \u001b[39m \u001b[39m \u001b[39m \u001b[39m \u001b[39m \n",
       "  \u001b[39m█\u001b[39m█\u001b[39m█\u001b[39m█\u001b[39m█\u001b[39m█\u001b[39m█\u001b[39m▅\u001b[39m█\u001b[39m▃\u001b[39m█\u001b[39m▄\u001b[34m█\u001b[39m\u001b[39m█\u001b[39m█\u001b[32m▆\u001b[39m\u001b[39m▆\u001b[39m█\u001b[39m▅\u001b[39m▅\u001b[39m▃\u001b[39m▃\u001b[39m▅\u001b[39m▄\u001b[39m▃\u001b[39m▆\u001b[39m▄\u001b[39m▄\u001b[39m▁\u001b[39m▃\u001b[39m▄\u001b[39m▅\u001b[39m▁\u001b[39m▁\u001b[39m▁\u001b[39m▁\u001b[39m▃\u001b[39m▃\u001b[39m▁\u001b[39m▃\u001b[39m▃\u001b[39m▁\u001b[39m▃\u001b[39m▁\u001b[39m▃\u001b[39m▁\u001b[39m▁\u001b[39m▁\u001b[39m▃\u001b[39m▁\u001b[39m▅\u001b[39m▁\u001b[39m▃\u001b[39m▁\u001b[39m▃\u001b[39m▁\u001b[39m▁\u001b[39m▃\u001b[39m▃\u001b[39m \u001b[39m▃\n",
       "  23.9 ms\u001b[90m         Histogram: frequency by time\u001b[39m        45.4 ms \u001b[0m\u001b[1m<\u001b[22m\n",
       "\n",
       " Memory estimate\u001b[90m: \u001b[39m\u001b[33m10.28 MiB\u001b[39m, allocs estimate\u001b[90m: \u001b[39m\u001b[33m249617\u001b[39m."
      ]
     },
     "execution_count": 48,
     "metadata": {},
     "output_type": "execute_result"
    }
   ],
   "source": [
    "@benchmark testme(from($static))"
   ]
  },
  {
   "cell_type": "code",
   "execution_count": null,
   "metadata": {},
   "outputs": [],
   "source": []
  },
  {
   "cell_type": "code",
   "execution_count": null,
   "metadata": {},
   "outputs": [],
   "source": []
  },
  {
   "cell_type": "code",
   "execution_count": null,
   "metadata": {},
   "outputs": [],
   "source": []
  },
  {
   "cell_type": "code",
   "execution_count": 124,
   "metadata": {},
   "outputs": [
    {
     "data": {
      "text/plain": [
       "#127 (generic function with 1 method)"
      ]
     },
     "execution_count": 124,
     "metadata": {},
     "output_type": "execute_result"
    }
   ],
   "source": [
    "plot_callback = (posteriors) -> begin\n",
    "    IJulia.clear_output(true)\n",
    "\n",
    "    p = plot(mean.(posteriors), ribbon = var.(posteriors), label = \"Estimation\")\n",
    "    p = plot!(gethistory(process), label = \"Real states\")    \n",
    "    p = scatter!(getobservations(process), ms = 2, label = \"Observations\")\n",
    "    p = plot(p, size = (1000, 400), legend = :bottomright)\n",
    "        \n",
    "    display(p)\n",
    "end"
   ]
  }
 ],
 "metadata": {
  "kernelspec": {
   "display_name": "Julia 1.8.0",
   "language": "julia",
   "name": "julia-1.8"
  },
  "language_info": {
   "file_extension": ".jl",
   "mimetype": "application/julia",
   "name": "julia",
   "version": "1.8.0"
  }
 },
 "nbformat": 4,
 "nbformat_minor": 4
}
