{
 "cells": [
  {
   "cell_type": "markdown",
   "metadata": {},
   "source": [
    "# Infinite Data Stream"
   ]
  },
  {
   "cell_type": "code",
   "execution_count": 7,
   "metadata": {},
   "outputs": [
    {
     "name": "stderr",
     "output_type": "stream",
     "text": [
      "\u001b[32m\u001b[1m  Activating\u001b[22m\u001b[39m project at `~/.julia/dev/RxInfer/examples`\n"
     ]
    }
   ],
   "source": [
    "# Activate local environment, see `Project.toml`\n",
    "import Pkg; Pkg.activate(\".\"); Pkg.instantiate();"
   ]
  },
  {
   "cell_type": "code",
   "execution_count": 121,
   "metadata": {},
   "outputs": [],
   "source": [
    "using RxInfer, Plots"
   ]
  },
  {
   "cell_type": "markdown",
   "metadata": {},
   "source": [
    "We assume that we don't know the shape of our signal in advance. So we try to fit a simple gaussian random walk with unknown observation noise:"
   ]
  },
  {
   "cell_type": "code",
   "execution_count": 122,
   "metadata": {},
   "outputs": [
    {
     "data": {
      "text/plain": [
       "getobservations (generic function with 1 method)"
      ]
     },
     "execution_count": 122,
     "metadata": {},
     "output_type": "execute_result"
    }
   ],
   "source": [
    "mutable struct DataGenerationProcess\n",
    "    previous :: Float64\n",
    "    process_noise :: Float64\n",
    "    observation_noise :: Float64\n",
    "    history :: Vector{Float64}\n",
    "    observations :: Vector{Float64}\n",
    "end\n",
    "\n",
    "function getnext!(process::DataGenerationProcess)\n",
    "    process.previous = process.previous + 1.0\n",
    "    next = 10sin(0.1 * process.previous)\n",
    "    observation = next + rand(Normal(0.0, process.observation_noise))\n",
    "    push!(process.history, next)\n",
    "    push!(process.observations, observation)\n",
    "    return observation\n",
    "end\n",
    "\n",
    "function gethistory(process::DataGenerationProcess)\n",
    "    return process.history\n",
    "end\n",
    "\n",
    "function getobservations(process::DataGenerationProcess)\n",
    "    return process.observations\n",
    "end"
   ]
  },
  {
   "cell_type": "code",
   "execution_count": 136,
   "metadata": {},
   "outputs": [
    {
     "data": {
      "text/plain": [
       "filter_constraints (generic function with 1 method)"
      ]
     },
     "execution_count": 136,
     "metadata": {},
     "output_type": "execute_result"
    }
   ],
   "source": [
    "@model function kalman_filter()\n",
    "    \n",
    "    # Reactive inputs\n",
    "    x_t_min_mean = datavar(Float64)\n",
    "    x_t_min_var  = datavar(Float64)\n",
    "    τ_shape = datavar(Float64)\n",
    "    τ_rate  = datavar(Float64)\n",
    "\n",
    "    τ ~ Gamma(shape = τ_shape, rate = τ_rate)\n",
    "    \n",
    "    x_t_min ~ Normal(mean = x_t_min_mean, variance = x_t_min_var)\n",
    "    x_t     ~ Normal(mean = x_t_min, precision = 1.0)\n",
    "    \n",
    "    y = datavar(Float64)\n",
    "    y ~ Normal(mean = x_t, precision = τ)\n",
    "    \n",
    "end\n",
    "\n",
    "@model function simple_kalman_filter()\n",
    "    \n",
    "    # Reactive inputs\n",
    "    x_t_min_mean = datavar(Float64)\n",
    "    x_t_min_var  = datavar(Float64)\n",
    "    \n",
    "    x_t_min ~ Normal(mean = x_t_min_mean, variance = x_t_min_var)\n",
    "    x_t     ~ Normal(mean = x_t_min, precision = 1.0)\n",
    "    \n",
    "    y = datavar(Float64)\n",
    "    y ~ Normal(mean = x_t, precision = 10.0)\n",
    "    \n",
    "end\n",
    "\n",
    "@constraints function filter_constraints()\n",
    "    q(x_t, τ) = q(x_t)q(τ)\n",
    "end"
   ]
  },
  {
   "cell_type": "code",
   "execution_count": 169,
   "metadata": {},
   "outputs": [
    {
     "data": {
      "text/plain": [
       "1000000"
      ]
     },
     "execution_count": 169,
     "metadata": {},
     "output_type": "execute_result"
    }
   ],
   "source": [
    "# We force stop after n data points\n",
    "n = 1_000_000"
   ]
  },
  {
   "cell_type": "code",
   "execution_count": 170,
   "metadata": {},
   "outputs": [],
   "source": [
    "process = DataGenerationProcess(0.0, 1.0, 10.0, Float64[], Float64[])\n",
    "# stream = timer(100, 100) |> map_to(process) |> map(Float64, getnext!) |> take(n)\n",
    "stream = from(1:n) |> map_to(process) |> map(Float64, getnext!)\n",
    "\n",
    "keystream = stream |> map(NamedTuple{(:y,), Tuple{Float64}}, (d) -> (y = d, ))\n",
    "\n",
    "static = keep(eltype(keystream))\n",
    "subscribe!(keystream, static)\n",
    "static = collect(static);"
   ]
  },
  {
   "cell_type": "code",
   "execution_count": 171,
   "metadata": {},
   "outputs": [
    {
     "data": {
      "text/plain": [
       "testme (generic function with 2 methods)"
      ]
     },
     "execution_count": 171,
     "metadata": {},
     "output_type": "execute_result"
    }
   ],
   "source": [
    "function testme(datastream)\n",
    "    autoupdates = (\n",
    "        RxInfer.RxInferenceAutoUpdateSpecification((:x_t_min_mean, :x_t_min_var), RxInfer.FromMarginalAutoUpdate(), mean_var, :x_t),\n",
    "        RxInfer.RxInferenceAutoUpdateSpecification((:τ_shape, ), RxInfer.FromMarginalAutoUpdate(), shape, :τ),\n",
    "        RxInfer.RxInferenceAutoUpdateSpecification((:τ_rate, ), RxInfer.FromMarginalAutoUpdate(), rate, :τ)\n",
    "    );\n",
    "    \n",
    "    engine = rxinference(\n",
    "        model = simple_kalman_filter(),\n",
    "        constraints = filter_constraints(),\n",
    "        datastream = datastream,\n",
    "        autoupdates = autoupdates,\n",
    "        returnvars = (:x_t, :τ),\n",
    "        historyvars = (\n",
    "            x_t = KeepLast(),\n",
    "        ),\n",
    "        initmarginals = (\n",
    "            x_t = NormalMeanVariance(0.0, 1e3),\n",
    "            τ = GammaShapeRate(1.0, 1.0)\n",
    "        ),\n",
    "\n",
    "        iterations = 1,\n",
    "        free_energy = true,\n",
    "        autostart = false\n",
    "    );\n",
    "\n",
    "    qxt = []\n",
    "    qτ = []\n",
    "\n",
    "    subscription1 = subscribe!(engine.posteriors[:x_t], (q) -> push!(qxt, q))\n",
    "    subscription2 = subscribe!(engine.posteriors[:τ], (q) -> push!(qτ, q))\n",
    "\n",
    "    RxInfer.start(engine)\n",
    "\n",
    "    unsubscribe!(subscription1)\n",
    "    unsubscribe!(subscription2)\n",
    "    \n",
    "    return qxt, qτ, engine\n",
    "end"
   ]
  },
  {
   "cell_type": "code",
   "execution_count": null,
   "metadata": {},
   "outputs": [
    {
     "name": "stdout",
     "output_type": "stream",
     "text": [
      " 11.973101 seconds (127.00 M allocations: 5.349 GiB, 21.52% gc time)\n"
     ]
    },
    {
     "data": {
      "text/plain": [
       "(Any[NormalWeightedMeanPrecision{Float64}(xi=-133.85154512098273, w=10.000999000999), NormalWeightedMeanPrecision{Float64}(xi=66.04013153390288, w=10.909099164547767), NormalWeightedMeanPrecision{Float64}(xi=-38.75283341487092, w=10.916030592559267), NormalWeightedMeanPrecision{Float64}(xi=66.28009919335321, w=10.916079436668749), NormalWeightedMeanPrecision{Float64}(xi=-35.76367635705593, w=10.91607978065984), NormalWeightedMeanPrecision{Float64}(xi=94.85872470384422, w=10.916079783082434), NormalWeightedMeanPrecision{Float64}(xi=294.4390626181073, w=10.916079783099494), NormalWeightedMeanPrecision{Float64}(xi=109.32617120474714, w=10.916079783099615), NormalWeightedMeanPrecision{Float64}(xi=178.2081675890655, w=10.916079783099615), NormalWeightedMeanPrecision{Float64}(xi=58.59389656177452, w=10.916079783099615)  …  NormalWeightedMeanPrecision{Float64}(xi=180.35364238454898, w=10.916079783099615), NormalWeightedMeanPrecision{Float64}(xi=78.52147834667902, w=10.916079783099615), NormalWeightedMeanPrecision{Float64}(xi=141.56054709650905, w=10.916079783099615), NormalWeightedMeanPrecision{Float64}(xi=-95.30785287853044, w=10.916079783099615), NormalWeightedMeanPrecision{Float64}(xi=163.12040755411422, w=10.916079783099615), NormalWeightedMeanPrecision{Float64}(xi=117.059099758982, w=10.916079783099615), NormalWeightedMeanPrecision{Float64}(xi=181.19451019714703, w=10.916079783099615), NormalWeightedMeanPrecision{Float64}(xi=-137.20099573696473, w=10.916079783099615), NormalWeightedMeanPrecision{Float64}(xi=135.69859553207638, w=10.916079783099615), NormalWeightedMeanPrecision{Float64}(xi=29.818729598079457, w=10.916079783099615)], Any[GammaShapeRate{Float64}(a=1.5, b=1.4995018803294506), GammaShapeRate{Float64}(a=2.0, b=8.77818481711777), GammaShapeRate{Float64}(a=2.5, b=26.043260224712263), GammaShapeRate{Float64}(a=3.0, b=557.3084329970811), GammaShapeRate{Float64}(a=3.5, b=628.0497825659988), GammaShapeRate{Float64}(a=4.0, b=649.21942482728), GammaShapeRate{Float64}(a=4.5, b=743.386598109098), GammaShapeRate{Float64}(a=5.0, b=755.9357230425177), GammaShapeRate{Float64}(a=5.5, b=763.1885757488072), GammaShapeRate{Float64}(a=6.0, b=777.8895816694815)  …  GammaShapeRate{Float64}(a=246.5, b=31832.075241576153), GammaShapeRate{Float64}(a=247.0, b=31859.934351185646), GammaShapeRate{Float64}(a=247.5, b=31870.540409872858), GammaShapeRate{Float64}(a=248.0, b=31878.312733759893), GammaShapeRate{Float64}(a=248.5, b=31888.401036982334), GammaShapeRate{Float64}(a=249.0, b=32143.80402168113), GammaShapeRate{Float64}(a=249.5, b=32177.719617390892), GammaShapeRate{Float64}(a=250.0, b=32185.13640139857), GammaShapeRate{Float64}(a=250.5, b=32239.06499766542), GammaShapeRate{Float64}(a=251.0, b=32244.616202086378)], RxInfer.RxInferenceEngine{NamedTuple{(:y,), Tuple{Float64}}, ArrayObservable{NamedTuple{(:y,), Tuple{Float64}}, AsapScheduler}, PendingScheduler, Tuple{DataVariable{PointMass{Float64}, Rocket.RecentSubjectInstance{Message{PointMass{Float64}}, Subject{Message{PointMass{Float64}}, AsapScheduler, AsapScheduler}}}}, Dict{Symbol, ProxyObservable{Any, ProxyObservable{Any, Rocket.ScheduledSource{Marginal, PendingScheduler, ProxyObservable{Marginal, ReactiveMP.MarginalObservable, Rocket.FilterProxy{ReactiveMP.var\"#39#40\"}}}, Rocket.MapProxy{Marginal, typeof(getdata)}}, Rocket.TapProxy{RxInfer.var\"#130#131\"{RxInfer.MarginalHasBeenUpdated}}}}, Dict{Symbol, RxInfer.MarginalHasBeenUpdated}, Nothing, Tuple{RxInfer.RxInferenceAutoUpdate{2, typeof(mean_var), ReactiveMP.MarginalObservable}}, RxInfer.ScoreActor{Real}, BetheFreeEnergy{SkipInitial, Tuple{BetheFreeEnergyCheckNaNs, BetheFreeEnergyCheckInfs}, AsapScheduler}, ProxyObservable{Real, Rocket.CombineLatestObservable{Tuple{ReactiveMP.InfCountingReal, ReactiveMP.InfCountingReal}, Tuple{Rocket.CollectLatestObservable{ReactiveMP.InfCountingReal, Vector{ProxyObservable{ReactiveMP.InfCountingReal}}, ReactiveMP.InfCountingReal, typeof(RxInfer.sumreduce)}, Rocket.CollectLatestObservable{ReactiveMP.InfCountingReal, Vector{ProxyObservable{ReactiveMP.InfCountingReal, Rocket.ErrorIfSource{ReactiveMP.InfCountingReal, ProxyObservable{ReactiveMP.InfCountingReal, Rocket.ErrorIfSource{ReactiveMP.InfCountingReal, ProxyObservable{ReactiveMP.InfCountingReal, ProxyObservable{Marginal, ReactiveMP.MarginalObservable, Rocket.FilterProxy{ReactiveMP.var\"#39#40\"}}, Rocket.MapProxy{Marginal, ReactiveMP.var\"#366#367\"{ReactiveMP.InfCountingReal, Int64}}}}, Rocket.ErrorIfProxy{typeof(ReactiveMP.value_isnan), RxInfer.var\"#110#111\"{RandomVariable}}}}, Rocket.ErrorIfProxy{typeof(ReactiveMP.value_isinf), RxInfer.var\"#114#115\"{RandomVariable}}}}, ReactiveMP.InfCountingReal, typeof(RxInfer.sumreduce)}}, PushNew}, Rocket.MapProxy{Tuple{ReactiveMP.InfCountingReal, ReactiveMP.InfCountingReal}, RxInfer.var\"#122#127\"{ReactiveMP.InfCountingReal{Real}}}}, Int64, FactorGraphModel, Nothing, Nothing}(ArrayObservable(NamedTuple{(:y,), Tuple{Float64}}, AsapScheduler), PendingScheduler(), VoidTeardown(), (DataVariable(y),), Dict{Symbol, ProxyObservable{Any, ProxyObservable{Any, Rocket.ScheduledSource{Marginal, PendingScheduler, ProxyObservable{Marginal, ReactiveMP.MarginalObservable, Rocket.FilterProxy{ReactiveMP.var\"#39#40\"}}}, Rocket.MapProxy{Marginal, typeof(getdata)}}, Rocket.TapProxy{RxInfer.var\"#130#131\"{RxInfer.MarginalHasBeenUpdated}}}}(:x_t => ProxyObservable(Any, TapProxy())), Dict{Symbol, RxInfer.MarginalHasBeenUpdated}(:x_t => RxInfer.MarginalHasBeenUpdated(false)), nothing, (RxInfer.RxInferenceAutoUpdate{2, typeof(mean_var), ReactiveMP.MarginalObservable}((DataVariable(x_t_min_mean), DataVariable(x_t_min_var)), ReactiveMP.mean_var, ReactiveMP.MarginalObservable(RecentSubject(Marginal, Subject{Marginal, AsapScheduler, AsapScheduler}), LazyObservable(Marginal))),), ScoreActor(), BetheFreeEnergy{SkipInitial, Tuple{BetheFreeEnergyCheckNaNs, BetheFreeEnergyCheckInfs}, AsapScheduler}(SkipInitial(), AsapScheduler(), (BetheFreeEnergyCheckNaNs(), BetheFreeEnergyCheckInfs())), ProxyObservable(Real, MapProxy(Tuple{ReactiveMP.InfCountingReal, ReactiveMP.InfCountingReal})), CombineLatestSubscription(), 1, FactorGraphModel(), nothing, nothing, true))"
      ]
     },
     "execution_count": 173,
     "metadata": {},
     "output_type": "execute_result"
    }
   ],
   "source": [
    "@time qxt, qτ, engine = testme(from(static))\n",
    "\n",
    "# p1 = plot(mean.(qxt), ribbon = std.(qxt))\n",
    "# p2 = plot(getvalues(engine.fe_actor))\n",
    "\n",
    "# plot(p1, p2, size = (800, 200))"
   ]
  },
  {
   "cell_type": "code",
   "execution_count": 155,
   "metadata": {},
   "outputs": [],
   "source": [
    "using BenchmarkTools"
   ]
  },
  {
   "cell_type": "code",
   "execution_count": 168,
   "metadata": {},
   "outputs": [
    {
     "data": {
      "text/plain": [
       "BenchmarkTools.Trial: 104 samples with 1 evaluation.\n",
       " Range \u001b[90m(\u001b[39m\u001b[36m\u001b[1mmin\u001b[22m\u001b[39m … \u001b[35mmax\u001b[39m\u001b[90m):  \u001b[39m\u001b[36m\u001b[1m37.116 ms\u001b[22m\u001b[39m … \u001b[35m85.153 ms\u001b[39m  \u001b[90m┊\u001b[39m GC \u001b[90m(\u001b[39mmin … max\u001b[90m): \u001b[39m0.00% …  0.00%\n",
       " Time  \u001b[90m(\u001b[39m\u001b[34m\u001b[1mmedian\u001b[22m\u001b[39m\u001b[90m):     \u001b[39m\u001b[34m\u001b[1m46.316 ms              \u001b[22m\u001b[39m\u001b[90m┊\u001b[39m GC \u001b[90m(\u001b[39mmedian\u001b[90m):    \u001b[39m0.00%\n",
       " Time  \u001b[90m(\u001b[39m\u001b[32m\u001b[1mmean\u001b[22m\u001b[39m ± \u001b[32mσ\u001b[39m\u001b[90m):   \u001b[39m\u001b[32m\u001b[1m48.538 ms\u001b[22m\u001b[39m ± \u001b[32m 9.030 ms\u001b[39m  \u001b[90m┊\u001b[39m GC \u001b[90m(\u001b[39mmean ± σ\u001b[90m):  \u001b[39m7.72% ± 10.98%\n",
       "\n",
       "  \u001b[39m \u001b[39m \u001b[39m \u001b[39m \u001b[39m \u001b[39m \u001b[39m \u001b[39m \u001b[39m█\u001b[39m▃\u001b[39m▃\u001b[39m▂\u001b[39m \u001b[39m \u001b[39m \u001b[39m \u001b[34m▅\u001b[39m\u001b[39m \u001b[39m▃\u001b[39m \u001b[32m \u001b[39m\u001b[39m \u001b[39m \u001b[39m \u001b[39m \u001b[39m \u001b[39m \u001b[39m \u001b[39m \u001b[39m \u001b[39m \u001b[39m \u001b[39m \u001b[39m \u001b[39m \u001b[39m \u001b[39m \u001b[39m \u001b[39m \u001b[39m \u001b[39m \u001b[39m \u001b[39m \u001b[39m \u001b[39m \u001b[39m \u001b[39m \u001b[39m \u001b[39m \u001b[39m \u001b[39m \u001b[39m \u001b[39m \u001b[39m \u001b[39m \u001b[39m \u001b[39m \u001b[39m \u001b[39m \u001b[39m \u001b[39m \n",
       "  \u001b[39m▇\u001b[39m▇\u001b[39m▄\u001b[39m▄\u001b[39m▅\u001b[39m▇\u001b[39m▇\u001b[39m▅\u001b[39m█\u001b[39m█\u001b[39m█\u001b[39m█\u001b[39m▇\u001b[39m▅\u001b[39m▄\u001b[39m▄\u001b[34m█\u001b[39m\u001b[39m▇\u001b[39m█\u001b[39m▅\u001b[32m▄\u001b[39m\u001b[39m▅\u001b[39m▅\u001b[39m▅\u001b[39m▁\u001b[39m▁\u001b[39m▄\u001b[39m▄\u001b[39m▁\u001b[39m▄\u001b[39m▁\u001b[39m▁\u001b[39m▁\u001b[39m▄\u001b[39m▁\u001b[39m▁\u001b[39m▇\u001b[39m▁\u001b[39m▁\u001b[39m▅\u001b[39m▄\u001b[39m█\u001b[39m▁\u001b[39m▅\u001b[39m▅\u001b[39m▇\u001b[39m▁\u001b[39m▁\u001b[39m▅\u001b[39m▄\u001b[39m▅\u001b[39m▁\u001b[39m▁\u001b[39m▁\u001b[39m▁\u001b[39m▁\u001b[39m▁\u001b[39m▁\u001b[39m▄\u001b[39m \u001b[39m▄\n",
       "  37.1 ms\u001b[90m         Histogram: frequency by time\u001b[39m        70.3 ms \u001b[0m\u001b[1m<\u001b[22m\n",
       "\n",
       " Memory estimate\u001b[90m: \u001b[39m\u001b[33m27.68 MiB\u001b[39m, allocs estimate\u001b[90m: \u001b[39m\u001b[33m635843\u001b[39m."
      ]
     },
     "execution_count": 168,
     "metadata": {},
     "output_type": "execute_result"
    }
   ],
   "source": [
    "@benchmark testme(from($static))"
   ]
  },
  {
   "cell_type": "code",
   "execution_count": null,
   "metadata": {},
   "outputs": [],
   "source": []
  },
  {
   "cell_type": "code",
   "execution_count": null,
   "metadata": {},
   "outputs": [],
   "source": []
  },
  {
   "cell_type": "code",
   "execution_count": null,
   "metadata": {},
   "outputs": [],
   "source": []
  },
  {
   "cell_type": "code",
   "execution_count": 124,
   "metadata": {},
   "outputs": [
    {
     "data": {
      "text/plain": [
       "#127 (generic function with 1 method)"
      ]
     },
     "execution_count": 124,
     "metadata": {},
     "output_type": "execute_result"
    }
   ],
   "source": [
    "plot_callback = (posteriors) -> begin\n",
    "    IJulia.clear_output(true)\n",
    "\n",
    "    p = plot(mean.(posteriors), ribbon = var.(posteriors), label = \"Estimation\")\n",
    "    p = plot!(gethistory(process), label = \"Real states\")    \n",
    "    p = scatter!(getobservations(process), ms = 2, label = \"Observations\")\n",
    "    p = plot(p, size = (1000, 400), legend = :bottomright)\n",
    "        \n",
    "    display(p)\n",
    "end"
   ]
  }
 ],
 "metadata": {
  "kernelspec": {
   "display_name": "Julia 1.8.0",
   "language": "julia",
   "name": "julia-1.8"
  },
  "language_info": {
   "file_extension": ".jl",
   "mimetype": "application/julia",
   "name": "julia",
   "version": "1.8.0"
  }
 },
 "nbformat": 4,
 "nbformat_minor": 4
}
