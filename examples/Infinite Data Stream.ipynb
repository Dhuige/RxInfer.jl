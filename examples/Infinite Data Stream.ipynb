{
 "cells": [
  {
   "cell_type": "markdown",
   "metadata": {},
   "source": [
    "# Infinite Data Stream"
   ]
  },
  {
   "cell_type": "code",
   "execution_count": 1,
   "metadata": {},
   "outputs": [
    {
     "name": "stderr",
     "output_type": "stream",
     "text": [
      "\u001b[32m\u001b[1m  Activating\u001b[22m\u001b[39m project at `~/.julia/dev/RxInfer/examples`\n",
      "\u001b[32m\u001b[1mPrecompiling\u001b[22m\u001b[39m project...\n",
      "\u001b[32m  ✓ \u001b[39mRxInfer\n",
      "  1 dependency successfully precompiled in 10 seconds. 238 already precompiled.\n"
     ]
    }
   ],
   "source": [
    "# Activate local environment, see `Project.toml`\n",
    "import Pkg; Pkg.activate(\".\"); Pkg.instantiate();"
   ]
  },
  {
   "cell_type": "code",
   "execution_count": 2,
   "metadata": {},
   "outputs": [],
   "source": [
    "using RxInfer"
   ]
  },
  {
   "cell_type": "markdown",
   "metadata": {},
   "source": [
    "We assume that we don't know the shape of our signal in advance. So we try to fit a simple gaussian random walk with unknown observation noise:"
   ]
  },
  {
   "cell_type": "code",
   "execution_count": 3,
   "metadata": {},
   "outputs": [
    {
     "data": {
      "text/plain": [
       "filter_constraints (generic function with 1 method)"
      ]
     },
     "execution_count": 3,
     "metadata": {},
     "output_type": "execute_result"
    }
   ],
   "source": [
    "@model function kalman_filter()\n",
    "    \n",
    "    # Reactive inputs\n",
    "    x_t_min_mean = datavar(Float64)\n",
    "    x_t_min_var  = datavar(Float64)\n",
    "    τ_shape = datavar(Float64)\n",
    "    τ_rate  = datavar(Float64)\n",
    "\n",
    "    τ ~ Gamma(shape = τ_shape, rate = τ_rate)\n",
    "    \n",
    "    x_t_min ~ Normal(mean = x_t_min_mean, variance = x_t_min_var)\n",
    "    x_t     ~ Normal(mean = x_t_min, precision = 1.0)\n",
    "    \n",
    "    y = datavar(Float64)\n",
    "    y ~ Normal(mean = x_t, precision = τ)\n",
    "    \n",
    "end\n",
    "\n",
    "@constraints function filter_constraints()\n",
    "    q(x_t, τ) = q(x_t)q(τ)\n",
    "end"
   ]
  },
  {
   "cell_type": "code",
   "execution_count": 4,
   "metadata": {},
   "outputs": [
    {
     "data": {
      "text/plain": [
       "start_inference (generic function with 1 method)"
      ]
     },
     "execution_count": 4,
     "metadata": {},
     "output_type": "execute_result"
    }
   ],
   "source": [
    "function start_inference(data_stream)\n",
    "    \n",
    "    model, _ = create_model(kalman_filter(), filter_constraints(), nothing, nothing)\n",
    "    \n",
    "    x_t_min_prior = NormalMeanVariance(0.0, 1e7)\n",
    "    τ_prior       = GammaShapeRate(1.0, 1.0)\n",
    "    \n",
    "    x_t_stream = Subject(Marginal)\n",
    "    τ_stream   = Subject(Marginal)\n",
    "    \n",
    "    main = combineLatest((\n",
    "        getmarginal(model[:x_t], IncludeAll()), \n",
    "        getmarginal(model[:τ], IncludeAll()), \n",
    "        data_stream\n",
    "    ), PushNew())\n",
    "    \n",
    "    save_scheduler = PendingScheduler()\n",
    "    \n",
    "    vmp_iterations = 5\n",
    "    \n",
    "    main_cb = (d) -> begin\n",
    "                \n",
    "        x_t_next_prior = d[1]\n",
    "        τ_next_prior   = d[2]\n",
    "        observation    = d[3]\n",
    "        \n",
    "        for i in 1:vmp_iterations\n",
    "            ReactiveMP.update!(model[:x_t_min_mean], mean(x_t_next_prior))\n",
    "            ReactiveMP.update!(model[:x_t_min_var], var(x_t_next_prior))\n",
    "            ReactiveMP.update!(model[:τ_shape], shape(τ_next_prior))\n",
    "            ReactiveMP.update!(model[:τ_rate], rate(τ_next_prior))\n",
    "            ReactiveMP.update!(model[:y], observation)\n",
    "        end\n",
    "            \n",
    "        ReactiveMP.release!(save_scheduler)\n",
    "    end\n",
    "    \n",
    "    subscription = subscribe!(main, main_cb)\n",
    "    \n",
    "    save = combineLatest((\n",
    "        getmarginal(model[:x_t], IncludeAll()), \n",
    "        getmarginal(model[:τ], IncludeAll()),\n",
    "    ), PushEach()) |> schedule_on(save_scheduler)\n",
    "    \n",
    "    save_cb = (p) -> begin\n",
    "        ReactiveMP.next!(x_t_stream, p[1])\n",
    "        ReactiveMP.next!(τ_stream, p[2])\n",
    "    end\n",
    "    \n",
    "    save_subscribtion = subscribe!(save, save_cb)\n",
    "    \n",
    "    setmarginal!(model[:x_t], x_t_min_prior)\n",
    "    setmarginal!(model[:τ], τ_prior)\n",
    "    \n",
    "    return x_t_stream, τ_stream, () -> begin\n",
    "        unsubscribe!(save_subscribtion)\n",
    "        unsubscribe!(subscription)\n",
    "    end\n",
    "end"
   ]
  },
  {
   "cell_type": "code",
   "execution_count": 5,
   "metadata": {},
   "outputs": [
    {
     "data": {
      "text/plain": [
       "getobservations (generic function with 1 method)"
      ]
     },
     "execution_count": 5,
     "metadata": {},
     "output_type": "execute_result"
    }
   ],
   "source": [
    "mutable struct DataGenerationProcess\n",
    "    previous :: Float64\n",
    "    process_noise :: Float64\n",
    "    observation_noise :: Float64\n",
    "    history :: Vector{Float64}\n",
    "    observations :: Vector{Float64}\n",
    "end\n",
    "\n",
    "function getnext!(process::DataGenerationProcess)\n",
    "    process.previous = process.previous + 1.0\n",
    "    next = 10sin(0.1 * process.previous)\n",
    "    observation = next + rand(Normal(0.0, process.observation_noise))\n",
    "    push!(process.history, next)\n",
    "    push!(process.observations, observation)\n",
    "    return observation\n",
    "end\n",
    "\n",
    "function gethistory(process::DataGenerationProcess)\n",
    "    return process.history\n",
    "end\n",
    "\n",
    "function getobservations(process::DataGenerationProcess)\n",
    "    return process.observations\n",
    "end"
   ]
  },
  {
   "cell_type": "code",
   "execution_count": 6,
   "metadata": {},
   "outputs": [],
   "source": [
    "using Plots"
   ]
  },
  {
   "cell_type": "code",
   "execution_count": 9,
   "metadata": {},
   "outputs": [
    {
     "data": {
      "text/plain": [
       "100"
      ]
     },
     "execution_count": 9,
     "metadata": {},
     "output_type": "execute_result"
    }
   ],
   "source": [
    "# We force stop after n data points\n",
    "n = 100"
   ]
  },
  {
   "cell_type": "code",
   "execution_count": 10,
   "metadata": {},
   "outputs": [
    {
     "data": {
      "text/plain": [
       "#9 (generic function with 1 method)"
      ]
     },
     "execution_count": 10,
     "metadata": {},
     "output_type": "execute_result"
    }
   ],
   "source": [
    "plot_callback = (posteriors) -> begin\n",
    "    IJulia.clear_output(true)\n",
    "\n",
    "    p = plot(mean.(posteriors), ribbon = var.(posteriors), label = \"Estimation\")\n",
    "    p = plot!(gethistory(process), label = \"Real states\")    \n",
    "    p = scatter!(getobservations(process), ms = 2, label = \"Observations\")\n",
    "    p = plot(p, size = (1000, 400), legend = :bottomright)\n",
    "        \n",
    "    display(p)\n",
    "end"
   ]
  },
  {
   "cell_type": "code",
   "execution_count": 36,
   "metadata": {},
   "outputs": [
    {
     "ename": "LoadError",
     "evalue": "syntax: extra token \"stream\" after end of expression",
     "output_type": "error",
     "traceback": [
      "syntax: extra token \"stream\" after end of expression",
      "",
      "Stacktrace:",
      " [1] top-level scope",
      "   @ In[36]:2",
      " [2] eval",
      "   @ ./boot.jl:368 [inlined]",
      " [3] include_string(mapexpr::typeof(REPL.softscope), mod::Module, code::String, filename::String)",
      "   @ Base ./loading.jl:1428"
     ]
    }
   ],
   "source": [
    "process = DataGenerationProcess(0.0, 1.0, 10.0, Float64[], Float64[])\n",
    "№ stream = timer(10, 10) |> map_to(process) |> map(Float64, getnext!) |> take(n)\n",
    "stream = from(1:100) |> map_to(process) |> map(Float64, getnext!)\n",
    "\n",
    "keystream = stream |> map(NamedTuple{(:y,), Tuple{Float64}}, (d) -> (y = d, ))"
   ]
  },
  {
   "cell_type": "code",
   "execution_count": 24,
   "metadata": {},
   "outputs": [
    {
     "data": {
      "text/plain": [
       "(x_t = var\"#45#47\"(), τ = var\"#46#48\"())"
      ]
     },
     "execution_count": 24,
     "metadata": {},
     "output_type": "execute_result"
    }
   ],
   "source": [
    "redirect = (\n",
    "    x_t = (q) -> (x_t_min_mean = mean(q), x_t_min_var = var(q)),\n",
    "    τ = (q) -> (τ_shape = shape(q), τ_rate = rate(q))\n",
    ")"
   ]
  },
  {
   "cell_type": "code",
   "execution_count": 32,
   "metadata": {},
   "outputs": [
    {
     "name": "stdout",
     "output_type": "stream",
     "text": [
      "  1.169051 seconds (2.92 M allocations: 163.141 MiB, 4.34% gc time, 99.73% compilation time)\n"
     ]
    }
   ],
   "source": [
    "@time result = rxinference(\n",
    "    model = kalman_filter(),\n",
    "    constraints = filter_constraints(),\n",
    "    data = keystream,\n",
    "    returnvars = KeepEach(),\n",
    "    initmarginals = (\n",
    "        x_t = NormalMeanVariance(0.0, 1e3),\n",
    "        τ = GammaShapeRate(1.0, 1.0)\n",
    "    ),\n",
    "    iterations = 10,\n",
    "    free_energy = true,\n",
    "    redirect = redirect\n",
    ");"
   ]
  },
  {
   "cell_type": "code",
   "execution_count": 33,
   "metadata": {},
   "outputs": [],
   "source": [
    "result.posteriors[:x_t];"
   ]
  },
  {
   "cell_type": "code",
   "execution_count": 35,
   "metadata": {},
   "outputs": [
    {
     "data": {
      "image/svg+xml": [
       "<?xml version=\"1.0\" encoding=\"utf-8\"?>\n",
       "<svg xmlns=\"http://www.w3.org/2000/svg\" xmlns:xlink=\"http://www.w3.org/1999/xlink\" width=\"800\" height=\"200\" viewBox=\"0 0 3200 800\">\n",
       "<defs>\n",
       "  <clipPath id=\"clip870\">\n",
       "    <rect x=\"0\" y=\"0\" width=\"3200\" height=\"800\"/>\n",
       "  </clipPath>\n",
       "</defs>\n",
       "<path clip-path=\"url(#clip870)\" d=\"\n",
       "M0 800 L3200 800 L3200 0 L0 0  Z\n",
       "  \" fill=\"#ffffff\" fill-rule=\"evenodd\" fill-opacity=\"1\"/>\n",
       "<defs>\n",
       "  <clipPath id=\"clip871\">\n",
       "    <rect x=\"640\" y=\"0\" width=\"2241\" height=\"800\"/>\n",
       "  </clipPath>\n",
       "</defs>\n",
       "<path clip-path=\"url(#clip870)\" d=\"\n",
       "M186.867 716.048 L1548.4 716.048 L1548.4 47.2441 L186.867 47.2441  Z\n",
       "  \" fill=\"#ffffff\" fill-rule=\"evenodd\" fill-opacity=\"1\"/>\n",
       "<defs>\n",
       "  <clipPath id=\"clip872\">\n",
       "    <rect x=\"186\" y=\"47\" width=\"1363\" height=\"670\"/>\n",
       "  </clipPath>\n",
       "</defs>\n",
       "<polyline clip-path=\"url(#clip872)\" style=\"stroke:#000000; stroke-linecap:butt; stroke-linejoin:round; stroke-width:2; stroke-opacity:0.1; fill:none\" points=\"\n",
       "  212.426,716.048 212.426,47.2441 \n",
       "  \"/>\n",
       "<polyline clip-path=\"url(#clip872)\" style=\"stroke:#000000; stroke-linecap:butt; stroke-linejoin:round; stroke-width:2; stroke-opacity:0.1; fill:none\" points=\"\n",
       "  536.787,716.048 536.787,47.2441 \n",
       "  \"/>\n",
       "<polyline clip-path=\"url(#clip872)\" style=\"stroke:#000000; stroke-linecap:butt; stroke-linejoin:round; stroke-width:2; stroke-opacity:0.1; fill:none\" points=\"\n",
       "  861.148,716.048 861.148,47.2441 \n",
       "  \"/>\n",
       "<polyline clip-path=\"url(#clip872)\" style=\"stroke:#000000; stroke-linecap:butt; stroke-linejoin:round; stroke-width:2; stroke-opacity:0.1; fill:none\" points=\"\n",
       "  1185.51,716.048 1185.51,47.2441 \n",
       "  \"/>\n",
       "<polyline clip-path=\"url(#clip872)\" style=\"stroke:#000000; stroke-linecap:butt; stroke-linejoin:round; stroke-width:2; stroke-opacity:0.1; fill:none\" points=\"\n",
       "  1509.87,716.048 1509.87,47.2441 \n",
       "  \"/>\n",
       "<polyline clip-path=\"url(#clip870)\" style=\"stroke:#000000; stroke-linecap:butt; stroke-linejoin:round; stroke-width:4; stroke-opacity:1; fill:none\" points=\"\n",
       "  186.867,716.048 1548.4,716.048 \n",
       "  \"/>\n",
       "<polyline clip-path=\"url(#clip870)\" style=\"stroke:#000000; stroke-linecap:butt; stroke-linejoin:round; stroke-width:4; stroke-opacity:1; fill:none\" points=\"\n",
       "  212.426,716.048 212.426,697.15 \n",
       "  \"/>\n",
       "<polyline clip-path=\"url(#clip870)\" style=\"stroke:#000000; stroke-linecap:butt; stroke-linejoin:round; stroke-width:4; stroke-opacity:1; fill:none\" points=\"\n",
       "  536.787,716.048 536.787,697.15 \n",
       "  \"/>\n",
       "<polyline clip-path=\"url(#clip870)\" style=\"stroke:#000000; stroke-linecap:butt; stroke-linejoin:round; stroke-width:4; stroke-opacity:1; fill:none\" points=\"\n",
       "  861.148,716.048 861.148,697.15 \n",
       "  \"/>\n",
       "<polyline clip-path=\"url(#clip870)\" style=\"stroke:#000000; stroke-linecap:butt; stroke-linejoin:round; stroke-width:4; stroke-opacity:1; fill:none\" points=\"\n",
       "  1185.51,716.048 1185.51,697.15 \n",
       "  \"/>\n",
       "<polyline clip-path=\"url(#clip870)\" style=\"stroke:#000000; stroke-linecap:butt; stroke-linejoin:round; stroke-width:4; stroke-opacity:1; fill:none\" points=\"\n",
       "  1509.87,716.048 1509.87,697.15 \n",
       "  \"/>\n",
       "<path clip-path=\"url(#clip870)\" d=\"M212.426 753.367 Q208.815 753.367 206.986 756.931 Q205.181 760.473 205.181 767.603 Q205.181 774.709 206.986 778.274 Q208.815 781.815 212.426 781.815 Q216.061 781.815 217.866 778.274 Q219.695 774.709 219.695 767.603 Q219.695 760.473 217.866 756.931 Q216.061 753.367 212.426 753.367 M212.426 749.663 Q218.236 749.663 221.292 754.269 Q224.371 758.853 224.371 767.603 Q224.371 776.329 221.292 780.936 Q218.236 785.519 212.426 785.519 Q206.616 785.519 203.537 780.936 Q200.482 776.329 200.482 767.603 Q200.482 758.853 203.537 754.269 Q206.616 749.663 212.426 749.663 Z\" fill=\"#000000\" fill-rule=\"evenodd\" fill-opacity=\"1\" /><path clip-path=\"url(#clip870)\" d=\"M516.058 780.913 L532.378 780.913 L532.378 784.848 L510.433 784.848 L510.433 780.913 Q513.095 778.158 517.679 773.528 Q522.285 768.876 523.466 767.533 Q525.711 765.01 526.591 763.274 Q527.493 761.515 527.493 759.825 Q527.493 757.07 525.549 755.334 Q523.628 753.598 520.526 753.598 Q518.327 753.598 515.873 754.362 Q513.442 755.126 510.665 756.677 L510.665 751.955 Q513.489 750.82 515.942 750.242 Q518.396 749.663 520.433 749.663 Q525.803 749.663 528.998 752.348 Q532.192 755.033 532.192 759.524 Q532.192 761.654 531.382 763.575 Q530.595 765.473 528.489 768.066 Q527.91 768.737 524.808 771.954 Q521.706 775.149 516.058 780.913 Z\" fill=\"#000000\" fill-rule=\"evenodd\" fill-opacity=\"1\" /><path clip-path=\"url(#clip870)\" d=\"M542.239 750.288 L560.595 750.288 L560.595 754.223 L546.521 754.223 L546.521 762.695 Q547.539 762.348 548.558 762.186 Q549.576 762.001 550.595 762.001 Q556.382 762.001 559.762 765.172 Q563.141 768.343 563.141 773.76 Q563.141 779.339 559.669 782.44 Q556.197 785.519 549.877 785.519 Q547.701 785.519 545.433 785.149 Q543.188 784.778 540.78 784.038 L540.78 779.339 Q542.864 780.473 545.086 781.028 Q547.308 781.584 549.785 781.584 Q553.789 781.584 556.127 779.478 Q558.465 777.371 558.465 773.76 Q558.465 770.149 556.127 768.042 Q553.789 765.936 549.785 765.936 Q547.91 765.936 546.035 766.353 Q544.183 766.769 542.239 767.649 L542.239 750.288 Z\" fill=\"#000000\" fill-rule=\"evenodd\" fill-opacity=\"1\" /><path clip-path=\"url(#clip870)\" d=\"M835.847 750.288 L854.204 750.288 L854.204 754.223 L840.13 754.223 L840.13 762.695 Q841.148 762.348 842.167 762.186 Q843.185 762.001 844.204 762.001 Q849.991 762.001 853.37 765.172 Q856.75 768.343 856.75 773.76 Q856.75 779.339 853.278 782.44 Q849.806 785.519 843.486 785.519 Q841.31 785.519 839.042 785.149 Q836.796 784.778 834.389 784.038 L834.389 779.339 Q836.472 780.473 838.695 781.028 Q840.917 781.584 843.394 781.584 Q847.398 781.584 849.736 779.478 Q852.074 777.371 852.074 773.76 Q852.074 770.149 849.736 768.042 Q847.398 765.936 843.394 765.936 Q841.519 765.936 839.644 766.353 Q837.792 766.769 835.847 767.649 L835.847 750.288 Z\" fill=\"#000000\" fill-rule=\"evenodd\" fill-opacity=\"1\" /><path clip-path=\"url(#clip870)\" d=\"M875.963 753.367 Q872.352 753.367 870.523 756.931 Q868.718 760.473 868.718 767.603 Q868.718 774.709 870.523 778.274 Q872.352 781.815 875.963 781.815 Q879.597 781.815 881.403 778.274 Q883.231 774.709 883.231 767.603 Q883.231 760.473 881.403 756.931 Q879.597 753.367 875.963 753.367 M875.963 749.663 Q881.773 749.663 884.829 754.269 Q887.907 758.853 887.907 767.603 Q887.907 776.329 884.829 780.936 Q881.773 785.519 875.963 785.519 Q870.153 785.519 867.074 780.936 Q864.018 776.329 864.018 767.603 Q864.018 758.853 867.074 754.269 Q870.153 749.663 875.963 749.663 Z\" fill=\"#000000\" fill-rule=\"evenodd\" fill-opacity=\"1\" /><path clip-path=\"url(#clip870)\" d=\"M1159.36 750.288 L1181.59 750.288 L1181.59 752.279 L1169.04 784.848 L1164.16 784.848 L1175.96 754.223 L1159.36 754.223 L1159.36 750.288 Z\" fill=\"#000000\" fill-rule=\"evenodd\" fill-opacity=\"1\" /><path clip-path=\"url(#clip870)\" d=\"M1190.75 750.288 L1209.11 750.288 L1209.11 754.223 L1195.03 754.223 L1195.03 762.695 Q1196.05 762.348 1197.07 762.186 Q1198.09 762.001 1199.11 762.001 Q1204.9 762.001 1208.28 765.172 Q1211.65 768.343 1211.65 773.76 Q1211.65 779.339 1208.18 782.44 Q1204.71 785.519 1198.39 785.519 Q1196.22 785.519 1193.95 785.149 Q1191.7 784.778 1189.29 784.038 L1189.29 779.339 Q1191.38 780.473 1193.6 781.028 Q1195.82 781.584 1198.3 781.584 Q1202.3 781.584 1204.64 779.478 Q1206.98 777.371 1206.98 773.76 Q1206.98 770.149 1204.64 768.042 Q1202.3 765.936 1198.3 765.936 Q1196.42 765.936 1194.55 766.353 Q1192.7 766.769 1190.75 767.649 L1190.75 750.288 Z\" fill=\"#000000\" fill-rule=\"evenodd\" fill-opacity=\"1\" /><path clip-path=\"url(#clip870)\" d=\"M1469.48 780.913 L1477.12 780.913 L1477.12 754.547 L1468.81 756.214 L1468.81 751.955 L1477.07 750.288 L1481.75 750.288 L1481.75 780.913 L1489.38 780.913 L1489.38 784.848 L1469.48 784.848 L1469.48 780.913 Z\" fill=\"#000000\" fill-rule=\"evenodd\" fill-opacity=\"1\" /><path clip-path=\"url(#clip870)\" d=\"M1508.83 753.367 Q1505.22 753.367 1503.39 756.931 Q1501.58 760.473 1501.58 767.603 Q1501.58 774.709 1503.39 778.274 Q1505.22 781.815 1508.83 781.815 Q1512.46 781.815 1514.27 778.274 Q1516.1 774.709 1516.1 767.603 Q1516.1 760.473 1514.27 756.931 Q1512.46 753.367 1508.83 753.367 M1508.83 749.663 Q1514.64 749.663 1517.69 754.269 Q1520.77 758.853 1520.77 767.603 Q1520.77 776.329 1517.69 780.936 Q1514.64 785.519 1508.83 785.519 Q1503.02 785.519 1499.94 780.936 Q1496.88 776.329 1496.88 767.603 Q1496.88 758.853 1499.94 754.269 Q1503.02 749.663 1508.83 749.663 Z\" fill=\"#000000\" fill-rule=\"evenodd\" fill-opacity=\"1\" /><path clip-path=\"url(#clip870)\" d=\"M1538.99 753.367 Q1535.38 753.367 1533.55 756.931 Q1531.74 760.473 1531.74 767.603 Q1531.74 774.709 1533.55 778.274 Q1535.38 781.815 1538.99 781.815 Q1542.62 781.815 1544.43 778.274 Q1546.26 774.709 1546.26 767.603 Q1546.26 760.473 1544.43 756.931 Q1542.62 753.367 1538.99 753.367 M1538.99 749.663 Q1544.8 749.663 1547.86 754.269 Q1550.93 758.853 1550.93 767.603 Q1550.93 776.329 1547.86 780.936 Q1544.8 785.519 1538.99 785.519 Q1533.18 785.519 1530.1 780.936 Q1527.05 776.329 1527.05 767.603 Q1527.05 758.853 1530.1 754.269 Q1533.18 749.663 1538.99 749.663 Z\" fill=\"#000000\" fill-rule=\"evenodd\" fill-opacity=\"1\" /><polyline clip-path=\"url(#clip872)\" style=\"stroke:#000000; stroke-linecap:butt; stroke-linejoin:round; stroke-width:2; stroke-opacity:0.1; fill:none\" points=\"\n",
       "  186.867,689.594 1548.4,689.594 \n",
       "  \"/>\n",
       "<polyline clip-path=\"url(#clip872)\" style=\"stroke:#000000; stroke-linecap:butt; stroke-linejoin:round; stroke-width:2; stroke-opacity:0.1; fill:none\" points=\"\n",
       "  186.867,484.533 1548.4,484.533 \n",
       "  \"/>\n",
       "<polyline clip-path=\"url(#clip872)\" style=\"stroke:#000000; stroke-linecap:butt; stroke-linejoin:round; stroke-width:2; stroke-opacity:0.1; fill:none\" points=\"\n",
       "  186.867,279.473 1548.4,279.473 \n",
       "  \"/>\n",
       "<polyline clip-path=\"url(#clip872)\" style=\"stroke:#000000; stroke-linecap:butt; stroke-linejoin:round; stroke-width:2; stroke-opacity:0.1; fill:none\" points=\"\n",
       "  186.867,74.4117 1548.4,74.4117 \n",
       "  \"/>\n",
       "<polyline clip-path=\"url(#clip870)\" style=\"stroke:#000000; stroke-linecap:butt; stroke-linejoin:round; stroke-width:4; stroke-opacity:1; fill:none\" points=\"\n",
       "  186.867,716.048 186.867,47.2441 \n",
       "  \"/>\n",
       "<polyline clip-path=\"url(#clip870)\" style=\"stroke:#000000; stroke-linecap:butt; stroke-linejoin:round; stroke-width:4; stroke-opacity:1; fill:none\" points=\"\n",
       "  186.867,689.594 205.764,689.594 \n",
       "  \"/>\n",
       "<polyline clip-path=\"url(#clip870)\" style=\"stroke:#000000; stroke-linecap:butt; stroke-linejoin:round; stroke-width:4; stroke-opacity:1; fill:none\" points=\"\n",
       "  186.867,484.533 205.764,484.533 \n",
       "  \"/>\n",
       "<polyline clip-path=\"url(#clip870)\" style=\"stroke:#000000; stroke-linecap:butt; stroke-linejoin:round; stroke-width:4; stroke-opacity:1; fill:none\" points=\"\n",
       "  186.867,279.473 205.764,279.473 \n",
       "  \"/>\n",
       "<polyline clip-path=\"url(#clip870)\" style=\"stroke:#000000; stroke-linecap:butt; stroke-linejoin:round; stroke-width:4; stroke-opacity:1; fill:none\" points=\"\n",
       "  186.867,74.4117 205.764,74.4117 \n",
       "  \"/>\n",
       "<path clip-path=\"url(#clip870)\" d=\"M46.9921 690.046 L76.6679 690.046 L76.6679 693.981 L46.9921 693.981 L46.9921 690.046 Z\" fill=\"#000000\" fill-rule=\"evenodd\" fill-opacity=\"1\" /><path clip-path=\"url(#clip870)\" d=\"M87.5706 702.939 L95.2095 702.939 L95.2095 676.574 L86.8993 678.24 L86.8993 673.981 L95.1632 672.314 L99.8391 672.314 L99.8391 702.939 L107.478 702.939 L107.478 706.874 L87.5706 706.874 L87.5706 702.939 Z\" fill=\"#000000\" fill-rule=\"evenodd\" fill-opacity=\"1\" /><path clip-path=\"url(#clip870)\" d=\"M126.922 675.393 Q123.311 675.393 121.482 678.958 Q119.677 682.499 119.677 689.629 Q119.677 696.735 121.482 700.3 Q123.311 703.842 126.922 703.842 Q130.556 703.842 132.362 700.3 Q134.191 696.735 134.191 689.629 Q134.191 682.499 132.362 678.958 Q130.556 675.393 126.922 675.393 M126.922 671.689 Q132.732 671.689 135.788 676.296 Q138.867 680.879 138.867 689.629 Q138.867 698.356 135.788 702.962 Q132.732 707.546 126.922 707.546 Q121.112 707.546 118.033 702.962 Q114.978 698.356 114.978 689.629 Q114.978 680.879 118.033 676.296 Q121.112 671.689 126.922 671.689 Z\" fill=\"#000000\" fill-rule=\"evenodd\" fill-opacity=\"1\" /><path clip-path=\"url(#clip870)\" d=\"M126.922 470.332 Q123.311 470.332 121.482 473.897 Q119.677 477.439 119.677 484.568 Q119.677 491.675 121.482 495.239 Q123.311 498.781 126.922 498.781 Q130.556 498.781 132.362 495.239 Q134.191 491.675 134.191 484.568 Q134.191 477.439 132.362 473.897 Q130.556 470.332 126.922 470.332 M126.922 466.628 Q132.732 466.628 135.788 471.235 Q138.867 475.818 138.867 484.568 Q138.867 493.295 135.788 497.901 Q132.732 502.485 126.922 502.485 Q121.112 502.485 118.033 497.901 Q114.978 493.295 114.978 484.568 Q114.978 475.818 118.033 471.235 Q121.112 466.628 126.922 466.628 Z\" fill=\"#000000\" fill-rule=\"evenodd\" fill-opacity=\"1\" /><path clip-path=\"url(#clip870)\" d=\"M87.5706 292.817 L95.2095 292.817 L95.2095 266.452 L86.8993 268.118 L86.8993 263.859 L95.1632 262.193 L99.8391 262.193 L99.8391 292.817 L107.478 292.817 L107.478 296.753 L87.5706 296.753 L87.5706 292.817 Z\" fill=\"#000000\" fill-rule=\"evenodd\" fill-opacity=\"1\" /><path clip-path=\"url(#clip870)\" d=\"M126.922 265.271 Q123.311 265.271 121.482 268.836 Q119.677 272.378 119.677 279.507 Q119.677 286.614 121.482 290.179 Q123.311 293.72 126.922 293.72 Q130.556 293.72 132.362 290.179 Q134.191 286.614 134.191 279.507 Q134.191 272.378 132.362 268.836 Q130.556 265.271 126.922 265.271 M126.922 261.568 Q132.732 261.568 135.788 266.174 Q138.867 270.757 138.867 279.507 Q138.867 288.234 135.788 292.841 Q132.732 297.424 126.922 297.424 Q121.112 297.424 118.033 292.841 Q114.978 288.234 114.978 279.507 Q114.978 270.757 118.033 266.174 Q121.112 261.568 126.922 261.568 Z\" fill=\"#000000\" fill-rule=\"evenodd\" fill-opacity=\"1\" /><path clip-path=\"url(#clip870)\" d=\"M90.7882 87.7565 L107.108 87.7565 L107.108 91.6917 L85.1632 91.6917 L85.1632 87.7565 Q87.8252 85.0019 92.4085 80.3723 Q97.015 75.7195 98.1956 74.377 Q100.441 71.8538 101.321 70.1177 Q102.223 68.3585 102.223 66.6687 Q102.223 63.914 100.279 62.1779 Q98.3576 60.4418 95.2558 60.4418 Q93.0567 60.4418 90.603 61.2057 Q88.1725 61.9696 85.3947 63.5205 L85.3947 58.7983 Q88.2188 57.6641 90.6724 57.0854 Q93.1261 56.5067 95.1632 56.5067 Q100.534 56.5067 103.728 59.1919 Q106.922 61.877 106.922 66.3677 Q106.922 68.4974 106.112 70.4186 Q105.325 72.3168 103.219 74.9094 Q102.64 75.5807 99.5381 78.7982 Q96.4363 81.9927 90.7882 87.7565 Z\" fill=\"#000000\" fill-rule=\"evenodd\" fill-opacity=\"1\" /><path clip-path=\"url(#clip870)\" d=\"M126.922 60.2104 Q123.311 60.2104 121.482 63.7752 Q119.677 67.3168 119.677 74.4464 Q119.677 81.5528 121.482 85.1176 Q123.311 88.6593 126.922 88.6593 Q130.556 88.6593 132.362 85.1176 Q134.191 81.5528 134.191 74.4464 Q134.191 67.3168 132.362 63.7752 Q130.556 60.2104 126.922 60.2104 M126.922 56.5067 Q132.732 56.5067 135.788 61.1131 Q138.867 65.6964 138.867 74.4464 Q138.867 83.1732 135.788 87.7797 Q132.732 92.363 126.922 92.363 Q121.112 92.363 118.033 87.7797 Q114.978 83.1732 114.978 74.4464 Q114.978 65.6964 118.033 61.1131 Q121.112 56.5067 126.922 56.5067 Z\" fill=\"#000000\" fill-rule=\"evenodd\" fill-opacity=\"1\" /><path clip-path=\"url(#clip872)\" d=\"\n",
       "M225.401 107.158 L238.375 127.912 L251.35 145.623 L264.324 157.373 L277.298 177.118 L290.273 175.98 L303.247 191.364 L316.222 202.657 L329.196 233.241 L342.171 244.011 \n",
       "  L355.145 273.71 L368.12 281.006 L381.094 299.886 L394.068 324.735 L407.043 338.536 L420.017 362.513 L432.992 375.229 L445.966 379.009 L458.941 411.034 L471.915 421.132 \n",
       "  L484.889 443.463 L497.864 464.602 L510.838 470.995 L523.813 483.467 L536.787 502.66 L549.762 513.561 L562.736 523.779 L575.711 548.526 L588.685 577.531 L601.659 608.755 \n",
       "  L614.634 609.891 L627.608 636.569 L640.583 633.614 L653.557 637.526 L666.532 643.593 L679.506 646.913 L692.48 636.3 L705.455 640.81 L718.429 631.62 L731.404 660.887 \n",
       "  L744.378 654.388 L757.353 614.01 L770.327 619.351 L783.302 630.039 L796.276 608.737 L809.25 612.121 L822.225 604.069 L835.199 611.979 L848.174 606.625 L861.148 629.643 \n",
       "  L874.123 602.297 L887.097 583.835 L900.071 561.335 L913.046 564.084 L926.02 542.555 L938.995 554.533 L951.969 557.885 L964.944 544.911 L977.918 537.253 L990.893 523.943 \n",
       "  L1003.87 503.95 L1016.84 478.045 L1029.82 468.587 L1042.79 454.202 L1055.76 427.398 L1068.74 436.514 L1081.71 426.018 L1094.69 461.268 L1107.66 478.861 L1120.64 486.118 \n",
       "  L1133.61 492.916 L1146.59 473.762 L1159.56 490.356 L1172.53 465.725 L1185.51 494.996 L1198.48 504.595 L1211.46 475.408 L1224.43 467.114 L1237.41 481.537 L1250.38 500.585 \n",
       "  L1263.36 512.674 L1276.33 507.246 L1289.3 502.035 L1302.28 500.914 L1315.25 528.601 L1328.23 546.898 L1341.2 558.286 L1354.18 582.677 L1367.15 595.548 L1380.13 611.568 \n",
       "  L1393.1 617.206 L1406.07 649.219 L1419.05 639.526 L1432.02 630.707 L1445 646.74 L1457.97 685.082 L1470.95 689.369 L1483.92 697.119 L1496.9 672.523 L1509.87 661.734 \n",
       "  L1509.87 518.063 L1496.9 528.785 L1483.92 553.347 L1470.95 545.53 L1457.97 541.216 L1445 502.898 L1432.02 486.74 L1419.05 495.438 L1406.07 505.039 L1393.1 472.967 \n",
       "  L1380.13 467.169 L1367.15 451.022 L1354.18 438.028 L1341.2 413.533 L1328.23 401.996 L1315.25 383.573 L1302.28 355.753 L1289.3 356.663 L1276.33 361.697 L1263.36 366.984 \n",
       "  L1250.38 354.797 L1237.41 335.68 L1224.43 321.187 L1211.46 329.437 L1198.48 358.634 L1185.51 348.97 L1172.53 319.68 L1159.56 344.211 L1146.59 327.467 L1133.61 346.475 \n",
       "  L1120.64 339.519 L1107.66 332.15 L1094.69 314.498 L1081.71 279.201 L1068.74 289.476 L1055.76 280.168 L1042.79 306.818 L1029.82 320.964 L1016.84 330.193 L1003.87 355.904 \n",
       "  L990.893 375.623 L977.918 388.621 L964.944 395.977 L951.969 408.684 L938.995 405.083 L926.02 392.915 L913.046 414.29 L900.071 411.355 L887.097 433.741 L874.123 452.054 \n",
       "  L861.148 479.251 L848.174 455.978 L835.199 461.012 L822.225 452.84 L809.25 460.687 L796.276 457.169 L783.302 478.431 L770.327 467.689 L757.353 462.375 L744.378 502.899 \n",
       "  L731.404 509.161 L718.429 479.744 L705.455 488.618 L692.48 483.861 L679.506 494.326 L666.532 490.945 L653.557 484.95 L640.583 481.255 L627.608 484.599 L614.634 458.51 \n",
       "  L601.659 457.913 L588.685 427.455 L575.711 399.058 L562.736 374.801 L549.762 365.042 L536.787 354.802 L523.813 336.49 L510.838 325.024 L497.864 319.886 L484.889 300.332 \n",
       "  L471.915 279.733 L458.941 271.492 L445.966 241.703 L432.992 239.901 L420.017 229.639 L407.043 208.542 L394.068 197.748 L381.094 176.384 L368.12 161.086 L355.145 157.777 \n",
       "  L342.171 132.816 L329.196 126.279 L316.222 100.814 L303.247 93.69 L290.273 83.6309 L277.298 91.2357 L264.324 79.6299 L251.35 77.107 L238.375 71.3748 L225.401 66.1725 \n",
       "   Z\n",
       "  \" fill=\"#009af9\" fill-rule=\"evenodd\" fill-opacity=\"0.5\"/>\n",
       "<polyline clip-path=\"url(#clip872)\" style=\"stroke:#009af9; stroke-linecap:butt; stroke-linejoin:round; stroke-width:4; stroke-opacity:1; fill:none\" points=\"\n",
       "  225.401,86.6652 238.375,99.6432 251.35,111.365 264.324,118.502 277.298,134.177 290.273,129.806 303.247,142.527 316.222,151.735 329.196,179.76 342.171,188.413 \n",
       "  355.145,215.744 368.12,221.046 381.094,238.135 394.068,261.242 407.043,273.539 420.017,296.076 432.992,307.565 445.966,310.356 458.941,341.263 471.915,350.432 \n",
       "  484.889,371.898 497.864,392.244 510.838,398.01 523.813,409.978 536.787,428.731 549.762,439.301 562.736,449.29 575.711,473.792 588.685,502.493 601.659,533.334 \n",
       "  614.634,534.201 627.608,560.584 640.583,557.434 653.557,561.238 666.532,567.269 679.506,570.619 692.48,560.081 705.455,564.714 718.429,555.682 731.404,585.024 \n",
       "  744.378,578.643 757.353,538.193 770.327,543.52 783.302,554.235 796.276,532.953 809.25,536.404 822.225,528.455 835.199,536.495 848.174,531.302 861.148,554.447 \n",
       "  874.123,527.175 887.097,508.788 900.071,486.345 913.046,489.187 926.02,467.735 938.995,479.808 951.969,483.285 964.944,470.444 977.918,462.937 990.893,449.783 \n",
       "  1003.87,429.927 1016.84,404.119 1029.82,394.775 1042.79,380.51 1055.76,353.783 1068.74,362.995 1081.71,352.61 1094.69,387.883 1107.66,405.506 1120.64,412.819 \n",
       "  1133.61,419.696 1146.59,400.614 1159.56,417.284 1172.53,392.702 1185.51,421.983 1198.48,431.615 1211.46,402.422 1224.43,394.15 1237.41,408.609 1250.38,427.691 \n",
       "  1263.36,439.829 1276.33,434.472 1289.3,429.349 1302.28,428.334 1315.25,456.087 1328.23,474.447 1341.2,485.909 1354.18,510.353 1367.15,523.285 1380.13,539.368 \n",
       "  1393.1,545.086 1406.07,577.129 1419.05,567.482 1432.02,558.724 1445,574.819 1457.97,613.149 1470.95,617.449 1483.92,625.233 1496.9,600.654 1509.87,589.898 \n",
       "  \n",
       "  \"/>\n",
       "<path clip-path=\"url(#clip870)\" d=\"\n",
       "M1299.31 173.218 L1503.02 173.218 L1503.02 69.5376 L1299.31 69.5376  Z\n",
       "  \" fill=\"#ffffff\" fill-rule=\"evenodd\" fill-opacity=\"1\"/>\n",
       "<polyline clip-path=\"url(#clip870)\" style=\"stroke:#000000; stroke-linecap:butt; stroke-linejoin:round; stroke-width:4; stroke-opacity:1; fill:none\" points=\"\n",
       "  1299.31,173.218 1503.02,173.218 1503.02,69.5376 1299.31,69.5376 1299.31,173.218 \n",
       "  \"/>\n",
       "<polyline clip-path=\"url(#clip870)\" style=\"stroke:#009af9; stroke-linecap:butt; stroke-linejoin:round; stroke-width:4; stroke-opacity:1; fill:none\" points=\"\n",
       "  1314.44,121.378 1405.2,121.378 \n",
       "  \"/>\n",
       "<path clip-path=\"url(#clip870)\" d=\"M1434.18 141.065 Q1432.37 145.695 1430.66 147.107 Q1428.94 148.519 1426.07 148.519 L1422.67 148.519 L1422.67 144.954 L1425.17 144.954 Q1426.93 144.954 1427.9 144.12 Q1428.87 143.287 1430.06 140.185 L1430.82 138.241 L1420.33 112.732 L1424.85 112.732 L1432.95 133.009 L1441.05 112.732 L1445.56 112.732 L1434.18 141.065 Z\" fill=\"#000000\" fill-rule=\"evenodd\" fill-opacity=\"1\" /><path clip-path=\"url(#clip870)\" d=\"M1452.86 134.722 L1460.49 134.722 L1460.49 108.357 L1452.18 110.023 L1452.18 105.764 L1460.45 104.098 L1465.12 104.098 L1465.12 134.722 L1472.76 134.722 L1472.76 138.658 L1452.86 138.658 L1452.86 134.722 Z\" fill=\"#000000\" fill-rule=\"evenodd\" fill-opacity=\"1\" /><path clip-path=\"url(#clip870)\" d=\"\n",
       "M1791.22 716.048 L3152.76 716.048 L3152.76 47.2441 L1791.22 47.2441  Z\n",
       "  \" fill=\"#ffffff\" fill-rule=\"evenodd\" fill-opacity=\"1\"/>\n",
       "<defs>\n",
       "  <clipPath id=\"clip873\">\n",
       "    <rect x=\"1791\" y=\"47\" width=\"1363\" height=\"670\"/>\n",
       "  </clipPath>\n",
       "</defs>\n",
       "<polyline clip-path=\"url(#clip873)\" style=\"stroke:#000000; stroke-linecap:butt; stroke-linejoin:round; stroke-width:2; stroke-opacity:0.1; fill:none\" points=\"\n",
       "  1972.47,716.048 1972.47,47.2441 \n",
       "  \"/>\n",
       "<polyline clip-path=\"url(#clip873)\" style=\"stroke:#000000; stroke-linecap:butt; stroke-linejoin:round; stroke-width:2; stroke-opacity:0.1; fill:none\" points=\"\n",
       "  2257.91,716.048 2257.91,47.2441 \n",
       "  \"/>\n",
       "<polyline clip-path=\"url(#clip873)\" style=\"stroke:#000000; stroke-linecap:butt; stroke-linejoin:round; stroke-width:2; stroke-opacity:0.1; fill:none\" points=\"\n",
       "  2543.35,716.048 2543.35,47.2441 \n",
       "  \"/>\n",
       "<polyline clip-path=\"url(#clip873)\" style=\"stroke:#000000; stroke-linecap:butt; stroke-linejoin:round; stroke-width:2; stroke-opacity:0.1; fill:none\" points=\"\n",
       "  2828.78,716.048 2828.78,47.2441 \n",
       "  \"/>\n",
       "<polyline clip-path=\"url(#clip873)\" style=\"stroke:#000000; stroke-linecap:butt; stroke-linejoin:round; stroke-width:2; stroke-opacity:0.1; fill:none\" points=\"\n",
       "  3114.22,716.048 3114.22,47.2441 \n",
       "  \"/>\n",
       "<polyline clip-path=\"url(#clip870)\" style=\"stroke:#000000; stroke-linecap:butt; stroke-linejoin:round; stroke-width:4; stroke-opacity:1; fill:none\" points=\"\n",
       "  1791.22,716.048 3152.76,716.048 \n",
       "  \"/>\n",
       "<polyline clip-path=\"url(#clip870)\" style=\"stroke:#000000; stroke-linecap:butt; stroke-linejoin:round; stroke-width:4; stroke-opacity:1; fill:none\" points=\"\n",
       "  1972.47,716.048 1972.47,697.15 \n",
       "  \"/>\n",
       "<polyline clip-path=\"url(#clip870)\" style=\"stroke:#000000; stroke-linecap:butt; stroke-linejoin:round; stroke-width:4; stroke-opacity:1; fill:none\" points=\"\n",
       "  2257.91,716.048 2257.91,697.15 \n",
       "  \"/>\n",
       "<polyline clip-path=\"url(#clip870)\" style=\"stroke:#000000; stroke-linecap:butt; stroke-linejoin:round; stroke-width:4; stroke-opacity:1; fill:none\" points=\"\n",
       "  2543.35,716.048 2543.35,697.15 \n",
       "  \"/>\n",
       "<polyline clip-path=\"url(#clip870)\" style=\"stroke:#000000; stroke-linecap:butt; stroke-linejoin:round; stroke-width:4; stroke-opacity:1; fill:none\" points=\"\n",
       "  2828.78,716.048 2828.78,697.15 \n",
       "  \"/>\n",
       "<polyline clip-path=\"url(#clip870)\" style=\"stroke:#000000; stroke-linecap:butt; stroke-linejoin:round; stroke-width:4; stroke-opacity:1; fill:none\" points=\"\n",
       "  3114.22,716.048 3114.22,697.15 \n",
       "  \"/>\n",
       "<path clip-path=\"url(#clip870)\" d=\"M1967.12 780.913 L1983.44 780.913 L1983.44 784.848 L1961.5 784.848 L1961.5 780.913 Q1964.16 778.158 1968.74 773.528 Q1973.35 768.876 1974.53 767.533 Q1976.78 765.01 1977.66 763.274 Q1978.56 761.515 1978.56 759.825 Q1978.56 757.07 1976.61 755.334 Q1974.69 753.598 1971.59 753.598 Q1969.39 753.598 1966.94 754.362 Q1964.51 755.126 1961.73 756.677 L1961.73 751.955 Q1964.55 750.82 1967.01 750.242 Q1969.46 749.663 1971.5 749.663 Q1976.87 749.663 1980.06 752.348 Q1983.26 755.033 1983.26 759.524 Q1983.26 761.654 1982.45 763.575 Q1981.66 765.473 1979.55 768.066 Q1978.98 768.737 1975.87 771.954 Q1972.77 775.149 1967.12 780.913 Z\" fill=\"#000000\" fill-rule=\"evenodd\" fill-opacity=\"1\" /><path clip-path=\"url(#clip870)\" d=\"M2260.92 754.362 L2249.11 772.811 L2260.92 772.811 L2260.92 754.362 M2259.69 750.288 L2265.57 750.288 L2265.57 772.811 L2270.5 772.811 L2270.5 776.7 L2265.57 776.7 L2265.57 784.848 L2260.92 784.848 L2260.92 776.7 L2245.32 776.7 L2245.32 772.186 L2259.69 750.288 Z\" fill=\"#000000\" fill-rule=\"evenodd\" fill-opacity=\"1\" /><path clip-path=\"url(#clip870)\" d=\"M2543.75 765.704 Q2540.6 765.704 2538.75 767.857 Q2536.92 770.01 2536.92 773.76 Q2536.92 777.487 2538.75 779.663 Q2540.6 781.815 2543.75 781.815 Q2546.9 781.815 2548.73 779.663 Q2550.58 777.487 2550.58 773.76 Q2550.58 770.01 2548.73 767.857 Q2546.9 765.704 2543.75 765.704 M2553.03 751.052 L2553.03 755.311 Q2551.27 754.478 2549.47 754.038 Q2547.69 753.598 2545.93 753.598 Q2541.3 753.598 2538.84 756.723 Q2536.41 759.848 2536.07 766.167 Q2537.43 764.154 2539.49 763.089 Q2541.55 762.001 2544.03 762.001 Q2549.24 762.001 2552.25 765.172 Q2555.28 768.32 2555.28 773.76 Q2555.28 779.084 2552.13 782.302 Q2548.98 785.519 2543.75 785.519 Q2537.76 785.519 2534.59 780.936 Q2531.41 776.329 2531.41 767.603 Q2531.41 759.408 2535.3 754.547 Q2539.19 749.663 2545.74 749.663 Q2547.5 749.663 2549.28 750.01 Q2551.09 750.357 2553.03 751.052 Z\" fill=\"#000000\" fill-rule=\"evenodd\" fill-opacity=\"1\" /><path clip-path=\"url(#clip870)\" d=\"M2828.78 768.436 Q2825.45 768.436 2823.53 770.218 Q2821.63 772.001 2821.63 775.126 Q2821.63 778.251 2823.53 780.033 Q2825.45 781.815 2828.78 781.815 Q2832.12 781.815 2834.04 780.033 Q2835.96 778.228 2835.96 775.126 Q2835.96 772.001 2834.04 770.218 Q2832.14 768.436 2828.78 768.436 M2824.11 766.445 Q2821.1 765.704 2819.41 763.644 Q2817.74 761.584 2817.74 758.621 Q2817.74 754.478 2820.68 752.07 Q2823.65 749.663 2828.78 749.663 Q2833.95 749.663 2836.89 752.07 Q2839.83 754.478 2839.83 758.621 Q2839.83 761.584 2838.14 763.644 Q2836.47 765.704 2833.48 766.445 Q2836.86 767.232 2838.74 769.524 Q2840.64 771.816 2840.64 775.126 Q2840.64 780.149 2837.56 782.834 Q2834.5 785.519 2828.78 785.519 Q2823.07 785.519 2819.99 782.834 Q2816.93 780.149 2816.93 775.126 Q2816.93 771.816 2818.83 769.524 Q2820.73 767.232 2824.11 766.445 M2822.4 759.061 Q2822.4 761.746 2824.06 763.251 Q2825.75 764.755 2828.78 764.755 Q2831.79 764.755 2833.48 763.251 Q2835.2 761.746 2835.2 759.061 Q2835.2 756.376 2833.48 754.871 Q2831.79 753.367 2828.78 753.367 Q2825.75 753.367 2824.06 754.871 Q2822.4 756.376 2822.4 759.061 Z\" fill=\"#000000\" fill-rule=\"evenodd\" fill-opacity=\"1\" /><path clip-path=\"url(#clip870)\" d=\"M3088.91 780.913 L3096.55 780.913 L3096.55 754.547 L3088.24 756.214 L3088.24 751.955 L3096.5 750.288 L3101.18 750.288 L3101.18 780.913 L3108.82 780.913 L3108.82 784.848 L3088.91 784.848 L3088.91 780.913 Z\" fill=\"#000000\" fill-rule=\"evenodd\" fill-opacity=\"1\" /><path clip-path=\"url(#clip870)\" d=\"M3128.26 753.367 Q3124.65 753.367 3122.82 756.931 Q3121.02 760.473 3121.02 767.603 Q3121.02 774.709 3122.82 778.274 Q3124.65 781.815 3128.26 781.815 Q3131.9 781.815 3133.7 778.274 Q3135.53 774.709 3135.53 767.603 Q3135.53 760.473 3133.7 756.931 Q3131.9 753.367 3128.26 753.367 M3128.26 749.663 Q3134.07 749.663 3137.13 754.269 Q3140.21 758.853 3140.21 767.603 Q3140.21 776.329 3137.13 780.936 Q3134.07 785.519 3128.26 785.519 Q3122.45 785.519 3119.37 780.936 Q3116.32 776.329 3116.32 767.603 Q3116.32 758.853 3119.37 754.269 Q3122.45 749.663 3128.26 749.663 Z\" fill=\"#000000\" fill-rule=\"evenodd\" fill-opacity=\"1\" /><polyline clip-path=\"url(#clip873)\" style=\"stroke:#000000; stroke-linecap:butt; stroke-linejoin:round; stroke-width:2; stroke-opacity:0.1; fill:none\" points=\"\n",
       "  1791.22,628.392 3152.76,628.392 \n",
       "  \"/>\n",
       "<polyline clip-path=\"url(#clip873)\" style=\"stroke:#000000; stroke-linecap:butt; stroke-linejoin:round; stroke-width:2; stroke-opacity:0.1; fill:none\" points=\"\n",
       "  1791.22,499.97 3152.76,499.97 \n",
       "  \"/>\n",
       "<polyline clip-path=\"url(#clip873)\" style=\"stroke:#000000; stroke-linecap:butt; stroke-linejoin:round; stroke-width:2; stroke-opacity:0.1; fill:none\" points=\"\n",
       "  1791.22,371.548 3152.76,371.548 \n",
       "  \"/>\n",
       "<polyline clip-path=\"url(#clip873)\" style=\"stroke:#000000; stroke-linecap:butt; stroke-linejoin:round; stroke-width:2; stroke-opacity:0.1; fill:none\" points=\"\n",
       "  1791.22,243.125 3152.76,243.125 \n",
       "  \"/>\n",
       "<polyline clip-path=\"url(#clip873)\" style=\"stroke:#000000; stroke-linecap:butt; stroke-linejoin:round; stroke-width:2; stroke-opacity:0.1; fill:none\" points=\"\n",
       "  1791.22,114.703 3152.76,114.703 \n",
       "  \"/>\n",
       "<polyline clip-path=\"url(#clip870)\" style=\"stroke:#000000; stroke-linecap:butt; stroke-linejoin:round; stroke-width:4; stroke-opacity:1; fill:none\" points=\"\n",
       "  1791.22,716.048 1791.22,47.2441 \n",
       "  \"/>\n",
       "<polyline clip-path=\"url(#clip870)\" style=\"stroke:#000000; stroke-linecap:butt; stroke-linejoin:round; stroke-width:4; stroke-opacity:1; fill:none\" points=\"\n",
       "  1791.22,628.392 1810.12,628.392 \n",
       "  \"/>\n",
       "<polyline clip-path=\"url(#clip870)\" style=\"stroke:#000000; stroke-linecap:butt; stroke-linejoin:round; stroke-width:4; stroke-opacity:1; fill:none\" points=\"\n",
       "  1791.22,499.97 1810.12,499.97 \n",
       "  \"/>\n",
       "<polyline clip-path=\"url(#clip870)\" style=\"stroke:#000000; stroke-linecap:butt; stroke-linejoin:round; stroke-width:4; stroke-opacity:1; fill:none\" points=\"\n",
       "  1791.22,371.548 1810.12,371.548 \n",
       "  \"/>\n",
       "<polyline clip-path=\"url(#clip870)\" style=\"stroke:#000000; stroke-linecap:butt; stroke-linejoin:round; stroke-width:4; stroke-opacity:1; fill:none\" points=\"\n",
       "  1791.22,243.125 1810.12,243.125 \n",
       "  \"/>\n",
       "<polyline clip-path=\"url(#clip870)\" style=\"stroke:#000000; stroke-linecap:butt; stroke-linejoin:round; stroke-width:4; stroke-opacity:1; fill:none\" points=\"\n",
       "  1791.22,114.703 1810.12,114.703 \n",
       "  \"/>\n",
       "<path clip-path=\"url(#clip870)\" d=\"M1659.96 615.186 L1648.15 633.635 L1659.96 633.635 L1659.96 615.186 M1658.73 611.112 L1664.61 611.112 L1664.61 633.635 L1669.54 633.635 L1669.54 637.524 L1664.61 637.524 L1664.61 645.672 L1659.96 645.672 L1659.96 637.524 L1644.35 637.524 L1644.35 633.01 L1658.73 611.112 Z\" fill=\"#000000\" fill-rule=\"evenodd\" fill-opacity=\"1\" /><path clip-path=\"url(#clip870)\" d=\"M1678.08 641.737 L1685.72 641.737 L1685.72 615.371 L1677.41 617.038 L1677.41 612.779 L1685.67 611.112 L1690.35 611.112 L1690.35 641.737 L1697.99 641.737 L1697.99 645.672 L1678.08 645.672 L1678.08 641.737 Z\" fill=\"#000000\" fill-rule=\"evenodd\" fill-opacity=\"1\" /><path clip-path=\"url(#clip870)\" d=\"M1707.43 639.793 L1712.32 639.793 L1712.32 645.672 L1707.43 645.672 L1707.43 639.793 Z\" fill=\"#000000\" fill-rule=\"evenodd\" fill-opacity=\"1\" /><path clip-path=\"url(#clip870)\" d=\"M1723.31 641.737 L1730.95 641.737 L1730.95 615.371 L1722.64 617.038 L1722.64 612.779 L1730.9 611.112 L1735.58 611.112 L1735.58 641.737 L1743.22 641.737 L1743.22 645.672 L1723.31 645.672 L1723.31 641.737 Z\" fill=\"#000000\" fill-rule=\"evenodd\" fill-opacity=\"1\" /><path clip-path=\"url(#clip870)\" d=\"M1658.24 486.764 L1646.44 505.213 L1658.24 505.213 L1658.24 486.764 M1657.02 482.69 L1662.89 482.69 L1662.89 505.213 L1667.83 505.213 L1667.83 509.102 L1662.89 509.102 L1662.89 517.25 L1658.24 517.25 L1658.24 509.102 L1642.64 509.102 L1642.64 504.588 L1657.02 482.69 Z\" fill=\"#000000\" fill-rule=\"evenodd\" fill-opacity=\"1\" /><path clip-path=\"url(#clip870)\" d=\"M1676.37 513.315 L1684.01 513.315 L1684.01 486.949 L1675.7 488.616 L1675.7 484.357 L1683.96 482.69 L1688.64 482.69 L1688.64 513.315 L1696.27 513.315 L1696.27 517.25 L1676.37 517.25 L1676.37 513.315 Z\" fill=\"#000000\" fill-rule=\"evenodd\" fill-opacity=\"1\" /><path clip-path=\"url(#clip870)\" d=\"M1705.72 511.37 L1710.6 511.37 L1710.6 517.25 L1705.72 517.25 L1705.72 511.37 Z\" fill=\"#000000\" fill-rule=\"evenodd\" fill-opacity=\"1\" /><path clip-path=\"url(#clip870)\" d=\"M1733.64 486.764 L1721.83 505.213 L1733.64 505.213 L1733.64 486.764 M1732.41 482.69 L1738.29 482.69 L1738.29 505.213 L1743.22 505.213 L1743.22 509.102 L1738.29 509.102 L1738.29 517.25 L1733.64 517.25 L1733.64 509.102 L1718.03 509.102 L1718.03 504.588 L1732.41 482.69 Z\" fill=\"#000000\" fill-rule=\"evenodd\" fill-opacity=\"1\" /><path clip-path=\"url(#clip870)\" d=\"M1659.63 358.342 L1647.83 376.791 L1659.63 376.791 L1659.63 358.342 M1658.4 354.268 L1664.28 354.268 L1664.28 376.791 L1669.21 376.791 L1669.21 380.68 L1664.28 380.68 L1664.28 388.828 L1659.63 388.828 L1659.63 380.68 L1644.03 380.68 L1644.03 376.166 L1658.4 354.268 Z\" fill=\"#000000\" fill-rule=\"evenodd\" fill-opacity=\"1\" /><path clip-path=\"url(#clip870)\" d=\"M1677.76 384.893 L1685.39 384.893 L1685.39 358.527 L1677.08 360.194 L1677.08 355.934 L1685.35 354.268 L1690.02 354.268 L1690.02 384.893 L1697.66 384.893 L1697.66 388.828 L1677.76 388.828 L1677.76 384.893 Z\" fill=\"#000000\" fill-rule=\"evenodd\" fill-opacity=\"1\" /><path clip-path=\"url(#clip870)\" d=\"M1707.11 382.948 L1711.99 382.948 L1711.99 388.828 L1707.11 388.828 L1707.11 382.948 Z\" fill=\"#000000\" fill-rule=\"evenodd\" fill-opacity=\"1\" /><path clip-path=\"url(#clip870)\" d=\"M1721 354.268 L1743.22 354.268 L1743.22 356.258 L1730.67 388.828 L1725.79 388.828 L1737.59 358.203 L1721 358.203 L1721 354.268 Z\" fill=\"#000000\" fill-rule=\"evenodd\" fill-opacity=\"1\" /><path clip-path=\"url(#clip870)\" d=\"M1658.73 229.919 L1646.92 248.368 L1658.73 248.368 L1658.73 229.919 M1657.5 225.845 L1663.38 225.845 L1663.38 248.368 L1668.31 248.368 L1668.31 252.257 L1663.38 252.257 L1663.38 260.405 L1658.73 260.405 L1658.73 252.257 L1643.13 252.257 L1643.13 247.743 L1657.5 225.845 Z\" fill=\"#000000\" fill-rule=\"evenodd\" fill-opacity=\"1\" /><path clip-path=\"url(#clip870)\" d=\"M1680.07 256.47 L1696.39 256.47 L1696.39 260.405 L1674.45 260.405 L1674.45 256.47 Q1677.11 253.716 1681.69 249.086 Q1686.3 244.433 1687.48 243.091 Q1689.72 240.568 1690.6 238.831 Q1691.51 237.072 1691.51 235.382 Q1691.51 232.628 1689.56 230.892 Q1687.64 229.156 1684.54 229.156 Q1682.34 229.156 1679.89 229.919 Q1677.45 230.683 1674.68 232.234 L1674.68 227.512 Q1677.5 226.378 1679.95 225.799 Q1682.41 225.22 1684.45 225.22 Q1689.82 225.22 1693.01 227.906 Q1696.2 230.591 1696.2 235.081 Q1696.2 237.211 1695.39 239.132 Q1694.61 241.031 1692.5 243.623 Q1691.92 244.294 1688.82 247.512 Q1685.72 250.706 1680.07 256.47 Z\" fill=\"#000000\" fill-rule=\"evenodd\" fill-opacity=\"1\" /><path clip-path=\"url(#clip870)\" d=\"M1706.2 254.526 L1711.09 254.526 L1711.09 260.405 L1706.2 260.405 L1706.2 254.526 Z\" fill=\"#000000\" fill-rule=\"evenodd\" fill-opacity=\"1\" /><path clip-path=\"url(#clip870)\" d=\"M1731.27 228.924 Q1727.66 228.924 1725.83 232.489 Q1724.03 236.031 1724.03 243.16 Q1724.03 250.267 1725.83 253.831 Q1727.66 257.373 1731.27 257.373 Q1734.91 257.373 1736.71 253.831 Q1738.54 250.267 1738.54 243.16 Q1738.54 236.031 1736.71 232.489 Q1734.91 228.924 1731.27 228.924 M1731.27 225.22 Q1737.08 225.22 1740.14 229.827 Q1743.22 234.41 1743.22 243.16 Q1743.22 251.887 1740.14 256.493 Q1737.08 261.077 1731.27 261.077 Q1725.46 261.077 1722.39 256.493 Q1719.33 251.887 1719.33 243.16 Q1719.33 234.41 1722.39 229.827 Q1725.46 225.22 1731.27 225.22 Z\" fill=\"#000000\" fill-rule=\"evenodd\" fill-opacity=\"1\" /><path clip-path=\"url(#clip870)\" d=\"M1659.38 101.497 L1647.57 119.946 L1659.38 119.946 L1659.38 101.497 M1658.15 97.4232 L1664.03 97.4232 L1664.03 119.946 L1668.96 119.946 L1668.96 123.835 L1664.03 123.835 L1664.03 131.983 L1659.38 131.983 L1659.38 123.835 L1643.77 123.835 L1643.77 119.321 L1658.15 97.4232 Z\" fill=\"#000000\" fill-rule=\"evenodd\" fill-opacity=\"1\" /><path clip-path=\"url(#clip870)\" d=\"M1680.72 128.048 L1697.04 128.048 L1697.04 131.983 L1675.09 131.983 L1675.09 128.048 Q1677.76 125.293 1682.34 120.664 Q1686.95 116.011 1688.13 114.668 Q1690.37 112.145 1691.25 110.409 Q1692.15 108.65 1692.15 106.96 Q1692.15 104.206 1690.21 102.469 Q1688.29 100.733 1685.19 100.733 Q1682.99 100.733 1680.53 101.497 Q1678.1 102.261 1675.33 103.812 L1675.33 99.0898 Q1678.15 97.9556 1680.6 97.3769 Q1683.06 96.7982 1685.09 96.7982 Q1690.46 96.7982 1693.66 99.4833 Q1696.85 102.169 1696.85 106.659 Q1696.85 108.789 1696.04 110.71 Q1695.26 112.608 1693.15 115.201 Q1692.57 115.872 1689.47 119.09 Q1686.37 122.284 1680.72 128.048 Z\" fill=\"#000000\" fill-rule=\"evenodd\" fill-opacity=\"1\" /><path clip-path=\"url(#clip870)\" d=\"M1706.85 126.104 L1711.74 126.104 L1711.74 131.983 L1706.85 131.983 L1706.85 126.104 Z\" fill=\"#000000\" fill-rule=\"evenodd\" fill-opacity=\"1\" /><path clip-path=\"url(#clip870)\" d=\"M1736.09 113.349 Q1739.45 114.067 1741.32 116.335 Q1743.22 118.604 1743.22 121.937 Q1743.22 127.053 1739.7 129.854 Q1736.18 132.654 1729.7 132.654 Q1727.52 132.654 1725.21 132.215 Q1722.92 131.798 1720.46 130.941 L1720.46 126.428 Q1722.41 127.562 1724.72 128.141 Q1727.04 128.719 1729.56 128.719 Q1733.96 128.719 1736.25 126.983 Q1738.57 125.247 1738.57 121.937 Q1738.57 118.881 1736.41 117.168 Q1734.28 115.432 1730.46 115.432 L1726.44 115.432 L1726.44 111.59 L1730.65 111.59 Q1734.1 111.59 1735.93 110.224 Q1737.76 108.835 1737.76 106.243 Q1737.76 103.581 1735.86 102.169 Q1733.98 100.733 1730.46 100.733 Q1728.54 100.733 1726.34 101.15 Q1724.14 101.567 1721.51 102.446 L1721.51 98.2796 Q1724.17 97.5389 1726.48 97.1685 Q1728.82 96.7982 1730.88 96.7982 Q1736.2 96.7982 1739.31 99.2287 Q1742.41 101.636 1742.41 105.756 Q1742.41 108.627 1740.76 110.618 Q1739.12 112.585 1736.09 113.349 Z\" fill=\"#000000\" fill-rule=\"evenodd\" fill-opacity=\"1\" /><polyline clip-path=\"url(#clip873)\" style=\"stroke:#009af9; stroke-linecap:butt; stroke-linejoin:round; stroke-width:4; stroke-opacity:1; fill:none\" points=\"\n",
       "  1829.75,66.1725 1972.47,618 2115.19,695.648 2257.91,697.105 2400.63,697.119 2543.35,697.119 2686.07,697.119 2828.78,697.119 2971.5,697.119 3114.22,697.119 \n",
       "  \n",
       "  \"/>\n",
       "<path clip-path=\"url(#clip870)\" d=\"\n",
       "M2903.66 173.218 L3107.37 173.218 L3107.37 69.5376 L2903.66 69.5376  Z\n",
       "  \" fill=\"#ffffff\" fill-rule=\"evenodd\" fill-opacity=\"1\"/>\n",
       "<polyline clip-path=\"url(#clip870)\" style=\"stroke:#000000; stroke-linecap:butt; stroke-linejoin:round; stroke-width:4; stroke-opacity:1; fill:none\" points=\"\n",
       "  2903.66,173.218 3107.37,173.218 3107.37,69.5376 2903.66,69.5376 2903.66,173.218 \n",
       "  \"/>\n",
       "<polyline clip-path=\"url(#clip870)\" style=\"stroke:#009af9; stroke-linecap:butt; stroke-linejoin:round; stroke-width:4; stroke-opacity:1; fill:none\" points=\"\n",
       "  2918.79,121.378 3009.56,121.378 \n",
       "  \"/>\n",
       "<path clip-path=\"url(#clip870)\" d=\"M3038.53 141.065 Q3036.72 145.695 3035.01 147.107 Q3033.3 148.519 3030.43 148.519 L3027.02 148.519 L3027.02 144.954 L3029.52 144.954 Q3031.28 144.954 3032.25 144.12 Q3033.23 143.287 3034.41 140.185 L3035.17 138.241 L3024.68 112.732 L3029.2 112.732 L3037.3 133.009 L3045.4 112.732 L3049.92 112.732 L3038.53 141.065 Z\" fill=\"#000000\" fill-rule=\"evenodd\" fill-opacity=\"1\" /><path clip-path=\"url(#clip870)\" d=\"M3057.21 134.722 L3064.85 134.722 L3064.85 108.357 L3056.54 110.023 L3056.54 105.764 L3064.8 104.098 L3069.48 104.098 L3069.48 134.722 L3077.11 134.722 L3077.11 138.658 L3057.21 138.658 L3057.21 134.722 Z\" fill=\"#000000\" fill-rule=\"evenodd\" fill-opacity=\"1\" /></svg>\n"
      ]
     },
     "execution_count": 35,
     "metadata": {},
     "output_type": "execute_result"
    }
   ],
   "source": [
    "qxt = getvalues(result.posteriors[:x_t])\n",
    "\n",
    "p1 = plot(mean.(qxt), ribbon = std.(qxt))\n",
    "p2 = plot(getvalues(result.free_energy))\n",
    "\n",
    "plot(p1, p2, size = (800, 200))"
   ]
  },
  {
   "cell_type": "code",
   "execution_count": 280,
   "metadata": {},
   "outputs": [
    {
     "data": {
      "text/plain": [
       "Subject(Int64, AsapScheduler)"
      ]
     },
     "execution_count": 280,
     "metadata": {},
     "output_type": "execute_result"
    }
   ],
   "source": [
    "s = Subject(Int)"
   ]
  },
  {
   "cell_type": "code",
   "execution_count": 165,
   "metadata": {},
   "outputs": [],
   "source": [
    "subscribe!(zipped(s, from(1:10)), logger());"
   ]
  },
  {
   "cell_type": "code",
   "execution_count": 176,
   "metadata": {},
   "outputs": [],
   "source": [
    "next!(s, 0)"
   ]
  },
  {
   "cell_type": "code",
   "execution_count": null,
   "metadata": {},
   "outputs": [],
   "source": []
  }
 ],
 "metadata": {
  "kernelspec": {
   "display_name": "Julia 1.8.0",
   "language": "julia",
   "name": "julia-1.8"
  },
  "language_info": {
   "file_extension": ".jl",
   "mimetype": "application/julia",
   "name": "julia",
   "version": "1.8.0"
  }
 },
 "nbformat": 4,
 "nbformat_minor": 4
}
