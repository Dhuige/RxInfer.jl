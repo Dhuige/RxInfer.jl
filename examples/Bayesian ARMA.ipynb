{
 "cells": [
  {
   "cell_type": "markdown",
   "id": "blessed-brake",
   "metadata": {},
   "source": [
    "# Bayesian ARMA model"
   ]
  },
  {
   "cell_type": "markdown",
   "id": "indirect-million",
   "metadata": {},
   "source": [
    "This notebook shows how Bayesian [ARMA model](https://en.wikipedia.org/wiki/Autoregressive%E2%80%93moving-average_model#Applications) can be implemeted in **RxInfer.jl**"
   ]
  },
  {
   "cell_type": "markdown",
   "id": "designing-philip",
   "metadata": {},
   "source": [
    "For theoretical details on Varitional Inference for ARMA model, we refer the reader to the following [paper](https://ieeexplore.ieee.org/document/7798432)"
   ]
  },
  {
   "cell_type": "markdown",
   "id": "defined-farmer",
   "metadata": {},
   "source": [
    "The Bayesian ARMA model can be written as follows:"
   ]
  },
  {
   "cell_type": "markdown",
   "id": "strange-advice",
   "metadata": {},
   "source": [
    "\n",
    "$$\\begin{aligned}\n",
    "e_t \\sim \\mathcal{N}(0, \\gamma^{-1}) \\quad\n",
    "\\theta &\\sim \\mathcal{MN}(\\mathbf{0}, \\mathbf{I}) \\quad\n",
    "\\eta \\sim \\mathcal{MN}(\\mathbf{0}, \\mathbf{I}) \\\\\n",
    "\\mathbf{h}_0 &\\sim \\mathcal{MN}\\left(\\begin{bmatrix}\n",
    "e_{-1} \\\\\n",
    "e_{-2}\n",
    "\\end{bmatrix}, \\mathbf{I}\\right) \\\\\n",
    "\\mathbf{h}_t &= \\mathbf{S}\\mathbf{h}_{t-1} + \\mathbf{c} e_{t-1} \\\\\n",
    "\\mathbf{x}_t &= \\boldsymbol{\\theta}^\\top\\mathbf{x}_{t-1} + \\boldsymbol{\\eta}^\\top\\mathbf{h}_{t} + e_t \n",
    "\\end{aligned}$$\n",
    "\n",
    "where shift matrix $\\mathbf{S}$ is\n",
    "$$\\begin{aligned}\\mathbf{S} = \\begin{pmatrix}\n",
    "0 & 0 \\\\\n",
    "1 & 0 \n",
    "\\end{pmatrix}\\end{aligned}$$\n",
    "and unit vector $\\mathbf{c}$: $$\\begin{aligned}\\mathbf{c}=[1, 0]\\end{aligned}$$ when MA order is $2$"
   ]
  },
  {
   "cell_type": "markdown",
   "id": "social-registrar",
   "metadata": {},
   "source": [
    "In this way, $\\mathbf{h}_t$ containing errors $e_t$ can be viewed as hidden state."
   ]
  },
  {
   "cell_type": "markdown",
   "id": "elegant-hospital",
   "metadata": {},
   "source": [
    "In short, the Bayesian ARMA model has two intractabilities: (1) induced by the multiplication of two Gaussian RVs, i.e., $\\boldsymbol{\\eta}^\\top\\mathbf{h}_{t}$, (2) induced by errors $e_t$ that prevents analytical update of precision parameter $\\gamma$ (this can be easily seen when constructing the Factor Graph, i.e. there is a loop)"
   ]
  },
  {
   "cell_type": "markdown",
   "id": "studied-crazy",
   "metadata": {},
   "source": [
    "Both problems can be easily resolved in **RxInfer.jl**, by creating a hybrid inference algorithm based on Loopy Variational Message Passing."
   ]
  },
  {
   "cell_type": "code",
   "execution_count": 4,
   "id": "applied-owner",
   "metadata": {},
   "outputs": [],
   "source": [
    "# Load packages\n",
    "using RxInfer, LinearAlgebra, CSV, DataFrames, Plots"
   ]
  },
  {
   "cell_type": "code",
   "execution_count": 5,
   "id": "unable-cross",
   "metadata": {},
   "outputs": [
    {
     "data": {
      "text/plain": [
       "shift (generic function with 1 method)"
      ]
     },
     "execution_count": 5,
     "metadata": {},
     "output_type": "execute_result"
    }
   ],
   "source": [
    "# Define shift function\n",
    "function shift(dim)\n",
    "    S = Matrix{Float64}(I, dim, dim)\n",
    "    for i in dim:-1:2\n",
    "           S[i,:] = S[i-1, :]\n",
    "    end\n",
    "    S[1, :] = zeros(dim)\n",
    "    return S\n",
    "end"
   ]
  },
  {
   "cell_type": "code",
   "execution_count": 6,
   "id": "liberal-midwest",
   "metadata": {},
   "outputs": [],
   "source": [
    "@model function ARMA(n, x_prev, h_prior, γ_prior, τ_prior, η_prior, θ_prior, p, q)\n",
    "        \n",
    "    c = zeros(p); c[1] = 1.0; # AR\n",
    "    b = zeros(q); b[1] = 1.0; # MA\n",
    "    S = shift(q); # MA\n",
    "    \n",
    "    # initialize variables\n",
    "    h  = randomvar(n-1)\n",
    "    e  = randomvar(n)\n",
    "    z  = randomvar(n)\n",
    "    \n",
    "    x  = datavar(Float64, n) where { allow_missing = true }\n",
    "    \n",
    "    # priors\n",
    "    γ  ~ GammaShapeRate(shape(γ_prior), rate(γ_prior))\n",
    "    η  ~ MvNormalMeanPrecision(mean(η_prior), precision(η_prior))\n",
    "    θ  ~ MvNormalMeanPrecision(mean(θ_prior), precision(θ_prior))\n",
    "    τ  ~ GammaShapeRate(shape(τ_prior), rate(τ_prior))\n",
    "    \n",
    "    # initial\n",
    "    h_0  ~ MvNormalMeanPrecision(mean(h_prior), precision(h_prior))\n",
    "    z[1] ~ AR(h_0, η, τ) where {meta=ARMeta(Multivariate, q, ARsafe())}\n",
    "    e[1] ~ NormalMeanPrecision(0.0, γ)\n",
    "\n",
    "    x[1] ~ dot(b, z[1]) + dot(θ, x_prev[1]) + e[1]\n",
    "    \n",
    "    h_prev = h_0\n",
    "    for t in 1:n-1\n",
    "        \n",
    "        e[t+1] ~ NormalMeanPrecision(0.0, γ)\n",
    "        h[t] ~ S*h_prev + b*e[t]\n",
    "        z[t+1] ~ AR(h[t], η, τ) where {meta=ARMeta(Multivariate, q, ARsafe())}\n",
    "        x[t+1] ~ dot(z[t+1], b) + dot(θ, x_prev[t]) + e[t+1]\n",
    "        h_prev = h[t]\n",
    "    end\n",
    "end"
   ]
  },
  {
   "cell_type": "markdown",
   "id": "shared-opinion",
   "metadata": {},
   "source": [
    "### Load dataset"
   ]
  },
  {
   "cell_type": "markdown",
   "id": "coral-elder",
   "metadata": {},
   "source": [
    "To validate our model and inference, we will use the S&P 500 stock data from [Kaggle](https://www.kaggle.com/code/purvasingh/time-series-analysis-with-arma-and-arima/data?select=all_stocks_5yr.csv)"
   ]
  },
  {
   "cell_type": "markdown",
   "id": "coastal-mainstream",
   "metadata": {},
   "source": [
    "Once the dataset is downloaded, we can load it into DataFrame."
   ]
  },
  {
   "cell_type": "code",
   "execution_count": 8,
   "id": "wanted-senior",
   "metadata": {},
   "outputs": [
    {
     "data": {
      "text/html": [
       "<div><div style = \"float: left;\"><span>619040×7 DataFrame</span></div><div style = \"float: right;\"><span style = \"font-style: italic;\">619015 rows omitted</span></div><div style = \"clear: both;\"></div></div><div class = \"data-frame\" style = \"overflow-x: scroll;\"><table class = \"data-frame\" style = \"margin-bottom: 6px;\"><thead><tr class = \"header\"><th class = \"rowNumber\" style = \"font-weight: bold; text-align: right;\">Row</th><th style = \"text-align: left;\">date</th><th style = \"text-align: left;\">open</th><th style = \"text-align: left;\">high</th><th style = \"text-align: left;\">low</th><th style = \"text-align: left;\">close</th><th style = \"text-align: left;\">volume</th><th style = \"text-align: left;\">Name</th></tr><tr class = \"subheader headerLastRow\"><th class = \"rowNumber\" style = \"font-weight: bold; text-align: right;\"></th><th title = \"Dates.Date\" style = \"text-align: left;\">Date</th><th title = \"Union{Missing, Float64}\" style = \"text-align: left;\">Float64?</th><th title = \"Union{Missing, Float64}\" style = \"text-align: left;\">Float64?</th><th title = \"Union{Missing, Float64}\" style = \"text-align: left;\">Float64?</th><th title = \"Float64\" style = \"text-align: left;\">Float64</th><th title = \"Int64\" style = \"text-align: left;\">Int64</th><th title = \"String7\" style = \"text-align: left;\">String7</th></tr></thead><tbody><tr><td class = \"rowNumber\" style = \"font-weight: bold; text-align: right;\">1</td><td style = \"text-align: left;\">2013-02-08</td><td style = \"text-align: right;\">15.07</td><td style = \"text-align: right;\">15.12</td><td style = \"text-align: right;\">14.63</td><td style = \"text-align: right;\">14.75</td><td style = \"text-align: right;\">8407500</td><td style = \"text-align: left;\">AAL</td></tr><tr><td class = \"rowNumber\" style = \"font-weight: bold; text-align: right;\">2</td><td style = \"text-align: left;\">2013-02-11</td><td style = \"text-align: right;\">14.89</td><td style = \"text-align: right;\">15.01</td><td style = \"text-align: right;\">14.26</td><td style = \"text-align: right;\">14.46</td><td style = \"text-align: right;\">8882000</td><td style = \"text-align: left;\">AAL</td></tr><tr><td class = \"rowNumber\" style = \"font-weight: bold; text-align: right;\">3</td><td style = \"text-align: left;\">2013-02-12</td><td style = \"text-align: right;\">14.45</td><td style = \"text-align: right;\">14.51</td><td style = \"text-align: right;\">14.1</td><td style = \"text-align: right;\">14.27</td><td style = \"text-align: right;\">8126000</td><td style = \"text-align: left;\">AAL</td></tr><tr><td class = \"rowNumber\" style = \"font-weight: bold; text-align: right;\">4</td><td style = \"text-align: left;\">2013-02-13</td><td style = \"text-align: right;\">14.3</td><td style = \"text-align: right;\">14.94</td><td style = \"text-align: right;\">14.25</td><td style = \"text-align: right;\">14.66</td><td style = \"text-align: right;\">10259500</td><td style = \"text-align: left;\">AAL</td></tr><tr><td class = \"rowNumber\" style = \"font-weight: bold; text-align: right;\">5</td><td style = \"text-align: left;\">2013-02-14</td><td style = \"text-align: right;\">14.94</td><td style = \"text-align: right;\">14.96</td><td style = \"text-align: right;\">13.16</td><td style = \"text-align: right;\">13.99</td><td style = \"text-align: right;\">31879900</td><td style = \"text-align: left;\">AAL</td></tr><tr><td class = \"rowNumber\" style = \"font-weight: bold; text-align: right;\">6</td><td style = \"text-align: left;\">2013-02-15</td><td style = \"text-align: right;\">13.93</td><td style = \"text-align: right;\">14.61</td><td style = \"text-align: right;\">13.93</td><td style = \"text-align: right;\">14.5</td><td style = \"text-align: right;\">15628000</td><td style = \"text-align: left;\">AAL</td></tr><tr><td class = \"rowNumber\" style = \"font-weight: bold; text-align: right;\">7</td><td style = \"text-align: left;\">2013-02-19</td><td style = \"text-align: right;\">14.33</td><td style = \"text-align: right;\">14.56</td><td style = \"text-align: right;\">14.08</td><td style = \"text-align: right;\">14.26</td><td style = \"text-align: right;\">11354400</td><td style = \"text-align: left;\">AAL</td></tr><tr><td class = \"rowNumber\" style = \"font-weight: bold; text-align: right;\">8</td><td style = \"text-align: left;\">2013-02-20</td><td style = \"text-align: right;\">14.17</td><td style = \"text-align: right;\">14.26</td><td style = \"text-align: right;\">13.15</td><td style = \"text-align: right;\">13.33</td><td style = \"text-align: right;\">14725200</td><td style = \"text-align: left;\">AAL</td></tr><tr><td class = \"rowNumber\" style = \"font-weight: bold; text-align: right;\">9</td><td style = \"text-align: left;\">2013-02-21</td><td style = \"text-align: right;\">13.62</td><td style = \"text-align: right;\">13.95</td><td style = \"text-align: right;\">12.9</td><td style = \"text-align: right;\">13.37</td><td style = \"text-align: right;\">11922100</td><td style = \"text-align: left;\">AAL</td></tr><tr><td class = \"rowNumber\" style = \"font-weight: bold; text-align: right;\">10</td><td style = \"text-align: left;\">2013-02-22</td><td style = \"text-align: right;\">13.57</td><td style = \"text-align: right;\">13.6</td><td style = \"text-align: right;\">13.21</td><td style = \"text-align: right;\">13.57</td><td style = \"text-align: right;\">6071400</td><td style = \"text-align: left;\">AAL</td></tr><tr><td class = \"rowNumber\" style = \"font-weight: bold; text-align: right;\">11</td><td style = \"text-align: left;\">2013-02-25</td><td style = \"text-align: right;\">13.6</td><td style = \"text-align: right;\">13.76</td><td style = \"text-align: right;\">13.0</td><td style = \"text-align: right;\">13.02</td><td style = \"text-align: right;\">7186400</td><td style = \"text-align: left;\">AAL</td></tr><tr><td class = \"rowNumber\" style = \"font-weight: bold; text-align: right;\">12</td><td style = \"text-align: left;\">2013-02-26</td><td style = \"text-align: right;\">13.14</td><td style = \"text-align: right;\">13.42</td><td style = \"text-align: right;\">12.7</td><td style = \"text-align: right;\">13.26</td><td style = \"text-align: right;\">9419000</td><td style = \"text-align: left;\">AAL</td></tr><tr><td class = \"rowNumber\" style = \"font-weight: bold; text-align: right;\">13</td><td style = \"text-align: left;\">2013-02-27</td><td style = \"text-align: right;\">13.28</td><td style = \"text-align: right;\">13.62</td><td style = \"text-align: right;\">13.18</td><td style = \"text-align: right;\">13.41</td><td style = \"text-align: right;\">7390500</td><td style = \"text-align: left;\">AAL</td></tr><tr><td style = \"text-align: right;\">&vellip;</td><td style = \"text-align: right;\">&vellip;</td><td style = \"text-align: right;\">&vellip;</td><td style = \"text-align: right;\">&vellip;</td><td style = \"text-align: right;\">&vellip;</td><td style = \"text-align: right;\">&vellip;</td><td style = \"text-align: right;\">&vellip;</td><td style = \"text-align: right;\">&vellip;</td></tr><tr><td class = \"rowNumber\" style = \"font-weight: bold; text-align: right;\">619029</td><td style = \"text-align: left;\">2018-01-23</td><td style = \"text-align: right;\">77.3</td><td style = \"text-align: right;\">78.32</td><td style = \"text-align: right;\">76.97</td><td style = \"text-align: right;\">77.59</td><td style = \"text-align: right;\">2264132</td><td style = \"text-align: left;\">ZTS</td></tr><tr><td class = \"rowNumber\" style = \"font-weight: bold; text-align: right;\">619030</td><td style = \"text-align: left;\">2018-01-24</td><td style = \"text-align: right;\">78.16</td><td style = \"text-align: right;\">78.51</td><td style = \"text-align: right;\">77.6</td><td style = \"text-align: right;\">78.33</td><td style = \"text-align: right;\">2585326</td><td style = \"text-align: left;\">ZTS</td></tr><tr><td class = \"rowNumber\" style = \"font-weight: bold; text-align: right;\">619031</td><td style = \"text-align: left;\">2018-01-25</td><td style = \"text-align: right;\">78.47</td><td style = \"text-align: right;\">79.38</td><td style = \"text-align: right;\">78.345</td><td style = \"text-align: right;\">79.25</td><td style = \"text-align: right;\">2327262</td><td style = \"text-align: left;\">ZTS</td></tr><tr><td class = \"rowNumber\" style = \"font-weight: bold; text-align: right;\">619032</td><td style = \"text-align: left;\">2018-01-26</td><td style = \"text-align: right;\">79.49</td><td style = \"text-align: right;\">80.13</td><td style = \"text-align: right;\">79.38</td><td style = \"text-align: right;\">80.09</td><td style = \"text-align: right;\">2532808</td><td style = \"text-align: left;\">ZTS</td></tr><tr><td class = \"rowNumber\" style = \"font-weight: bold; text-align: right;\">619033</td><td style = \"text-align: left;\">2018-01-29</td><td style = \"text-align: right;\">79.81</td><td style = \"text-align: right;\">79.95</td><td style = \"text-align: right;\">79.11</td><td style = \"text-align: right;\">79.18</td><td style = \"text-align: right;\">2662383</td><td style = \"text-align: left;\">ZTS</td></tr><tr><td class = \"rowNumber\" style = \"font-weight: bold; text-align: right;\">619034</td><td style = \"text-align: left;\">2018-01-30</td><td style = \"text-align: right;\">78.44</td><td style = \"text-align: right;\">78.69</td><td style = \"text-align: right;\">77.91</td><td style = \"text-align: right;\">78.35</td><td style = \"text-align: right;\">3808707</td><td style = \"text-align: left;\">ZTS</td></tr><tr><td class = \"rowNumber\" style = \"font-weight: bold; text-align: right;\">619035</td><td style = \"text-align: left;\">2018-01-31</td><td style = \"text-align: right;\">78.49</td><td style = \"text-align: right;\">78.77</td><td style = \"text-align: right;\">76.54</td><td style = \"text-align: right;\">76.73</td><td style = \"text-align: right;\">4136360</td><td style = \"text-align: left;\">ZTS</td></tr><tr><td class = \"rowNumber\" style = \"font-weight: bold; text-align: right;\">619036</td><td style = \"text-align: left;\">2018-02-01</td><td style = \"text-align: right;\">76.84</td><td style = \"text-align: right;\">78.27</td><td style = \"text-align: right;\">76.69</td><td style = \"text-align: right;\">77.82</td><td style = \"text-align: right;\">2982259</td><td style = \"text-align: left;\">ZTS</td></tr><tr><td class = \"rowNumber\" style = \"font-weight: bold; text-align: right;\">619037</td><td style = \"text-align: left;\">2018-02-02</td><td style = \"text-align: right;\">77.53</td><td style = \"text-align: right;\">78.12</td><td style = \"text-align: right;\">76.73</td><td style = \"text-align: right;\">76.78</td><td style = \"text-align: right;\">2595187</td><td style = \"text-align: left;\">ZTS</td></tr><tr><td class = \"rowNumber\" style = \"font-weight: bold; text-align: right;\">619038</td><td style = \"text-align: left;\">2018-02-05</td><td style = \"text-align: right;\">76.64</td><td style = \"text-align: right;\">76.92</td><td style = \"text-align: right;\">73.18</td><td style = \"text-align: right;\">73.83</td><td style = \"text-align: right;\">2962031</td><td style = \"text-align: left;\">ZTS</td></tr><tr><td class = \"rowNumber\" style = \"font-weight: bold; text-align: right;\">619039</td><td style = \"text-align: left;\">2018-02-06</td><td style = \"text-align: right;\">72.74</td><td style = \"text-align: right;\">74.56</td><td style = \"text-align: right;\">72.13</td><td style = \"text-align: right;\">73.27</td><td style = \"text-align: right;\">4924323</td><td style = \"text-align: left;\">ZTS</td></tr><tr><td class = \"rowNumber\" style = \"font-weight: bold; text-align: right;\">619040</td><td style = \"text-align: left;\">2018-02-07</td><td style = \"text-align: right;\">72.7</td><td style = \"text-align: right;\">75.0</td><td style = \"text-align: right;\">72.69</td><td style = \"text-align: right;\">73.86</td><td style = \"text-align: right;\">4534912</td><td style = \"text-align: left;\">ZTS</td></tr></tbody></table></div>"
      ],
      "text/latex": [
       "\\begin{tabular}{r|ccccccc}\n",
       "\t& date & open & high & low & close & volume & Name\\\\\n",
       "\t\\hline\n",
       "\t& Date & Float64? & Float64? & Float64? & Float64 & Int64 & String7\\\\\n",
       "\t\\hline\n",
       "\t1 & 2013-02-08 & 15.07 & 15.12 & 14.63 & 14.75 & 8407500 & AAL \\\\\n",
       "\t2 & 2013-02-11 & 14.89 & 15.01 & 14.26 & 14.46 & 8882000 & AAL \\\\\n",
       "\t3 & 2013-02-12 & 14.45 & 14.51 & 14.1 & 14.27 & 8126000 & AAL \\\\\n",
       "\t4 & 2013-02-13 & 14.3 & 14.94 & 14.25 & 14.66 & 10259500 & AAL \\\\\n",
       "\t5 & 2013-02-14 & 14.94 & 14.96 & 13.16 & 13.99 & 31879900 & AAL \\\\\n",
       "\t6 & 2013-02-15 & 13.93 & 14.61 & 13.93 & 14.5 & 15628000 & AAL \\\\\n",
       "\t7 & 2013-02-19 & 14.33 & 14.56 & 14.08 & 14.26 & 11354400 & AAL \\\\\n",
       "\t8 & 2013-02-20 & 14.17 & 14.26 & 13.15 & 13.33 & 14725200 & AAL \\\\\n",
       "\t9 & 2013-02-21 & 13.62 & 13.95 & 12.9 & 13.37 & 11922100 & AAL \\\\\n",
       "\t10 & 2013-02-22 & 13.57 & 13.6 & 13.21 & 13.57 & 6071400 & AAL \\\\\n",
       "\t11 & 2013-02-25 & 13.6 & 13.76 & 13.0 & 13.02 & 7186400 & AAL \\\\\n",
       "\t12 & 2013-02-26 & 13.14 & 13.42 & 12.7 & 13.26 & 9419000 & AAL \\\\\n",
       "\t13 & 2013-02-27 & 13.28 & 13.62 & 13.18 & 13.41 & 7390500 & AAL \\\\\n",
       "\t14 & 2013-02-28 & 13.49 & 13.63 & 13.39 & 13.43 & 6143600 & AAL \\\\\n",
       "\t15 & 2013-03-01 & 13.37 & 13.95 & 13.32 & 13.61 & 7376800 & AAL \\\\\n",
       "\t16 & 2013-03-04 & 13.5 & 14.07 & 13.47 & 13.9 & 8174800 & AAL \\\\\n",
       "\t17 & 2013-03-05 & 14.01 & 14.05 & 13.71 & 14.05 & 7676100 & AAL \\\\\n",
       "\t18 & 2013-03-06 & 14.52 & 14.68 & 14.25 & 14.57 & 13243200 & AAL \\\\\n",
       "\t19 & 2013-03-07 & 14.7 & 14.93 & 14.5 & 14.82 & 9125300 & AAL \\\\\n",
       "\t20 & 2013-03-08 & 14.99 & 15.2 & 14.84 & 14.92 & 10593700 & AAL \\\\\n",
       "\t21 & 2013-03-11 & 14.85 & 15.15 & 14.71 & 15.13 & 6961800 & AAL \\\\\n",
       "\t22 & 2013-03-12 & 15.14 & 15.6 & 14.95 & 15.5 & 8999100 & AAL \\\\\n",
       "\t23 & 2013-03-13 & 15.54 & 16.2 & 15.48 & 15.91 & 11380000 & AAL \\\\\n",
       "\t24 & 2013-03-14 & 15.98 & 16.36 & 15.93 & 16.25 & 8383300 & AAL \\\\\n",
       "\t25 & 2013-03-15 & 16.45 & 16.54 & 15.88 & 15.98 & 17667700 & AAL \\\\\n",
       "\t26 & 2013-03-18 & 15.8 & 16.33 & 15.71 & 16.29 & 6514100 & AAL \\\\\n",
       "\t27 & 2013-03-19 & 16.48 & 16.85 & 16.41 & 16.78 & 11805300 & AAL \\\\\n",
       "\t28 & 2013-03-20 & 17.13 & 17.33 & 16.87 & 17.23 & 10819800 & AAL \\\\\n",
       "\t29 & 2013-03-21 & 17.21 & 17.43 & 16.87 & 17.0 & 10740800 & AAL \\\\\n",
       "\t30 & 2013-03-22 & 17.1 & 17.29 & 16.77 & 16.86 & 8545200 & AAL \\\\\n",
       "\t$\\dots$ & $\\dots$ & $\\dots$ & $\\dots$ & $\\dots$ & $\\dots$ & $\\dots$ & $\\dots$ \\\\\n",
       "\\end{tabular}\n"
      ],
      "text/plain": [
       "\u001b[1m619040×7 DataFrame\u001b[0m\n",
       "\u001b[1m    Row \u001b[0m│\u001b[1m date       \u001b[0m\u001b[1m open     \u001b[0m\u001b[1m high     \u001b[0m\u001b[1m low      \u001b[0m\u001b[1m close   \u001b[0m\u001b[1m volume   \u001b[0m\u001b[1m Name   \u001b[0m ⋯\n",
       "        │\u001b[90m Date       \u001b[0m\u001b[90m Float64? \u001b[0m\u001b[90m Float64? \u001b[0m\u001b[90m Float64? \u001b[0m\u001b[90m Float64 \u001b[0m\u001b[90m Int64    \u001b[0m\u001b[90m String7\u001b[0m ⋯\n",
       "────────┼───────────────────────────────────────────────────────────────────────\n",
       "      1 │ 2013-02-08     15.07     15.12    14.63     14.75   8407500  AAL     ⋯\n",
       "      2 │ 2013-02-11     14.89     15.01    14.26     14.46   8882000  AAL\n",
       "      3 │ 2013-02-12     14.45     14.51    14.1      14.27   8126000  AAL\n",
       "      4 │ 2013-02-13     14.3      14.94    14.25     14.66  10259500  AAL\n",
       "      5 │ 2013-02-14     14.94     14.96    13.16     13.99  31879900  AAL     ⋯\n",
       "      6 │ 2013-02-15     13.93     14.61    13.93     14.5   15628000  AAL\n",
       "      7 │ 2013-02-19     14.33     14.56    14.08     14.26  11354400  AAL\n",
       "      8 │ 2013-02-20     14.17     14.26    13.15     13.33  14725200  AAL\n",
       "      9 │ 2013-02-21     13.62     13.95    12.9      13.37  11922100  AAL     ⋯\n",
       "     10 │ 2013-02-22     13.57     13.6     13.21     13.57   6071400  AAL\n",
       "     11 │ 2013-02-25     13.6      13.76    13.0      13.02   7186400  AAL\n",
       "   ⋮    │     ⋮          ⋮         ⋮         ⋮         ⋮        ⋮         ⋮    ⋱\n",
       " 619031 │ 2018-01-25     78.47     79.38    78.345    79.25   2327262  ZTS\n",
       " 619032 │ 2018-01-26     79.49     80.13    79.38     80.09   2532808  ZTS     ⋯\n",
       " 619033 │ 2018-01-29     79.81     79.95    79.11     79.18   2662383  ZTS\n",
       " 619034 │ 2018-01-30     78.44     78.69    77.91     78.35   3808707  ZTS\n",
       " 619035 │ 2018-01-31     78.49     78.77    76.54     76.73   4136360  ZTS\n",
       " 619036 │ 2018-02-01     76.84     78.27    76.69     77.82   2982259  ZTS     ⋯\n",
       " 619037 │ 2018-02-02     77.53     78.12    76.73     76.78   2595187  ZTS\n",
       " 619038 │ 2018-02-05     76.64     76.92    73.18     73.83   2962031  ZTS\n",
       " 619039 │ 2018-02-06     72.74     74.56    72.13     73.27   4924323  ZTS\n",
       " 619040 │ 2018-02-07     72.7      75.0     72.69     73.86   4534912  ZTS     ⋯\n",
       "\u001b[36m                                                            619019 rows omitted\u001b[0m"
      ]
     },
     "execution_count": 8,
     "metadata": {},
     "output_type": "execute_result"
    }
   ],
   "source": [
    "x_df = CSV.read(\"data/all_stocks_5yr.csv\", DataFrame)"
   ]
  },
  {
   "cell_type": "code",
   "execution_count": 9,
   "id": "careful-religious",
   "metadata": {},
   "outputs": [],
   "source": [
    "# we will use \"close\" column\n",
    "# for the sake of example, we will use only 200 entries out of 619040\n",
    "x_data = filter(!ismissing, x_df[:, 5])[1:200];"
   ]
  },
  {
   "cell_type": "code",
   "execution_count": 10,
   "id": "funny-mustang",
   "metadata": {},
   "outputs": [
    {
     "data": {
      "image/svg+xml": [
       "<?xml version=\"1.0\" encoding=\"utf-8\"?>\n",
       "<svg xmlns=\"http://www.w3.org/2000/svg\" xmlns:xlink=\"http://www.w3.org/1999/xlink\" width=\"600\" height=\"400\" viewBox=\"0 0 2400 1600\">\n",
       "<defs>\n",
       "  <clipPath id=\"clip120\">\n",
       "    <rect x=\"0\" y=\"0\" width=\"2400\" height=\"1600\"/>\n",
       "  </clipPath>\n",
       "</defs>\n",
       "<path clip-path=\"url(#clip120)\" d=\"\n",
       "M0 1600 L2400 1600 L2400 0 L0 0  Z\n",
       "  \" fill=\"#ffffff\" fill-rule=\"evenodd\" fill-opacity=\"1\"/>\n",
       "<defs>\n",
       "  <clipPath id=\"clip121\">\n",
       "    <rect x=\"480\" y=\"0\" width=\"1681\" height=\"1600\"/>\n",
       "  </clipPath>\n",
       "</defs>\n",
       "<path clip-path=\"url(#clip120)\" d=\"\n",
       "M249.195 1423.18 L2352.76 1423.18 L2352.76 47.2441 L249.195 47.2441  Z\n",
       "  \" fill=\"#ffffff\" fill-rule=\"evenodd\" fill-opacity=\"1\"/>\n",
       "<defs>\n",
       "  <clipPath id=\"clip122\">\n",
       "    <rect x=\"249\" y=\"47\" width=\"2105\" height=\"1377\"/>\n",
       "  </clipPath>\n",
       "</defs>\n",
       "<polyline clip-path=\"url(#clip122)\" style=\"stroke:#000000; stroke-linecap:round; stroke-linejoin:round; stroke-width:2; stroke-opacity:0.1; fill:none\" points=\"\n",
       "  298.757,1423.18 298.757,47.2441 \n",
       "  \"/>\n",
       "<polyline clip-path=\"url(#clip122)\" style=\"stroke:#000000; stroke-linecap:round; stroke-linejoin:round; stroke-width:2; stroke-opacity:0.1; fill:none\" points=\"\n",
       "  797.373,1423.18 797.373,47.2441 \n",
       "  \"/>\n",
       "<polyline clip-path=\"url(#clip122)\" style=\"stroke:#000000; stroke-linecap:round; stroke-linejoin:round; stroke-width:2; stroke-opacity:0.1; fill:none\" points=\"\n",
       "  1295.99,1423.18 1295.99,47.2441 \n",
       "  \"/>\n",
       "<polyline clip-path=\"url(#clip122)\" style=\"stroke:#000000; stroke-linecap:round; stroke-linejoin:round; stroke-width:2; stroke-opacity:0.1; fill:none\" points=\"\n",
       "  1794.61,1423.18 1794.61,47.2441 \n",
       "  \"/>\n",
       "<polyline clip-path=\"url(#clip122)\" style=\"stroke:#000000; stroke-linecap:round; stroke-linejoin:round; stroke-width:2; stroke-opacity:0.1; fill:none\" points=\"\n",
       "  2293.22,1423.18 2293.22,47.2441 \n",
       "  \"/>\n",
       "<polyline clip-path=\"url(#clip120)\" style=\"stroke:#000000; stroke-linecap:round; stroke-linejoin:round; stroke-width:4; stroke-opacity:1; fill:none\" points=\"\n",
       "  249.195,1423.18 2352.76,1423.18 \n",
       "  \"/>\n",
       "<polyline clip-path=\"url(#clip120)\" style=\"stroke:#000000; stroke-linecap:round; stroke-linejoin:round; stroke-width:4; stroke-opacity:1; fill:none\" points=\"\n",
       "  298.757,1423.18 298.757,1404.28 \n",
       "  \"/>\n",
       "<polyline clip-path=\"url(#clip120)\" style=\"stroke:#000000; stroke-linecap:round; stroke-linejoin:round; stroke-width:4; stroke-opacity:1; fill:none\" points=\"\n",
       "  797.373,1423.18 797.373,1404.28 \n",
       "  \"/>\n",
       "<polyline clip-path=\"url(#clip120)\" style=\"stroke:#000000; stroke-linecap:round; stroke-linejoin:round; stroke-width:4; stroke-opacity:1; fill:none\" points=\"\n",
       "  1295.99,1423.18 1295.99,1404.28 \n",
       "  \"/>\n",
       "<polyline clip-path=\"url(#clip120)\" style=\"stroke:#000000; stroke-linecap:round; stroke-linejoin:round; stroke-width:4; stroke-opacity:1; fill:none\" points=\"\n",
       "  1794.61,1423.18 1794.61,1404.28 \n",
       "  \"/>\n",
       "<polyline clip-path=\"url(#clip120)\" style=\"stroke:#000000; stroke-linecap:round; stroke-linejoin:round; stroke-width:4; stroke-opacity:1; fill:none\" points=\"\n",
       "  2293.22,1423.18 2293.22,1404.28 \n",
       "  \"/>\n",
       "<path clip-path=\"url(#clip120)\" d=\"M298.757 1454.1 Q295.146 1454.1 293.317 1457.66 Q291.512 1461.2 291.512 1468.33 Q291.512 1475.44 293.317 1479.01 Q295.146 1482.55 298.757 1482.55 Q302.391 1482.55 304.197 1479.01 Q306.026 1475.44 306.026 1468.33 Q306.026 1461.2 304.197 1457.66 Q302.391 1454.1 298.757 1454.1 M298.757 1450.39 Q304.567 1450.39 307.623 1455 Q310.702 1459.58 310.702 1468.33 Q310.702 1477.06 307.623 1481.67 Q304.567 1486.25 298.757 1486.25 Q292.947 1486.25 289.868 1481.67 Q286.813 1477.06 286.813 1468.33 Q286.813 1459.58 289.868 1455 Q292.947 1450.39 298.757 1450.39 Z\" fill=\"#000000\" fill-rule=\"evenodd\" fill-opacity=\"1\" /><path clip-path=\"url(#clip120)\" d=\"M772.072 1451.02 L790.429 1451.02 L790.429 1454.96 L776.355 1454.96 L776.355 1463.43 Q777.373 1463.08 778.392 1462.92 Q779.41 1462.73 780.429 1462.73 Q786.216 1462.73 789.595 1465.9 Q792.975 1469.08 792.975 1474.49 Q792.975 1480.07 789.503 1483.17 Q786.031 1486.25 779.711 1486.25 Q777.535 1486.25 775.267 1485.88 Q773.021 1485.51 770.614 1484.77 L770.614 1480.07 Q772.697 1481.2 774.92 1481.76 Q777.142 1482.32 779.619 1482.32 Q783.623 1482.32 785.961 1480.21 Q788.299 1478.1 788.299 1474.49 Q788.299 1470.88 785.961 1468.77 Q783.623 1466.67 779.619 1466.67 Q777.744 1466.67 775.869 1467.08 Q774.017 1467.5 772.072 1468.38 L772.072 1451.02 Z\" fill=\"#000000\" fill-rule=\"evenodd\" fill-opacity=\"1\" /><path clip-path=\"url(#clip120)\" d=\"M812.188 1454.1 Q808.577 1454.1 806.748 1457.66 Q804.943 1461.2 804.943 1468.33 Q804.943 1475.44 806.748 1479.01 Q808.577 1482.55 812.188 1482.55 Q815.822 1482.55 817.628 1479.01 Q819.456 1475.44 819.456 1468.33 Q819.456 1461.2 817.628 1457.66 Q815.822 1454.1 812.188 1454.1 M812.188 1450.39 Q817.998 1450.39 821.054 1455 Q824.132 1459.58 824.132 1468.33 Q824.132 1477.06 821.054 1481.67 Q817.998 1486.25 812.188 1486.25 Q806.378 1486.25 803.299 1481.67 Q800.244 1477.06 800.244 1468.33 Q800.244 1459.58 803.299 1455 Q806.378 1450.39 812.188 1450.39 Z\" fill=\"#000000\" fill-rule=\"evenodd\" fill-opacity=\"1\" /><path clip-path=\"url(#clip120)\" d=\"M1255.6 1481.64 L1263.23 1481.64 L1263.23 1455.28 L1254.92 1456.95 L1254.92 1452.69 L1263.19 1451.02 L1267.86 1451.02 L1267.86 1481.64 L1275.5 1481.64 L1275.5 1485.58 L1255.6 1485.58 L1255.6 1481.64 Z\" fill=\"#000000\" fill-rule=\"evenodd\" fill-opacity=\"1\" /><path clip-path=\"url(#clip120)\" d=\"M1294.95 1454.1 Q1291.34 1454.1 1289.51 1457.66 Q1287.7 1461.2 1287.7 1468.33 Q1287.7 1475.44 1289.51 1479.01 Q1291.34 1482.55 1294.95 1482.55 Q1298.58 1482.55 1300.39 1479.01 Q1302.22 1475.44 1302.22 1468.33 Q1302.22 1461.2 1300.39 1457.66 Q1298.58 1454.1 1294.95 1454.1 M1294.95 1450.39 Q1300.76 1450.39 1303.81 1455 Q1306.89 1459.58 1306.89 1468.33 Q1306.89 1477.06 1303.81 1481.67 Q1300.76 1486.25 1294.95 1486.25 Q1289.14 1486.25 1286.06 1481.67 Q1283 1477.06 1283 1468.33 Q1283 1459.58 1286.06 1455 Q1289.14 1450.39 1294.95 1450.39 Z\" fill=\"#000000\" fill-rule=\"evenodd\" fill-opacity=\"1\" /><path clip-path=\"url(#clip120)\" d=\"M1325.11 1454.1 Q1321.5 1454.1 1319.67 1457.66 Q1317.86 1461.2 1317.86 1468.33 Q1317.86 1475.44 1319.67 1479.01 Q1321.5 1482.55 1325.11 1482.55 Q1328.74 1482.55 1330.55 1479.01 Q1332.38 1475.44 1332.38 1468.33 Q1332.38 1461.2 1330.55 1457.66 Q1328.74 1454.1 1325.11 1454.1 M1325.11 1450.39 Q1330.92 1450.39 1333.98 1455 Q1337.05 1459.58 1337.05 1468.33 Q1337.05 1477.06 1333.98 1481.67 Q1330.92 1486.25 1325.11 1486.25 Q1319.3 1486.25 1316.22 1481.67 Q1313.17 1477.06 1313.17 1468.33 Q1313.17 1459.58 1316.22 1455 Q1319.3 1450.39 1325.11 1450.39 Z\" fill=\"#000000\" fill-rule=\"evenodd\" fill-opacity=\"1\" /><path clip-path=\"url(#clip120)\" d=\"M1754.21 1481.64 L1761.85 1481.64 L1761.85 1455.28 L1753.54 1456.95 L1753.54 1452.69 L1761.8 1451.02 L1766.48 1451.02 L1766.48 1481.64 L1774.12 1481.64 L1774.12 1485.58 L1754.21 1485.58 L1754.21 1481.64 Z\" fill=\"#000000\" fill-rule=\"evenodd\" fill-opacity=\"1\" /><path clip-path=\"url(#clip120)\" d=\"M1783.61 1451.02 L1801.97 1451.02 L1801.97 1454.96 L1787.89 1454.96 L1787.89 1463.43 Q1788.91 1463.08 1789.93 1462.92 Q1790.95 1462.73 1791.97 1462.73 Q1797.75 1462.73 1801.13 1465.9 Q1804.51 1469.08 1804.51 1474.49 Q1804.51 1480.07 1801.04 1483.17 Q1797.57 1486.25 1791.25 1486.25 Q1789.07 1486.25 1786.8 1485.88 Q1784.56 1485.51 1782.15 1484.77 L1782.15 1480.07 Q1784.23 1481.2 1786.46 1481.76 Q1788.68 1482.32 1791.16 1482.32 Q1795.16 1482.32 1797.5 1480.21 Q1799.84 1478.1 1799.84 1474.49 Q1799.84 1470.88 1797.5 1468.77 Q1795.16 1466.67 1791.16 1466.67 Q1789.28 1466.67 1787.41 1467.08 Q1785.55 1467.5 1783.61 1468.38 L1783.61 1451.02 Z\" fill=\"#000000\" fill-rule=\"evenodd\" fill-opacity=\"1\" /><path clip-path=\"url(#clip120)\" d=\"M1823.73 1454.1 Q1820.11 1454.1 1818.29 1457.66 Q1816.48 1461.2 1816.48 1468.33 Q1816.48 1475.44 1818.29 1479.01 Q1820.11 1482.55 1823.73 1482.55 Q1827.36 1482.55 1829.17 1479.01 Q1830.99 1475.44 1830.99 1468.33 Q1830.99 1461.2 1829.17 1457.66 Q1827.36 1454.1 1823.73 1454.1 M1823.73 1450.39 Q1829.54 1450.39 1832.59 1455 Q1835.67 1459.58 1835.67 1468.33 Q1835.67 1477.06 1832.59 1481.67 Q1829.54 1486.25 1823.73 1486.25 Q1817.92 1486.25 1814.84 1481.67 Q1811.78 1477.06 1811.78 1468.33 Q1811.78 1459.58 1814.84 1455 Q1817.92 1450.39 1823.73 1450.39 Z\" fill=\"#000000\" fill-rule=\"evenodd\" fill-opacity=\"1\" /><path clip-path=\"url(#clip120)\" d=\"M2256.91 1481.64 L2273.23 1481.64 L2273.23 1485.58 L2251.29 1485.58 L2251.29 1481.64 Q2253.95 1478.89 2258.53 1474.26 Q2263.14 1469.61 2264.32 1468.27 Q2266.57 1465.74 2267.45 1464.01 Q2268.35 1462.25 2268.35 1460.56 Q2268.35 1457.8 2266.4 1456.07 Q2264.48 1454.33 2261.38 1454.33 Q2259.18 1454.33 2256.73 1455.09 Q2254.3 1455.86 2251.52 1457.41 L2251.52 1452.69 Q2254.34 1451.55 2256.8 1450.97 Q2259.25 1450.39 2261.29 1450.39 Q2266.66 1450.39 2269.85 1453.08 Q2273.05 1455.77 2273.05 1460.26 Q2273.05 1462.39 2272.24 1464.31 Q2271.45 1466.2 2269.34 1468.8 Q2268.77 1469.47 2265.66 1472.69 Q2262.56 1475.88 2256.91 1481.64 Z\" fill=\"#000000\" fill-rule=\"evenodd\" fill-opacity=\"1\" /><path clip-path=\"url(#clip120)\" d=\"M2293.05 1454.1 Q2289.44 1454.1 2287.61 1457.66 Q2285.8 1461.2 2285.8 1468.33 Q2285.8 1475.44 2287.61 1479.01 Q2289.44 1482.55 2293.05 1482.55 Q2296.68 1482.55 2298.49 1479.01 Q2300.32 1475.44 2300.32 1468.33 Q2300.32 1461.2 2298.49 1457.66 Q2296.68 1454.1 2293.05 1454.1 M2293.05 1450.39 Q2298.86 1450.39 2301.91 1455 Q2304.99 1459.58 2304.99 1468.33 Q2304.99 1477.06 2301.91 1481.67 Q2298.86 1486.25 2293.05 1486.25 Q2287.24 1486.25 2284.16 1481.67 Q2281.1 1477.06 2281.1 1468.33 Q2281.1 1459.58 2284.16 1455 Q2287.24 1450.39 2293.05 1450.39 Z\" fill=\"#000000\" fill-rule=\"evenodd\" fill-opacity=\"1\" /><path clip-path=\"url(#clip120)\" d=\"M2323.21 1454.1 Q2319.6 1454.1 2317.77 1457.66 Q2315.96 1461.2 2315.96 1468.33 Q2315.96 1475.44 2317.77 1479.01 Q2319.6 1482.55 2323.21 1482.55 Q2326.84 1482.55 2328.65 1479.01 Q2330.48 1475.44 2330.48 1468.33 Q2330.48 1461.2 2328.65 1457.66 Q2326.84 1454.1 2323.21 1454.1 M2323.21 1450.39 Q2329.02 1450.39 2332.08 1455 Q2335.15 1459.58 2335.15 1468.33 Q2335.15 1477.06 2332.08 1481.67 Q2329.02 1486.25 2323.21 1486.25 Q2317.4 1486.25 2314.32 1481.67 Q2311.27 1477.06 2311.27 1468.33 Q2311.27 1459.58 2314.32 1455 Q2317.4 1450.39 2323.21 1450.39 Z\" fill=\"#000000\" fill-rule=\"evenodd\" fill-opacity=\"1\" /><path clip-path=\"url(#clip120)\" d=\"M1269.8 1537.81 L1269.8 1518.52 L1275.66 1518.52 L1275.66 1568.04 L1269.8 1568.04 L1269.8 1562.7 Q1267.95 1565.88 1265.12 1567.44 Q1262.32 1568.97 1258.37 1568.97 Q1251.91 1568.97 1247.84 1563.81 Q1243.8 1558.65 1243.8 1550.25 Q1243.8 1541.85 1247.84 1536.69 Q1251.91 1531.54 1258.37 1531.54 Q1262.32 1531.54 1265.12 1533.1 Q1267.95 1534.62 1269.8 1537.81 M1249.84 1550.25 Q1249.84 1556.71 1252.48 1560.4 Q1255.16 1564.07 1259.81 1564.07 Q1264.45 1564.07 1267.13 1560.4 Q1269.8 1556.71 1269.8 1550.25 Q1269.8 1543.79 1267.13 1540.13 Q1264.45 1536.44 1259.81 1536.44 Q1255.16 1536.44 1252.48 1540.13 Q1249.84 1543.79 1249.84 1550.25 Z\" fill=\"#000000\" fill-rule=\"evenodd\" fill-opacity=\"1\" /><path clip-path=\"url(#clip120)\" d=\"M1303.92 1550.12 Q1296.82 1550.12 1294.08 1551.75 Q1291.35 1553.37 1291.35 1557.29 Q1291.35 1560.4 1293.38 1562.25 Q1295.45 1564.07 1298.99 1564.07 Q1303.86 1564.07 1306.78 1560.63 Q1309.74 1557.16 1309.74 1551.43 L1309.74 1550.12 L1303.92 1550.12 M1315.6 1547.71 L1315.6 1568.04 L1309.74 1568.04 L1309.74 1562.63 Q1307.74 1565.88 1304.75 1567.44 Q1301.76 1568.97 1297.43 1568.97 Q1291.95 1568.97 1288.71 1565.91 Q1285.49 1562.82 1285.49 1557.67 Q1285.49 1551.65 1289.5 1548.6 Q1293.54 1545.54 1301.53 1545.54 L1309.74 1545.54 L1309.74 1544.97 Q1309.74 1540.93 1307.07 1538.73 Q1304.43 1536.5 1299.62 1536.5 Q1296.57 1536.5 1293.67 1537.23 Q1290.77 1537.97 1288.1 1539.43 L1288.1 1534.02 Q1291.32 1532.78 1294.34 1532.17 Q1297.36 1531.54 1300.23 1531.54 Q1307.96 1531.54 1311.78 1535.55 Q1315.6 1539.56 1315.6 1547.71 Z\" fill=\"#000000\" fill-rule=\"evenodd\" fill-opacity=\"1\" /><path clip-path=\"url(#clip120)\" d=\"M1342.5 1571.35 Q1340.01 1577.72 1337.66 1579.66 Q1335.3 1581.6 1331.36 1581.6 L1326.68 1581.6 L1326.68 1576.7 L1330.11 1576.7 Q1332.53 1576.7 1333.87 1575.56 Q1335.21 1574.41 1336.83 1570.14 L1337.88 1567.47 L1323.46 1532.4 L1329.67 1532.4 L1340.81 1560.28 L1351.95 1532.4 L1358.16 1532.4 L1342.5 1571.35 Z\" fill=\"#000000\" fill-rule=\"evenodd\" fill-opacity=\"1\" /><polyline clip-path=\"url(#clip122)\" style=\"stroke:#000000; stroke-linecap:round; stroke-linejoin:round; stroke-width:2; stroke-opacity:0.1; fill:none\" points=\"\n",
       "  249.195,1158.39 2352.76,1158.39 \n",
       "  \"/>\n",
       "<polyline clip-path=\"url(#clip122)\" style=\"stroke:#000000; stroke-linecap:round; stroke-linejoin:round; stroke-width:2; stroke-opacity:0.1; fill:none\" points=\"\n",
       "  249.195,873.23 2352.76,873.23 \n",
       "  \"/>\n",
       "<polyline clip-path=\"url(#clip122)\" style=\"stroke:#000000; stroke-linecap:round; stroke-linejoin:round; stroke-width:2; stroke-opacity:0.1; fill:none\" points=\"\n",
       "  249.195,588.069 2352.76,588.069 \n",
       "  \"/>\n",
       "<polyline clip-path=\"url(#clip122)\" style=\"stroke:#000000; stroke-linecap:round; stroke-linejoin:round; stroke-width:2; stroke-opacity:0.1; fill:none\" points=\"\n",
       "  249.195,302.908 2352.76,302.908 \n",
       "  \"/>\n",
       "<polyline clip-path=\"url(#clip120)\" style=\"stroke:#000000; stroke-linecap:round; stroke-linejoin:round; stroke-width:4; stroke-opacity:1; fill:none\" points=\"\n",
       "  249.195,1423.18 249.195,47.2441 \n",
       "  \"/>\n",
       "<polyline clip-path=\"url(#clip120)\" style=\"stroke:#000000; stroke-linecap:round; stroke-linejoin:round; stroke-width:4; stroke-opacity:1; fill:none\" points=\"\n",
       "  249.195,1158.39 268.092,1158.39 \n",
       "  \"/>\n",
       "<polyline clip-path=\"url(#clip120)\" style=\"stroke:#000000; stroke-linecap:round; stroke-linejoin:round; stroke-width:4; stroke-opacity:1; fill:none\" points=\"\n",
       "  249.195,873.23 268.092,873.23 \n",
       "  \"/>\n",
       "<polyline clip-path=\"url(#clip120)\" style=\"stroke:#000000; stroke-linecap:round; stroke-linejoin:round; stroke-width:4; stroke-opacity:1; fill:none\" points=\"\n",
       "  249.195,588.069 268.092,588.069 \n",
       "  \"/>\n",
       "<polyline clip-path=\"url(#clip120)\" style=\"stroke:#000000; stroke-linecap:round; stroke-linejoin:round; stroke-width:4; stroke-opacity:1; fill:none\" points=\"\n",
       "  249.195,302.908 268.092,302.908 \n",
       "  \"/>\n",
       "<path clip-path=\"url(#clip120)\" d=\"M116.668 1171.74 L124.306 1171.74 L124.306 1145.37 L115.996 1147.04 L115.996 1142.78 L124.26 1141.11 L128.936 1141.11 L128.936 1171.74 L136.575 1171.74 L136.575 1175.67 L116.668 1175.67 L116.668 1171.74 Z\" fill=\"#000000\" fill-rule=\"evenodd\" fill-opacity=\"1\" /><path clip-path=\"url(#clip120)\" d=\"M146.066 1141.11 L164.422 1141.11 L164.422 1145.05 L150.348 1145.05 L150.348 1153.52 Q151.366 1153.17 152.385 1153.01 Q153.403 1152.82 154.422 1152.82 Q160.209 1152.82 163.589 1155.99 Q166.968 1159.17 166.968 1164.58 Q166.968 1170.16 163.496 1173.26 Q160.024 1176.34 153.704 1176.34 Q151.528 1176.34 149.26 1175.97 Q147.015 1175.6 144.607 1174.86 L144.607 1170.16 Q146.691 1171.3 148.913 1171.85 Q151.135 1172.41 153.612 1172.41 Q157.616 1172.41 159.954 1170.3 Q162.292 1168.19 162.292 1164.58 Q162.292 1160.97 159.954 1158.87 Q157.616 1156.76 153.612 1156.76 Q151.737 1156.76 149.862 1157.18 Q148.01 1157.59 146.066 1158.47 L146.066 1141.11 Z\" fill=\"#000000\" fill-rule=\"evenodd\" fill-opacity=\"1\" /><path clip-path=\"url(#clip120)\" d=\"M176.181 1169.79 L181.065 1169.79 L181.065 1175.67 L176.181 1175.67 L176.181 1169.79 Z\" fill=\"#000000\" fill-rule=\"evenodd\" fill-opacity=\"1\" /><path clip-path=\"url(#clip120)\" d=\"M201.25 1144.19 Q197.639 1144.19 195.811 1147.75 Q194.005 1151.3 194.005 1158.43 Q194.005 1165.53 195.811 1169.1 Q197.639 1172.64 201.25 1172.64 Q204.885 1172.64 206.69 1169.1 Q208.519 1165.53 208.519 1158.43 Q208.519 1151.3 206.69 1147.75 Q204.885 1144.19 201.25 1144.19 M201.25 1140.49 Q207.061 1140.49 210.116 1145.09 Q213.195 1149.68 213.195 1158.43 Q213.195 1167.15 210.116 1171.76 Q207.061 1176.34 201.25 1176.34 Q195.44 1176.34 192.362 1171.76 Q189.306 1167.15 189.306 1158.43 Q189.306 1149.68 192.362 1145.09 Q195.44 1140.49 201.25 1140.49 Z\" fill=\"#000000\" fill-rule=\"evenodd\" fill-opacity=\"1\" /><path clip-path=\"url(#clip120)\" d=\"M117.663 886.575 L125.302 886.575 L125.302 860.209 L116.992 861.876 L116.992 857.617 L125.255 855.95 L129.931 855.95 L129.931 886.575 L137.57 886.575 L137.57 890.51 L117.663 890.51 L117.663 886.575 Z\" fill=\"#000000\" fill-rule=\"evenodd\" fill-opacity=\"1\" /><path clip-path=\"url(#clip120)\" d=\"M145.834 855.95 L168.056 855.95 L168.056 857.941 L155.51 890.51 L150.626 890.51 L162.431 859.885 L145.834 859.885 L145.834 855.95 Z\" fill=\"#000000\" fill-rule=\"evenodd\" fill-opacity=\"1\" /><path clip-path=\"url(#clip120)\" d=\"M177.176 884.63 L182.061 884.63 L182.061 890.51 L177.176 890.51 L177.176 884.63 Z\" fill=\"#000000\" fill-rule=\"evenodd\" fill-opacity=\"1\" /><path clip-path=\"url(#clip120)\" d=\"M192.292 855.95 L210.649 855.95 L210.649 859.885 L196.575 859.885 L196.575 868.357 Q197.593 868.01 198.612 867.848 Q199.63 867.663 200.649 867.663 Q206.436 867.663 209.815 870.834 Q213.195 874.005 213.195 879.422 Q213.195 885.001 209.723 888.102 Q206.25 891.181 199.931 891.181 Q197.755 891.181 195.487 890.811 Q193.241 890.44 190.834 889.7 L190.834 885.001 Q192.917 886.135 195.139 886.69 Q197.362 887.246 199.838 887.246 Q203.843 887.246 206.181 885.14 Q208.519 883.033 208.519 879.422 Q208.519 875.811 206.181 873.704 Q203.843 871.598 199.838 871.598 Q197.963 871.598 196.088 872.015 Q194.237 872.431 192.292 873.311 L192.292 855.95 Z\" fill=\"#000000\" fill-rule=\"evenodd\" fill-opacity=\"1\" /><path clip-path=\"url(#clip120)\" d=\"M119.885 601.414 L136.204 601.414 L136.204 605.349 L114.26 605.349 L114.26 601.414 Q116.922 598.659 121.505 594.03 Q126.112 589.377 127.292 588.034 Q129.538 585.511 130.417 583.775 Q131.32 582.016 131.32 580.326 Q131.32 577.571 129.376 575.835 Q127.455 574.099 124.353 574.099 Q122.154 574.099 119.7 574.863 Q117.269 575.627 114.492 577.178 L114.492 572.456 Q117.316 571.321 119.769 570.743 Q122.223 570.164 124.26 570.164 Q129.63 570.164 132.825 572.849 Q136.019 575.534 136.019 580.025 Q136.019 582.155 135.209 584.076 Q134.422 585.974 132.316 588.567 Q131.737 589.238 128.635 592.455 Q125.533 595.65 119.885 601.414 Z\" fill=\"#000000\" fill-rule=\"evenodd\" fill-opacity=\"1\" /><path clip-path=\"url(#clip120)\" d=\"M156.019 573.868 Q152.408 573.868 150.579 577.432 Q148.774 580.974 148.774 588.104 Q148.774 595.21 150.579 598.775 Q152.408 602.317 156.019 602.317 Q159.653 602.317 161.459 598.775 Q163.288 595.21 163.288 588.104 Q163.288 580.974 161.459 577.432 Q159.653 573.868 156.019 573.868 M156.019 570.164 Q161.829 570.164 164.885 574.77 Q167.964 579.354 167.964 588.104 Q167.964 596.83 164.885 601.437 Q161.829 606.02 156.019 606.02 Q150.209 606.02 147.13 601.437 Q144.075 596.83 144.075 588.104 Q144.075 579.354 147.13 574.77 Q150.209 570.164 156.019 570.164 Z\" fill=\"#000000\" fill-rule=\"evenodd\" fill-opacity=\"1\" /><path clip-path=\"url(#clip120)\" d=\"M176.181 599.469 L181.065 599.469 L181.065 605.349 L176.181 605.349 L176.181 599.469 Z\" fill=\"#000000\" fill-rule=\"evenodd\" fill-opacity=\"1\" /><path clip-path=\"url(#clip120)\" d=\"M201.25 573.868 Q197.639 573.868 195.811 577.432 Q194.005 580.974 194.005 588.104 Q194.005 595.21 195.811 598.775 Q197.639 602.317 201.25 602.317 Q204.885 602.317 206.69 598.775 Q208.519 595.21 208.519 588.104 Q208.519 580.974 206.69 577.432 Q204.885 573.868 201.25 573.868 M201.25 570.164 Q207.061 570.164 210.116 574.77 Q213.195 579.354 213.195 588.104 Q213.195 596.83 210.116 601.437 Q207.061 606.02 201.25 606.02 Q195.44 606.02 192.362 601.437 Q189.306 596.83 189.306 588.104 Q189.306 579.354 192.362 574.77 Q195.44 570.164 201.25 570.164 Z\" fill=\"#000000\" fill-rule=\"evenodd\" fill-opacity=\"1\" /><path clip-path=\"url(#clip120)\" d=\"M120.88 316.253 L137.2 316.253 L137.2 320.188 L115.256 320.188 L115.256 316.253 Q117.918 313.498 122.501 308.869 Q127.107 304.216 128.288 302.873 Q130.533 300.35 131.413 298.614 Q132.316 296.855 132.316 295.165 Q132.316 292.41 130.371 290.674 Q128.45 288.938 125.348 288.938 Q123.149 288.938 120.695 289.702 Q118.265 290.466 115.487 292.017 L115.487 287.295 Q118.311 286.16 120.765 285.582 Q123.218 285.003 125.255 285.003 Q130.626 285.003 133.82 287.688 Q137.015 290.373 137.015 294.864 Q137.015 296.994 136.204 298.915 Q135.417 300.813 133.311 303.406 Q132.732 304.077 129.63 307.295 Q126.529 310.489 120.88 316.253 Z\" fill=\"#000000\" fill-rule=\"evenodd\" fill-opacity=\"1\" /><path clip-path=\"url(#clip120)\" d=\"M151.042 316.253 L167.362 316.253 L167.362 320.188 L145.417 320.188 L145.417 316.253 Q148.079 313.498 152.663 308.869 Q157.269 304.216 158.45 302.873 Q160.695 300.35 161.575 298.614 Q162.477 296.855 162.477 295.165 Q162.477 292.41 160.533 290.674 Q158.612 288.938 155.51 288.938 Q153.311 288.938 150.857 289.702 Q148.427 290.466 145.649 292.017 L145.649 287.295 Q148.473 286.16 150.927 285.582 Q153.38 285.003 155.417 285.003 Q160.788 285.003 163.982 287.688 Q167.177 290.373 167.177 294.864 Q167.177 296.994 166.366 298.915 Q165.579 300.813 163.473 303.406 Q162.894 304.077 159.792 307.295 Q156.69 310.489 151.042 316.253 Z\" fill=\"#000000\" fill-rule=\"evenodd\" fill-opacity=\"1\" /><path clip-path=\"url(#clip120)\" d=\"M177.176 314.308 L182.061 314.308 L182.061 320.188 L177.176 320.188 L177.176 314.308 Z\" fill=\"#000000\" fill-rule=\"evenodd\" fill-opacity=\"1\" /><path clip-path=\"url(#clip120)\" d=\"M192.292 285.628 L210.649 285.628 L210.649 289.563 L196.575 289.563 L196.575 298.035 Q197.593 297.688 198.612 297.526 Q199.63 297.341 200.649 297.341 Q206.436 297.341 209.815 300.512 Q213.195 303.683 213.195 309.1 Q213.195 314.679 209.723 317.781 Q206.25 320.859 199.931 320.859 Q197.755 320.859 195.487 320.489 Q193.241 320.119 190.834 319.378 L190.834 314.679 Q192.917 315.813 195.139 316.369 Q197.362 316.924 199.838 316.924 Q203.843 316.924 206.181 314.818 Q208.519 312.711 208.519 309.1 Q208.519 305.489 206.181 303.383 Q203.843 301.276 199.838 301.276 Q197.963 301.276 196.088 301.693 Q194.237 302.109 192.292 302.989 L192.292 285.628 Z\" fill=\"#000000\" fill-rule=\"evenodd\" fill-opacity=\"1\" /><path clip-path=\"url(#clip120)\" d=\"M58.657 805.744 L77.5631 805.744 L77.5631 811.632 L28.3562 811.632 L28.3562 805.744 L33.7671 805.744 Q30.5842 803.898 29.0564 801.097 Q27.4968 798.264 27.4968 794.349 Q27.4968 787.856 32.6531 783.814 Q37.8093 779.74 46.212 779.74 Q54.6147 779.74 59.771 783.814 Q64.9272 787.856 64.9272 794.349 Q64.9272 798.264 63.3994 801.097 Q61.8398 803.898 58.657 805.744 M46.212 785.819 Q39.7508 785.819 36.0905 788.493 Q32.3984 791.135 32.3984 795.782 Q32.3984 800.429 36.0905 803.102 Q39.7508 805.744 46.212 805.744 Q52.6732 805.744 56.3653 803.102 Q60.0256 800.429 60.0256 795.782 Q60.0256 791.135 56.3653 788.493 Q52.6732 785.819 46.212 785.819 Z\" fill=\"#000000\" fill-rule=\"evenodd\" fill-opacity=\"1\" /><path clip-path=\"url(#clip120)\" d=\"M33.8307 749.376 Q33.2578 750.362 33.0032 751.54 Q32.7167 752.686 32.7167 754.086 Q32.7167 759.052 35.9632 761.725 Q39.1779 764.367 45.2253 764.367 L64.0042 764.367 L64.0042 770.255 L28.3562 770.255 L28.3562 764.367 L33.8944 764.367 Q30.6479 762.521 29.0883 759.561 Q27.4968 756.601 27.4968 752.368 Q27.4968 751.763 27.5923 751.031 Q27.656 750.299 27.8151 749.407 L33.8307 749.376 Z\" fill=\"#000000\" fill-rule=\"evenodd\" fill-opacity=\"1\" /><path clip-path=\"url(#clip120)\" d=\"M28.3562 743.233 L28.3562 737.376 L64.0042 737.376 L64.0042 743.233 L28.3562 743.233 M14.479 743.233 L14.479 737.376 L21.895 737.376 L21.895 743.233 L14.479 743.233 Z\" fill=\"#000000\" fill-rule=\"evenodd\" fill-opacity=\"1\" /><path clip-path=\"url(#clip120)\" d=\"M29.7248 699.469 L35.1993 699.469 Q33.8307 701.951 33.1623 704.466 Q32.4621 706.948 32.4621 709.495 Q32.4621 715.192 36.0905 718.343 Q39.6872 721.494 46.212 721.494 Q52.7369 721.494 56.3653 718.343 Q59.9619 715.192 59.9619 709.495 Q59.9619 706.948 59.2935 704.466 Q58.5933 701.951 57.2247 699.469 L62.6355 699.469 Q63.7814 701.919 64.3543 704.561 Q64.9272 707.171 64.9272 710.131 Q64.9272 718.184 59.8664 722.926 Q54.8057 727.669 46.212 727.669 Q37.491 727.669 32.4939 722.894 Q27.4968 718.088 27.4968 709.749 Q27.4968 707.044 28.0697 704.466 Q28.6108 701.887 29.7248 699.469 Z\" fill=\"#000000\" fill-rule=\"evenodd\" fill-opacity=\"1\" /><path clip-path=\"url(#clip120)\" d=\"M44.7161 658.792 L47.5806 658.792 L47.5806 685.719 Q53.6281 685.337 56.8109 682.09 Q59.9619 678.812 59.9619 672.987 Q59.9619 669.613 59.1344 666.462 Q58.3069 663.279 56.6518 660.16 L62.1899 660.16 Q63.5267 663.311 64.227 666.621 Q64.9272 669.932 64.9272 673.337 Q64.9272 681.867 59.9619 686.864 Q54.9967 691.83 46.5303 691.83 Q37.7774 691.83 32.6531 687.119 Q27.4968 682.377 27.4968 674.356 Q27.4968 667.163 32.1438 662.993 Q36.7589 658.792 44.7161 658.792 M42.9973 664.648 Q38.1912 664.712 35.3266 667.354 Q32.4621 669.963 32.4621 674.292 Q32.4621 679.194 35.2312 682.154 Q38.0002 685.082 43.0292 685.528 L42.9973 664.648 Z\" fill=\"#000000\" fill-rule=\"evenodd\" fill-opacity=\"1\" /><polyline clip-path=\"url(#clip122)\" style=\"stroke:#009af9; stroke-linecap:round; stroke-linejoin:round; stroke-width:4; stroke-opacity:1; fill:none\" points=\"\n",
       "  308.73,1186.91 318.702,1219.99 328.674,1241.66 338.647,1197.17 348.619,1273.6 358.591,1215.42 368.563,1242.8 378.536,1348.88 388.508,1344.32 398.48,1321.5 \n",
       "  408.453,1384.24 418.425,1356.86 428.397,1339.75 438.37,1337.47 448.342,1316.94 458.314,1283.86 468.287,1266.75 478.259,1207.44 488.231,1178.92 498.204,1167.52 \n",
       "  508.176,1143.56 518.148,1101.36 528.121,1054.59 538.093,1015.81 548.065,1046.61 558.038,1011.25 568.01,955.356 577.982,904.027 587.955,930.262 597.927,946.231 \n",
       "  607.899,975.888 617.871,986.154 627.844,970.185 637.816,933.684 647.788,967.903 657.761,1073.98 667.733,1097.94 677.705,1079.69 687.678,1076.26 697.65,1062.58 \n",
       "  707.622,1078.55 717.595,1069.42 727.567,1022.65 737.539,1028.36 747.512,1091.09 757.484,1002.12 767.456,985.013 777.429,1032.92 787.401,1042.05 797.373,1099.08 \n",
       "  807.346,1010.11 817.318,992.997 827.29,1019.23 837.262,977.028 847.235,951.934 857.207,941.668 867.179,975.888 877.152,937.106 887.124,927.981 897.096,930.262 \n",
       "  907.069,932.543 917.041,891.48 927.013,886.918 936.986,843.573 946.958,848.136 956.93,804.791 966.903,723.806 976.875,688.446 986.847,700.993 996.82,748.9 \n",
       "  1006.79,821.901 1016.76,824.182 1026.74,794.525 1036.71,792.244 1046.68,802.51 1056.65,835.589 1066.63,853.839 1076.6,865.245 1086.57,846.995 1096.54,856.12 \n",
       "  1106.52,935.965 1116.49,971.325 1126.46,927.981 1136.43,900.605 1146.4,939.387 1156.38,943.95 1166.35,929.121 1176.32,938.247 1186.29,935.965 1196.27,905.168 \n",
       "  1206.24,923.418 1216.21,961.059 1226.18,1005.54 1236.16,1029.5 1246.13,991.857 1256.1,1024.94 1266.07,1008.97 1276.04,996.419 1286.02,953.075 1295.99,995.279 \n",
       "  1305.96,958.778 1315.93,948.512 1325.91,937.106 1335.88,889.199 1345.85,910.871 1355.82,888.058 1365.8,866.386 1375.77,843.573 1385.74,821.901 1395.71,764.869 \n",
       "  1405.68,768.291 1415.66,789.963 1425.63,799.088 1435.6,810.494 1445.57,759.165 1455.55,721.524 1465.52,691.868 1475.49,675.898 1485.46,679.32 1495.44,662.211 \n",
       "  1505.41,658.789 1515.38,711.258 1525.35,682.742 1535.32,711.258 1545.3,716.962 1555.27,704.415 1565.24,747.759 1575.21,722.665 1585.19,1003.26 1595.16,1024.94 \n",
       "  1605.13,1076.26 1615.1,1043.19 1625.08,1085.39 1635.05,1067.14 1645.02,1066 1654.99,1013.53 1664.97,1026.08 1674.94,1020.37 1684.91,1104.78 1694.88,1119.61 \n",
       "  1704.85,1048.89 1714.83,1026.08 1724.8,999.841 1734.77,951.934 1744.74,931.403 1754.72,953.075 1764.69,876.652 1774.66,802.51 1784.63,848.136 1794.61,858.401 \n",
       "  1804.58,831.026 1814.55,808.213 1824.52,734.071 1834.49,738.634 1844.47,705.555 1854.44,714.68 1864.41,718.102 1874.38,703.274 1884.36,681.602 1894.33,648.523 \n",
       "  1904.3,693.008 1914.27,706.696 1924.25,623.429 1934.22,606.319 1944.19,533.318 1954.16,527.615 1964.13,543.584 1974.11,585.788 1984.08,581.225 1994.05,531.037 \n",
       "  2004.02,505.943 2014,521.912 2023.97,531.037 2033.94,517.349 2043.91,474.005 2053.89,458.036 2063.86,448.91 2073.83,365.643 2083.8,428.379 2093.77,283.517 \n",
       "  2103.75,342.831 2113.72,358.8 2123.69,317.736 2133.66,293.783 2143.64,363.362 2153.61,309.752 2163.58,278.954 2173.55,282.376 2183.53,314.314 2193.5,350.815 \n",
       "  2203.47,221.922 2213.44,215.078 2223.41,186.562 2233.39,210.516 2243.36,170.593 2253.33,144.359 2263.3,86.1857 2273.28,105.577 2283.25,124.968 2293.22,132.952 \n",
       "  \n",
       "  \"/>\n",
       "</svg>\n"
      ]
     },
     "execution_count": 10,
     "metadata": {},
     "output_type": "execute_result"
    }
   ],
   "source": [
    "# Plot data\n",
    "plot(x_data, xlabel=\"day\", ylabel=\"price\", label=false)"
   ]
  },
  {
   "cell_type": "code",
   "execution_count": 27,
   "id": "magnetic-purchase",
   "metadata": {},
   "outputs": [
    {
     "data": {
      "text/plain": [
       "4"
      ]
     },
     "execution_count": 27,
     "metadata": {},
     "output_type": "execute_result"
    }
   ],
   "source": [
    "p_order = 10 # AR\n",
    "q_order = 4 # MA"
   ]
  },
  {
   "cell_type": "code",
   "execution_count": 28,
   "id": "scenic-chemistry",
   "metadata": {},
   "outputs": [],
   "source": [
    "# Training set\n",
    "train_size = 100\n",
    "x_prev_train = [Float64.(x_data[i+p_order-1:-1:i]) for i in 1:length(x_data)-p_order][1:train_size]\n",
    "x_train = Float64.(x_data[p_order+1:end])[1:train_size];"
   ]
  },
  {
   "cell_type": "code",
   "execution_count": 29,
   "id": "respective-sessions",
   "metadata": {},
   "outputs": [],
   "source": [
    "# Test set\n",
    "x_prev_test = [Float64.(x_data[i+p_order-1:-1:i]) for i in 1:length(x_data)-p_order][train_size+1:end]\n",
    "x_test = Float64.(x_data[p_order+1:end])[train_size+1:end];"
   ]
  },
  {
   "cell_type": "markdown",
   "id": "surprising-positive",
   "metadata": {},
   "source": [
    "### Inference"
   ]
  },
  {
   "cell_type": "code",
   "execution_count": 30,
   "id": "automated-style",
   "metadata": {},
   "outputs": [],
   "source": [
    "# Constraints are needed for performing VMP\n",
    "arma_constraints = @constraints begin\n",
    "    q(z, h_0, h, η, τ, γ,e) = q(h_0)q(z, h)q(η)q(τ)q(γ)q(e)\n",
    "end;"
   ]
  },
  {
   "cell_type": "code",
   "execution_count": 31,
   "id": "hidden-radical",
   "metadata": {},
   "outputs": [],
   "source": [
    "h_prior = MvNormalMeanPrecision(zeros(q_order), diageye(q_order))\n",
    "γ_prior = GammaShapeRate(1e4, 1.0)\n",
    "τ_prior = GammaShapeRate(1e2, 1.0)\n",
    "η_prior = MvNormalMeanPrecision(zeros(q_order), diageye(q_order))\n",
    "θ_prior = MvNormalMeanPrecision(zeros(p_order), diageye(p_order));"
   ]
  },
  {
   "cell_type": "code",
   "execution_count": 32,
   "id": "animal-insulin",
   "metadata": {},
   "outputs": [],
   "source": [
    "arma_imarginals = (h_0 = h_prior, h = h_prior, γ = γ_prior, τ = τ_prior, η = η_prior, θ = θ_prior);\n",
    "arma_imessages  = (h_0 = h_prior, h = h_prior);"
   ]
  },
  {
   "cell_type": "code",
   "execution_count": 33,
   "id": "indirect-former",
   "metadata": {},
   "outputs": [],
   "source": [
    "# First execution is slow due to Julia's init compilation \n",
    "result = inference(\n",
    "    model = ARMA(length(x_train), x_prev_train, h_prior, γ_prior, τ_prior, η_prior, θ_prior, p_order, q_order), \n",
    "    data  = (x = x_train, ),\n",
    "    free_energy = false, # we are not interested in the free energy in this experiment\n",
    "    initmarginals = arma_imarginals,\n",
    "    initmessages  = arma_imessages,\n",
    "    constraints   = arma_constraints,\n",
    "    iterations    = 50,\n",
    "    options       = (limit_stack_depth = 100, ),\n",
    ");"
   ]
  },
  {
   "cell_type": "code",
   "execution_count": 34,
   "id": "angry-worship",
   "metadata": {},
   "outputs": [
    {
     "data": {
      "image/svg+xml": [
       "<?xml version=\"1.0\" encoding=\"utf-8\"?>\n",
       "<svg xmlns=\"http://www.w3.org/2000/svg\" xmlns:xlink=\"http://www.w3.org/1999/xlink\" width=\"600\" height=\"400\" viewBox=\"0 0 2400 1600\">\n",
       "<defs>\n",
       "  <clipPath id=\"clip200\">\n",
       "    <rect x=\"0\" y=\"0\" width=\"2400\" height=\"1600\"/>\n",
       "  </clipPath>\n",
       "</defs>\n",
       "<path clip-path=\"url(#clip200)\" d=\"\n",
       "M0 1600 L2400 1600 L2400 0 L0 0  Z\n",
       "  \" fill=\"#ffffff\" fill-rule=\"evenodd\" fill-opacity=\"1\"/>\n",
       "<defs>\n",
       "  <clipPath id=\"clip201\">\n",
       "    <rect x=\"480\" y=\"0\" width=\"1681\" height=\"1600\"/>\n",
       "  </clipPath>\n",
       "</defs>\n",
       "<path clip-path=\"url(#clip200)\" d=\"\n",
       "M254.26 1486.45 L2352.76 1486.45 L2352.76 47.2441 L254.26 47.2441  Z\n",
       "  \" fill=\"#ffffff\" fill-rule=\"evenodd\" fill-opacity=\"1\"/>\n",
       "<defs>\n",
       "  <clipPath id=\"clip202\">\n",
       "    <rect x=\"254\" y=\"47\" width=\"2099\" height=\"1440\"/>\n",
       "  </clipPath>\n",
       "</defs>\n",
       "<polyline clip-path=\"url(#clip202)\" style=\"stroke:#000000; stroke-linecap:round; stroke-linejoin:round; stroke-width:2; stroke-opacity:0.1; fill:none\" points=\"\n",
       "  293.654,1486.45 293.654,47.2441 \n",
       "  \"/>\n",
       "<polyline clip-path=\"url(#clip202)\" style=\"stroke:#000000; stroke-linecap:round; stroke-linejoin:round; stroke-width:2; stroke-opacity:0.1; fill:none\" points=\"\n",
       "  793.582,1486.45 793.582,47.2441 \n",
       "  \"/>\n",
       "<polyline clip-path=\"url(#clip202)\" style=\"stroke:#000000; stroke-linecap:round; stroke-linejoin:round; stroke-width:2; stroke-opacity:0.1; fill:none\" points=\"\n",
       "  1293.51,1486.45 1293.51,47.2441 \n",
       "  \"/>\n",
       "<polyline clip-path=\"url(#clip202)\" style=\"stroke:#000000; stroke-linecap:round; stroke-linejoin:round; stroke-width:2; stroke-opacity:0.1; fill:none\" points=\"\n",
       "  1793.44,1486.45 1793.44,47.2441 \n",
       "  \"/>\n",
       "<polyline clip-path=\"url(#clip202)\" style=\"stroke:#000000; stroke-linecap:round; stroke-linejoin:round; stroke-width:2; stroke-opacity:0.1; fill:none\" points=\"\n",
       "  2293.36,1486.45 2293.36,47.2441 \n",
       "  \"/>\n",
       "<polyline clip-path=\"url(#clip200)\" style=\"stroke:#000000; stroke-linecap:round; stroke-linejoin:round; stroke-width:4; stroke-opacity:1; fill:none\" points=\"\n",
       "  254.26,1486.45 2352.76,1486.45 \n",
       "  \"/>\n",
       "<polyline clip-path=\"url(#clip200)\" style=\"stroke:#000000; stroke-linecap:round; stroke-linejoin:round; stroke-width:4; stroke-opacity:1; fill:none\" points=\"\n",
       "  293.654,1486.45 293.654,1467.55 \n",
       "  \"/>\n",
       "<polyline clip-path=\"url(#clip200)\" style=\"stroke:#000000; stroke-linecap:round; stroke-linejoin:round; stroke-width:4; stroke-opacity:1; fill:none\" points=\"\n",
       "  793.582,1486.45 793.582,1467.55 \n",
       "  \"/>\n",
       "<polyline clip-path=\"url(#clip200)\" style=\"stroke:#000000; stroke-linecap:round; stroke-linejoin:round; stroke-width:4; stroke-opacity:1; fill:none\" points=\"\n",
       "  1293.51,1486.45 1293.51,1467.55 \n",
       "  \"/>\n",
       "<polyline clip-path=\"url(#clip200)\" style=\"stroke:#000000; stroke-linecap:round; stroke-linejoin:round; stroke-width:4; stroke-opacity:1; fill:none\" points=\"\n",
       "  1793.44,1486.45 1793.44,1467.55 \n",
       "  \"/>\n",
       "<polyline clip-path=\"url(#clip200)\" style=\"stroke:#000000; stroke-linecap:round; stroke-linejoin:round; stroke-width:4; stroke-opacity:1; fill:none\" points=\"\n",
       "  2293.36,1486.45 2293.36,1467.55 \n",
       "  \"/>\n",
       "<path clip-path=\"url(#clip200)\" d=\"M293.654 1517.37 Q290.043 1517.37 288.214 1520.93 Q286.409 1524.47 286.409 1531.6 Q286.409 1538.71 288.214 1542.27 Q290.043 1545.82 293.654 1545.82 Q297.288 1545.82 299.094 1542.27 Q300.923 1538.71 300.923 1531.6 Q300.923 1524.47 299.094 1520.93 Q297.288 1517.37 293.654 1517.37 M293.654 1513.66 Q299.464 1513.66 302.52 1518.27 Q305.598 1522.85 305.598 1531.6 Q305.598 1540.33 302.52 1544.94 Q299.464 1549.52 293.654 1549.52 Q287.844 1549.52 284.765 1544.94 Q281.71 1540.33 281.71 1531.6 Q281.71 1522.85 284.765 1518.27 Q287.844 1513.66 293.654 1513.66 Z\" fill=\"#000000\" fill-rule=\"evenodd\" fill-opacity=\"1\" /><path clip-path=\"url(#clip200)\" d=\"M772.853 1544.91 L789.172 1544.91 L789.172 1548.85 L767.228 1548.85 L767.228 1544.91 Q769.89 1542.16 774.473 1537.53 Q779.079 1532.88 780.26 1531.53 Q782.505 1529.01 783.385 1527.27 Q784.288 1525.51 784.288 1523.82 Q784.288 1521.07 782.343 1519.33 Q780.422 1517.6 777.32 1517.6 Q775.121 1517.6 772.667 1518.36 Q770.237 1519.13 767.459 1520.68 L767.459 1515.95 Q770.283 1514.82 772.737 1514.24 Q775.191 1513.66 777.228 1513.66 Q782.598 1513.66 785.792 1516.35 Q788.987 1519.03 788.987 1523.52 Q788.987 1525.65 788.177 1527.57 Q787.39 1529.47 785.283 1532.07 Q784.704 1532.74 781.603 1535.95 Q778.501 1539.15 772.853 1544.91 Z\" fill=\"#000000\" fill-rule=\"evenodd\" fill-opacity=\"1\" /><path clip-path=\"url(#clip200)\" d=\"M799.033 1514.29 L817.389 1514.29 L817.389 1518.22 L803.315 1518.22 L803.315 1526.7 Q804.334 1526.35 805.352 1526.19 Q806.371 1526 807.389 1526 Q813.176 1526 816.556 1529.17 Q819.936 1532.34 819.936 1537.76 Q819.936 1543.34 816.463 1546.44 Q812.991 1549.52 806.672 1549.52 Q804.496 1549.52 802.227 1549.15 Q799.982 1548.78 797.575 1548.04 L797.575 1543.34 Q799.658 1544.47 801.88 1545.03 Q804.102 1545.58 806.579 1545.58 Q810.584 1545.58 812.922 1543.48 Q815.26 1541.37 815.26 1537.76 Q815.26 1534.15 812.922 1532.04 Q810.584 1529.94 806.579 1529.94 Q804.704 1529.94 802.829 1530.35 Q800.977 1530.77 799.033 1531.65 L799.033 1514.29 Z\" fill=\"#000000\" fill-rule=\"evenodd\" fill-opacity=\"1\" /><path clip-path=\"url(#clip200)\" d=\"M1268.21 1514.29 L1286.56 1514.29 L1286.56 1518.22 L1272.49 1518.22 L1272.49 1526.7 Q1273.51 1526.35 1274.53 1526.19 Q1275.55 1526 1276.56 1526 Q1282.35 1526 1285.73 1529.17 Q1289.11 1532.34 1289.11 1537.76 Q1289.11 1543.34 1285.64 1546.44 Q1282.17 1549.52 1275.85 1549.52 Q1273.67 1549.52 1271.4 1549.15 Q1269.16 1548.78 1266.75 1548.04 L1266.75 1543.34 Q1268.83 1544.47 1271.06 1545.03 Q1273.28 1545.58 1275.75 1545.58 Q1279.76 1545.58 1282.1 1543.48 Q1284.44 1541.37 1284.44 1537.76 Q1284.44 1534.15 1282.1 1532.04 Q1279.76 1529.94 1275.75 1529.94 Q1273.88 1529.94 1272 1530.35 Q1270.15 1530.77 1268.21 1531.65 L1268.21 1514.29 Z\" fill=\"#000000\" fill-rule=\"evenodd\" fill-opacity=\"1\" /><path clip-path=\"url(#clip200)\" d=\"M1308.32 1517.37 Q1304.71 1517.37 1302.88 1520.93 Q1301.08 1524.47 1301.08 1531.6 Q1301.08 1538.71 1302.88 1542.27 Q1304.71 1545.82 1308.32 1545.82 Q1311.96 1545.82 1313.76 1542.27 Q1315.59 1538.71 1315.59 1531.6 Q1315.59 1524.47 1313.76 1520.93 Q1311.96 1517.37 1308.32 1517.37 M1308.32 1513.66 Q1314.13 1513.66 1317.19 1518.27 Q1320.27 1522.85 1320.27 1531.6 Q1320.27 1540.33 1317.19 1544.94 Q1314.13 1549.52 1308.32 1549.52 Q1302.51 1549.52 1299.44 1544.94 Q1296.38 1540.33 1296.38 1531.6 Q1296.38 1522.85 1299.44 1518.27 Q1302.51 1513.66 1308.32 1513.66 Z\" fill=\"#000000\" fill-rule=\"evenodd\" fill-opacity=\"1\" /><path clip-path=\"url(#clip200)\" d=\"M1767.29 1514.29 L1789.51 1514.29 L1789.51 1516.28 L1776.97 1548.85 L1772.08 1548.85 L1783.89 1518.22 L1767.29 1518.22 L1767.29 1514.29 Z\" fill=\"#000000\" fill-rule=\"evenodd\" fill-opacity=\"1\" /><path clip-path=\"url(#clip200)\" d=\"M1798.68 1514.29 L1817.04 1514.29 L1817.04 1518.22 L1802.96 1518.22 L1802.96 1526.7 Q1803.98 1526.35 1805 1526.19 Q1806.02 1526 1807.04 1526 Q1812.82 1526 1816.2 1529.17 Q1819.58 1532.34 1819.58 1537.76 Q1819.58 1543.34 1816.11 1546.44 Q1812.64 1549.52 1806.32 1549.52 Q1804.14 1549.52 1801.87 1549.15 Q1799.63 1548.78 1797.22 1548.04 L1797.22 1543.34 Q1799.3 1544.47 1801.53 1545.03 Q1803.75 1545.58 1806.23 1545.58 Q1810.23 1545.58 1812.57 1543.48 Q1814.91 1541.37 1814.91 1537.76 Q1814.91 1534.15 1812.57 1532.04 Q1810.23 1529.94 1806.23 1529.94 Q1804.35 1529.94 1802.48 1530.35 Q1800.62 1530.77 1798.68 1531.65 L1798.68 1514.29 Z\" fill=\"#000000\" fill-rule=\"evenodd\" fill-opacity=\"1\" /><path clip-path=\"url(#clip200)\" d=\"M2252.97 1544.91 L2260.61 1544.91 L2260.61 1518.55 L2252.3 1520.21 L2252.3 1515.95 L2260.56 1514.29 L2265.24 1514.29 L2265.24 1544.91 L2272.88 1544.91 L2272.88 1548.85 L2252.97 1548.85 L2252.97 1544.91 Z\" fill=\"#000000\" fill-rule=\"evenodd\" fill-opacity=\"1\" /><path clip-path=\"url(#clip200)\" d=\"M2292.32 1517.37 Q2288.71 1517.37 2286.88 1520.93 Q2285.08 1524.47 2285.08 1531.6 Q2285.08 1538.71 2286.88 1542.27 Q2288.71 1545.82 2292.32 1545.82 Q2295.96 1545.82 2297.76 1542.27 Q2299.59 1538.71 2299.59 1531.6 Q2299.59 1524.47 2297.76 1520.93 Q2295.96 1517.37 2292.32 1517.37 M2292.32 1513.66 Q2298.13 1513.66 2301.19 1518.27 Q2304.27 1522.85 2304.27 1531.6 Q2304.27 1540.33 2301.19 1544.94 Q2298.13 1549.52 2292.32 1549.52 Q2286.51 1549.52 2283.43 1544.94 Q2280.38 1540.33 2280.38 1531.6 Q2280.38 1522.85 2283.43 1518.27 Q2286.51 1513.66 2292.32 1513.66 Z\" fill=\"#000000\" fill-rule=\"evenodd\" fill-opacity=\"1\" /><path clip-path=\"url(#clip200)\" d=\"M2322.48 1517.37 Q2318.87 1517.37 2317.04 1520.93 Q2315.24 1524.47 2315.24 1531.6 Q2315.24 1538.71 2317.04 1542.27 Q2318.87 1545.82 2322.48 1545.82 Q2326.12 1545.82 2327.92 1542.27 Q2329.75 1538.71 2329.75 1531.6 Q2329.75 1524.47 2327.92 1520.93 Q2326.12 1517.37 2322.48 1517.37 M2322.48 1513.66 Q2328.29 1513.66 2331.35 1518.27 Q2334.43 1522.85 2334.43 1531.6 Q2334.43 1540.33 2331.35 1544.94 Q2328.29 1549.52 2322.48 1549.52 Q2316.67 1549.52 2313.6 1544.94 Q2310.54 1540.33 2310.54 1531.6 Q2310.54 1522.85 2313.6 1518.27 Q2316.67 1513.66 2322.48 1513.66 Z\" fill=\"#000000\" fill-rule=\"evenodd\" fill-opacity=\"1\" /><polyline clip-path=\"url(#clip202)\" style=\"stroke:#000000; stroke-linecap:round; stroke-linejoin:round; stroke-width:2; stroke-opacity:0.1; fill:none\" points=\"\n",
       "  254.26,1306.17 2352.76,1306.17 \n",
       "  \"/>\n",
       "<polyline clip-path=\"url(#clip202)\" style=\"stroke:#000000; stroke-linecap:round; stroke-linejoin:round; stroke-width:2; stroke-opacity:0.1; fill:none\" points=\"\n",
       "  254.26,1038.09 2352.76,1038.09 \n",
       "  \"/>\n",
       "<polyline clip-path=\"url(#clip202)\" style=\"stroke:#000000; stroke-linecap:round; stroke-linejoin:round; stroke-width:2; stroke-opacity:0.1; fill:none\" points=\"\n",
       "  254.26,770 2352.76,770 \n",
       "  \"/>\n",
       "<polyline clip-path=\"url(#clip202)\" style=\"stroke:#000000; stroke-linecap:round; stroke-linejoin:round; stroke-width:2; stroke-opacity:0.1; fill:none\" points=\"\n",
       "  254.26,501.913 2352.76,501.913 \n",
       "  \"/>\n",
       "<polyline clip-path=\"url(#clip202)\" style=\"stroke:#000000; stroke-linecap:round; stroke-linejoin:round; stroke-width:2; stroke-opacity:0.1; fill:none\" points=\"\n",
       "  254.26,233.827 2352.76,233.827 \n",
       "  \"/>\n",
       "<polyline clip-path=\"url(#clip200)\" style=\"stroke:#000000; stroke-linecap:round; stroke-linejoin:round; stroke-width:4; stroke-opacity:1; fill:none\" points=\"\n",
       "  254.26,1486.45 254.26,47.2441 \n",
       "  \"/>\n",
       "<polyline clip-path=\"url(#clip200)\" style=\"stroke:#000000; stroke-linecap:round; stroke-linejoin:round; stroke-width:4; stroke-opacity:1; fill:none\" points=\"\n",
       "  254.26,1306.17 273.157,1306.17 \n",
       "  \"/>\n",
       "<polyline clip-path=\"url(#clip200)\" style=\"stroke:#000000; stroke-linecap:round; stroke-linejoin:round; stroke-width:4; stroke-opacity:1; fill:none\" points=\"\n",
       "  254.26,1038.09 273.157,1038.09 \n",
       "  \"/>\n",
       "<polyline clip-path=\"url(#clip200)\" style=\"stroke:#000000; stroke-linecap:round; stroke-linejoin:round; stroke-width:4; stroke-opacity:1; fill:none\" points=\"\n",
       "  254.26,770 273.157,770 \n",
       "  \"/>\n",
       "<polyline clip-path=\"url(#clip200)\" style=\"stroke:#000000; stroke-linecap:round; stroke-linejoin:round; stroke-width:4; stroke-opacity:1; fill:none\" points=\"\n",
       "  254.26,501.913 273.157,501.913 \n",
       "  \"/>\n",
       "<polyline clip-path=\"url(#clip200)\" style=\"stroke:#000000; stroke-linecap:round; stroke-linejoin:round; stroke-width:4; stroke-opacity:1; fill:none\" points=\"\n",
       "  254.26,233.827 273.157,233.827 \n",
       "  \"/>\n",
       "<path clip-path=\"url(#clip200)\" d=\"M50.9921 1306.62 L80.6679 1306.62 L80.6679 1310.56 L50.9921 1310.56 L50.9921 1306.62 Z\" fill=\"#000000\" fill-rule=\"evenodd\" fill-opacity=\"1\" /><path clip-path=\"url(#clip200)\" d=\"M100.76 1291.97 Q97.1493 1291.97 95.3206 1295.54 Q93.515 1299.08 93.515 1306.21 Q93.515 1313.31 95.3206 1316.88 Q97.1493 1320.42 100.76 1320.42 Q104.395 1320.42 106.2 1316.88 Q108.029 1313.31 108.029 1306.21 Q108.029 1299.08 106.2 1295.54 Q104.395 1291.97 100.76 1291.97 M100.76 1288.27 Q106.571 1288.27 109.626 1292.88 Q112.705 1297.46 112.705 1306.21 Q112.705 1314.94 109.626 1319.54 Q106.571 1324.12 100.76 1324.12 Q94.9502 1324.12 91.8715 1319.54 Q88.816 1314.94 88.816 1306.21 Q88.816 1297.46 91.8715 1292.88 Q94.9502 1288.27 100.76 1288.27 Z\" fill=\"#000000\" fill-rule=\"evenodd\" fill-opacity=\"1\" /><path clip-path=\"url(#clip200)\" d=\"M120.922 1317.57 L125.807 1317.57 L125.807 1323.45 L120.922 1323.45 L120.922 1317.57 Z\" fill=\"#000000\" fill-rule=\"evenodd\" fill-opacity=\"1\" /><path clip-path=\"url(#clip200)\" d=\"M145.992 1291.97 Q142.381 1291.97 140.552 1295.54 Q138.746 1299.08 138.746 1306.21 Q138.746 1313.31 140.552 1316.88 Q142.381 1320.42 145.992 1320.42 Q149.626 1320.42 151.431 1316.88 Q153.26 1313.31 153.26 1306.21 Q153.26 1299.08 151.431 1295.54 Q149.626 1291.97 145.992 1291.97 M145.992 1288.27 Q151.802 1288.27 154.857 1292.88 Q157.936 1297.46 157.936 1306.21 Q157.936 1314.94 154.857 1319.54 Q151.802 1324.12 145.992 1324.12 Q140.181 1324.12 137.103 1319.54 Q134.047 1314.94 134.047 1306.21 Q134.047 1297.46 137.103 1292.88 Q140.181 1288.27 145.992 1288.27 Z\" fill=\"#000000\" fill-rule=\"evenodd\" fill-opacity=\"1\" /><path clip-path=\"url(#clip200)\" d=\"M166.964 1319.52 L174.603 1319.52 L174.603 1293.15 L166.292 1294.82 L166.292 1290.56 L174.556 1288.89 L179.232 1288.89 L179.232 1319.52 L186.871 1319.52 L186.871 1323.45 L166.964 1323.45 L166.964 1319.52 Z\" fill=\"#000000\" fill-rule=\"evenodd\" fill-opacity=\"1\" /><path clip-path=\"url(#clip200)\" d=\"M206.315 1291.97 Q202.704 1291.97 200.876 1295.54 Q199.07 1299.08 199.07 1306.21 Q199.07 1313.31 200.876 1316.88 Q202.704 1320.42 206.315 1320.42 Q209.95 1320.42 211.755 1316.88 Q213.584 1313.31 213.584 1306.21 Q213.584 1299.08 211.755 1295.54 Q209.95 1291.97 206.315 1291.97 M206.315 1288.27 Q212.126 1288.27 215.181 1292.88 Q218.26 1297.46 218.26 1306.21 Q218.26 1314.94 215.181 1319.54 Q212.126 1324.12 206.315 1324.12 Q200.505 1324.12 197.427 1319.54 Q194.371 1314.94 194.371 1306.21 Q194.371 1297.46 197.427 1292.88 Q200.505 1288.27 206.315 1288.27 Z\" fill=\"#000000\" fill-rule=\"evenodd\" fill-opacity=\"1\" /><path clip-path=\"url(#clip200)\" d=\"M51.9875 1038.54 L81.6633 1038.54 L81.6633 1042.47 L51.9875 1042.47 L51.9875 1038.54 Z\" fill=\"#000000\" fill-rule=\"evenodd\" fill-opacity=\"1\" /><path clip-path=\"url(#clip200)\" d=\"M101.756 1023.89 Q98.1447 1023.89 96.316 1027.45 Q94.5104 1030.99 94.5104 1038.12 Q94.5104 1045.23 96.316 1048.79 Q98.1447 1052.33 101.756 1052.33 Q105.39 1052.33 107.196 1048.79 Q109.024 1045.23 109.024 1038.12 Q109.024 1030.99 107.196 1027.45 Q105.39 1023.89 101.756 1023.89 M101.756 1020.18 Q107.566 1020.18 110.621 1024.79 Q113.7 1029.37 113.7 1038.12 Q113.7 1046.85 110.621 1051.45 Q107.566 1056.04 101.756 1056.04 Q95.9456 1056.04 92.8669 1051.45 Q89.8114 1046.85 89.8114 1038.12 Q89.8114 1029.37 92.8669 1024.79 Q95.9456 1020.18 101.756 1020.18 Z\" fill=\"#000000\" fill-rule=\"evenodd\" fill-opacity=\"1\" /><path clip-path=\"url(#clip200)\" d=\"M121.918 1049.49 L126.802 1049.49 L126.802 1055.37 L121.918 1055.37 L121.918 1049.49 Z\" fill=\"#000000\" fill-rule=\"evenodd\" fill-opacity=\"1\" /><path clip-path=\"url(#clip200)\" d=\"M146.987 1023.89 Q143.376 1023.89 141.547 1027.45 Q139.742 1030.99 139.742 1038.12 Q139.742 1045.23 141.547 1048.79 Q143.376 1052.33 146.987 1052.33 Q150.621 1052.33 152.427 1048.79 Q154.255 1045.23 154.255 1038.12 Q154.255 1030.99 152.427 1027.45 Q150.621 1023.89 146.987 1023.89 M146.987 1020.18 Q152.797 1020.18 155.853 1024.79 Q158.931 1029.37 158.931 1038.12 Q158.931 1046.85 155.853 1051.45 Q152.797 1056.04 146.987 1056.04 Q141.177 1056.04 138.098 1051.45 Q135.043 1046.85 135.043 1038.12 Q135.043 1029.37 138.098 1024.79 Q141.177 1020.18 146.987 1020.18 Z\" fill=\"#000000\" fill-rule=\"evenodd\" fill-opacity=\"1\" /><path clip-path=\"url(#clip200)\" d=\"M177.149 1023.89 Q173.538 1023.89 171.709 1027.45 Q169.904 1030.99 169.904 1038.12 Q169.904 1045.23 171.709 1048.79 Q173.538 1052.33 177.149 1052.33 Q180.783 1052.33 182.589 1048.79 Q184.417 1045.23 184.417 1038.12 Q184.417 1030.99 182.589 1027.45 Q180.783 1023.89 177.149 1023.89 M177.149 1020.18 Q182.959 1020.18 186.015 1024.79 Q189.093 1029.37 189.093 1038.12 Q189.093 1046.85 186.015 1051.45 Q182.959 1056.04 177.149 1056.04 Q171.339 1056.04 168.26 1051.45 Q165.204 1046.85 165.204 1038.12 Q165.204 1029.37 168.26 1024.79 Q171.339 1020.18 177.149 1020.18 Z\" fill=\"#000000\" fill-rule=\"evenodd\" fill-opacity=\"1\" /><path clip-path=\"url(#clip200)\" d=\"M197.357 1020.81 L215.713 1020.81 L215.713 1024.74 L201.639 1024.74 L201.639 1033.21 Q202.658 1032.87 203.676 1032.7 Q204.695 1032.52 205.714 1032.52 Q211.501 1032.52 214.88 1035.69 Q218.26 1038.86 218.26 1044.28 Q218.26 1049.86 214.788 1052.96 Q211.315 1056.04 204.996 1056.04 Q202.82 1056.04 200.552 1055.67 Q198.306 1055.3 195.899 1054.56 L195.899 1049.86 Q197.982 1050.99 200.204 1051.55 Q202.426 1052.1 204.903 1052.1 Q208.908 1052.1 211.246 1050 Q213.584 1047.89 213.584 1044.28 Q213.584 1040.67 211.246 1038.56 Q208.908 1036.45 204.903 1036.45 Q203.028 1036.45 201.153 1036.87 Q199.302 1037.29 197.357 1038.17 L197.357 1020.81 Z\" fill=\"#000000\" fill-rule=\"evenodd\" fill-opacity=\"1\" /><path clip-path=\"url(#clip200)\" d=\"M100.76 755.799 Q97.1493 755.799 95.3206 759.364 Q93.515 762.905 93.515 770.035 Q93.515 777.141 95.3206 780.706 Q97.1493 784.248 100.76 784.248 Q104.395 784.248 106.2 780.706 Q108.029 777.141 108.029 770.035 Q108.029 762.905 106.2 759.364 Q104.395 755.799 100.76 755.799 M100.76 752.095 Q106.571 752.095 109.626 756.702 Q112.705 761.285 112.705 770.035 Q112.705 778.762 109.626 783.368 Q106.571 787.951 100.76 787.951 Q94.9502 787.951 91.8715 783.368 Q88.816 778.762 88.816 770.035 Q88.816 761.285 91.8715 756.702 Q94.9502 752.095 100.76 752.095 Z\" fill=\"#000000\" fill-rule=\"evenodd\" fill-opacity=\"1\" /><path clip-path=\"url(#clip200)\" d=\"M120.922 781.4 L125.807 781.4 L125.807 787.28 L120.922 787.28 L120.922 781.4 Z\" fill=\"#000000\" fill-rule=\"evenodd\" fill-opacity=\"1\" /><path clip-path=\"url(#clip200)\" d=\"M145.992 755.799 Q142.381 755.799 140.552 759.364 Q138.746 762.905 138.746 770.035 Q138.746 777.141 140.552 780.706 Q142.381 784.248 145.992 784.248 Q149.626 784.248 151.431 780.706 Q153.26 777.141 153.26 770.035 Q153.26 762.905 151.431 759.364 Q149.626 755.799 145.992 755.799 M145.992 752.095 Q151.802 752.095 154.857 756.702 Q157.936 761.285 157.936 770.035 Q157.936 778.762 154.857 783.368 Q151.802 787.951 145.992 787.951 Q140.181 787.951 137.103 783.368 Q134.047 778.762 134.047 770.035 Q134.047 761.285 137.103 756.702 Q140.181 752.095 145.992 752.095 Z\" fill=\"#000000\" fill-rule=\"evenodd\" fill-opacity=\"1\" /><path clip-path=\"url(#clip200)\" d=\"M176.153 755.799 Q172.542 755.799 170.714 759.364 Q168.908 762.905 168.908 770.035 Q168.908 777.141 170.714 780.706 Q172.542 784.248 176.153 784.248 Q179.788 784.248 181.593 780.706 Q183.422 777.141 183.422 770.035 Q183.422 762.905 181.593 759.364 Q179.788 755.799 176.153 755.799 M176.153 752.095 Q181.964 752.095 185.019 756.702 Q188.098 761.285 188.098 770.035 Q188.098 778.762 185.019 783.368 Q181.964 787.951 176.153 787.951 Q170.343 787.951 167.265 783.368 Q164.209 778.762 164.209 770.035 Q164.209 761.285 167.265 756.702 Q170.343 752.095 176.153 752.095 Z\" fill=\"#000000\" fill-rule=\"evenodd\" fill-opacity=\"1\" /><path clip-path=\"url(#clip200)\" d=\"M206.315 755.799 Q202.704 755.799 200.876 759.364 Q199.07 762.905 199.07 770.035 Q199.07 777.141 200.876 780.706 Q202.704 784.248 206.315 784.248 Q209.95 784.248 211.755 780.706 Q213.584 777.141 213.584 770.035 Q213.584 762.905 211.755 759.364 Q209.95 755.799 206.315 755.799 M206.315 752.095 Q212.126 752.095 215.181 756.702 Q218.26 761.285 218.26 770.035 Q218.26 778.762 215.181 783.368 Q212.126 787.951 206.315 787.951 Q200.505 787.951 197.427 783.368 Q194.371 778.762 194.371 770.035 Q194.371 761.285 197.427 756.702 Q200.505 752.095 206.315 752.095 Z\" fill=\"#000000\" fill-rule=\"evenodd\" fill-opacity=\"1\" /><path clip-path=\"url(#clip200)\" d=\"M101.756 487.712 Q98.1447 487.712 96.316 491.277 Q94.5104 494.818 94.5104 501.948 Q94.5104 509.054 96.316 512.619 Q98.1447 516.161 101.756 516.161 Q105.39 516.161 107.196 512.619 Q109.024 509.054 109.024 501.948 Q109.024 494.818 107.196 491.277 Q105.39 487.712 101.756 487.712 M101.756 484.008 Q107.566 484.008 110.621 488.615 Q113.7 493.198 113.7 501.948 Q113.7 510.675 110.621 515.281 Q107.566 519.865 101.756 519.865 Q95.9456 519.865 92.8669 515.281 Q89.8114 510.675 89.8114 501.948 Q89.8114 493.198 92.8669 488.615 Q95.9456 484.008 101.756 484.008 Z\" fill=\"#000000\" fill-rule=\"evenodd\" fill-opacity=\"1\" /><path clip-path=\"url(#clip200)\" d=\"M121.918 513.314 L126.802 513.314 L126.802 519.193 L121.918 519.193 L121.918 513.314 Z\" fill=\"#000000\" fill-rule=\"evenodd\" fill-opacity=\"1\" /><path clip-path=\"url(#clip200)\" d=\"M146.987 487.712 Q143.376 487.712 141.547 491.277 Q139.742 494.818 139.742 501.948 Q139.742 509.054 141.547 512.619 Q143.376 516.161 146.987 516.161 Q150.621 516.161 152.427 512.619 Q154.255 509.054 154.255 501.948 Q154.255 494.818 152.427 491.277 Q150.621 487.712 146.987 487.712 M146.987 484.008 Q152.797 484.008 155.853 488.615 Q158.931 493.198 158.931 501.948 Q158.931 510.675 155.853 515.281 Q152.797 519.865 146.987 519.865 Q141.177 519.865 138.098 515.281 Q135.043 510.675 135.043 501.948 Q135.043 493.198 138.098 488.615 Q141.177 484.008 146.987 484.008 Z\" fill=\"#000000\" fill-rule=\"evenodd\" fill-opacity=\"1\" /><path clip-path=\"url(#clip200)\" d=\"M177.149 487.712 Q173.538 487.712 171.709 491.277 Q169.904 494.818 169.904 501.948 Q169.904 509.054 171.709 512.619 Q173.538 516.161 177.149 516.161 Q180.783 516.161 182.589 512.619 Q184.417 509.054 184.417 501.948 Q184.417 494.818 182.589 491.277 Q180.783 487.712 177.149 487.712 M177.149 484.008 Q182.959 484.008 186.015 488.615 Q189.093 493.198 189.093 501.948 Q189.093 510.675 186.015 515.281 Q182.959 519.865 177.149 519.865 Q171.339 519.865 168.26 515.281 Q165.204 510.675 165.204 501.948 Q165.204 493.198 168.26 488.615 Q171.339 484.008 177.149 484.008 Z\" fill=\"#000000\" fill-rule=\"evenodd\" fill-opacity=\"1\" /><path clip-path=\"url(#clip200)\" d=\"M197.357 484.633 L215.713 484.633 L215.713 488.568 L201.639 488.568 L201.639 497.041 Q202.658 496.693 203.676 496.531 Q204.695 496.346 205.714 496.346 Q211.501 496.346 214.88 499.517 Q218.26 502.689 218.26 508.105 Q218.26 513.684 214.788 516.786 Q211.315 519.865 204.996 519.865 Q202.82 519.865 200.552 519.494 Q198.306 519.124 195.899 518.383 L195.899 513.684 Q197.982 514.818 200.204 515.374 Q202.426 515.929 204.903 515.929 Q208.908 515.929 211.246 513.823 Q213.584 511.716 213.584 508.105 Q213.584 504.494 211.246 502.388 Q208.908 500.281 204.903 500.281 Q203.028 500.281 201.153 500.698 Q199.302 501.115 197.357 501.994 L197.357 484.633 Z\" fill=\"#000000\" fill-rule=\"evenodd\" fill-opacity=\"1\" /><path clip-path=\"url(#clip200)\" d=\"M100.76 219.625 Q97.1493 219.625 95.3206 223.19 Q93.515 226.732 93.515 233.861 Q93.515 240.968 95.3206 244.533 Q97.1493 248.074 100.76 248.074 Q104.395 248.074 106.2 244.533 Q108.029 240.968 108.029 233.861 Q108.029 226.732 106.2 223.19 Q104.395 219.625 100.76 219.625 M100.76 215.922 Q106.571 215.922 109.626 220.528 Q112.705 225.111 112.705 233.861 Q112.705 242.588 109.626 247.195 Q106.571 251.778 100.76 251.778 Q94.9502 251.778 91.8715 247.195 Q88.816 242.588 88.816 233.861 Q88.816 225.111 91.8715 220.528 Q94.9502 215.922 100.76 215.922 Z\" fill=\"#000000\" fill-rule=\"evenodd\" fill-opacity=\"1\" /><path clip-path=\"url(#clip200)\" d=\"M120.922 245.227 L125.807 245.227 L125.807 251.107 L120.922 251.107 L120.922 245.227 Z\" fill=\"#000000\" fill-rule=\"evenodd\" fill-opacity=\"1\" /><path clip-path=\"url(#clip200)\" d=\"M145.992 219.625 Q142.381 219.625 140.552 223.19 Q138.746 226.732 138.746 233.861 Q138.746 240.968 140.552 244.533 Q142.381 248.074 145.992 248.074 Q149.626 248.074 151.431 244.533 Q153.26 240.968 153.26 233.861 Q153.26 226.732 151.431 223.19 Q149.626 219.625 145.992 219.625 M145.992 215.922 Q151.802 215.922 154.857 220.528 Q157.936 225.111 157.936 233.861 Q157.936 242.588 154.857 247.195 Q151.802 251.778 145.992 251.778 Q140.181 251.778 137.103 247.195 Q134.047 242.588 134.047 233.861 Q134.047 225.111 137.103 220.528 Q140.181 215.922 145.992 215.922 Z\" fill=\"#000000\" fill-rule=\"evenodd\" fill-opacity=\"1\" /><path clip-path=\"url(#clip200)\" d=\"M166.964 247.171 L174.603 247.171 L174.603 220.806 L166.292 222.472 L166.292 218.213 L174.556 216.547 L179.232 216.547 L179.232 247.171 L186.871 247.171 L186.871 251.107 L166.964 251.107 L166.964 247.171 Z\" fill=\"#000000\" fill-rule=\"evenodd\" fill-opacity=\"1\" /><path clip-path=\"url(#clip200)\" d=\"M206.315 219.625 Q202.704 219.625 200.876 223.19 Q199.07 226.732 199.07 233.861 Q199.07 240.968 200.876 244.533 Q202.704 248.074 206.315 248.074 Q209.95 248.074 211.755 244.533 Q213.584 240.968 213.584 233.861 Q213.584 226.732 211.755 223.19 Q209.95 219.625 206.315 219.625 M206.315 215.922 Q212.126 215.922 215.181 220.528 Q218.26 225.111 218.26 233.861 Q218.26 242.588 215.181 247.195 Q212.126 251.778 206.315 251.778 Q200.505 251.778 197.427 247.195 Q194.371 242.588 194.371 233.861 Q194.371 225.111 197.427 220.528 Q200.505 215.922 206.315 215.922 Z\" fill=\"#000000\" fill-rule=\"evenodd\" fill-opacity=\"1\" /><path clip-path=\"url(#clip202)\" d=\"\n",
       "M313.651 1315.04 L333.648 1314.14 L353.645 1297.96 L373.642 1292.06 L393.64 1300.17 L413.637 1272.78 L433.634 1264.08 L453.631 1266.95 L473.628 1277.4 L493.625 1304.73 \n",
       "  L513.622 1288.11 L533.619 1246.03 L553.616 1268.17 L573.614 1304.12 L593.611 1313.65 L613.608 1260.28 L633.605 1213.98 L653.602 1234.18 L673.599 1301.72 L693.596 1368.92 \n",
       "  L713.593 1370.33 L733.59 1316.08 L753.587 1253.08 L773.585 1272.74 L793.582 1350.54 L813.579 1411.52 L833.576 1393.31 L853.573 1326.71 L873.57 1325.65 L893.567 1301.48 \n",
       "  L913.564 1253.7 L933.561 1250.97 L953.558 1301.7 L973.556 1323.74 L993.553 1323.12 L1013.55 1267.12 L1033.55 1266.46 L1053.54 1390.83 L1073.54 1371.43 L1093.54 1338.03 \n",
       "  L1113.54 1303.69 L1133.53 1264.99 L1153.53 1285.45 L1173.53 1236.74 L1193.52 1273.72 L1213.52 1304.1 L1233.52 1328.7 L1253.52 1332.72 L1273.51 1307.02 L1293.51 1332.88 \n",
       "  L1313.51 1302.17 L1333.5 1279.74 L1353.5 1298.99 L1373.5 1308.7 L1393.49 1276.35 L1413.49 1221.14 L1433.49 1158.84 L1453.49 1198.2 L1473.48 1326.09 L1493.48 1420.16 \n",
       "  L1513.48 1445.72 L1533.47 1378.68 L1553.47 1300.58 L1573.47 1269.37 L1593.47 1283.2 L1613.46 1310.1 L1633.46 1308.59 L1653.46 1292.72 L1673.45 1326.65 L1693.45 1377.85 \n",
       "  L1713.45 1401.7 L1733.45 1347.38 L1753.44 1289.12 L1773.44 1287.6 L1793.44 1308.91 L1813.43 1317.38 L1833.43 1302.27 L1853.43 1299.61 L1873.43 1286.24 L1893.42 1274.37 \n",
       "  L1913.42 1326.32 L1933.42 1381.67 L1953.41 1378.2 L1973.41 1373.22 L1993.41 1342.47 L2013.41 1313.21 L2033.4 1275.82 L2053.4 1257.75 L2073.4 1276.95 L2093.39 1310.95 \n",
       "  L2113.39 1329.66 L2133.39 1284.01 L2153.38 1304.65 L2173.38 1290.84 L2193.38 1301.26 L2213.38 1322.48 L2233.37 1278.99 L2253.37 1272.92 L2273.37 1266.23 L2293.36 1272.75 \n",
       "  L2293.36 201.06 L2273.37 194.861 L2253.37 201.747 L2233.37 207.963 L2213.38 251.603 L2193.38 230.377 L2173.38 219.948 L2153.38 233.75 L2133.39 213.099 L2113.39 258.764 \n",
       "  L2093.39 240.058 L2073.4 206.067 L2053.4 186.872 L2033.4 204.948 L2013.41 242.35 L1993.41 271.61 L1973.41 302.366 L1953.41 307.35 L1933.42 310.819 L1913.42 255.45 \n",
       "  L1893.42 203.495 L1873.43 215.366 L1853.43 228.731 L1833.43 231.38 L1813.43 246.494 L1793.44 238.03 L1773.44 216.72 L1753.44 218.239 L1733.45 276.534 L1713.45 330.835 \n",
       "  L1693.45 306.973 L1673.45 255.775 L1653.46 221.844 L1633.46 237.683 L1613.46 239.157 L1593.47 212.254 L1573.47 198.405 L1553.47 229.613 L1533.47 307.739 L1513.48 374.804 \n",
       "  L1493.48 349.246 L1473.48 255.191 L1453.49 127.326 L1433.49 87.9763 L1413.49 150.275 L1393.49 205.498 L1373.5 237.848 L1353.5 228.137 L1333.5 208.886 L1313.51 231.278 \n",
       "  L1293.51 261.966 L1273.51 236.107 L1253.52 261.794 L1233.52 257.763 L1213.52 233.123 L1193.52 202.735 L1173.53 165.745 L1153.53 214.441 L1133.53 194.018 L1113.54 232.731 \n",
       "  L1093.54 267.082 L1073.54 300.496 L1053.54 319.899 L1033.55 195.576 L1013.55 196.208 L993.553 252.203 L973.556 252.826 L953.558 230.788 L933.561 180.059 L913.564 182.79 \n",
       "  L893.567 230.575 L873.57 254.719 L853.573 255.777 L833.576 322.417 L813.579 340.622 L793.582 279.644 L773.585 201.842 L753.587 182.185 L733.59 245.191 L713.593 299.435 \n",
       "  L693.596 298.027 L673.599 230.839 L653.602 163.298 L633.605 143.105 L613.608 189.41 L593.611 242.784 L573.614 233.267 L553.616 197.319 L533.619 175.185 L513.622 217.242 \n",
       "  L493.625 233.855 L473.628 206.544 L453.631 196.047 L433.634 193.155 L413.637 201.844 L393.64 229.205 L373.642 221 L353.645 226.806 L333.648 242.857 L313.651 243.996 \n",
       "   Z\n",
       "  \" fill=\"#009af9\" fill-rule=\"evenodd\" fill-opacity=\"0.5\"/>\n",
       "<polyline clip-path=\"url(#clip202)\" style=\"stroke:#009af9; stroke-linecap:round; stroke-linejoin:round; stroke-width:4; stroke-opacity:1; fill:none\" points=\"\n",
       "  313.651,779.519 333.648,778.5 353.645,762.384 373.642,756.531 393.64,764.685 413.637,737.313 433.634,728.616 453.631,731.5 473.628,741.973 493.625,769.29 \n",
       "  513.622,752.675 533.619,710.607 553.616,732.743 573.614,768.694 593.611,778.215 613.608,724.845 633.605,678.542 653.602,698.738 673.599,766.28 693.596,833.471 \n",
       "  713.593,834.881 733.59,780.638 753.587,717.633 773.585,737.293 793.582,815.092 813.579,876.071 833.576,857.866 853.573,791.246 873.57,790.182 893.567,766.03 \n",
       "  913.564,718.246 933.561,715.516 953.558,766.242 973.556,788.282 993.553,787.66 1013.55,731.662 1033.55,731.019 1053.54,855.363 1073.54,835.962 1093.54,802.556 \n",
       "  1113.54,768.208 1133.53,729.503 1153.53,749.946 1173.53,701.244 1193.52,738.23 1213.52,768.611 1233.52,793.234 1253.52,797.258 1273.51,771.565 1293.51,797.425 \n",
       "  1313.51,766.722 1333.5,744.313 1353.5,763.563 1373.5,773.274 1393.49,740.923 1413.49,685.706 1433.49,623.408 1453.49,662.763 1473.48,790.642 1493.48,884.701 \n",
       "  1513.48,910.26 1533.47,843.208 1553.47,765.099 1573.47,733.887 1593.47,747.727 1613.46,774.626 1633.46,773.139 1653.46,757.282 1673.45,791.213 1693.45,842.41 \n",
       "  1713.45,866.266 1733.45,811.958 1753.44,753.679 1773.44,752.161 1793.44,773.47 1813.43,781.936 1833.43,766.824 1853.43,764.173 1873.43,750.805 1893.42,738.934 \n",
       "  1913.42,790.887 1933.42,846.243 1953.41,842.774 1973.41,837.791 1993.41,807.042 2013.41,777.78 2033.4,740.382 2053.4,722.31 2073.4,741.51 2093.39,775.502 \n",
       "  2113.39,794.212 2133.39,748.552 2153.38,769.201 2173.38,755.393 2193.38,765.819 2213.38,787.042 2233.37,743.475 2253.37,737.334 2273.37,730.545 2293.36,736.906 \n",
       "  \n",
       "  \"/>\n",
       "<path clip-path=\"url(#clip200)\" d=\"\n",
       "M1997.21 198.898 L2282.81 198.898 L2282.81 95.2176 L1997.21 95.2176  Z\n",
       "  \" fill=\"#ffffff\" fill-rule=\"evenodd\" fill-opacity=\"1\"/>\n",
       "<polyline clip-path=\"url(#clip200)\" style=\"stroke:#000000; stroke-linecap:round; stroke-linejoin:round; stroke-width:4; stroke-opacity:1; fill:none\" points=\"\n",
       "  1997.21,198.898 2282.81,198.898 2282.81,95.2176 1997.21,95.2176 1997.21,198.898 \n",
       "  \"/>\n",
       "<polyline clip-path=\"url(#clip200)\" style=\"stroke:#009af9; stroke-linecap:round; stroke-linejoin:round; stroke-width:4; stroke-opacity:1; fill:none\" points=\"\n",
       "  2020.53,147.058 2160.43,147.058 \n",
       "  \"/>\n",
       "<path clip-path=\"url(#clip200)\" d=\"M2197.59 166.745 Q2195.78 171.375 2194.07 172.787 Q2192.35 174.199 2189.48 174.199 L2186.08 174.199 L2186.08 170.634 L2188.58 170.634 Q2190.34 170.634 2191.31 169.8 Q2192.28 168.967 2193.46 165.865 L2194.23 163.921 L2183.74 138.412 L2188.26 138.412 L2196.36 158.689 L2204.46 138.412 L2208.97 138.412 L2197.59 166.745 Z\" fill=\"#000000\" fill-rule=\"evenodd\" fill-opacity=\"1\" /><path clip-path=\"url(#clip200)\" d=\"M2216.27 160.402 L2223.9 160.402 L2223.9 134.037 L2215.59 135.703 L2215.59 131.444 L2223.86 129.778 L2228.53 129.778 L2228.53 160.402 L2236.17 160.402 L2236.17 164.338 L2216.27 164.338 L2216.27 160.402 Z\" fill=\"#000000\" fill-rule=\"evenodd\" fill-opacity=\"1\" /></svg>\n"
      ]
     },
     "execution_count": 34,
     "metadata": {},
     "output_type": "execute_result"
    }
   ],
   "source": [
    "plot(mean.(result.posteriors[:e][end]), ribbon=std.(result.posteriors[:e][end]))"
   ]
  },
  {
   "cell_type": "code",
   "execution_count": 35,
   "id": "widespread-exhaust",
   "metadata": {},
   "outputs": [],
   "source": [
    "# extract posteriors\n",
    "h_posterior = result.posteriors[:h][end][end]\n",
    "γ_posterior = result.posteriors[:γ][end]\n",
    "τ_posterior = result.posteriors[:τ][end]\n",
    "η_posterior = result.posteriors[:η][end]\n",
    "θ_posterior = result.posteriors[:θ][end];"
   ]
  },
  {
   "cell_type": "code",
   "execution_count": 36,
   "id": "popular-marker",
   "metadata": {},
   "outputs": [
    {
     "data": {
      "text/plain": [
       "prediction (generic function with 1 method)"
      ]
     },
     "execution_count": 36,
     "metadata": {},
     "output_type": "execute_result"
    }
   ],
   "source": [
    "# The prediction function is aimed at approximating the predictive posterior distribution\n",
    "# It triggers the rules in the generative order (in future, RxInfer.jl will provide this function out of the box)\n",
    "function prediction(x_prev, h_posterior, γ_posterior, τ_posterior, η_posterior, θ_posterior, p, q)\n",
    "    h_out = MvNormalMeanPrecision(mean(h_posterior), precision(h_posterior))\n",
    "    ar_out = @call_rule AR(:y, Marginalisation) (m_x=h_out, q_θ=η_posterior, q_γ=τ_posterior, meta=ARMeta(Multivariate, p, ARsafe()))\n",
    "    c = zeros(p); c[1] = 1.0\n",
    "    b = zeros(q); b[1] = 1.0\n",
    "    ar_dot_out = @call_rule typeof(dot)(:out, Marginalisation) (m_in1=PointMass(b), m_in2=ar_out, meta=ReactiveMP.TinyCorrection())\n",
    "    θ_out = MvNormalMeanPrecision(mean(θ_posterior), precision(θ_posterior))\n",
    "    ma_dot_out = @call_rule typeof(dot)(:out, Marginalisation) (m_in1=PointMass(x_prev), m_in2=θ_out, meta=ReactiveMP.TinyCorrection())\n",
    "    e_out = @call_rule NormalMeanPrecision(:out, Marginalisation) (q_μ=PointMass(0.0), q_τ=mean(γ_posterior))\n",
    "    ar_ma = @call_rule typeof(+)(:out, Marginalisation) (m_in1=ar_dot_out, m_in2=ma_dot_out)  \n",
    "    @call_rule typeof(+)(:out, Marginalisation) (m_in1=ar_ma, m_in2=e_out)  \n",
    "end"
   ]
  },
  {
   "cell_type": "code",
   "execution_count": 37,
   "id": "rapid-security",
   "metadata": {},
   "outputs": [],
   "source": [
    "predictions = []\n",
    "for x_prev in x_prev_test\n",
    "    push!(predictions, prediction(x_prev, h_posterior, γ_posterior, τ_posterior, η_posterior, θ_posterior, p_order, q_order))\n",
    "    # after every new prediction we can actually \"retrain\" the model to use the power of Bayesian approach\n",
    "    # we will skip this part for now\n",
    "end"
   ]
  },
  {
   "cell_type": "code",
   "execution_count": 38,
   "id": "split-entry",
   "metadata": {},
   "outputs": [
    {
     "data": {
      "image/svg+xml": [
       "<?xml version=\"1.0\" encoding=\"utf-8\"?>\n",
       "<svg xmlns=\"http://www.w3.org/2000/svg\" xmlns:xlink=\"http://www.w3.org/1999/xlink\" width=\"600\" height=\"400\" viewBox=\"0 0 2400 1600\">\n",
       "<defs>\n",
       "  <clipPath id=\"clip240\">\n",
       "    <rect x=\"0\" y=\"0\" width=\"2400\" height=\"1600\"/>\n",
       "  </clipPath>\n",
       "</defs>\n",
       "<path clip-path=\"url(#clip240)\" d=\"\n",
       "M0 1600 L2400 1600 L2400 0 L0 0  Z\n",
       "  \" fill=\"#ffffff\" fill-rule=\"evenodd\" fill-opacity=\"1\"/>\n",
       "<defs>\n",
       "  <clipPath id=\"clip241\">\n",
       "    <rect x=\"480\" y=\"0\" width=\"1681\" height=\"1600\"/>\n",
       "  </clipPath>\n",
       "</defs>\n",
       "<path clip-path=\"url(#clip240)\" d=\"\n",
       "M204.45 1423.18 L2352.76 1423.18 L2352.76 47.2441 L204.45 47.2441  Z\n",
       "  \" fill=\"#ffffff\" fill-rule=\"evenodd\" fill-opacity=\"1\"/>\n",
       "<defs>\n",
       "  <clipPath id=\"clip242\">\n",
       "    <rect x=\"204\" y=\"47\" width=\"2149\" height=\"1377\"/>\n",
       "  </clipPath>\n",
       "</defs>\n",
       "<polyline clip-path=\"url(#clip242)\" style=\"stroke:#000000; stroke-linecap:round; stroke-linejoin:round; stroke-width:2; stroke-opacity:0.1; fill:none\" points=\"\n",
       "  242.479,1423.18 242.479,47.2441 \n",
       "  \"/>\n",
       "<polyline clip-path=\"url(#clip242)\" style=\"stroke:#000000; stroke-linecap:round; stroke-linejoin:round; stroke-width:2; stroke-opacity:0.1; fill:none\" points=\"\n",
       "  697.918,1423.18 697.918,47.2441 \n",
       "  \"/>\n",
       "<polyline clip-path=\"url(#clip242)\" style=\"stroke:#000000; stroke-linecap:round; stroke-linejoin:round; stroke-width:2; stroke-opacity:0.1; fill:none\" points=\"\n",
       "  1153.36,1423.18 1153.36,47.2441 \n",
       "  \"/>\n",
       "<polyline clip-path=\"url(#clip242)\" style=\"stroke:#000000; stroke-linecap:round; stroke-linejoin:round; stroke-width:2; stroke-opacity:0.1; fill:none\" points=\"\n",
       "  1608.8,1423.18 1608.8,47.2441 \n",
       "  \"/>\n",
       "<polyline clip-path=\"url(#clip242)\" style=\"stroke:#000000; stroke-linecap:round; stroke-linejoin:round; stroke-width:2; stroke-opacity:0.1; fill:none\" points=\"\n",
       "  2064.24,1423.18 2064.24,47.2441 \n",
       "  \"/>\n",
       "<polyline clip-path=\"url(#clip240)\" style=\"stroke:#000000; stroke-linecap:round; stroke-linejoin:round; stroke-width:4; stroke-opacity:1; fill:none\" points=\"\n",
       "  204.45,1423.18 2352.76,1423.18 \n",
       "  \"/>\n",
       "<polyline clip-path=\"url(#clip240)\" style=\"stroke:#000000; stroke-linecap:round; stroke-linejoin:round; stroke-width:4; stroke-opacity:1; fill:none\" points=\"\n",
       "  242.479,1423.18 242.479,1404.28 \n",
       "  \"/>\n",
       "<polyline clip-path=\"url(#clip240)\" style=\"stroke:#000000; stroke-linecap:round; stroke-linejoin:round; stroke-width:4; stroke-opacity:1; fill:none\" points=\"\n",
       "  697.918,1423.18 697.918,1404.28 \n",
       "  \"/>\n",
       "<polyline clip-path=\"url(#clip240)\" style=\"stroke:#000000; stroke-linecap:round; stroke-linejoin:round; stroke-width:4; stroke-opacity:1; fill:none\" points=\"\n",
       "  1153.36,1423.18 1153.36,1404.28 \n",
       "  \"/>\n",
       "<polyline clip-path=\"url(#clip240)\" style=\"stroke:#000000; stroke-linecap:round; stroke-linejoin:round; stroke-width:4; stroke-opacity:1; fill:none\" points=\"\n",
       "  1608.8,1423.18 1608.8,1404.28 \n",
       "  \"/>\n",
       "<polyline clip-path=\"url(#clip240)\" style=\"stroke:#000000; stroke-linecap:round; stroke-linejoin:round; stroke-width:4; stroke-opacity:1; fill:none\" points=\"\n",
       "  2064.24,1423.18 2064.24,1404.28 \n",
       "  \"/>\n",
       "<path clip-path=\"url(#clip240)\" d=\"M242.479 1454.1 Q238.868 1454.1 237.039 1457.66 Q235.234 1461.2 235.234 1468.33 Q235.234 1475.44 237.039 1479.01 Q238.868 1482.55 242.479 1482.55 Q246.113 1482.55 247.919 1479.01 Q249.747 1475.44 249.747 1468.33 Q249.747 1461.2 247.919 1457.66 Q246.113 1454.1 242.479 1454.1 M242.479 1450.39 Q248.289 1450.39 251.345 1455 Q254.423 1459.58 254.423 1468.33 Q254.423 1477.06 251.345 1481.67 Q248.289 1486.25 242.479 1486.25 Q236.669 1486.25 233.59 1481.67 Q230.534 1477.06 230.534 1468.33 Q230.534 1459.58 233.59 1455 Q236.669 1450.39 242.479 1450.39 Z\" fill=\"#000000\" fill-rule=\"evenodd\" fill-opacity=\"1\" /><path clip-path=\"url(#clip240)\" d=\"M676.691 1481.64 L693.011 1481.64 L693.011 1485.58 L671.066 1485.58 L671.066 1481.64 Q673.728 1478.89 678.312 1474.26 Q682.918 1469.61 684.099 1468.27 Q686.344 1465.74 687.224 1464.01 Q688.126 1462.25 688.126 1460.56 Q688.126 1457.8 686.182 1456.07 Q684.261 1454.33 681.159 1454.33 Q678.96 1454.33 676.506 1455.09 Q674.075 1455.86 671.298 1457.41 L671.298 1452.69 Q674.122 1451.55 676.575 1450.97 Q679.029 1450.39 681.066 1450.39 Q686.437 1450.39 689.631 1453.08 Q692.825 1455.77 692.825 1460.26 Q692.825 1462.39 692.015 1464.31 Q691.228 1466.2 689.122 1468.8 Q688.543 1469.47 685.441 1472.69 Q682.339 1475.88 676.691 1481.64 Z\" fill=\"#000000\" fill-rule=\"evenodd\" fill-opacity=\"1\" /><path clip-path=\"url(#clip240)\" d=\"M712.825 1454.1 Q709.214 1454.1 707.385 1457.66 Q705.58 1461.2 705.58 1468.33 Q705.58 1475.44 707.385 1479.01 Q709.214 1482.55 712.825 1482.55 Q716.46 1482.55 718.265 1479.01 Q720.094 1475.44 720.094 1468.33 Q720.094 1461.2 718.265 1457.66 Q716.46 1454.1 712.825 1454.1 M712.825 1450.39 Q718.635 1450.39 721.691 1455 Q724.77 1459.58 724.77 1468.33 Q724.77 1477.06 721.691 1481.67 Q718.635 1486.25 712.825 1486.25 Q707.015 1486.25 703.936 1481.67 Q700.881 1477.06 700.881 1468.33 Q700.881 1459.58 703.936 1455 Q707.015 1450.39 712.825 1450.39 Z\" fill=\"#000000\" fill-rule=\"evenodd\" fill-opacity=\"1\" /><path clip-path=\"url(#clip240)\" d=\"M1141.53 1455.09 L1129.72 1473.54 L1141.53 1473.54 L1141.53 1455.09 M1140.3 1451.02 L1146.18 1451.02 L1146.18 1473.54 L1151.11 1473.54 L1151.11 1477.43 L1146.18 1477.43 L1146.18 1485.58 L1141.53 1485.58 L1141.53 1477.43 L1125.93 1477.43 L1125.93 1472.92 L1140.3 1451.02 Z\" fill=\"#000000\" fill-rule=\"evenodd\" fill-opacity=\"1\" /><path clip-path=\"url(#clip240)\" d=\"M1168.84 1454.1 Q1165.23 1454.1 1163.4 1457.66 Q1161.6 1461.2 1161.6 1468.33 Q1161.6 1475.44 1163.4 1479.01 Q1165.23 1482.55 1168.84 1482.55 Q1172.48 1482.55 1174.28 1479.01 Q1176.11 1475.44 1176.11 1468.33 Q1176.11 1461.2 1174.28 1457.66 Q1172.48 1454.1 1168.84 1454.1 M1168.84 1450.39 Q1174.65 1450.39 1177.71 1455 Q1180.79 1459.58 1180.79 1468.33 Q1180.79 1477.06 1177.71 1481.67 Q1174.65 1486.25 1168.84 1486.25 Q1163.03 1486.25 1159.95 1481.67 Q1156.9 1477.06 1156.9 1468.33 Q1156.9 1459.58 1159.95 1455 Q1163.03 1450.39 1168.84 1450.39 Z\" fill=\"#000000\" fill-rule=\"evenodd\" fill-opacity=\"1\" /><path clip-path=\"url(#clip240)\" d=\"M1594.2 1466.44 Q1591.05 1466.44 1589.2 1468.59 Q1587.37 1470.74 1587.37 1474.49 Q1587.37 1478.22 1589.2 1480.39 Q1591.05 1482.55 1594.2 1482.55 Q1597.35 1482.55 1599.18 1480.39 Q1601.03 1478.22 1601.03 1474.49 Q1601.03 1470.74 1599.18 1468.59 Q1597.35 1466.44 1594.2 1466.44 M1603.48 1451.78 L1603.48 1456.04 Q1601.72 1455.21 1599.92 1454.77 Q1598.14 1454.33 1596.38 1454.33 Q1591.75 1454.33 1589.29 1457.45 Q1586.86 1460.58 1586.52 1466.9 Q1587.88 1464.89 1589.94 1463.82 Q1592 1462.73 1594.48 1462.73 Q1599.69 1462.73 1602.7 1465.9 Q1605.73 1469.05 1605.73 1474.49 Q1605.73 1479.82 1602.58 1483.03 Q1599.43 1486.25 1594.2 1486.25 Q1588.21 1486.25 1585.03 1481.67 Q1581.86 1477.06 1581.86 1468.33 Q1581.86 1460.14 1585.75 1455.28 Q1589.64 1450.39 1596.19 1450.39 Q1597.95 1450.39 1599.73 1450.74 Q1601.54 1451.09 1603.48 1451.78 Z\" fill=\"#000000\" fill-rule=\"evenodd\" fill-opacity=\"1\" /><path clip-path=\"url(#clip240)\" d=\"M1623.78 1454.1 Q1620.17 1454.1 1618.34 1457.66 Q1616.54 1461.2 1616.54 1468.33 Q1616.54 1475.44 1618.34 1479.01 Q1620.17 1482.55 1623.78 1482.55 Q1627.42 1482.55 1629.22 1479.01 Q1631.05 1475.44 1631.05 1468.33 Q1631.05 1461.2 1629.22 1457.66 Q1627.42 1454.1 1623.78 1454.1 M1623.78 1450.39 Q1629.59 1450.39 1632.65 1455 Q1635.73 1459.58 1635.73 1468.33 Q1635.73 1477.06 1632.65 1481.67 Q1629.59 1486.25 1623.78 1486.25 Q1617.97 1486.25 1614.9 1481.67 Q1611.84 1477.06 1611.84 1468.33 Q1611.84 1459.58 1614.9 1455 Q1617.97 1450.39 1623.78 1450.39 Z\" fill=\"#000000\" fill-rule=\"evenodd\" fill-opacity=\"1\" /><path clip-path=\"url(#clip240)\" d=\"M2049.11 1469.17 Q2045.77 1469.17 2043.85 1470.95 Q2041.96 1472.73 2041.96 1475.86 Q2041.96 1478.98 2043.85 1480.77 Q2045.77 1482.55 2049.11 1482.55 Q2052.44 1482.55 2054.36 1480.77 Q2056.28 1478.96 2056.28 1475.86 Q2056.28 1472.73 2054.36 1470.95 Q2052.46 1469.17 2049.11 1469.17 M2044.43 1467.18 Q2041.42 1466.44 2039.73 1464.38 Q2038.07 1462.32 2038.07 1459.35 Q2038.07 1455.21 2041.01 1452.8 Q2043.97 1450.39 2049.11 1450.39 Q2054.27 1450.39 2057.21 1452.8 Q2060.15 1455.21 2060.15 1459.35 Q2060.15 1462.32 2058.46 1464.38 Q2056.79 1466.44 2053.81 1467.18 Q2057.19 1467.96 2059.06 1470.26 Q2060.96 1472.55 2060.96 1475.86 Q2060.96 1480.88 2057.88 1483.57 Q2054.83 1486.25 2049.11 1486.25 Q2043.39 1486.25 2040.31 1483.57 Q2037.26 1480.88 2037.26 1475.86 Q2037.26 1472.55 2039.15 1470.26 Q2041.05 1467.96 2044.43 1467.18 M2042.72 1459.79 Q2042.72 1462.48 2044.39 1463.98 Q2046.08 1465.49 2049.11 1465.49 Q2052.12 1465.49 2053.81 1463.98 Q2055.52 1462.48 2055.52 1459.79 Q2055.52 1457.11 2053.81 1455.6 Q2052.12 1454.1 2049.11 1454.1 Q2046.08 1454.1 2044.39 1455.6 Q2042.72 1457.11 2042.72 1459.79 Z\" fill=\"#000000\" fill-rule=\"evenodd\" fill-opacity=\"1\" /><path clip-path=\"url(#clip240)\" d=\"M2079.27 1454.1 Q2075.66 1454.1 2073.83 1457.66 Q2072.02 1461.2 2072.02 1468.33 Q2072.02 1475.44 2073.83 1479.01 Q2075.66 1482.55 2079.27 1482.55 Q2082.9 1482.55 2084.71 1479.01 Q2086.54 1475.44 2086.54 1468.33 Q2086.54 1461.2 2084.71 1457.66 Q2082.9 1454.1 2079.27 1454.1 M2079.27 1450.39 Q2085.08 1450.39 2088.14 1455 Q2091.21 1459.58 2091.21 1468.33 Q2091.21 1477.06 2088.14 1481.67 Q2085.08 1486.25 2079.27 1486.25 Q2073.46 1486.25 2070.38 1481.67 Q2067.33 1477.06 2067.33 1468.33 Q2067.33 1459.58 2070.38 1455 Q2073.46 1450.39 2079.27 1450.39 Z\" fill=\"#000000\" fill-rule=\"evenodd\" fill-opacity=\"1\" /><path clip-path=\"url(#clip240)\" d=\"M1247.43 1537.81 L1247.43 1518.52 L1253.28 1518.52 L1253.28 1568.04 L1247.43 1568.04 L1247.43 1562.7 Q1245.58 1565.88 1242.75 1567.44 Q1239.95 1568.97 1236 1568.97 Q1229.54 1568.97 1225.47 1563.81 Q1221.42 1558.65 1221.42 1550.25 Q1221.42 1541.85 1225.47 1536.69 Q1229.54 1531.54 1236 1531.54 Q1239.95 1531.54 1242.75 1533.1 Q1245.58 1534.62 1247.43 1537.81 M1227.47 1550.25 Q1227.47 1556.71 1230.11 1560.4 Q1232.79 1564.07 1237.43 1564.07 Q1242.08 1564.07 1244.75 1560.4 Q1247.43 1556.71 1247.43 1550.25 Q1247.43 1543.79 1244.75 1540.13 Q1242.08 1536.44 1237.43 1536.44 Q1232.79 1536.44 1230.11 1540.13 Q1227.47 1543.79 1227.47 1550.25 Z\" fill=\"#000000\" fill-rule=\"evenodd\" fill-opacity=\"1\" /><path clip-path=\"url(#clip240)\" d=\"M1281.55 1550.12 Q1274.45 1550.12 1271.71 1551.75 Q1268.97 1553.37 1268.97 1557.29 Q1268.97 1560.4 1271.01 1562.25 Q1273.08 1564.07 1276.61 1564.07 Q1281.48 1564.07 1284.41 1560.63 Q1287.37 1557.16 1287.37 1551.43 L1287.37 1550.12 L1281.55 1550.12 M1293.23 1547.71 L1293.23 1568.04 L1287.37 1568.04 L1287.37 1562.63 Q1285.37 1565.88 1282.37 1567.44 Q1279.38 1568.97 1275.05 1568.97 Q1269.58 1568.97 1266.33 1565.91 Q1263.12 1562.82 1263.12 1557.67 Q1263.12 1551.65 1267.13 1548.6 Q1271.17 1545.54 1279.16 1545.54 L1287.37 1545.54 L1287.37 1544.97 Q1287.37 1540.93 1284.7 1538.73 Q1282.06 1536.5 1277.25 1536.5 Q1274.19 1536.5 1271.3 1537.23 Q1268.4 1537.97 1265.73 1539.43 L1265.73 1534.02 Q1268.94 1532.78 1271.97 1532.17 Q1274.99 1531.54 1277.85 1531.54 Q1285.59 1531.54 1289.41 1535.55 Q1293.23 1539.56 1293.23 1547.71 Z\" fill=\"#000000\" fill-rule=\"evenodd\" fill-opacity=\"1\" /><path clip-path=\"url(#clip240)\" d=\"M1320.12 1571.35 Q1317.64 1577.72 1315.29 1579.66 Q1312.93 1581.6 1308.98 1581.6 L1304.3 1581.6 L1304.3 1576.7 L1307.74 1576.7 Q1310.16 1576.7 1311.5 1575.56 Q1312.83 1574.41 1314.46 1570.14 L1315.51 1567.47 L1301.09 1532.4 L1307.3 1532.4 L1318.44 1560.28 L1329.58 1532.4 L1335.78 1532.4 L1320.12 1571.35 Z\" fill=\"#000000\" fill-rule=\"evenodd\" fill-opacity=\"1\" /><polyline clip-path=\"url(#clip242)\" style=\"stroke:#000000; stroke-linecap:round; stroke-linejoin:round; stroke-width:2; stroke-opacity:0.1; fill:none\" points=\"\n",
       "  204.45,1208.76 2352.76,1208.76 \n",
       "  \"/>\n",
       "<polyline clip-path=\"url(#clip242)\" style=\"stroke:#000000; stroke-linecap:round; stroke-linejoin:round; stroke-width:2; stroke-opacity:0.1; fill:none\" points=\"\n",
       "  204.45,954.189 2352.76,954.189 \n",
       "  \"/>\n",
       "<polyline clip-path=\"url(#clip242)\" style=\"stroke:#000000; stroke-linecap:round; stroke-linejoin:round; stroke-width:2; stroke-opacity:0.1; fill:none\" points=\"\n",
       "  204.45,699.618 2352.76,699.618 \n",
       "  \"/>\n",
       "<polyline clip-path=\"url(#clip242)\" style=\"stroke:#000000; stroke-linecap:round; stroke-linejoin:round; stroke-width:2; stroke-opacity:0.1; fill:none\" points=\"\n",
       "  204.45,445.047 2352.76,445.047 \n",
       "  \"/>\n",
       "<polyline clip-path=\"url(#clip242)\" style=\"stroke:#000000; stroke-linecap:round; stroke-linejoin:round; stroke-width:2; stroke-opacity:0.1; fill:none\" points=\"\n",
       "  204.45,190.477 2352.76,190.477 \n",
       "  \"/>\n",
       "<polyline clip-path=\"url(#clip240)\" style=\"stroke:#000000; stroke-linecap:round; stroke-linejoin:round; stroke-width:4; stroke-opacity:1; fill:none\" points=\"\n",
       "  204.45,1423.18 204.45,47.2441 \n",
       "  \"/>\n",
       "<polyline clip-path=\"url(#clip240)\" style=\"stroke:#000000; stroke-linecap:round; stroke-linejoin:round; stroke-width:4; stroke-opacity:1; fill:none\" points=\"\n",
       "  204.45,1208.76 223.347,1208.76 \n",
       "  \"/>\n",
       "<polyline clip-path=\"url(#clip240)\" style=\"stroke:#000000; stroke-linecap:round; stroke-linejoin:round; stroke-width:4; stroke-opacity:1; fill:none\" points=\"\n",
       "  204.45,954.189 223.347,954.189 \n",
       "  \"/>\n",
       "<polyline clip-path=\"url(#clip240)\" style=\"stroke:#000000; stroke-linecap:round; stroke-linejoin:round; stroke-width:4; stroke-opacity:1; fill:none\" points=\"\n",
       "  204.45,699.618 223.347,699.618 \n",
       "  \"/>\n",
       "<polyline clip-path=\"url(#clip240)\" style=\"stroke:#000000; stroke-linecap:round; stroke-linejoin:round; stroke-width:4; stroke-opacity:1; fill:none\" points=\"\n",
       "  204.45,445.047 223.347,445.047 \n",
       "  \"/>\n",
       "<polyline clip-path=\"url(#clip240)\" style=\"stroke:#000000; stroke-linecap:round; stroke-linejoin:round; stroke-width:4; stroke-opacity:1; fill:none\" points=\"\n",
       "  204.45,190.477 223.347,190.477 \n",
       "  \"/>\n",
       "<path clip-path=\"url(#clip240)\" d=\"M116.992 1222.1 L124.63 1222.1 L124.63 1195.74 L116.32 1197.41 L116.32 1193.15 L124.584 1191.48 L129.26 1191.48 L129.26 1222.1 L136.899 1222.1 L136.899 1226.04 L116.992 1226.04 L116.992 1222.1 Z\" fill=\"#000000\" fill-rule=\"evenodd\" fill-opacity=\"1\" /><path clip-path=\"url(#clip240)\" d=\"M156.922 1206.9 Q153.774 1206.9 151.922 1209.05 Q150.093 1211.2 150.093 1214.95 Q150.093 1218.68 151.922 1220.85 Q153.774 1223.01 156.922 1223.01 Q160.07 1223.01 161.899 1220.85 Q163.751 1218.68 163.751 1214.95 Q163.751 1211.2 161.899 1209.05 Q160.07 1206.9 156.922 1206.9 M166.204 1192.24 L166.204 1196.5 Q164.445 1195.67 162.64 1195.23 Q160.857 1194.79 159.098 1194.79 Q154.468 1194.79 152.015 1197.92 Q149.584 1201.04 149.237 1207.36 Q150.603 1205.35 152.663 1204.28 Q154.723 1203.19 157.2 1203.19 Q162.408 1203.19 165.417 1206.36 Q168.45 1209.51 168.45 1214.95 Q168.45 1220.28 165.302 1223.49 Q162.153 1226.71 156.922 1226.71 Q150.927 1226.71 147.755 1222.13 Q144.584 1217.52 144.584 1208.79 Q144.584 1200.6 148.473 1195.74 Q152.362 1190.86 158.913 1190.86 Q160.672 1190.86 162.454 1191.2 Q164.26 1191.55 166.204 1192.24 Z\" fill=\"#000000\" fill-rule=\"evenodd\" fill-opacity=\"1\" /><path clip-path=\"url(#clip240)\" d=\"M117.246 967.534 L124.885 967.534 L124.885 941.168 L116.575 942.835 L116.575 938.576 L124.839 936.909 L129.515 936.909 L129.515 967.534 L137.154 967.534 L137.154 971.469 L117.246 971.469 L117.246 967.534 Z\" fill=\"#000000\" fill-rule=\"evenodd\" fill-opacity=\"1\" /><path clip-path=\"url(#clip240)\" d=\"M156.598 955.057 Q153.265 955.057 151.343 956.84 Q149.445 958.622 149.445 961.747 Q149.445 964.872 151.343 966.654 Q153.265 968.437 156.598 968.437 Q159.931 968.437 161.852 966.654 Q163.774 964.849 163.774 961.747 Q163.774 958.622 161.852 956.84 Q159.954 955.057 156.598 955.057 M151.922 953.066 Q148.913 952.326 147.223 950.266 Q145.556 948.205 145.556 945.242 Q145.556 941.099 148.496 938.692 Q151.459 936.284 156.598 936.284 Q161.76 936.284 164.7 938.692 Q167.64 941.099 167.64 945.242 Q167.64 948.205 165.95 950.266 Q164.283 952.326 161.297 953.066 Q164.677 953.854 166.552 956.145 Q168.45 958.437 168.45 961.747 Q168.45 966.77 165.371 969.455 Q162.315 972.14 156.598 972.14 Q150.88 972.14 147.802 969.455 Q144.746 966.77 144.746 961.747 Q144.746 958.437 146.644 956.145 Q148.542 953.854 151.922 953.066 M150.209 945.682 Q150.209 948.367 151.876 949.872 Q153.566 951.377 156.598 951.377 Q159.607 951.377 161.297 949.872 Q163.01 948.367 163.01 945.682 Q163.01 942.997 161.297 941.492 Q159.607 939.988 156.598 939.988 Q153.566 939.988 151.876 941.492 Q150.209 942.997 150.209 945.682 Z\" fill=\"#000000\" fill-rule=\"evenodd\" fill-opacity=\"1\" /><path clip-path=\"url(#clip240)\" d=\"M120.371 712.963 L136.691 712.963 L136.691 716.898 L114.746 716.898 L114.746 712.963 Q117.408 710.209 121.992 705.579 Q126.598 700.926 127.779 699.584 Q130.024 697.06 130.904 695.324 Q131.806 693.565 131.806 691.875 Q131.806 689.121 129.862 687.385 Q127.941 685.648 124.839 685.648 Q122.64 685.648 120.186 686.412 Q117.756 687.176 114.978 688.727 L114.978 684.005 Q117.802 682.871 120.255 682.292 Q122.709 681.713 124.746 681.713 Q130.117 681.713 133.311 684.398 Q136.505 687.084 136.505 691.574 Q136.505 693.704 135.695 695.625 Q134.908 697.523 132.802 700.116 Q132.223 700.787 129.121 704.005 Q126.019 707.199 120.371 712.963 Z\" fill=\"#000000\" fill-rule=\"evenodd\" fill-opacity=\"1\" /><path clip-path=\"url(#clip240)\" d=\"M156.505 685.417 Q152.894 685.417 151.066 688.982 Q149.26 692.523 149.26 699.653 Q149.26 706.759 151.066 710.324 Q152.894 713.866 156.505 713.866 Q160.14 713.866 161.945 710.324 Q163.774 706.759 163.774 699.653 Q163.774 692.523 161.945 688.982 Q160.14 685.417 156.505 685.417 M156.505 681.713 Q162.315 681.713 165.371 686.32 Q168.45 690.903 168.45 699.653 Q168.45 708.38 165.371 712.986 Q162.315 717.57 156.505 717.57 Q150.695 717.57 147.616 712.986 Q144.561 708.38 144.561 699.653 Q144.561 690.903 147.616 686.32 Q150.695 681.713 156.505 681.713 Z\" fill=\"#000000\" fill-rule=\"evenodd\" fill-opacity=\"1\" /><path clip-path=\"url(#clip240)\" d=\"M121.968 458.392 L138.288 458.392 L138.288 462.327 L116.343 462.327 L116.343 458.392 Q119.006 455.638 123.589 451.008 Q128.195 446.355 129.376 445.013 Q131.621 442.49 132.501 440.753 Q133.404 438.994 133.404 437.304 Q133.404 434.55 131.459 432.814 Q129.538 431.078 126.436 431.078 Q124.237 431.078 121.783 431.841 Q119.353 432.605 116.575 434.156 L116.575 429.434 Q119.399 428.3 121.853 427.721 Q124.306 427.142 126.343 427.142 Q131.714 427.142 134.908 429.828 Q138.103 432.513 138.103 437.003 Q138.103 439.133 137.292 441.054 Q136.505 442.953 134.399 445.545 Q133.82 446.216 130.718 449.434 Q127.617 452.628 121.968 458.392 Z\" fill=\"#000000\" fill-rule=\"evenodd\" fill-opacity=\"1\" /><path clip-path=\"url(#clip240)\" d=\"M152.13 458.392 L168.45 458.392 L168.45 462.327 L146.505 462.327 L146.505 458.392 Q149.167 455.638 153.751 451.008 Q158.357 446.355 159.538 445.013 Q161.783 442.49 162.663 440.753 Q163.565 438.994 163.565 437.304 Q163.565 434.55 161.621 432.814 Q159.7 431.078 156.598 431.078 Q154.399 431.078 151.945 431.841 Q149.515 432.605 146.737 434.156 L146.737 429.434 Q149.561 428.3 152.015 427.721 Q154.468 427.142 156.505 427.142 Q161.876 427.142 165.07 429.828 Q168.264 432.513 168.264 437.003 Q168.264 439.133 167.454 441.054 Q166.667 442.953 164.561 445.545 Q163.982 446.216 160.88 449.434 Q157.778 452.628 152.13 458.392 Z\" fill=\"#000000\" fill-rule=\"evenodd\" fill-opacity=\"1\" /><path clip-path=\"url(#clip240)\" d=\"M119.885 203.821 L136.204 203.821 L136.204 207.757 L114.26 207.757 L114.26 203.821 Q116.922 201.067 121.505 196.437 Q126.112 191.784 127.292 190.442 Q129.538 187.919 130.417 186.183 Q131.32 184.423 131.32 182.734 Q131.32 179.979 129.376 178.243 Q127.455 176.507 124.353 176.507 Q122.154 176.507 119.7 177.271 Q117.269 178.034 114.492 179.585 L114.492 174.863 Q117.316 173.729 119.769 173.15 Q122.223 172.572 124.26 172.572 Q129.63 172.572 132.825 175.257 Q136.019 177.942 136.019 182.433 Q136.019 184.562 135.209 186.483 Q134.422 188.382 132.316 190.974 Q131.737 191.646 128.635 194.863 Q125.533 198.058 119.885 203.821 Z\" fill=\"#000000\" fill-rule=\"evenodd\" fill-opacity=\"1\" /><path clip-path=\"url(#clip240)\" d=\"M158.866 177.271 L147.061 195.72 L158.866 195.72 L158.866 177.271 M157.64 173.197 L163.519 173.197 L163.519 195.72 L168.45 195.72 L168.45 199.608 L163.519 199.608 L163.519 207.757 L158.866 207.757 L158.866 199.608 L143.265 199.608 L143.265 195.095 L157.64 173.197 Z\" fill=\"#000000\" fill-rule=\"evenodd\" fill-opacity=\"1\" /><path clip-path=\"url(#clip240)\" d=\"M58.657 805.744 L77.5631 805.744 L77.5631 811.632 L28.3562 811.632 L28.3562 805.744 L33.7671 805.744 Q30.5842 803.898 29.0564 801.097 Q27.4968 798.264 27.4968 794.349 Q27.4968 787.856 32.6531 783.814 Q37.8093 779.74 46.212 779.74 Q54.6147 779.74 59.771 783.814 Q64.9272 787.856 64.9272 794.349 Q64.9272 798.264 63.3994 801.097 Q61.8398 803.898 58.657 805.744 M46.212 785.819 Q39.7508 785.819 36.0905 788.493 Q32.3984 791.135 32.3984 795.782 Q32.3984 800.429 36.0905 803.102 Q39.7508 805.744 46.212 805.744 Q52.6732 805.744 56.3653 803.102 Q60.0256 800.429 60.0256 795.782 Q60.0256 791.135 56.3653 788.493 Q52.6732 785.819 46.212 785.819 Z\" fill=\"#000000\" fill-rule=\"evenodd\" fill-opacity=\"1\" /><path clip-path=\"url(#clip240)\" d=\"M33.8307 749.376 Q33.2578 750.362 33.0032 751.54 Q32.7167 752.686 32.7167 754.086 Q32.7167 759.052 35.9632 761.725 Q39.1779 764.367 45.2253 764.367 L64.0042 764.367 L64.0042 770.255 L28.3562 770.255 L28.3562 764.367 L33.8944 764.367 Q30.6479 762.521 29.0883 759.561 Q27.4968 756.601 27.4968 752.368 Q27.4968 751.763 27.5923 751.031 Q27.656 750.299 27.8151 749.407 L33.8307 749.376 Z\" fill=\"#000000\" fill-rule=\"evenodd\" fill-opacity=\"1\" /><path clip-path=\"url(#clip240)\" d=\"M28.3562 743.233 L28.3562 737.376 L64.0042 737.376 L64.0042 743.233 L28.3562 743.233 M14.479 743.233 L14.479 737.376 L21.895 737.376 L21.895 743.233 L14.479 743.233 Z\" fill=\"#000000\" fill-rule=\"evenodd\" fill-opacity=\"1\" /><path clip-path=\"url(#clip240)\" d=\"M29.7248 699.469 L35.1993 699.469 Q33.8307 701.951 33.1623 704.466 Q32.4621 706.948 32.4621 709.495 Q32.4621 715.192 36.0905 718.343 Q39.6872 721.494 46.212 721.494 Q52.7369 721.494 56.3653 718.343 Q59.9619 715.192 59.9619 709.495 Q59.9619 706.948 59.2935 704.466 Q58.5933 701.951 57.2247 699.469 L62.6355 699.469 Q63.7814 701.919 64.3543 704.561 Q64.9272 707.171 64.9272 710.131 Q64.9272 718.184 59.8664 722.926 Q54.8057 727.669 46.212 727.669 Q37.491 727.669 32.4939 722.894 Q27.4968 718.088 27.4968 709.749 Q27.4968 707.044 28.0697 704.466 Q28.6108 701.887 29.7248 699.469 Z\" fill=\"#000000\" fill-rule=\"evenodd\" fill-opacity=\"1\" /><path clip-path=\"url(#clip240)\" d=\"M44.7161 658.792 L47.5806 658.792 L47.5806 685.719 Q53.6281 685.337 56.8109 682.09 Q59.9619 678.812 59.9619 672.987 Q59.9619 669.613 59.1344 666.462 Q58.3069 663.279 56.6518 660.16 L62.1899 660.16 Q63.5267 663.311 64.227 666.621 Q64.9272 669.932 64.9272 673.337 Q64.9272 681.867 59.9619 686.864 Q54.9967 691.83 46.5303 691.83 Q37.7774 691.83 32.6531 687.119 Q27.4968 682.377 27.4968 674.356 Q27.4968 667.163 32.1438 662.993 Q36.7589 658.792 44.7161 658.792 M42.9973 664.648 Q38.1912 664.712 35.3266 667.354 Q32.4621 669.963 32.4621 674.292 Q32.4621 679.194 35.2312 682.154 Q38.0002 685.082 43.0292 685.528 L42.9973 664.648 Z\" fill=\"#000000\" fill-rule=\"evenodd\" fill-opacity=\"1\" /><polyline clip-path=\"url(#clip242)\" style=\"stroke:#009af9; stroke-linecap:round; stroke-linejoin:round; stroke-width:4; stroke-opacity:1; fill:none\" points=\"\n",
       "  265.251,900.729 288.023,924.914 310.795,935.096 333.567,947.825 356.339,890.546 379.111,848.542 401.883,815.448 424.654,797.628 447.426,801.447 470.198,782.354 \n",
       "  492.97,778.535 515.742,837.087 538.514,805.265 561.286,837.087 584.058,843.451 606.83,829.449 629.602,877.818 652.374,849.815 675.146,1162.94 697.918,1187.12 \n",
       "  720.69,1244.4 743.462,1207.49 766.234,1254.58 789.006,1234.22 811.778,1232.94 834.55,1174.39 857.322,1188.39 880.094,1182.03 902.866,1276.22 925.637,1292.77 \n",
       "  948.409,1213.85 971.181,1188.39 993.953,1159.12 1016.73,1105.66 1039.5,1082.75 1062.27,1106.93 1085.04,1021.65 1107.81,938.915 1130.59,989.829 1153.36,1001.28 \n",
       "  1176.13,970.736 1198.9,945.279 1221.67,862.544 1244.44,867.635 1267.22,830.722 1289.99,840.905 1312.76,844.724 1335.53,828.177 1358.3,803.992 1381.08,767.08 \n",
       "  1403.85,816.721 1426.62,831.995 1449.39,739.077 1472.16,719.984 1494.94,638.521 1517.71,632.157 1540.48,649.977 1563.25,697.073 1586.02,691.981 1608.8,635.976 \n",
       "  1631.57,607.973 1654.34,625.793 1677.11,635.976 1699.88,620.701 1722.66,572.333 1745.43,554.513 1768.2,544.33 1790.97,451.412 1813.74,521.419 1836.52,359.766 \n",
       "  1859.29,425.955 1882.06,443.775 1904.83,397.952 1927.6,371.222 1950.38,448.866 1973.15,389.042 1995.92,354.675 2018.69,358.493 2041.46,394.133 2064.24,434.865 \n",
       "  2087.01,291.032 2109.78,283.395 2132.55,251.574 2155.32,278.303 2178.1,233.754 2200.87,204.478 2223.64,139.562 2246.41,161.201 2269.18,182.839 2291.95,191.749 \n",
       "  \n",
       "  \"/>\n",
       "<path clip-path=\"url(#clip242)\" d=\"\n",
       "M265.251 919.726 L288.023 918.23 L310.795 938.387 L333.567 929.968 L356.339 969.493 L379.111 929.667 L401.883 907.713 L424.654 852.468 L447.426 821.981 L470.198 794.479 \n",
       "  L492.97 771.731 L515.742 792.717 L538.514 855.712 L561.286 837.063 L584.058 885.423 L606.83 880.564 L629.602 871.994 L652.374 910.264 L675.146 872.993 L697.918 1209.08 \n",
       "  L720.69 1169.98 L743.462 1345.61 L766.234 1315.83 L789.006 1384.24 L811.778 1308.01 L834.55 1244.45 L857.322 1207.09 L880.094 1147.25 L902.866 1189.72 L925.637 1270.96 \n",
       "  L948.409 1305.5 L971.181 1244.88 L993.953 1266.18 L1016.73 1204.99 L1039.5 1138.65 L1062.27 1073.54 L1085.04 1102.71 L1107.81 1002.48 L1130.59 962.75 L1153.36 1032.63 \n",
       "  L1176.13 1000.39 L1198.9 975.913 L1221.67 977.11 L1244.44 911.41 L1267.22 904.282 L1289.99 848.405 L1312.76 859.905 L1335.53 830.128 L1358.3 841.289 L1381.08 843.685 \n",
       "  L1403.85 803.246 L1426.62 864.003 L1449.39 831.832 L1472.16 764.376 L1494.94 761.352 L1517.71 666.544 L1540.48 656.428 L1563.25 635.969 L1586.02 690.82 L1608.8 687.105 \n",
       "  L1631.57 671.06 L1654.34 690.368 L1677.11 663.96 L1699.88 659.257 L1722.66 620.651 L1745.43 588.139 L1768.2 580.783 L1790.97 567.618 L1813.74 472.833 L1836.52 542.848 \n",
       "  L1859.29 348.892 L1882.06 461.833 L1904.83 435.743 L1927.6 418.743 L1950.38 405.453 L1973.15 479.577 L1995.92 437.745 L2018.69 368.996 L2041.46 426.195 L2064.24 398.956 \n",
       "  L2087.01 435.431 L2109.78 313.114 L2132.55 353.152 L2155.32 257.682 L2178.1 296.21 L2200.87 219.385 L2223.64 212.322 L2246.41 162.772 L2269.18 177.02 L2291.95 215.462 \n",
       "  L2291.95 139.286 L2269.18 100.341 L2246.41 86.1857 L2223.64 135.865 L2200.87 142.862 L2178.1 219.653 L2155.32 180.125 L2132.55 275.574 L2109.78 235.465 L2087.01 361.872 \n",
       "  L2064.24 324.453 L2041.46 347.294 L2018.69 288.836 L1995.92 355.302 L1973.15 397.64 L1950.38 324.056 L1927.6 335.893 L1904.83 352.958 L1882.06 379.038 L1859.29 268.392 \n",
       "  L1836.52 468.11 L1813.74 399.584 L1790.97 496.213 L1768.2 509.112 L1745.43 516.411 L1722.66 549.104 L1699.88 586.773 L1677.11 591.492 L1654.34 615.437 L1631.57 596.007 \n",
       "  L1608.8 612.195 L1586.02 615.681 L1563.25 561.785 L1540.48 582.186 L1517.71 592.385 L1494.94 688.759 L1472.16 691.498 L1449.39 760.128 L1426.62 790.869 L1403.85 730.846 \n",
       "  L1381.08 771.247 L1358.3 768.562 L1335.53 756.772 L1312.76 785.661 L1289.99 773.915 L1267.22 830.248 L1244.44 837.185 L1221.67 903.462 L1198.9 902.27 L1176.13 926.648 \n",
       "  L1153.36 957.731 L1130.59 888.497 L1107.81 927.113 L1085.04 1028.45 L1062.27 999.267 L1039.5 1063.78 L1016.73 1130.92 L993.953 1191.92 L971.181 1169.89 L948.409 1231.05 \n",
       "  L925.637 1195.3 L902.866 1116.21 L880.094 1055.71 L857.322 1115.25 L834.55 1151.27 L811.778 1214.44 L789.006 1290.28 L766.234 1222.19 L743.462 1251.64 L720.69 1075.95 \n",
       "  L697.918 1115.17 L675.146 800.449 L652.374 837.991 L629.602 799.911 L606.83 808.339 L584.058 812.789 L561.286 764.374 L538.514 783.183 L515.742 721.194 L492.97 699.904 \n",
       "  L470.198 722.59 L447.426 749.671 L424.654 780.129 L401.883 835.454 L379.111 857.442 L356.339 897.709 L333.567 857.974 L310.795 866.18 L288.023 846.194 L265.251 847.671 \n",
       "   Z\n",
       "  \" fill=\"#e26f46\" fill-rule=\"evenodd\" fill-opacity=\"0.5\"/>\n",
       "<polyline clip-path=\"url(#clip242)\" style=\"stroke:#e26f46; stroke-linecap:round; stroke-linejoin:round; stroke-width:4; stroke-opacity:1; fill:none\" points=\"\n",
       "  265.251,883.698 288.023,882.212 310.795,902.283 333.567,893.971 356.339,933.601 379.111,893.555 401.883,871.583 424.654,816.298 447.426,785.826 470.198,758.534 \n",
       "  492.97,735.817 515.742,756.955 538.514,819.447 561.286,800.718 584.058,849.106 606.83,844.451 629.602,835.952 652.374,874.128 675.146,836.721 697.918,1162.13 \n",
       "  720.69,1122.96 743.462,1298.63 766.234,1269.01 789.006,1337.26 811.778,1261.23 834.55,1197.86 857.322,1161.17 880.094,1101.48 902.866,1152.97 925.637,1233.13 \n",
       "  948.409,1268.27 971.181,1207.38 993.953,1229.05 1016.73,1167.95 1039.5,1101.22 1062.27,1036.4 1085.04,1065.58 1107.81,964.794 1130.59,925.624 1153.36,995.181 \n",
       "  1176.13,963.519 1198.9,939.092 1221.67,940.286 1244.44,874.297 1267.22,867.265 1289.99,811.16 1312.76,822.783 1335.53,793.45 1358.3,804.925 1381.08,807.466 \n",
       "  1403.85,767.046 1426.62,827.436 1449.39,795.98 1472.16,727.937 1494.94,725.056 1517.71,629.464 1540.48,619.307 1563.25,598.877 1586.02,653.25 1608.8,649.65 \n",
       "  1631.57,633.533 1654.34,652.902 1677.11,627.726 1699.88,623.015 1722.66,584.877 1745.43,552.275 1768.2,544.947 1790.97,531.915 1813.74,436.209 1836.52,505.479 \n",
       "  1859.29,308.642 1882.06,420.435 1904.83,394.35 1927.6,377.318 1950.38,364.755 1973.15,438.608 1995.92,396.524 2018.69,328.916 2041.46,386.744 2064.24,361.705 \n",
       "  2087.01,398.651 2109.78,274.289 2132.55,314.363 2155.32,218.904 2178.1,257.932 2200.87,181.123 2223.64,174.093 2246.41,124.479 2269.18,138.68 2291.95,177.374 \n",
       "  \n",
       "  \"/>\n",
       "<path clip-path=\"url(#clip240)\" d=\"\n",
       "M276.06 248.629 L731.033 248.629 L731.033 93.1086 L276.06 93.1086  Z\n",
       "  \" fill=\"#ffffff\" fill-rule=\"evenodd\" fill-opacity=\"1\"/>\n",
       "<polyline clip-path=\"url(#clip240)\" style=\"stroke:#000000; stroke-linecap:round; stroke-linejoin:round; stroke-width:4; stroke-opacity:1; fill:none\" points=\"\n",
       "  276.06,248.629 731.033,248.629 731.033,93.1086 276.06,93.1086 276.06,248.629 \n",
       "  \"/>\n",
       "<polyline clip-path=\"url(#clip240)\" style=\"stroke:#009af9; stroke-linecap:round; stroke-linejoin:round; stroke-width:4; stroke-opacity:1; fill:none\" points=\"\n",
       "  299.93,144.949 443.15,144.949 \n",
       "  \"/>\n",
       "<path clip-path=\"url(#clip240)\" d=\"M474.428 128.942 L474.428 136.303 L483.201 136.303 L483.201 139.613 L474.428 139.613 L474.428 153.687 Q474.428 156.858 475.284 157.761 Q476.164 158.664 478.826 158.664 L483.201 158.664 L483.201 162.229 L478.826 162.229 Q473.895 162.229 472.02 160.4 Q470.145 158.548 470.145 153.687 L470.145 139.613 L467.02 139.613 L467.02 136.303 L470.145 136.303 L470.145 128.942 L474.428 128.942 Z\" fill=\"#000000\" fill-rule=\"evenodd\" fill-opacity=\"1\" /><path clip-path=\"url(#clip240)\" d=\"M510.979 148.201 L510.979 150.284 L491.395 150.284 Q491.673 154.682 494.034 156.997 Q496.418 159.289 500.655 159.289 Q503.108 159.289 505.4 158.687 Q507.715 158.085 509.983 156.881 L509.983 160.909 Q507.692 161.881 505.284 162.391 Q502.877 162.9 500.4 162.9 Q494.196 162.9 490.562 159.289 Q486.951 155.678 486.951 149.52 Q486.951 143.155 490.377 139.428 Q493.826 135.678 499.659 135.678 Q504.891 135.678 507.923 139.057 Q510.979 142.414 510.979 148.201 M506.719 146.951 Q506.673 143.456 504.752 141.372 Q502.854 139.289 499.705 139.289 Q496.141 139.289 493.988 141.303 Q491.858 143.317 491.534 146.974 L506.719 146.951 Z\" fill=\"#000000\" fill-rule=\"evenodd\" fill-opacity=\"1\" /><path clip-path=\"url(#clip240)\" d=\"M534.497 137.067 L534.497 141.094 Q532.691 140.169 530.747 139.706 Q528.803 139.243 526.719 139.243 Q523.548 139.243 521.951 140.215 Q520.377 141.187 520.377 143.131 Q520.377 144.613 521.511 145.469 Q522.645 146.303 526.071 147.067 L527.529 147.391 Q532.066 148.363 533.965 150.145 Q535.886 151.905 535.886 155.076 Q535.886 158.687 533.015 160.793 Q530.168 162.9 525.168 162.9 Q523.085 162.9 520.816 162.483 Q518.571 162.09 516.071 161.28 L516.071 156.881 Q518.432 158.108 520.724 158.733 Q523.016 159.335 525.261 159.335 Q528.27 159.335 529.89 158.317 Q531.511 157.275 531.511 155.4 Q531.511 153.664 530.33 152.738 Q529.173 151.812 525.215 150.956 L523.733 150.608 Q519.775 149.775 518.016 148.062 Q516.256 146.326 516.256 143.317 Q516.256 139.659 518.849 137.669 Q521.441 135.678 526.21 135.678 Q528.571 135.678 530.654 136.025 Q532.738 136.372 534.497 137.067 Z\" fill=\"#000000\" fill-rule=\"evenodd\" fill-opacity=\"1\" /><path clip-path=\"url(#clip240)\" d=\"M546.881 128.942 L546.881 136.303 L555.654 136.303 L555.654 139.613 L546.881 139.613 L546.881 153.687 Q546.881 156.858 547.738 157.761 Q548.617 158.664 551.279 158.664 L555.654 158.664 L555.654 162.229 L551.279 162.229 Q546.349 162.229 544.474 160.4 Q542.599 158.548 542.599 153.687 L542.599 139.613 L539.474 139.613 L539.474 136.303 L542.599 136.303 L542.599 128.942 L546.881 128.942 Z\" fill=\"#000000\" fill-rule=\"evenodd\" fill-opacity=\"1\" /><path clip-path=\"url(#clip240)\" d=\"M593.386 140.238 L593.386 126.21 L597.645 126.21 L597.645 162.229 L593.386 162.229 L593.386 158.34 Q592.043 160.655 589.983 161.789 Q587.946 162.9 585.075 162.9 Q580.376 162.9 577.413 159.15 Q574.474 155.4 574.474 149.289 Q574.474 143.178 577.413 139.428 Q580.376 135.678 585.075 135.678 Q587.946 135.678 589.983 136.812 Q592.043 137.923 593.386 140.238 M578.872 149.289 Q578.872 153.988 580.793 156.673 Q582.737 159.335 586.117 159.335 Q589.497 159.335 591.441 156.673 Q593.386 153.988 593.386 149.289 Q593.386 144.59 591.441 141.928 Q589.497 139.243 586.117 139.243 Q582.737 139.243 580.793 141.928 Q578.872 144.59 578.872 149.289 Z\" fill=\"#000000\" fill-rule=\"evenodd\" fill-opacity=\"1\" /><path clip-path=\"url(#clip240)\" d=\"M618.2 149.196 Q613.038 149.196 611.047 150.377 Q609.057 151.557 609.057 154.405 Q609.057 156.673 610.538 158.016 Q612.043 159.335 614.612 159.335 Q618.154 159.335 620.284 156.835 Q622.436 154.312 622.436 150.145 L622.436 149.196 L618.2 149.196 M626.696 147.437 L626.696 162.229 L622.436 162.229 L622.436 158.293 Q620.978 160.655 618.802 161.789 Q616.626 162.9 613.478 162.9 Q609.497 162.9 607.135 160.678 Q604.797 158.432 604.797 154.682 Q604.797 150.307 607.714 148.085 Q610.654 145.863 616.464 145.863 L622.436 145.863 L622.436 145.446 Q622.436 142.507 620.492 140.909 Q618.571 139.289 615.075 139.289 Q612.853 139.289 610.747 139.821 Q608.64 140.354 606.696 141.419 L606.696 137.483 Q609.034 136.581 611.233 136.141 Q613.432 135.678 615.515 135.678 Q621.14 135.678 623.918 138.594 Q626.696 141.511 626.696 147.437 Z\" fill=\"#000000\" fill-rule=\"evenodd\" fill-opacity=\"1\" /><path clip-path=\"url(#clip240)\" d=\"M639.682 128.942 L639.682 136.303 L648.455 136.303 L648.455 139.613 L639.682 139.613 L639.682 153.687 Q639.682 156.858 640.538 157.761 Q641.418 158.664 644.08 158.664 L648.455 158.664 L648.455 162.229 L644.08 162.229 Q639.149 162.229 637.274 160.4 Q635.399 158.548 635.399 153.687 L635.399 139.613 L632.274 139.613 L632.274 136.303 L635.399 136.303 L635.399 128.942 L639.682 128.942 Z\" fill=\"#000000\" fill-rule=\"evenodd\" fill-opacity=\"1\" /><path clip-path=\"url(#clip240)\" d=\"M665.839 149.196 Q660.677 149.196 658.686 150.377 Q656.695 151.557 656.695 154.405 Q656.695 156.673 658.177 158.016 Q659.681 159.335 662.251 159.335 Q665.793 159.335 667.922 156.835 Q670.075 154.312 670.075 150.145 L670.075 149.196 L665.839 149.196 M674.334 147.437 L674.334 162.229 L670.075 162.229 L670.075 158.293 Q668.617 160.655 666.441 161.789 Q664.265 162.9 661.117 162.9 Q657.135 162.9 654.774 160.678 Q652.436 158.432 652.436 154.682 Q652.436 150.307 655.353 148.085 Q658.293 145.863 664.103 145.863 L670.075 145.863 L670.075 145.446 Q670.075 142.507 668.13 140.909 Q666.209 139.289 662.714 139.289 Q660.492 139.289 658.385 139.821 Q656.279 140.354 654.334 141.419 L654.334 137.483 Q656.672 136.581 658.871 136.141 Q661.07 135.678 663.154 135.678 Q668.779 135.678 671.556 138.594 Q674.334 141.511 674.334 147.437 Z\" fill=\"#000000\" fill-rule=\"evenodd\" fill-opacity=\"1\" /><polyline clip-path=\"url(#clip240)\" style=\"stroke:#e26f46; stroke-linecap:round; stroke-linejoin:round; stroke-width:4; stroke-opacity:1; fill:none\" points=\"\n",
       "  299.93,196.789 443.15,196.789 \n",
       "  \"/>\n",
       "<path clip-path=\"url(#clip240)\" d=\"M471.303 210.18 L471.303 223.93 L467.02 223.93 L467.02 188.143 L471.303 188.143 L471.303 192.078 Q472.645 189.763 474.682 188.652 Q476.743 187.518 479.59 187.518 Q484.312 187.518 487.252 191.268 Q490.215 195.018 490.215 201.129 Q490.215 207.24 487.252 210.99 Q484.312 214.74 479.59 214.74 Q476.743 214.74 474.682 213.629 Q472.645 212.495 471.303 210.18 M485.793 201.129 Q485.793 196.43 483.849 193.768 Q481.928 191.083 478.548 191.083 Q475.169 191.083 473.224 193.768 Q471.303 196.43 471.303 201.129 Q471.303 205.828 473.224 208.513 Q475.169 211.175 478.548 211.175 Q481.928 211.175 483.849 208.513 Q485.793 205.828 485.793 201.129 Z\" fill=\"#000000\" fill-rule=\"evenodd\" fill-opacity=\"1\" /><path clip-path=\"url(#clip240)\" d=\"M512.298 192.124 Q511.58 191.708 510.724 191.522 Q509.891 191.314 508.872 191.314 Q505.261 191.314 503.317 193.675 Q501.395 196.013 501.395 200.411 L501.395 214.069 L497.113 214.069 L497.113 188.143 L501.395 188.143 L501.395 192.171 Q502.738 189.809 504.891 188.675 Q507.043 187.518 510.122 187.518 Q510.562 187.518 511.094 187.587 Q511.627 187.634 512.275 187.749 L512.298 192.124 Z\" fill=\"#000000\" fill-rule=\"evenodd\" fill-opacity=\"1\" /><path clip-path=\"url(#clip240)\" d=\"M537.9 200.041 L537.9 202.124 L518.316 202.124 Q518.594 206.522 520.955 208.837 Q523.34 211.129 527.576 211.129 Q530.029 211.129 532.321 210.527 Q534.636 209.925 536.904 208.721 L536.904 212.749 Q534.613 213.721 532.205 214.231 Q529.798 214.74 527.321 214.74 Q521.117 214.74 517.483 211.129 Q513.872 207.518 513.872 201.36 Q513.872 194.995 517.298 191.268 Q520.747 187.518 526.58 187.518 Q531.812 187.518 534.844 190.897 Q537.9 194.254 537.9 200.041 M533.64 198.791 Q533.594 195.296 531.673 193.212 Q529.775 191.129 526.627 191.129 Q523.062 191.129 520.909 193.143 Q518.779 195.157 518.455 198.814 L533.64 198.791 Z\" fill=\"#000000\" fill-rule=\"evenodd\" fill-opacity=\"1\" /><path clip-path=\"url(#clip240)\" d=\"M561.95 192.078 L561.95 178.05 L566.21 178.05 L566.21 214.069 L561.95 214.069 L561.95 210.18 Q560.608 212.495 558.548 213.629 Q556.511 214.74 553.64 214.74 Q548.941 214.74 545.978 210.99 Q543.039 207.24 543.039 201.129 Q543.039 195.018 545.978 191.268 Q548.941 187.518 553.64 187.518 Q556.511 187.518 558.548 188.652 Q560.608 189.763 561.95 192.078 M547.437 201.129 Q547.437 205.828 549.358 208.513 Q551.302 211.175 554.682 211.175 Q558.062 211.175 560.006 208.513 Q561.95 205.828 561.95 201.129 Q561.95 196.43 560.006 193.768 Q558.062 191.083 554.682 191.083 Q551.302 191.083 549.358 193.768 Q547.437 196.43 547.437 201.129 Z\" fill=\"#000000\" fill-rule=\"evenodd\" fill-opacity=\"1\" /><path clip-path=\"url(#clip240)\" d=\"M574.983 188.143 L579.242 188.143 L579.242 214.069 L574.983 214.069 L574.983 188.143 M574.983 178.05 L579.242 178.05 L579.242 183.444 L574.983 183.444 L574.983 178.05 Z\" fill=\"#000000\" fill-rule=\"evenodd\" fill-opacity=\"1\" /><path clip-path=\"url(#clip240)\" d=\"M606.811 189.138 L606.811 193.12 Q605.006 192.124 603.177 191.638 Q601.372 191.129 599.52 191.129 Q595.376 191.129 593.085 193.768 Q590.793 196.384 590.793 201.129 Q590.793 205.874 593.085 208.513 Q595.376 211.129 599.52 211.129 Q601.372 211.129 603.177 210.643 Q605.006 210.133 606.811 209.138 L606.811 213.073 Q605.029 213.907 603.108 214.323 Q601.21 214.74 599.057 214.74 Q593.2 214.74 589.751 211.059 Q586.302 207.379 586.302 201.129 Q586.302 194.786 589.774 191.152 Q593.27 187.518 599.335 187.518 Q601.302 187.518 603.177 187.935 Q605.052 188.328 606.811 189.138 Z\" fill=\"#000000\" fill-rule=\"evenodd\" fill-opacity=\"1\" /><path clip-path=\"url(#clip240)\" d=\"M618.432 180.782 L618.432 188.143 L627.205 188.143 L627.205 191.453 L618.432 191.453 L618.432 205.527 Q618.432 208.698 619.288 209.601 Q620.168 210.504 622.83 210.504 L627.205 210.504 L627.205 214.069 L622.83 214.069 Q617.899 214.069 616.024 212.24 Q614.149 210.388 614.149 205.527 L614.149 191.453 L611.024 191.453 L611.024 188.143 L614.149 188.143 L614.149 180.782 L618.432 180.782 Z\" fill=\"#000000\" fill-rule=\"evenodd\" fill-opacity=\"1\" /><path clip-path=\"url(#clip240)\" d=\"M654.982 200.041 L654.982 202.124 L635.399 202.124 Q635.677 206.522 638.038 208.837 Q640.422 211.129 644.658 211.129 Q647.112 211.129 649.404 210.527 Q651.719 209.925 653.987 208.721 L653.987 212.749 Q651.695 213.721 649.288 214.231 Q646.881 214.74 644.404 214.74 Q638.2 214.74 634.566 211.129 Q630.955 207.518 630.955 201.36 Q630.955 194.995 634.381 191.268 Q637.83 187.518 643.663 187.518 Q648.894 187.518 651.927 190.897 Q654.982 194.254 654.982 200.041 M650.723 198.791 Q650.677 195.296 648.756 193.212 Q646.857 191.129 643.709 191.129 Q640.145 191.129 637.992 193.143 Q635.862 195.157 635.538 198.814 L650.723 198.791 Z\" fill=\"#000000\" fill-rule=\"evenodd\" fill-opacity=\"1\" /><path clip-path=\"url(#clip240)\" d=\"M679.033 192.078 L679.033 178.05 L683.292 178.05 L683.292 214.069 L679.033 214.069 L679.033 210.18 Q677.691 212.495 675.63 213.629 Q673.593 214.74 670.723 214.74 Q666.024 214.74 663.061 210.99 Q660.121 207.24 660.121 201.129 Q660.121 195.018 663.061 191.268 Q666.024 187.518 670.723 187.518 Q673.593 187.518 675.63 188.652 Q677.691 189.763 679.033 192.078 M664.519 201.129 Q664.519 205.828 666.441 208.513 Q668.385 211.175 671.765 211.175 Q675.144 211.175 677.089 208.513 Q679.033 205.828 679.033 201.129 Q679.033 196.43 677.089 193.768 Q675.144 191.083 671.765 191.083 Q668.385 191.083 666.441 193.768 Q664.519 196.43 664.519 201.129 Z\" fill=\"#000000\" fill-rule=\"evenodd\" fill-opacity=\"1\" /></svg>\n"
      ]
     },
     "execution_count": 38,
     "metadata": {},
     "output_type": "execute_result"
    }
   ],
   "source": [
    "plot(x_test, label=\"test data\", legend=:topleft)\n",
    "plot!(mean.(predictions)[1:end], ribbon=std.(predictions)[1:end], label=\"predicted\", xlabel=\"day\", ylabel=\"price\")"
   ]
  },
  {
   "cell_type": "code",
   "execution_count": null,
   "id": "later-gender",
   "metadata": {},
   "outputs": [],
   "source": []
  }
 ],
 "metadata": {
  "kernelspec": {
   "display_name": "Julia 1.8.0",
   "language": "julia",
   "name": "julia-1.8"
  },
  "language_info": {
   "file_extension": ".jl",
   "mimetype": "application/julia",
   "name": "julia",
   "version": "1.8.0"
  }
 },
 "nbformat": 4,
 "nbformat_minor": 5
}
