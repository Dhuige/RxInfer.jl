{
 "cells": [
  {
   "cell_type": "markdown",
   "id": "blessed-brake",
   "metadata": {},
   "source": [
    "# Bayesian ARMA model"
   ]
  },
  {
   "cell_type": "code",
   "execution_count": null,
   "id": "8311ecfc",
   "metadata": {},
   "outputs": [],
   "source": [
    "# Activate local environment, see `Project.toml`\n",
    "import Pkg; Pkg.activate(\".\"); Pkg.instantiate(); "
   ]
  },
  {
   "cell_type": "markdown",
   "id": "indirect-million",
   "metadata": {},
   "source": [
    "This notebook shows how Bayesian [ARMA model](https://en.wikipedia.org/wiki/Autoregressive%E2%80%93moving-average_model#Applications) can be implemeted in **RxInfer.jl**. For theoretical details on Varitional Inference for ARMA model, we refer the reader to the following [paper](https://ieeexplore.ieee.org/document/7798432). The Bayesian ARMA model can be written as follows:"
   ]
  },
  {
   "cell_type": "markdown",
   "id": "strange-advice",
   "metadata": {},
   "source": [
    "\n",
    "$$\\begin{aligned}\n",
    "e_t \\sim \\mathcal{N}(0, \\gamma^{-1}) \\quad\n",
    "\\theta &\\sim \\mathcal{MN}(\\mathbf{0}, \\mathbf{I}) \\quad\n",
    "\\eta \\sim \\mathcal{MN}(\\mathbf{0}, \\mathbf{I}) \\\\\n",
    "\\mathbf{h}_0 &\\sim \\mathcal{MN}\\left(\\begin{bmatrix}\n",
    "e_{-1} \\\\\n",
    "e_{-2}\n",
    "\\end{bmatrix}, \\mathbf{I}\\right) \\\\\n",
    "\\mathbf{h}_t &= \\mathbf{S}\\mathbf{h}_{t-1} + \\mathbf{c} e_{t-1} \\\\\n",
    "\\mathbf{x}_t &= \\boldsymbol{\\theta}^\\top\\mathbf{x}_{t-1} + \\boldsymbol{\\eta}^\\top\\mathbf{h}_{t} + e_t \n",
    "\\end{aligned}$$\n",
    "\n",
    "where shift matrix $\\mathbf{S}$ is\n",
    "$$\\begin{aligned}\\mathbf{S} = \\begin{pmatrix}\n",
    "0 & 0 \\\\\n",
    "1 & 0 \n",
    "\\end{pmatrix}\\end{aligned}$$\n",
    "and unit vector $\\mathbf{c}$: $$\\begin{aligned}\\mathbf{c}=[1, 0]\\end{aligned}$$ when MA order is $2$"
   ]
  },
  {
   "cell_type": "markdown",
   "id": "social-registrar",
   "metadata": {},
   "source": [
    "In this way, $\\mathbf{h}_t$ containing errors $e_t$ can be viewed as hidden state."
   ]
  },
  {
   "cell_type": "markdown",
   "id": "elegant-hospital",
   "metadata": {},
   "source": [
    "In short, the Bayesian ARMA model has two intractabilities: (1) induced by the multiplication of two Gaussian RVs, i.e., $\\boldsymbol{\\eta}^\\top\\mathbf{h}_{t}$, (2) induced by errors $e_t$ that prevents analytical update of precision parameter $\\gamma$ (this can be easily seen when constructing the Factor Graph, i.e. there is a loop). Both problems can be easily resolved in **RxInfer.jl**, by creating a hybrid inference algorithm based on Loopy Variational Message Passing."
   ]
  },
  {
   "cell_type": "code",
   "execution_count": 3,
   "id": "applied-owner",
   "metadata": {},
   "outputs": [],
   "source": [
    "# Load packages\n",
    "using RxInfer, LinearAlgebra, CSV, DataFrames, Plots"
   ]
  },
  {
   "cell_type": "code",
   "execution_count": 4,
   "id": "unable-cross",
   "metadata": {},
   "outputs": [
    {
     "data": {
      "text/plain": [
       "shift (generic function with 1 method)"
      ]
     },
     "metadata": {},
     "output_type": "display_data"
    }
   ],
   "source": [
    "# Define shift function\n",
    "function shift(dim)\n",
    "    S = Matrix{Float64}(I, dim, dim)\n",
    "    for i in dim:-1:2\n",
    "           S[i,:] = S[i-1, :]\n",
    "    end\n",
    "    S[1, :] = zeros(dim)\n",
    "    return S\n",
    "end"
   ]
  },
  {
   "cell_type": "code",
   "execution_count": 6,
   "id": "liberal-midwest",
   "metadata": {},
   "outputs": [],
   "source": [
    "@model function ARMA(n, x_prev, h_prior, γ_prior, τ_prior, η_prior, θ_prior, p, q)\n",
    "        \n",
    "    c = zeros(p); c[1] = 1.0; # AR\n",
    "    b = zeros(q); b[1] = 1.0; # MA\n",
    "    S = shift(q); # MA\n",
    "    \n",
    "    # initialize variables\n",
    "    h  = randomvar(n-1)\n",
    "    e  = randomvar(n)\n",
    "    z  = randomvar(n)\n",
    "    \n",
    "    x  = datavar(Float64, n) where { allow_missing = true }\n",
    "    \n",
    "    # priors\n",
    "    γ  ~ Gamma(shape = shape(γ_prior), rate = rate(γ_prior))\n",
    "    η  ~ MvNormal(mean = mean(η_prior), precision = precision(η_prior))\n",
    "    θ  ~ MvNormal(mean = mean(θ_prior), precision = precision(θ_prior))\n",
    "    τ  ~ Gamma(shape = shape(τ_prior), rate = rate(τ_prior))\n",
    "    \n",
    "    # initial\n",
    "    h_0  ~ MvNormal(mean = mean(h_prior), precision = precision(h_prior))\n",
    "    z[1] ~ AR(h_0, η, τ) \n",
    "    e[1] ~ Normal(mean = 0.0, precision = γ)\n",
    "\n",
    "    x[1] ~ dot(b, z[1]) + dot(θ, x_prev[1]) + e[1]\n",
    "    \n",
    "    h_prev = h_0\n",
    "    for t in 1:n-1\n",
    "        \n",
    "        e[t+1] ~ Normal(mean = 0.0, precision = γ)\n",
    "        h[t] ~ S*h_prev + b*e[t]\n",
    "        z[t+1] ~ AR(h[t], η, τ)\n",
    "        x[t+1] ~ dot(z[t+1], b) + dot(θ, x_prev[t]) + e[t+1]\n",
    "        h_prev = h[t]\n",
    "    end\n",
    "end"
   ]
  },
  {
   "cell_type": "markdown",
   "id": "shared-opinion",
   "metadata": {},
   "source": [
    "### Load dataset"
   ]
  },
  {
   "cell_type": "markdown",
   "id": "coral-elder",
   "metadata": {},
   "source": [
    "To validate our model and inference, we will use American Airlines stock data downloaded from [Kaggle](https://www.kaggle.com/code/purvasingh/time-series-analysis-with-arma-and-arima/data?select=all_stocks_5yr.csv)"
   ]
  },
  {
   "cell_type": "markdown",
   "id": "coastal-mainstream",
   "metadata": {},
   "source": [
    "Once the dataset is downloaded, we can load it into DataFrame."
   ]
  },
  {
   "cell_type": "code",
   "execution_count": 7,
   "id": "wanted-senior",
   "metadata": {},
   "outputs": [
    {
     "data": {
      "text/html": [
       "<div><div style = \"float: left;\"><span>1259×7 DataFrame</span></div><div style = \"float: right;\"><span style = \"font-style: italic;\">1234 rows omitted</span></div><div style = \"clear: both;\"></div></div><div class = \"data-frame\" style = \"overflow-x: scroll;\"><table class = \"data-frame\" style = \"margin-bottom: 6px;\"><thead><tr class = \"header\"><th class = \"rowNumber\" style = \"font-weight: bold; text-align: right;\">Row</th><th style = \"text-align: left;\">date</th><th style = \"text-align: left;\">open</th><th style = \"text-align: left;\">high</th><th style = \"text-align: left;\">low</th><th style = \"text-align: left;\">close</th><th style = \"text-align: left;\">volume</th><th style = \"text-align: left;\">Name</th></tr><tr class = \"subheader headerLastRow\"><th class = \"rowNumber\" style = \"font-weight: bold; text-align: right;\"></th><th title = \"Dates.Date\" style = \"text-align: left;\">Date</th><th title = \"Float64\" style = \"text-align: left;\">Float64</th><th title = \"Float64\" style = \"text-align: left;\">Float64</th><th title = \"Float64\" style = \"text-align: left;\">Float64</th><th title = \"Float64\" style = \"text-align: left;\">Float64</th><th title = \"Int64\" style = \"text-align: left;\">Int64</th><th title = \"String3\" style = \"text-align: left;\">String3</th></tr></thead><tbody><tr><td class = \"rowNumber\" style = \"font-weight: bold; text-align: right;\">1</td><td style = \"text-align: left;\">2013-02-08</td><td style = \"text-align: right;\">15.07</td><td style = \"text-align: right;\">15.12</td><td style = \"text-align: right;\">14.63</td><td style = \"text-align: right;\">14.75</td><td style = \"text-align: right;\">8407500</td><td style = \"text-align: left;\">AAL</td></tr><tr><td class = \"rowNumber\" style = \"font-weight: bold; text-align: right;\">2</td><td style = \"text-align: left;\">2013-02-11</td><td style = \"text-align: right;\">14.89</td><td style = \"text-align: right;\">15.01</td><td style = \"text-align: right;\">14.26</td><td style = \"text-align: right;\">14.46</td><td style = \"text-align: right;\">8882000</td><td style = \"text-align: left;\">AAL</td></tr><tr><td class = \"rowNumber\" style = \"font-weight: bold; text-align: right;\">3</td><td style = \"text-align: left;\">2013-02-12</td><td style = \"text-align: right;\">14.45</td><td style = \"text-align: right;\">14.51</td><td style = \"text-align: right;\">14.1</td><td style = \"text-align: right;\">14.27</td><td style = \"text-align: right;\">8126000</td><td style = \"text-align: left;\">AAL</td></tr><tr><td class = \"rowNumber\" style = \"font-weight: bold; text-align: right;\">4</td><td style = \"text-align: left;\">2013-02-13</td><td style = \"text-align: right;\">14.3</td><td style = \"text-align: right;\">14.94</td><td style = \"text-align: right;\">14.25</td><td style = \"text-align: right;\">14.66</td><td style = \"text-align: right;\">10259500</td><td style = \"text-align: left;\">AAL</td></tr><tr><td class = \"rowNumber\" style = \"font-weight: bold; text-align: right;\">5</td><td style = \"text-align: left;\">2013-02-14</td><td style = \"text-align: right;\">14.94</td><td style = \"text-align: right;\">14.96</td><td style = \"text-align: right;\">13.16</td><td style = \"text-align: right;\">13.99</td><td style = \"text-align: right;\">31879900</td><td style = \"text-align: left;\">AAL</td></tr><tr><td class = \"rowNumber\" style = \"font-weight: bold; text-align: right;\">6</td><td style = \"text-align: left;\">2013-02-15</td><td style = \"text-align: right;\">13.93</td><td style = \"text-align: right;\">14.61</td><td style = \"text-align: right;\">13.93</td><td style = \"text-align: right;\">14.5</td><td style = \"text-align: right;\">15628000</td><td style = \"text-align: left;\">AAL</td></tr><tr><td class = \"rowNumber\" style = \"font-weight: bold; text-align: right;\">7</td><td style = \"text-align: left;\">2013-02-19</td><td style = \"text-align: right;\">14.33</td><td style = \"text-align: right;\">14.56</td><td style = \"text-align: right;\">14.08</td><td style = \"text-align: right;\">14.26</td><td style = \"text-align: right;\">11354400</td><td style = \"text-align: left;\">AAL</td></tr><tr><td class = \"rowNumber\" style = \"font-weight: bold; text-align: right;\">8</td><td style = \"text-align: left;\">2013-02-20</td><td style = \"text-align: right;\">14.17</td><td style = \"text-align: right;\">14.26</td><td style = \"text-align: right;\">13.15</td><td style = \"text-align: right;\">13.33</td><td style = \"text-align: right;\">14725200</td><td style = \"text-align: left;\">AAL</td></tr><tr><td class = \"rowNumber\" style = \"font-weight: bold; text-align: right;\">9</td><td style = \"text-align: left;\">2013-02-21</td><td style = \"text-align: right;\">13.62</td><td style = \"text-align: right;\">13.95</td><td style = \"text-align: right;\">12.9</td><td style = \"text-align: right;\">13.37</td><td style = \"text-align: right;\">11922100</td><td style = \"text-align: left;\">AAL</td></tr><tr><td class = \"rowNumber\" style = \"font-weight: bold; text-align: right;\">10</td><td style = \"text-align: left;\">2013-02-22</td><td style = \"text-align: right;\">13.57</td><td style = \"text-align: right;\">13.6</td><td style = \"text-align: right;\">13.21</td><td style = \"text-align: right;\">13.57</td><td style = \"text-align: right;\">6071400</td><td style = \"text-align: left;\">AAL</td></tr><tr><td class = \"rowNumber\" style = \"font-weight: bold; text-align: right;\">11</td><td style = \"text-align: left;\">2013-02-25</td><td style = \"text-align: right;\">13.6</td><td style = \"text-align: right;\">13.76</td><td style = \"text-align: right;\">13.0</td><td style = \"text-align: right;\">13.02</td><td style = \"text-align: right;\">7186400</td><td style = \"text-align: left;\">AAL</td></tr><tr><td class = \"rowNumber\" style = \"font-weight: bold; text-align: right;\">12</td><td style = \"text-align: left;\">2013-02-26</td><td style = \"text-align: right;\">13.14</td><td style = \"text-align: right;\">13.42</td><td style = \"text-align: right;\">12.7</td><td style = \"text-align: right;\">13.26</td><td style = \"text-align: right;\">9419000</td><td style = \"text-align: left;\">AAL</td></tr><tr><td class = \"rowNumber\" style = \"font-weight: bold; text-align: right;\">13</td><td style = \"text-align: left;\">2013-02-27</td><td style = \"text-align: right;\">13.28</td><td style = \"text-align: right;\">13.62</td><td style = \"text-align: right;\">13.18</td><td style = \"text-align: right;\">13.41</td><td style = \"text-align: right;\">7390500</td><td style = \"text-align: left;\">AAL</td></tr><tr><td style = \"text-align: right;\">&vellip;</td><td style = \"text-align: right;\">&vellip;</td><td style = \"text-align: right;\">&vellip;</td><td style = \"text-align: right;\">&vellip;</td><td style = \"text-align: right;\">&vellip;</td><td style = \"text-align: right;\">&vellip;</td><td style = \"text-align: right;\">&vellip;</td><td style = \"text-align: right;\">&vellip;</td></tr><tr><td class = \"rowNumber\" style = \"font-weight: bold; text-align: right;\">1248</td><td style = \"text-align: left;\">2018-01-23</td><td style = \"text-align: right;\">57.74</td><td style = \"text-align: right;\">58.46</td><td style = \"text-align: right;\">57.4</td><td style = \"text-align: right;\">58.29</td><td style = \"text-align: right;\">3336991</td><td style = \"text-align: left;\">AAL</td></tr><tr><td class = \"rowNumber\" style = \"font-weight: bold; text-align: right;\">1249</td><td style = \"text-align: left;\">2018-01-24</td><td style = \"text-align: right;\">54.35</td><td style = \"text-align: right;\">55.46</td><td style = \"text-align: right;\">53.45</td><td style = \"text-align: right;\">54.79</td><td style = \"text-align: right;\">16348479</td><td style = \"text-align: left;\">AAL</td></tr><tr><td class = \"rowNumber\" style = \"font-weight: bold; text-align: right;\">1250</td><td style = \"text-align: left;\">2018-01-25</td><td style = \"text-align: right;\">54.0</td><td style = \"text-align: right;\">54.55</td><td style = \"text-align: right;\">52.21</td><td style = \"text-align: right;\">53.05</td><td style = \"text-align: right;\">10223096</td><td style = \"text-align: left;\">AAL</td></tr><tr><td class = \"rowNumber\" style = \"font-weight: bold; text-align: right;\">1251</td><td style = \"text-align: left;\">2018-01-26</td><td style = \"text-align: right;\">53.65</td><td style = \"text-align: right;\">53.9</td><td style = \"text-align: right;\">52.34</td><td style = \"text-align: right;\">53.07</td><td style = \"text-align: right;\">7066094</td><td style = \"text-align: left;\">AAL</td></tr><tr><td class = \"rowNumber\" style = \"font-weight: bold; text-align: right;\">1252</td><td style = \"text-align: left;\">2018-01-29</td><td style = \"text-align: right;\">52.79</td><td style = \"text-align: right;\">53.16</td><td style = \"text-align: right;\">52.585</td><td style = \"text-align: right;\">52.68</td><td style = \"text-align: right;\">5953675</td><td style = \"text-align: left;\">AAL</td></tr><tr><td class = \"rowNumber\" style = \"font-weight: bold; text-align: right;\">1253</td><td style = \"text-align: left;\">2018-01-30</td><td style = \"text-align: right;\">52.45</td><td style = \"text-align: right;\">53.05</td><td style = \"text-align: right;\">52.36</td><td style = \"text-align: right;\">52.59</td><td style = \"text-align: right;\">4741808</td><td style = \"text-align: left;\">AAL</td></tr><tr><td class = \"rowNumber\" style = \"font-weight: bold; text-align: right;\">1254</td><td style = \"text-align: left;\">2018-01-31</td><td style = \"text-align: right;\">53.08</td><td style = \"text-align: right;\">54.71</td><td style = \"text-align: right;\">53.0</td><td style = \"text-align: right;\">54.32</td><td style = \"text-align: right;\">5962937</td><td style = \"text-align: left;\">AAL</td></tr><tr><td class = \"rowNumber\" style = \"font-weight: bold; text-align: right;\">1255</td><td style = \"text-align: left;\">2018-02-01</td><td style = \"text-align: right;\">54.0</td><td style = \"text-align: right;\">54.64</td><td style = \"text-align: right;\">53.59</td><td style = \"text-align: right;\">53.88</td><td style = \"text-align: right;\">3623078</td><td style = \"text-align: left;\">AAL</td></tr><tr><td class = \"rowNumber\" style = \"font-weight: bold; text-align: right;\">1256</td><td style = \"text-align: left;\">2018-02-02</td><td style = \"text-align: right;\">53.49</td><td style = \"text-align: right;\">53.99</td><td style = \"text-align: right;\">52.03</td><td style = \"text-align: right;\">52.1</td><td style = \"text-align: right;\">5109361</td><td style = \"text-align: left;\">AAL</td></tr><tr><td class = \"rowNumber\" style = \"font-weight: bold; text-align: right;\">1257</td><td style = \"text-align: left;\">2018-02-05</td><td style = \"text-align: right;\">51.99</td><td style = \"text-align: right;\">52.39</td><td style = \"text-align: right;\">49.75</td><td style = \"text-align: right;\">49.76</td><td style = \"text-align: right;\">6878284</td><td style = \"text-align: left;\">AAL</td></tr><tr><td class = \"rowNumber\" style = \"font-weight: bold; text-align: right;\">1258</td><td style = \"text-align: left;\">2018-02-06</td><td style = \"text-align: right;\">49.32</td><td style = \"text-align: right;\">51.5</td><td style = \"text-align: right;\">48.79</td><td style = \"text-align: right;\">51.18</td><td style = \"text-align: right;\">6782480</td><td style = \"text-align: left;\">AAL</td></tr><tr><td class = \"rowNumber\" style = \"font-weight: bold; text-align: right;\">1259</td><td style = \"text-align: left;\">2018-02-07</td><td style = \"text-align: right;\">50.91</td><td style = \"text-align: right;\">51.98</td><td style = \"text-align: right;\">50.89</td><td style = \"text-align: right;\">51.4</td><td style = \"text-align: right;\">4845831</td><td style = \"text-align: left;\">AAL</td></tr></tbody></table></div>"
      ],
      "text/latex": [
       "\\begin{tabular}{r|ccccccc}\n",
       "\t& date & open & high & low & close & volume & Name\\\\\n",
       "\t\\hline\n",
       "\t& Date & Float64 & Float64 & Float64 & Float64 & Int64 & String3\\\\\n",
       "\t\\hline\n",
       "\t1 & 2013-02-08 & 15.07 & 15.12 & 14.63 & 14.75 & 8407500 & AAL \\\\\n",
       "\t2 & 2013-02-11 & 14.89 & 15.01 & 14.26 & 14.46 & 8882000 & AAL \\\\\n",
       "\t3 & 2013-02-12 & 14.45 & 14.51 & 14.1 & 14.27 & 8126000 & AAL \\\\\n",
       "\t4 & 2013-02-13 & 14.3 & 14.94 & 14.25 & 14.66 & 10259500 & AAL \\\\\n",
       "\t5 & 2013-02-14 & 14.94 & 14.96 & 13.16 & 13.99 & 31879900 & AAL \\\\\n",
       "\t6 & 2013-02-15 & 13.93 & 14.61 & 13.93 & 14.5 & 15628000 & AAL \\\\\n",
       "\t7 & 2013-02-19 & 14.33 & 14.56 & 14.08 & 14.26 & 11354400 & AAL \\\\\n",
       "\t8 & 2013-02-20 & 14.17 & 14.26 & 13.15 & 13.33 & 14725200 & AAL \\\\\n",
       "\t9 & 2013-02-21 & 13.62 & 13.95 & 12.9 & 13.37 & 11922100 & AAL \\\\\n",
       "\t10 & 2013-02-22 & 13.57 & 13.6 & 13.21 & 13.57 & 6071400 & AAL \\\\\n",
       "\t11 & 2013-02-25 & 13.6 & 13.76 & 13.0 & 13.02 & 7186400 & AAL \\\\\n",
       "\t12 & 2013-02-26 & 13.14 & 13.42 & 12.7 & 13.26 & 9419000 & AAL \\\\\n",
       "\t13 & 2013-02-27 & 13.28 & 13.62 & 13.18 & 13.41 & 7390500 & AAL \\\\\n",
       "\t14 & 2013-02-28 & 13.49 & 13.63 & 13.39 & 13.43 & 6143600 & AAL \\\\\n",
       "\t15 & 2013-03-01 & 13.37 & 13.95 & 13.32 & 13.61 & 7376800 & AAL \\\\\n",
       "\t16 & 2013-03-04 & 13.5 & 14.07 & 13.47 & 13.9 & 8174800 & AAL \\\\\n",
       "\t17 & 2013-03-05 & 14.01 & 14.05 & 13.71 & 14.05 & 7676100 & AAL \\\\\n",
       "\t18 & 2013-03-06 & 14.52 & 14.68 & 14.25 & 14.57 & 13243200 & AAL \\\\\n",
       "\t19 & 2013-03-07 & 14.7 & 14.93 & 14.5 & 14.82 & 9125300 & AAL \\\\\n",
       "\t20 & 2013-03-08 & 14.99 & 15.2 & 14.84 & 14.92 & 10593700 & AAL \\\\\n",
       "\t21 & 2013-03-11 & 14.85 & 15.15 & 14.71 & 15.13 & 6961800 & AAL \\\\\n",
       "\t22 & 2013-03-12 & 15.14 & 15.6 & 14.95 & 15.5 & 8999100 & AAL \\\\\n",
       "\t23 & 2013-03-13 & 15.54 & 16.2 & 15.48 & 15.91 & 11380000 & AAL \\\\\n",
       "\t24 & 2013-03-14 & 15.98 & 16.36 & 15.93 & 16.25 & 8383300 & AAL \\\\\n",
       "\t$\\dots$ & $\\dots$ & $\\dots$ & $\\dots$ & $\\dots$ & $\\dots$ & $\\dots$ & $\\dots$ \\\\\n",
       "\\end{tabular}\n"
      ],
      "text/plain": [
       "\u001b[1m1259×7 DataFrame\u001b[0m\n",
       "\u001b[1m  Row \u001b[0m│\u001b[1m date       \u001b[0m\u001b[1m open    \u001b[0m\u001b[1m high    \u001b[0m\u001b[1m low     \u001b[0m\u001b[1m close   \u001b[0m\u001b[1m volume   \u001b[0m\u001b[1m Name    \u001b[0m\n",
       "      │\u001b[90m Date       \u001b[0m\u001b[90m Float64 \u001b[0m\u001b[90m Float64 \u001b[0m\u001b[90m Float64 \u001b[0m\u001b[90m Float64 \u001b[0m\u001b[90m Int64    \u001b[0m\u001b[90m String3 \u001b[0m\n",
       "──────┼───────────────────────────────────────────────────────────────────\n",
       "    1 │ 2013-02-08    15.07    15.12   14.63     14.75   8407500  AAL\n",
       "    2 │ 2013-02-11    14.89    15.01   14.26     14.46   8882000  AAL\n",
       "    3 │ 2013-02-12    14.45    14.51   14.1      14.27   8126000  AAL\n",
       "    4 │ 2013-02-13    14.3     14.94   14.25     14.66  10259500  AAL\n",
       "    5 │ 2013-02-14    14.94    14.96   13.16     13.99  31879900  AAL\n",
       "    6 │ 2013-02-15    13.93    14.61   13.93     14.5   15628000  AAL\n",
       "    7 │ 2013-02-19    14.33    14.56   14.08     14.26  11354400  AAL\n",
       "    8 │ 2013-02-20    14.17    14.26   13.15     13.33  14725200  AAL\n",
       "  ⋮   │     ⋮          ⋮        ⋮        ⋮        ⋮        ⋮         ⋮\n",
       " 1253 │ 2018-01-30    52.45    53.05   52.36     52.59   4741808  AAL\n",
       " 1254 │ 2018-01-31    53.08    54.71   53.0      54.32   5962937  AAL\n",
       " 1255 │ 2018-02-01    54.0     54.64   53.59     53.88   3623078  AAL\n",
       " 1256 │ 2018-02-02    53.49    53.99   52.03     52.1    5109361  AAL\n",
       " 1257 │ 2018-02-05    51.99    52.39   49.75     49.76   6878284  AAL\n",
       " 1258 │ 2018-02-06    49.32    51.5    48.79     51.18   6782480  AAL\n",
       " 1259 │ 2018-02-07    50.91    51.98   50.89     51.4    4845831  AAL\n",
       "\u001b[36m                                                         1244 rows omitted\u001b[0m"
      ]
     },
     "metadata": {},
     "output_type": "display_data"
    }
   ],
   "source": [
    "x_df = CSV.read(\"data/arma/aal_stock.csv\", DataFrame)"
   ]
  },
  {
   "cell_type": "code",
   "execution_count": null,
   "id": "careful-religious",
   "metadata": {},
   "outputs": [],
   "source": [
    "# we will use \"close\" column\n",
    "x_data = filter(!ismissing, x_df[:, 5])[1:1000];"
   ]
  },
  {
   "cell_type": "code",
   "execution_count": null,
   "id": "funny-mustang",
   "metadata": {},
   "outputs": [],
   "source": [
    "# Plot data\n",
    "plot(x_data, xlabel=\"day\", ylabel=\"price\", label=false)"
   ]
  },
  {
   "cell_type": "code",
   "execution_count": null,
   "id": "magnetic-purchase",
   "metadata": {},
   "outputs": [],
   "source": [
    "p_order = 10 # AR\n",
    "q_order = 4 # MA"
   ]
  },
  {
   "cell_type": "code",
   "execution_count": null,
   "id": "scenic-chemistry",
   "metadata": {},
   "outputs": [],
   "source": [
    "# Training set\n",
    "train_size = 100\n",
    "x_prev_train = [Float64.(x_data[i+p_order-1:-1:i]) for i in 1:length(x_data)-p_order][1:train_size]\n",
    "x_train = Float64.(x_data[p_order+1:end])[1:train_size];"
   ]
  },
  {
   "cell_type": "code",
   "execution_count": null,
   "id": "respective-sessions",
   "metadata": {},
   "outputs": [],
   "source": [
    "# Test set\n",
    "x_prev_test = [Float64.(x_data[i+p_order-1:-1:i]) for i in 1:length(x_data)-p_order][train_size+1:end]\n",
    "x_test = Float64.(x_data[p_order+1:end])[train_size+1:end];"
   ]
  },
  {
   "cell_type": "markdown",
   "id": "surprising-positive",
   "metadata": {},
   "source": [
    "### Inference"
   ]
  },
  {
   "cell_type": "code",
   "execution_count": null,
   "id": "automated-style",
   "metadata": {},
   "outputs": [],
   "source": [
    "# Constraints are needed for performing VMP\n",
    "arma_constraints = @constraints begin\n",
    "    q(z, h_0, h, η, τ, γ,e) = q(h_0)q(z, h)q(η)q(τ)q(γ)q(e)\n",
    "end;\n",
    "\n",
    "@meta function ARMAmeta(q)\n",
    "    AR() -> ARMeta(Multivariate, q, ARsafe())\n",
    "end"
   ]
  },
  {
   "cell_type": "code",
   "execution_count": null,
   "id": "hidden-radical",
   "metadata": {},
   "outputs": [],
   "source": [
    "h_prior = MvNormalMeanPrecision(zeros(q_order), diageye(q_order))\n",
    "γ_prior = GammaShapeRate(1e4, 1.0)\n",
    "τ_prior = GammaShapeRate(1e2, 1.0)\n",
    "η_prior = MvNormalMeanPrecision(zeros(q_order), diageye(q_order))\n",
    "θ_prior = MvNormalMeanPrecision(zeros(p_order), diageye(p_order));"
   ]
  },
  {
   "cell_type": "code",
   "execution_count": null,
   "id": "animal-insulin",
   "metadata": {},
   "outputs": [],
   "source": [
    "arma_imarginals = (h_0 = h_prior, h = h_prior, γ = γ_prior, τ = τ_prior, η = η_prior, θ = θ_prior);\n",
    "arma_imessages  = (h_0 = h_prior, h = h_prior);"
   ]
  },
  {
   "cell_type": "code",
   "execution_count": null,
   "id": "indirect-former",
   "metadata": {},
   "outputs": [],
   "source": [
    "# First execution is slow due to Julia's init compilation \n",
    "result = inference(\n",
    "    model = ARMA(length(x_train), x_prev_train, h_prior, γ_prior, τ_prior, η_prior, θ_prior, p_order, q_order), \n",
    "    meta = ARMAmeta(q_order),\n",
    "    data  = (x = x_train, ),\n",
    "    free_energy = false, # we are not interested in the free energy in this experiment\n",
    "    initmarginals = arma_imarginals,\n",
    "    initmessages  = arma_imessages,\n",
    "    constraints   = arma_constraints,\n",
    "    iterations    = 50,\n",
    "    options       = (limit_stack_depth = 100, ),\n",
    ");"
   ]
  },
  {
   "cell_type": "code",
   "execution_count": null,
   "id": "angry-worship",
   "metadata": {},
   "outputs": [],
   "source": [
    "plot(mean.(result.posteriors[:e][end]), ribbon=std.(result.posteriors[:e][end]))"
   ]
  },
  {
   "cell_type": "code",
   "execution_count": null,
   "id": "widespread-exhaust",
   "metadata": {},
   "outputs": [],
   "source": [
    "# extract posteriors\n",
    "h_posterior = result.posteriors[:h][end][end]\n",
    "γ_posterior = result.posteriors[:γ][end]\n",
    "τ_posterior = result.posteriors[:τ][end]\n",
    "η_posterior = result.posteriors[:η][end]\n",
    "θ_posterior = result.posteriors[:θ][end];"
   ]
  },
  {
   "cell_type": "code",
   "execution_count": null,
   "id": "popular-marker",
   "metadata": {},
   "outputs": [],
   "source": [
    "# The prediction function is aimed at approximating the predictive posterior distribution\n",
    "# It triggers the rules in the generative order (in future, RxInfer.jl will provide this function out of the box)\n",
    "function prediction(x_prev, h_posterior, γ_posterior, τ_posterior, η_posterior, θ_posterior, p, q)\n",
    "    h_out = MvNormalMeanPrecision(mean(h_posterior), precision(h_posterior))\n",
    "    ar_out = @call_rule AR(:y, Marginalisation) (m_x=h_out, q_θ=η_posterior, q_γ=τ_posterior, meta=ARMeta(Multivariate, p, ARsafe()))\n",
    "    c = zeros(p); c[1] = 1.0\n",
    "    b = zeros(q); b[1] = 1.0\n",
    "    ar_dot_out = @call_rule typeof(dot)(:out, Marginalisation) (m_in1=PointMass(b), m_in2=ar_out, meta=ReactiveMP.TinyCorrection())\n",
    "    θ_out = MvNormalMeanPrecision(mean(θ_posterior), precision(θ_posterior))\n",
    "    ma_dot_out = @call_rule typeof(dot)(:out, Marginalisation) (m_in1=PointMass(x_prev), m_in2=θ_out, meta=ReactiveMP.TinyCorrection())\n",
    "    e_out = @call_rule NormalMeanPrecision(:out, Marginalisation) (q_μ=PointMass(0.0), q_τ=mean(γ_posterior))\n",
    "    ar_ma = @call_rule typeof(+)(:out, Marginalisation) (m_in1=ar_dot_out, m_in2=ma_dot_out)  \n",
    "    @call_rule typeof(+)(:out, Marginalisation) (m_in1=ar_ma, m_in2=e_out)  \n",
    "end"
   ]
  },
  {
   "cell_type": "code",
   "execution_count": null,
   "id": "rapid-security",
   "metadata": {},
   "outputs": [],
   "source": [
    "predictions = []\n",
    "for x_prev in x_prev_test\n",
    "    push!(predictions, prediction(x_prev, h_posterior, γ_posterior, τ_posterior, η_posterior, θ_posterior, p_order, q_order))\n",
    "    # after every new prediction we can actually \"retrain\" the model to use the power of Bayesian approach\n",
    "    # we will skip this part for now\n",
    "end"
   ]
  },
  {
   "cell_type": "code",
   "execution_count": null,
   "id": "split-entry",
   "metadata": {},
   "outputs": [],
   "source": [
    "plot(x_test, label=\"test data\", legend=:topleft)\n",
    "plot!(mean.(predictions)[1:end], ribbon=std.(predictions)[1:end], label=\"predicted\", xlabel=\"day\", ylabel=\"price\")"
   ]
  },
  {
   "cell_type": "code",
   "execution_count": null,
   "id": "later-gender",
   "metadata": {},
   "outputs": [],
   "source": []
  }
 ],
 "metadata": {
  "kernelspec": {
   "display_name": "Julia 1.8.3",
   "language": "julia",
   "name": "julia-1.8"
  },
  "language_info": {
   "file_extension": ".jl",
   "mimetype": "application/julia",
   "name": "julia",
   "version": "1.8.3"
  }
 },
 "nbformat": 4,
 "nbformat_minor": 5
}
