{
 "cells": [
  {
   "cell_type": "markdown",
   "metadata": {},
   "source": [
    "# Bayesian Linear Regression"
   ]
  },
  {
   "cell_type": "code",
   "execution_count": null,
   "metadata": {},
   "outputs": [],
   "source": [
    "# Activate local environment, see `Project.toml`\n",
    "import Pkg; Pkg.activate(\".\"); Pkg.instantiate(); "
   ]
  },
  {
   "cell_type": "markdown",
   "metadata": {},
   "source": [
    "In this example, we are going to perform a simple linear regression problem, but in the Bayesian setting. We specify the model's likelihood as:\n",
    "$$\n",
    "y_i = a * x_i + b\n",
    "$$\n",
    "where $a$ and $b$ are random variables with the following priors:\n",
    "$$\\begin{aligned}\n",
    "    p(a) &= \\mathcal{N}(a|m_a, v_a) \\\\\n",
    "    p(b) &= \\mathcal{N}(b|m_b, v_b)\n",
    "\\end{aligned}$$\n",
    "$x_i$ and $y_i$ are observed values."
   ]
  },
  {
   "cell_type": "code",
   "execution_count": null,
   "metadata": {},
   "outputs": [],
   "source": [
    "using ReactiveMP, GraphPPL, Rocket, Random, Plots, StableRNGs, BenchmarkTools"
   ]
  },
  {
   "cell_type": "code",
   "execution_count": null,
   "metadata": {},
   "outputs": [],
   "source": [
    "@model function linear_regression(n)\n",
    "    a ~ NormalMeanVariance(0.0, 1.0)\n",
    "    b ~ NormalMeanVariance(0.0, 100.0)\n",
    "    \n",
    "    x = datavar(Float64, n)\n",
    "    y = datavar(Float64, n)\n",
    "    \n",
    "    for i in 1:n\n",
    "        y[i] ~ NormalMeanVariance(a * x[i] + b, 1.0)\n",
    "    end\n",
    "end"
   ]
  },
  {
   "cell_type": "markdown",
   "metadata": {},
   "source": [
    "Next step is to define an inference procedure."
   ]
  },
  {
   "cell_type": "markdown",
   "metadata": {},
   "source": [
    "In order to test our inference procedure we create a test dataset where observations are corrupted with noise (with known variance)."
   ]
  },
  {
   "cell_type": "code",
   "execution_count": null,
   "metadata": {},
   "outputs": [],
   "source": [
    "reala = 0.5\n",
    "realb = 25\n",
    "\n",
    "N = 250\n",
    "\n",
    "rng = StableRNG(1234)\n",
    "\n",
    "xorig = collect(1:N)\n",
    "\n",
    "xdata = xorig .+ randn(rng, N)\n",
    "ydata = realb .+ reala .* xorig .+ randn(rng, N);"
   ]
  },
  {
   "cell_type": "code",
   "execution_count": null,
   "metadata": {},
   "outputs": [],
   "source": [
    "plot(xdata, label = \"X\", title = \"Linear regression dataset\")\n",
    "plot!(ydata, label = \"Y\")"
   ]
  },
  {
   "cell_type": "code",
   "execution_count": null,
   "metadata": {},
   "outputs": [],
   "source": [
    "results = inference(\n",
    "    model = Model(linear_regression, length(xdata)), \n",
    "    data  = (y = ydata, x = xdata), \n",
    "    initmessages = (b = NormalMeanVariance(0.0, 100.0), ), \n",
    "    returnvars   = (a = KeepLast(), b = KeepLast()), \n",
    "    iterations = 20\n",
    ");"
   ]
  },
  {
   "cell_type": "code",
   "execution_count": null,
   "metadata": {},
   "outputs": [],
   "source": [
    "pra = plot(range(-3, 3, length = 1000), (x) -> pdf(NormalMeanVariance(0.0, 1.0), x), title=\"Prior for a parameter\", fillalpha=0.3, fillrange = 0, label=\"Prior P(a)\", c=1,)\n",
    "pra = vline!(pra, [ reala ], label=\"Real a\", c = 3)\n",
    "psa = plot(range(0.45, 0.55, length = 1000), (x) -> pdf(results.posteriors[:a], x), title=\"Posterior for a parameter\", fillalpha=0.3, fillrange = 0, label=\"Posterior P(a)\", c=2,)\n",
    "psa = vline!(psa, [ reala ], label=\"Real a\", c = 3)\n",
    "\n",
    "plot(pra, psa, size = (1000, 200))"
   ]
  },
  {
   "cell_type": "code",
   "execution_count": null,
   "metadata": {},
   "outputs": [],
   "source": [
    "prb = plot(range(-40, 40, length = 1000), (x) -> pdf(NormalMeanVariance(0.0, 100.0), x), title=\"Prior for b parameter\", fillalpha=0.3, fillrange = 0, label=\"Prior P(b)\", c=1, legend = :topleft)\n",
    "prb = vline!(prb, [ realb ], label=\"Real b\", c = 3)\n",
    "psb = plot(range(23, 28, length = 1000), (x) -> pdf(results.posteriors[:b], x), title=\"Posterior for b parameter\", fillalpha=0.3, fillrange = 0, label=\"Posterior P(b)\", c=2, legend = :topleft)\n",
    "psb = vline!(psb, [ realb ], label=\"Real b\", c = 3)\n",
    "\n",
    "plot(prb, psb, size = (1000, 200))"
   ]
  },
  {
   "cell_type": "code",
   "execution_count": null,
   "metadata": {},
   "outputs": [],
   "source": [
    "a = results.posteriors[:a]\n",
    "b = results.posteriors[:b]\n",
    "\n",
    "println(\"Real a: \", reala, \" | Estimated a: \", mean(a), \" | Error: \", abs(mean(a) - reala))\n",
    "println(\"Real b: \", realb, \" | Estimated b: \", mean(b), \" | Error: \", abs(mean(b) - realb))"
   ]
  },
  {
   "cell_type": "markdown",
   "metadata": {},
   "source": [
    "We can see that ReactiveMP.jl estimated real values of linear regression coefficients with high precision. Let's also test the benchmark of the resulting inference procedure."
   ]
  },
  {
   "cell_type": "code",
   "execution_count": null,
   "metadata": {},
   "outputs": [],
   "source": [
    "@benchmark inference(\n",
    "    model = linear_regression(length($xdata)), \n",
    "    data  = (y = $ydata, x = $xdata), \n",
    "    initmessages = (b = NormalMeanVariance(0.0, 100.0), ), \n",
    "    returnvars   = (a = KeepLast(), b = KeepLast()), \n",
    "    iterations = 20\n",
    ")"
   ]
  }
 ],
 "metadata": {
  "kernelspec": {
   "display_name": "Julia 1.7.3",
   "language": "julia",
   "name": "julia-1.7"
  },
  "language_info": {
   "file_extension": ".jl",
   "mimetype": "application/julia",
   "name": "julia",
   "version": "1.7.2"
  }
 },
 "nbformat": 4,
 "nbformat_minor": 4
}
